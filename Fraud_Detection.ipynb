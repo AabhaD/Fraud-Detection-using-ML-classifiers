{
  "cells": [
    {
      "cell_type": "markdown",
      "source": [
        "# Fraud Detection using Classification techniques"
      ],
      "metadata": {
        "id": "PfJySMGYjij_"
      }
    },
    {
      "cell_type": "markdown",
      "metadata": {
        "id": "xsgEpqCNhqlq"
      },
      "source": [
        "## Executive Summary\n",
        "Banks are required to report suspected vulnerable (elder and dependent adult) financial exploitation. Today, much of this activity is limited to human interaction (bankers working with customers on the phone or in person), through which bankers may pick up queues, or red flags or customers self-reporting scams or financial abuse to their financial institution. Digital payments have a degree of reported fraud and claims, with the assumption that much more unreported losses occur, especially perpetrated against older adults (60 years of age or older). As digital payments continue to expand across all demographics, research shows that older adults are showing the biggest uptick in adoption during the 2020/21 period due to the pandemic. Currently, digital payment data is not analyzed specifically under the vulnerable (elder and dependent adult) financial exploitation lens. Banks are required to report elder financial abuse but, unless a customer reports fraud and files a claim, financial abuse can go undetected and repeated fraud via digital payments can continue without the banks’ knowledge. Without detection models, a large amount of fraud is left unreported by consumers and elder and vulnerable adult populations will be at greater risk of being targeted and losing savings to fraudulent payments.\n",
        "\n",
        "Banks need better methods to help protect elder and vulnerable adults against fraud in the digital payments landscape. Predictive modeling may also be applied in some form to alert consumers and bankers in advance of a fraud attempt and potentially pre-empt certain transactions and monetary losses. As the older adult segment continues to adopt digital technology, including digital payments, banks need better ways to predict and analyze transaction data to detect high risk payment patterns or transaction attributes that signal high risk for fraud, especially for older and vulnerable adult customers, which could be targeted by scammers."
      ]
    },
    {
      "cell_type": "markdown",
      "source": [
        "## Objective\n",
        "\n",
        "To develop a machine learning model to predict suspected elder fraud in the digital payments space."
      ],
      "metadata": {
        "id": "wJT31HU8h6yd"
      }
    },
    {
      "cell_type": "code",
      "execution_count": 172,
      "metadata": {
        "id": "nAeiPi8nhqls"
      },
      "outputs": [],
      "source": [
        "import pandas as pd\n",
        "import numpy as np\n",
        "import matplotlib.pyplot as plt\n",
        "import seaborn as sns\n",
        "import sklearn\n",
        "from sklearn.metrics import confusion_matrix,plot_confusion_matrix\n",
        "from pathlib import Path"
      ]
    },
    {
      "cell_type": "code",
      "execution_count": 173,
      "metadata": {
        "colab": {
          "base_uri": "https://localhost:8080/"
        },
        "id": "PpeCHq-Ghqlt",
        "outputId": "e1f5314f-bfe6-4405-8dcd-25a62f032f48"
      },
      "outputs": [
        {
          "output_type": "stream",
          "name": "stdout",
          "text": [
            "1.21.6\n",
            "0.11.2\n",
            "1.3.5\n",
            "1.0.2\n"
          ]
        }
      ],
      "source": [
        "#numpy, scipy, pandas, seaborn and sklearn package versions used throughout the project1\n",
        "print(np.__version__)\n",
        "print(sns.__version__)\n",
        "print(pd.__version__)\n",
        "print(sklearn.__version__)"
      ]
    },
    {
      "cell_type": "markdown",
      "metadata": {
        "id": "mvFJd-yUhqlu"
      },
      "source": [
        "## Data Exploration"
      ]
    },
    {
      "cell_type": "code",
      "source": [
        "from google.colab import drive\n",
        "drive.mount('/content/drive')"
      ],
      "metadata": {
        "colab": {
          "base_uri": "https://localhost:8080/"
        },
        "id": "kF4iXZWJnWrn",
        "outputId": "d7bd0710-29a3-48b6-c039-45a70e3f6125"
      },
      "execution_count": 174,
      "outputs": [
        {
          "output_type": "stream",
          "name": "stdout",
          "text": [
            "Drive already mounted at /content/drive; to attempt to forcibly remount, call drive.mount(\"/content/drive\", force_remount=True).\n"
          ]
        }
      ]
    },
    {
      "cell_type": "code",
      "source": [
        "data_folder = Path('/content/drive/MyDrive/WellsFargoDataset_Classification.csv')"
      ],
      "metadata": {
        "id": "gSRTfMDKnaSB"
      },
      "execution_count": 175,
      "outputs": []
    },
    {
      "cell_type": "code",
      "execution_count": 176,
      "metadata": {
        "colab": {
          "base_uri": "https://localhost:8080/",
          "height": 713
        },
        "id": "wHEVKG0ohqlv",
        "outputId": "b731e263-80cc-4fbe-de8e-15b5faab4446"
      },
      "outputs": [
        {
          "output_type": "execute_result",
          "data": {
            "text/plain": [
              "       TRAN_AMT  ACCT_PRE_TRAN_AVAIL_BAL  CUST_AGE  OPEN_ACCT_CT  WF_dvc_age  \\\n",
              "0          5.38                 23619.91        47             4        2777   \n",
              "1         65.19                     0.00        45             5        2721   \n",
              "2         54.84                 34570.63        36             8        1531   \n",
              "3          0.01                     0.00        62             3         835   \n",
              "4        497.08                 12725.18        81             2        1095   \n",
              "...         ...                      ...       ...           ...         ...   \n",
              "13995   1937.21                   230.75        55             4         142   \n",
              "13996    114.38                     0.00        44            10         272   \n",
              "13997    493.00                  2848.63        54             3         517   \n",
              "13998    491.64                  3163.25        21             3           0   \n",
              "13999      6.02                     0.00        60             6         944   \n",
              "\n",
              "               PWD_UPDT_TS                                CARR_NAME  \\\n",
              "0        1/16/2018 11:3:58                  cox communications inc.   \n",
              "1                      NaN                   charter communications   \n",
              "2      12/22/2021 10:42:51                       utah broadband llc   \n",
              "3         2/8/2020 7:28:31                       t-mobile usa  inc.   \n",
              "4      12/28/2020 12:12:44                    cogent communications   \n",
              "...                    ...                                      ...   \n",
              "13995                  NaN  cellco partnership dba verizon wireless   \n",
              "13996    11/2/2017 4:28:20                       t-mobile usa  inc.   \n",
              "13997    6/3/2021 19:31:15                         att services inc   \n",
              "13998    3/2/2020 11:34:54                                      NaN   \n",
              "13999                  NaN               charter communications inc   \n",
              "\n",
              "            RGN_NAME STATE_PRVNC_TXT ALERT_TRGR_CD  ... CUST_STATE  \\\n",
              "0          southwest          nevada          MOBL  ...         NV   \n",
              "1          southwest      california          MOBL  ...         CA   \n",
              "2           mountain            utah          ONLN  ...         MD   \n",
              "3          southwest      california          MOBL  ...         NV   \n",
              "4      south central           texas          MOBL  ...         UT   \n",
              "...              ...             ...           ...  ...        ...   \n",
              "13995      southwest      california          MOBL  ...         CA   \n",
              "13996      southwest      california          MOBL  ...         CO   \n",
              "13997      southwest      california          MOBL  ...         FL   \n",
              "13998            NaN             NaN          ONLN  ...         CA   \n",
              "13999  south central           texas          MOBL  ...         NJ   \n",
              "\n",
              "           PH_NUM_UPDT_TS        CUST_SINCE_DT             TRAN_TS    TRAN_DT  \\\n",
              "0      2/24/2021 15:55:10  1993-01-06 00:00:00    5/3/2021 18:3:58   5/3/2021   \n",
              "1                     NaN  1971-01-07 00:00:00  1/13/2021 19:19:37  1/13/2021   \n",
              "2         5/5/2019 1:8:39  1994-02-01 00:00:00    4/8/2021 9:42:51   4/8/2021   \n",
              "3       2/16/2019 6:45:37  2001-11-01 00:00:00  8/10/2021 15:28:31  8/10/2021   \n",
              "4        5/8/2020 10:27:6  1987-02-07 00:00:00  6/27/2021 11:12:44  6/27/2021   \n",
              "...                   ...                  ...                 ...        ...   \n",
              "13995   7/15/2017 6:58:59  2001-06-05 00:00:00  3/12/2021 12:11:59  3/12/2021   \n",
              "13996                 NaN  2010-06-03 00:00:00   6/11/2021 9:28:20  6/11/2021   \n",
              "13997    5/25/2021 8:50:5  1984-10-27 00:00:00  5/16/2021 12:31:15  5/16/2021   \n",
              "13998                 NaN  2021-03-01 00:00:00  5/11/2021 12:34:54  5/11/2021   \n",
              "13999                 NaN  2013-01-09 00:00:00   2/15/2021 16:38:0  2/15/2021   \n",
              "\n",
              "      ACTN_CD ACTN_INTNL_TXT TRAN_TYPE_CD   ACTVY_DT FRAUD_NONFRAUD  \n",
              "0      SCHPMT     P2P_COMMIT          P2P   5/3/2021      Non-Fraud  \n",
              "1      SCHPMT     P2P_COMMIT          P2P  1/13/2021      Non-Fraud  \n",
              "2      SCHPMT     P2P_COMMIT          P2P   4/8/2021          Fraud  \n",
              "3      SCHPMT     P2P_COMMIT          P2P  8/10/2021      Non-Fraud  \n",
              "4      SCHPMT     P2P_COMMIT          P2P  6/27/2021          Fraud  \n",
              "...       ...            ...          ...        ...            ...  \n",
              "13995  SCHPMT     P2P_COMMIT          P2P  3/12/2021      Non-Fraud  \n",
              "13996  SCHPMT     P2P_COMMIT          P2P  6/11/2021      Non-Fraud  \n",
              "13997  SCHPMT     P2P_COMMIT          P2P  5/16/2021          Fraud  \n",
              "13998  SCHPMT     P2P_COMMIT          P2P  5/11/2021          Fraud  \n",
              "13999  SCHPMT     P2P_COMMIT          P2P  2/15/2021      Non-Fraud  \n",
              "\n",
              "[14000 rows x 24 columns]"
            ],
            "text/html": [
              "\n",
              "  <div id=\"df-f1e4355f-1799-4b4f-98de-0beb18b73c2f\">\n",
              "    <div class=\"colab-df-container\">\n",
              "      <div>\n",
              "<style scoped>\n",
              "    .dataframe tbody tr th:only-of-type {\n",
              "        vertical-align: middle;\n",
              "    }\n",
              "\n",
              "    .dataframe tbody tr th {\n",
              "        vertical-align: top;\n",
              "    }\n",
              "\n",
              "    .dataframe thead th {\n",
              "        text-align: right;\n",
              "    }\n",
              "</style>\n",
              "<table border=\"1\" class=\"dataframe\">\n",
              "  <thead>\n",
              "    <tr style=\"text-align: right;\">\n",
              "      <th></th>\n",
              "      <th>TRAN_AMT</th>\n",
              "      <th>ACCT_PRE_TRAN_AVAIL_BAL</th>\n",
              "      <th>CUST_AGE</th>\n",
              "      <th>OPEN_ACCT_CT</th>\n",
              "      <th>WF_dvc_age</th>\n",
              "      <th>PWD_UPDT_TS</th>\n",
              "      <th>CARR_NAME</th>\n",
              "      <th>RGN_NAME</th>\n",
              "      <th>STATE_PRVNC_TXT</th>\n",
              "      <th>ALERT_TRGR_CD</th>\n",
              "      <th>...</th>\n",
              "      <th>CUST_STATE</th>\n",
              "      <th>PH_NUM_UPDT_TS</th>\n",
              "      <th>CUST_SINCE_DT</th>\n",
              "      <th>TRAN_TS</th>\n",
              "      <th>TRAN_DT</th>\n",
              "      <th>ACTN_CD</th>\n",
              "      <th>ACTN_INTNL_TXT</th>\n",
              "      <th>TRAN_TYPE_CD</th>\n",
              "      <th>ACTVY_DT</th>\n",
              "      <th>FRAUD_NONFRAUD</th>\n",
              "    </tr>\n",
              "  </thead>\n",
              "  <tbody>\n",
              "    <tr>\n",
              "      <th>0</th>\n",
              "      <td>5.38</td>\n",
              "      <td>23619.91</td>\n",
              "      <td>47</td>\n",
              "      <td>4</td>\n",
              "      <td>2777</td>\n",
              "      <td>1/16/2018 11:3:58</td>\n",
              "      <td>cox communications inc.</td>\n",
              "      <td>southwest</td>\n",
              "      <td>nevada</td>\n",
              "      <td>MOBL</td>\n",
              "      <td>...</td>\n",
              "      <td>NV</td>\n",
              "      <td>2/24/2021 15:55:10</td>\n",
              "      <td>1993-01-06 00:00:00</td>\n",
              "      <td>5/3/2021 18:3:58</td>\n",
              "      <td>5/3/2021</td>\n",
              "      <td>SCHPMT</td>\n",
              "      <td>P2P_COMMIT</td>\n",
              "      <td>P2P</td>\n",
              "      <td>5/3/2021</td>\n",
              "      <td>Non-Fraud</td>\n",
              "    </tr>\n",
              "    <tr>\n",
              "      <th>1</th>\n",
              "      <td>65.19</td>\n",
              "      <td>0.00</td>\n",
              "      <td>45</td>\n",
              "      <td>5</td>\n",
              "      <td>2721</td>\n",
              "      <td>NaN</td>\n",
              "      <td>charter communications</td>\n",
              "      <td>southwest</td>\n",
              "      <td>california</td>\n",
              "      <td>MOBL</td>\n",
              "      <td>...</td>\n",
              "      <td>CA</td>\n",
              "      <td>NaN</td>\n",
              "      <td>1971-01-07 00:00:00</td>\n",
              "      <td>1/13/2021 19:19:37</td>\n",
              "      <td>1/13/2021</td>\n",
              "      <td>SCHPMT</td>\n",
              "      <td>P2P_COMMIT</td>\n",
              "      <td>P2P</td>\n",
              "      <td>1/13/2021</td>\n",
              "      <td>Non-Fraud</td>\n",
              "    </tr>\n",
              "    <tr>\n",
              "      <th>2</th>\n",
              "      <td>54.84</td>\n",
              "      <td>34570.63</td>\n",
              "      <td>36</td>\n",
              "      <td>8</td>\n",
              "      <td>1531</td>\n",
              "      <td>12/22/2021 10:42:51</td>\n",
              "      <td>utah broadband llc</td>\n",
              "      <td>mountain</td>\n",
              "      <td>utah</td>\n",
              "      <td>ONLN</td>\n",
              "      <td>...</td>\n",
              "      <td>MD</td>\n",
              "      <td>5/5/2019 1:8:39</td>\n",
              "      <td>1994-02-01 00:00:00</td>\n",
              "      <td>4/8/2021 9:42:51</td>\n",
              "      <td>4/8/2021</td>\n",
              "      <td>SCHPMT</td>\n",
              "      <td>P2P_COMMIT</td>\n",
              "      <td>P2P</td>\n",
              "      <td>4/8/2021</td>\n",
              "      <td>Fraud</td>\n",
              "    </tr>\n",
              "    <tr>\n",
              "      <th>3</th>\n",
              "      <td>0.01</td>\n",
              "      <td>0.00</td>\n",
              "      <td>62</td>\n",
              "      <td>3</td>\n",
              "      <td>835</td>\n",
              "      <td>2/8/2020 7:28:31</td>\n",
              "      <td>t-mobile usa  inc.</td>\n",
              "      <td>southwest</td>\n",
              "      <td>california</td>\n",
              "      <td>MOBL</td>\n",
              "      <td>...</td>\n",
              "      <td>NV</td>\n",
              "      <td>2/16/2019 6:45:37</td>\n",
              "      <td>2001-11-01 00:00:00</td>\n",
              "      <td>8/10/2021 15:28:31</td>\n",
              "      <td>8/10/2021</td>\n",
              "      <td>SCHPMT</td>\n",
              "      <td>P2P_COMMIT</td>\n",
              "      <td>P2P</td>\n",
              "      <td>8/10/2021</td>\n",
              "      <td>Non-Fraud</td>\n",
              "    </tr>\n",
              "    <tr>\n",
              "      <th>4</th>\n",
              "      <td>497.08</td>\n",
              "      <td>12725.18</td>\n",
              "      <td>81</td>\n",
              "      <td>2</td>\n",
              "      <td>1095</td>\n",
              "      <td>12/28/2020 12:12:44</td>\n",
              "      <td>cogent communications</td>\n",
              "      <td>south central</td>\n",
              "      <td>texas</td>\n",
              "      <td>MOBL</td>\n",
              "      <td>...</td>\n",
              "      <td>UT</td>\n",
              "      <td>5/8/2020 10:27:6</td>\n",
              "      <td>1987-02-07 00:00:00</td>\n",
              "      <td>6/27/2021 11:12:44</td>\n",
              "      <td>6/27/2021</td>\n",
              "      <td>SCHPMT</td>\n",
              "      <td>P2P_COMMIT</td>\n",
              "      <td>P2P</td>\n",
              "      <td>6/27/2021</td>\n",
              "      <td>Fraud</td>\n",
              "    </tr>\n",
              "    <tr>\n",
              "      <th>...</th>\n",
              "      <td>...</td>\n",
              "      <td>...</td>\n",
              "      <td>...</td>\n",
              "      <td>...</td>\n",
              "      <td>...</td>\n",
              "      <td>...</td>\n",
              "      <td>...</td>\n",
              "      <td>...</td>\n",
              "      <td>...</td>\n",
              "      <td>...</td>\n",
              "      <td>...</td>\n",
              "      <td>...</td>\n",
              "      <td>...</td>\n",
              "      <td>...</td>\n",
              "      <td>...</td>\n",
              "      <td>...</td>\n",
              "      <td>...</td>\n",
              "      <td>...</td>\n",
              "      <td>...</td>\n",
              "      <td>...</td>\n",
              "      <td>...</td>\n",
              "    </tr>\n",
              "    <tr>\n",
              "      <th>13995</th>\n",
              "      <td>1937.21</td>\n",
              "      <td>230.75</td>\n",
              "      <td>55</td>\n",
              "      <td>4</td>\n",
              "      <td>142</td>\n",
              "      <td>NaN</td>\n",
              "      <td>cellco partnership dba verizon wireless</td>\n",
              "      <td>southwest</td>\n",
              "      <td>california</td>\n",
              "      <td>MOBL</td>\n",
              "      <td>...</td>\n",
              "      <td>CA</td>\n",
              "      <td>7/15/2017 6:58:59</td>\n",
              "      <td>2001-06-05 00:00:00</td>\n",
              "      <td>3/12/2021 12:11:59</td>\n",
              "      <td>3/12/2021</td>\n",
              "      <td>SCHPMT</td>\n",
              "      <td>P2P_COMMIT</td>\n",
              "      <td>P2P</td>\n",
              "      <td>3/12/2021</td>\n",
              "      <td>Non-Fraud</td>\n",
              "    </tr>\n",
              "    <tr>\n",
              "      <th>13996</th>\n",
              "      <td>114.38</td>\n",
              "      <td>0.00</td>\n",
              "      <td>44</td>\n",
              "      <td>10</td>\n",
              "      <td>272</td>\n",
              "      <td>11/2/2017 4:28:20</td>\n",
              "      <td>t-mobile usa  inc.</td>\n",
              "      <td>southwest</td>\n",
              "      <td>california</td>\n",
              "      <td>MOBL</td>\n",
              "      <td>...</td>\n",
              "      <td>CO</td>\n",
              "      <td>NaN</td>\n",
              "      <td>2010-06-03 00:00:00</td>\n",
              "      <td>6/11/2021 9:28:20</td>\n",
              "      <td>6/11/2021</td>\n",
              "      <td>SCHPMT</td>\n",
              "      <td>P2P_COMMIT</td>\n",
              "      <td>P2P</td>\n",
              "      <td>6/11/2021</td>\n",
              "      <td>Non-Fraud</td>\n",
              "    </tr>\n",
              "    <tr>\n",
              "      <th>13997</th>\n",
              "      <td>493.00</td>\n",
              "      <td>2848.63</td>\n",
              "      <td>54</td>\n",
              "      <td>3</td>\n",
              "      <td>517</td>\n",
              "      <td>6/3/2021 19:31:15</td>\n",
              "      <td>att services inc</td>\n",
              "      <td>southwest</td>\n",
              "      <td>california</td>\n",
              "      <td>MOBL</td>\n",
              "      <td>...</td>\n",
              "      <td>FL</td>\n",
              "      <td>5/25/2021 8:50:5</td>\n",
              "      <td>1984-10-27 00:00:00</td>\n",
              "      <td>5/16/2021 12:31:15</td>\n",
              "      <td>5/16/2021</td>\n",
              "      <td>SCHPMT</td>\n",
              "      <td>P2P_COMMIT</td>\n",
              "      <td>P2P</td>\n",
              "      <td>5/16/2021</td>\n",
              "      <td>Fraud</td>\n",
              "    </tr>\n",
              "    <tr>\n",
              "      <th>13998</th>\n",
              "      <td>491.64</td>\n",
              "      <td>3163.25</td>\n",
              "      <td>21</td>\n",
              "      <td>3</td>\n",
              "      <td>0</td>\n",
              "      <td>3/2/2020 11:34:54</td>\n",
              "      <td>NaN</td>\n",
              "      <td>NaN</td>\n",
              "      <td>NaN</td>\n",
              "      <td>ONLN</td>\n",
              "      <td>...</td>\n",
              "      <td>CA</td>\n",
              "      <td>NaN</td>\n",
              "      <td>2021-03-01 00:00:00</td>\n",
              "      <td>5/11/2021 12:34:54</td>\n",
              "      <td>5/11/2021</td>\n",
              "      <td>SCHPMT</td>\n",
              "      <td>P2P_COMMIT</td>\n",
              "      <td>P2P</td>\n",
              "      <td>5/11/2021</td>\n",
              "      <td>Fraud</td>\n",
              "    </tr>\n",
              "    <tr>\n",
              "      <th>13999</th>\n",
              "      <td>6.02</td>\n",
              "      <td>0.00</td>\n",
              "      <td>60</td>\n",
              "      <td>6</td>\n",
              "      <td>944</td>\n",
              "      <td>NaN</td>\n",
              "      <td>charter communications inc</td>\n",
              "      <td>south central</td>\n",
              "      <td>texas</td>\n",
              "      <td>MOBL</td>\n",
              "      <td>...</td>\n",
              "      <td>NJ</td>\n",
              "      <td>NaN</td>\n",
              "      <td>2013-01-09 00:00:00</td>\n",
              "      <td>2/15/2021 16:38:0</td>\n",
              "      <td>2/15/2021</td>\n",
              "      <td>SCHPMT</td>\n",
              "      <td>P2P_COMMIT</td>\n",
              "      <td>P2P</td>\n",
              "      <td>2/15/2021</td>\n",
              "      <td>Non-Fraud</td>\n",
              "    </tr>\n",
              "  </tbody>\n",
              "</table>\n",
              "<p>14000 rows × 24 columns</p>\n",
              "</div>\n",
              "      <button class=\"colab-df-convert\" onclick=\"convertToInteractive('df-f1e4355f-1799-4b4f-98de-0beb18b73c2f')\"\n",
              "              title=\"Convert this dataframe to an interactive table.\"\n",
              "              style=\"display:none;\">\n",
              "        \n",
              "  <svg xmlns=\"http://www.w3.org/2000/svg\" height=\"24px\"viewBox=\"0 0 24 24\"\n",
              "       width=\"24px\">\n",
              "    <path d=\"M0 0h24v24H0V0z\" fill=\"none\"/>\n",
              "    <path d=\"M18.56 5.44l.94 2.06.94-2.06 2.06-.94-2.06-.94-.94-2.06-.94 2.06-2.06.94zm-11 1L8.5 8.5l.94-2.06 2.06-.94-2.06-.94L8.5 2.5l-.94 2.06-2.06.94zm10 10l.94 2.06.94-2.06 2.06-.94-2.06-.94-.94-2.06-.94 2.06-2.06.94z\"/><path d=\"M17.41 7.96l-1.37-1.37c-.4-.4-.92-.59-1.43-.59-.52 0-1.04.2-1.43.59L10.3 9.45l-7.72 7.72c-.78.78-.78 2.05 0 2.83L4 21.41c.39.39.9.59 1.41.59.51 0 1.02-.2 1.41-.59l7.78-7.78 2.81-2.81c.8-.78.8-2.07 0-2.86zM5.41 20L4 18.59l7.72-7.72 1.47 1.35L5.41 20z\"/>\n",
              "  </svg>\n",
              "      </button>\n",
              "      \n",
              "  <style>\n",
              "    .colab-df-container {\n",
              "      display:flex;\n",
              "      flex-wrap:wrap;\n",
              "      gap: 12px;\n",
              "    }\n",
              "\n",
              "    .colab-df-convert {\n",
              "      background-color: #E8F0FE;\n",
              "      border: none;\n",
              "      border-radius: 50%;\n",
              "      cursor: pointer;\n",
              "      display: none;\n",
              "      fill: #1967D2;\n",
              "      height: 32px;\n",
              "      padding: 0 0 0 0;\n",
              "      width: 32px;\n",
              "    }\n",
              "\n",
              "    .colab-df-convert:hover {\n",
              "      background-color: #E2EBFA;\n",
              "      box-shadow: 0px 1px 2px rgba(60, 64, 67, 0.3), 0px 1px 3px 1px rgba(60, 64, 67, 0.15);\n",
              "      fill: #174EA6;\n",
              "    }\n",
              "\n",
              "    [theme=dark] .colab-df-convert {\n",
              "      background-color: #3B4455;\n",
              "      fill: #D2E3FC;\n",
              "    }\n",
              "\n",
              "    [theme=dark] .colab-df-convert:hover {\n",
              "      background-color: #434B5C;\n",
              "      box-shadow: 0px 1px 3px 1px rgba(0, 0, 0, 0.15);\n",
              "      filter: drop-shadow(0px 1px 2px rgba(0, 0, 0, 0.3));\n",
              "      fill: #FFFFFF;\n",
              "    }\n",
              "  </style>\n",
              "\n",
              "      <script>\n",
              "        const buttonEl =\n",
              "          document.querySelector('#df-f1e4355f-1799-4b4f-98de-0beb18b73c2f button.colab-df-convert');\n",
              "        buttonEl.style.display =\n",
              "          google.colab.kernel.accessAllowed ? 'block' : 'none';\n",
              "\n",
              "        async function convertToInteractive(key) {\n",
              "          const element = document.querySelector('#df-f1e4355f-1799-4b4f-98de-0beb18b73c2f');\n",
              "          const dataTable =\n",
              "            await google.colab.kernel.invokeFunction('convertToInteractive',\n",
              "                                                     [key], {});\n",
              "          if (!dataTable) return;\n",
              "\n",
              "          const docLinkHtml = 'Like what you see? Visit the ' +\n",
              "            '<a target=\"_blank\" href=https://colab.research.google.com/notebooks/data_table.ipynb>data table notebook</a>'\n",
              "            + ' to learn more about interactive tables.';\n",
              "          element.innerHTML = '';\n",
              "          dataTable['output_type'] = 'display_data';\n",
              "          await google.colab.output.renderOutput(dataTable, element);\n",
              "          const docLink = document.createElement('div');\n",
              "          docLink.innerHTML = docLinkHtml;\n",
              "          element.appendChild(docLink);\n",
              "        }\n",
              "      </script>\n",
              "    </div>\n",
              "  </div>\n",
              "  "
            ]
          },
          "metadata": {},
          "execution_count": 176
        }
      ],
      "source": [
        "# creating Pandas Dataframe\n",
        "df = pd.read_csv(data_folder)\n",
        "df"
      ]
    },
    {
      "cell_type": "code",
      "execution_count": 177,
      "metadata": {
        "colab": {
          "base_uri": "https://localhost:8080/",
          "height": 300
        },
        "id": "rok53q61hqlv",
        "outputId": "56b70961-3c96-4aa9-a5b1-55d87d92564e"
      },
      "outputs": [
        {
          "output_type": "execute_result",
          "data": {
            "text/plain": [
              "           TRAN_AMT  ACCT_PRE_TRAN_AVAIL_BAL      CUST_AGE  OPEN_ACCT_CT  \\\n",
              "count  14000.000000             14000.000000  14000.000000  14000.000000   \n",
              "mean     275.377747             10233.110609     53.937214      6.666714   \n",
              "std      317.892333             29967.453812     18.829836      9.059419   \n",
              "min        0.010000                 0.000000     13.000000      0.000000   \n",
              "25%       11.322500                 0.000000     39.000000      3.000000   \n",
              "50%      161.355000              2410.395000     59.000000      5.000000   \n",
              "75%      488.822500              4732.695000     68.000000      7.000000   \n",
              "max     2376.060000            361519.050000    105.000000    227.000000   \n",
              "\n",
              "         WF_dvc_age      CUST_ZIP  \n",
              "count  14000.000000  14000.000000  \n",
              "mean     611.061571  74007.681071  \n",
              "std      668.113489  24948.053588  \n",
              "min     -117.000000      0.000000  \n",
              "25%       75.000000  63123.000000  \n",
              "50%      365.500000  85037.000000  \n",
              "75%      961.000000  92201.000000  \n",
              "max     2783.000000  99835.000000  "
            ],
            "text/html": [
              "\n",
              "  <div id=\"df-584a5f33-ffe8-43c0-8faa-879dba546c8c\">\n",
              "    <div class=\"colab-df-container\">\n",
              "      <div>\n",
              "<style scoped>\n",
              "    .dataframe tbody tr th:only-of-type {\n",
              "        vertical-align: middle;\n",
              "    }\n",
              "\n",
              "    .dataframe tbody tr th {\n",
              "        vertical-align: top;\n",
              "    }\n",
              "\n",
              "    .dataframe thead th {\n",
              "        text-align: right;\n",
              "    }\n",
              "</style>\n",
              "<table border=\"1\" class=\"dataframe\">\n",
              "  <thead>\n",
              "    <tr style=\"text-align: right;\">\n",
              "      <th></th>\n",
              "      <th>TRAN_AMT</th>\n",
              "      <th>ACCT_PRE_TRAN_AVAIL_BAL</th>\n",
              "      <th>CUST_AGE</th>\n",
              "      <th>OPEN_ACCT_CT</th>\n",
              "      <th>WF_dvc_age</th>\n",
              "      <th>CUST_ZIP</th>\n",
              "    </tr>\n",
              "  </thead>\n",
              "  <tbody>\n",
              "    <tr>\n",
              "      <th>count</th>\n",
              "      <td>14000.000000</td>\n",
              "      <td>14000.000000</td>\n",
              "      <td>14000.000000</td>\n",
              "      <td>14000.000000</td>\n",
              "      <td>14000.000000</td>\n",
              "      <td>14000.000000</td>\n",
              "    </tr>\n",
              "    <tr>\n",
              "      <th>mean</th>\n",
              "      <td>275.377747</td>\n",
              "      <td>10233.110609</td>\n",
              "      <td>53.937214</td>\n",
              "      <td>6.666714</td>\n",
              "      <td>611.061571</td>\n",
              "      <td>74007.681071</td>\n",
              "    </tr>\n",
              "    <tr>\n",
              "      <th>std</th>\n",
              "      <td>317.892333</td>\n",
              "      <td>29967.453812</td>\n",
              "      <td>18.829836</td>\n",
              "      <td>9.059419</td>\n",
              "      <td>668.113489</td>\n",
              "      <td>24948.053588</td>\n",
              "    </tr>\n",
              "    <tr>\n",
              "      <th>min</th>\n",
              "      <td>0.010000</td>\n",
              "      <td>0.000000</td>\n",
              "      <td>13.000000</td>\n",
              "      <td>0.000000</td>\n",
              "      <td>-117.000000</td>\n",
              "      <td>0.000000</td>\n",
              "    </tr>\n",
              "    <tr>\n",
              "      <th>25%</th>\n",
              "      <td>11.322500</td>\n",
              "      <td>0.000000</td>\n",
              "      <td>39.000000</td>\n",
              "      <td>3.000000</td>\n",
              "      <td>75.000000</td>\n",
              "      <td>63123.000000</td>\n",
              "    </tr>\n",
              "    <tr>\n",
              "      <th>50%</th>\n",
              "      <td>161.355000</td>\n",
              "      <td>2410.395000</td>\n",
              "      <td>59.000000</td>\n",
              "      <td>5.000000</td>\n",
              "      <td>365.500000</td>\n",
              "      <td>85037.000000</td>\n",
              "    </tr>\n",
              "    <tr>\n",
              "      <th>75%</th>\n",
              "      <td>488.822500</td>\n",
              "      <td>4732.695000</td>\n",
              "      <td>68.000000</td>\n",
              "      <td>7.000000</td>\n",
              "      <td>961.000000</td>\n",
              "      <td>92201.000000</td>\n",
              "    </tr>\n",
              "    <tr>\n",
              "      <th>max</th>\n",
              "      <td>2376.060000</td>\n",
              "      <td>361519.050000</td>\n",
              "      <td>105.000000</td>\n",
              "      <td>227.000000</td>\n",
              "      <td>2783.000000</td>\n",
              "      <td>99835.000000</td>\n",
              "    </tr>\n",
              "  </tbody>\n",
              "</table>\n",
              "</div>\n",
              "      <button class=\"colab-df-convert\" onclick=\"convertToInteractive('df-584a5f33-ffe8-43c0-8faa-879dba546c8c')\"\n",
              "              title=\"Convert this dataframe to an interactive table.\"\n",
              "              style=\"display:none;\">\n",
              "        \n",
              "  <svg xmlns=\"http://www.w3.org/2000/svg\" height=\"24px\"viewBox=\"0 0 24 24\"\n",
              "       width=\"24px\">\n",
              "    <path d=\"M0 0h24v24H0V0z\" fill=\"none\"/>\n",
              "    <path d=\"M18.56 5.44l.94 2.06.94-2.06 2.06-.94-2.06-.94-.94-2.06-.94 2.06-2.06.94zm-11 1L8.5 8.5l.94-2.06 2.06-.94-2.06-.94L8.5 2.5l-.94 2.06-2.06.94zm10 10l.94 2.06.94-2.06 2.06-.94-2.06-.94-.94-2.06-.94 2.06-2.06.94z\"/><path d=\"M17.41 7.96l-1.37-1.37c-.4-.4-.92-.59-1.43-.59-.52 0-1.04.2-1.43.59L10.3 9.45l-7.72 7.72c-.78.78-.78 2.05 0 2.83L4 21.41c.39.39.9.59 1.41.59.51 0 1.02-.2 1.41-.59l7.78-7.78 2.81-2.81c.8-.78.8-2.07 0-2.86zM5.41 20L4 18.59l7.72-7.72 1.47 1.35L5.41 20z\"/>\n",
              "  </svg>\n",
              "      </button>\n",
              "      \n",
              "  <style>\n",
              "    .colab-df-container {\n",
              "      display:flex;\n",
              "      flex-wrap:wrap;\n",
              "      gap: 12px;\n",
              "    }\n",
              "\n",
              "    .colab-df-convert {\n",
              "      background-color: #E8F0FE;\n",
              "      border: none;\n",
              "      border-radius: 50%;\n",
              "      cursor: pointer;\n",
              "      display: none;\n",
              "      fill: #1967D2;\n",
              "      height: 32px;\n",
              "      padding: 0 0 0 0;\n",
              "      width: 32px;\n",
              "    }\n",
              "\n",
              "    .colab-df-convert:hover {\n",
              "      background-color: #E2EBFA;\n",
              "      box-shadow: 0px 1px 2px rgba(60, 64, 67, 0.3), 0px 1px 3px 1px rgba(60, 64, 67, 0.15);\n",
              "      fill: #174EA6;\n",
              "    }\n",
              "\n",
              "    [theme=dark] .colab-df-convert {\n",
              "      background-color: #3B4455;\n",
              "      fill: #D2E3FC;\n",
              "    }\n",
              "\n",
              "    [theme=dark] .colab-df-convert:hover {\n",
              "      background-color: #434B5C;\n",
              "      box-shadow: 0px 1px 3px 1px rgba(0, 0, 0, 0.15);\n",
              "      filter: drop-shadow(0px 1px 2px rgba(0, 0, 0, 0.3));\n",
              "      fill: #FFFFFF;\n",
              "    }\n",
              "  </style>\n",
              "\n",
              "      <script>\n",
              "        const buttonEl =\n",
              "          document.querySelector('#df-584a5f33-ffe8-43c0-8faa-879dba546c8c button.colab-df-convert');\n",
              "        buttonEl.style.display =\n",
              "          google.colab.kernel.accessAllowed ? 'block' : 'none';\n",
              "\n",
              "        async function convertToInteractive(key) {\n",
              "          const element = document.querySelector('#df-584a5f33-ffe8-43c0-8faa-879dba546c8c');\n",
              "          const dataTable =\n",
              "            await google.colab.kernel.invokeFunction('convertToInteractive',\n",
              "                                                     [key], {});\n",
              "          if (!dataTable) return;\n",
              "\n",
              "          const docLinkHtml = 'Like what you see? Visit the ' +\n",
              "            '<a target=\"_blank\" href=https://colab.research.google.com/notebooks/data_table.ipynb>data table notebook</a>'\n",
              "            + ' to learn more about interactive tables.';\n",
              "          element.innerHTML = '';\n",
              "          dataTable['output_type'] = 'display_data';\n",
              "          await google.colab.output.renderOutput(dataTable, element);\n",
              "          const docLink = document.createElement('div');\n",
              "          docLink.innerHTML = docLinkHtml;\n",
              "          element.appendChild(docLink);\n",
              "        }\n",
              "      </script>\n",
              "    </div>\n",
              "  </div>\n",
              "  "
            ]
          },
          "metadata": {},
          "execution_count": 177
        }
      ],
      "source": [
        "df.describe()"
      ]
    },
    {
      "cell_type": "code",
      "execution_count": 178,
      "metadata": {
        "scrolled": false,
        "colab": {
          "base_uri": "https://localhost:8080/"
        },
        "id": "ePNbYKf7hqlw",
        "outputId": "51fd46a8-3778-4d0f-88cc-a5fb54cf1012"
      },
      "outputs": [
        {
          "output_type": "stream",
          "name": "stdout",
          "text": [
            "<class 'pandas.core.frame.DataFrame'>\n",
            "RangeIndex: 14000 entries, 0 to 13999\n",
            "Data columns (total 24 columns):\n",
            " #   Column                   Non-Null Count  Dtype  \n",
            "---  ------                   --------------  -----  \n",
            " 0   TRAN_AMT                 14000 non-null  float64\n",
            " 1   ACCT_PRE_TRAN_AVAIL_BAL  14000 non-null  float64\n",
            " 2   CUST_AGE                 14000 non-null  int64  \n",
            " 3   OPEN_ACCT_CT             14000 non-null  int64  \n",
            " 4   WF_dvc_age               14000 non-null  int64  \n",
            " 5   PWD_UPDT_TS              10875 non-null  object \n",
            " 6   CARR_NAME                11291 non-null  object \n",
            " 7   RGN_NAME                 11291 non-null  object \n",
            " 8   STATE_PRVNC_TXT          11291 non-null  object \n",
            " 9   ALERT_TRGR_CD            14000 non-null  object \n",
            " 10  DVC_TYPE_TXT             12239 non-null  object \n",
            " 11  AUTHC_PRIM_TYPE_CD       14000 non-null  object \n",
            " 12  AUTHC_SCNDRY_STAT_TXT    13926 non-null  object \n",
            " 13  CUST_ZIP                 14000 non-null  int64  \n",
            " 14  CUST_STATE               13964 non-null  object \n",
            " 15  PH_NUM_UPDT_TS           6939 non-null   object \n",
            " 16  CUST_SINCE_DT            14000 non-null  object \n",
            " 17  TRAN_TS                  14000 non-null  object \n",
            " 18  TRAN_DT                  14000 non-null  object \n",
            " 19  ACTN_CD                  14000 non-null  object \n",
            " 20  ACTN_INTNL_TXT           14000 non-null  object \n",
            " 21  TRAN_TYPE_CD             14000 non-null  object \n",
            " 22  ACTVY_DT                 14000 non-null  object \n",
            " 23  FRAUD_NONFRAUD           14000 non-null  object \n",
            "dtypes: float64(2), int64(4), object(18)\n",
            "memory usage: 2.6+ MB\n"
          ]
        }
      ],
      "source": [
        "df.info()"
      ]
    },
    {
      "cell_type": "markdown",
      "metadata": {
        "id": "8I37E2UChqlw"
      },
      "source": [
        "Since our focus is on older adults (60 years of age or older) and dependent adult (18 and above who is admitted as an inpatient to a 24-hour facility).\n",
        "We filter the customer age to be above 18.\n",
        "Note: A dependent adult is an adult who is not a senior citizen and who needs assistance to carry out normal activities or to protect their rights, or who is in a hospital for at least a 24-hour stay"
      ]
    },
    {
      "cell_type": "code",
      "execution_count": 179,
      "metadata": {
        "colab": {
          "base_uri": "https://localhost:8080/"
        },
        "id": "Rz8_rmBJhqlw",
        "outputId": "fec0bdbf-227b-41e8-ae0c-f75f54e30865"
      },
      "outputs": [
        {
          "output_type": "stream",
          "name": "stdout",
          "text": [
            "<class 'pandas.core.frame.DataFrame'>\n",
            "Int64Index: 13879 entries, 0 to 13999\n",
            "Data columns (total 24 columns):\n",
            " #   Column                   Non-Null Count  Dtype  \n",
            "---  ------                   --------------  -----  \n",
            " 0   TRAN_AMT                 13879 non-null  float64\n",
            " 1   ACCT_PRE_TRAN_AVAIL_BAL  13879 non-null  float64\n",
            " 2   CUST_AGE                 13879 non-null  int64  \n",
            " 3   OPEN_ACCT_CT             13879 non-null  int64  \n",
            " 4   WF_dvc_age               13879 non-null  int64  \n",
            " 5   PWD_UPDT_TS              10787 non-null  object \n",
            " 6   CARR_NAME                11203 non-null  object \n",
            " 7   RGN_NAME                 11203 non-null  object \n",
            " 8   STATE_PRVNC_TXT          11203 non-null  object \n",
            " 9   ALERT_TRGR_CD            13879 non-null  object \n",
            " 10  DVC_TYPE_TXT             12138 non-null  object \n",
            " 11  AUTHC_PRIM_TYPE_CD       13879 non-null  object \n",
            " 12  AUTHC_SCNDRY_STAT_TXT    13809 non-null  object \n",
            " 13  CUST_ZIP                 13879 non-null  int64  \n",
            " 14  CUST_STATE               13843 non-null  object \n",
            " 15  PH_NUM_UPDT_TS           6874 non-null   object \n",
            " 16  CUST_SINCE_DT            13879 non-null  object \n",
            " 17  TRAN_TS                  13879 non-null  object \n",
            " 18  TRAN_DT                  13879 non-null  object \n",
            " 19  ACTN_CD                  13879 non-null  object \n",
            " 20  ACTN_INTNL_TXT           13879 non-null  object \n",
            " 21  TRAN_TYPE_CD             13879 non-null  object \n",
            " 22  ACTVY_DT                 13879 non-null  object \n",
            " 23  FRAUD_NONFRAUD           13879 non-null  object \n",
            "dtypes: float64(2), int64(4), object(18)\n",
            "memory usage: 2.6+ MB\n"
          ]
        }
      ],
      "source": [
        "df = df[df['CUST_AGE'] >= 18]\n",
        "df.info()"
      ]
    },
    {
      "cell_type": "markdown",
      "metadata": {
        "id": "LNyxNnNUhqlx"
      },
      "source": [
        "**Missing Values**"
      ]
    },
    {
      "cell_type": "code",
      "execution_count": 180,
      "metadata": {
        "colab": {
          "base_uri": "https://localhost:8080/"
        },
        "id": "Razt2bsfhqlx",
        "outputId": "d3466cb6-929c-4f72-d6e9-7b424481759c"
      },
      "outputs": [
        {
          "output_type": "stream",
          "name": "stdout",
          "text": [
            "TRAN_AMT                      0\n",
            "ACCT_PRE_TRAN_AVAIL_BAL       0\n",
            "CUST_AGE                      0\n",
            "OPEN_ACCT_CT                  0\n",
            "WF_dvc_age                    0\n",
            "PWD_UPDT_TS                3092\n",
            "CARR_NAME                  2676\n",
            "RGN_NAME                   2676\n",
            "STATE_PRVNC_TXT            2676\n",
            "ALERT_TRGR_CD                 0\n",
            "DVC_TYPE_TXT               1741\n",
            "AUTHC_PRIM_TYPE_CD            0\n",
            "AUTHC_SCNDRY_STAT_TXT        70\n",
            "CUST_ZIP                      0\n",
            "CUST_STATE                   36\n",
            "PH_NUM_UPDT_TS             7005\n",
            "CUST_SINCE_DT                 0\n",
            "TRAN_TS                       0\n",
            "TRAN_DT                       0\n",
            "ACTN_CD                       0\n",
            "ACTN_INTNL_TXT                0\n",
            "TRAN_TYPE_CD                  0\n",
            "ACTVY_DT                      0\n",
            "FRAUD_NONFRAUD                0\n",
            "dtype: int64\n"
          ]
        }
      ],
      "source": [
        "# Missing Values :\n",
        "print (df.isna().sum())"
      ]
    },
    {
      "cell_type": "code",
      "execution_count": 181,
      "metadata": {
        "colab": {
          "base_uri": "https://localhost:8080/",
          "height": 300
        },
        "id": "6U_Wx-tLhqlx",
        "outputId": "ee893dc9-fb3f-4c53-ec00-cd1bec5afb4e"
      },
      "outputs": [
        {
          "output_type": "execute_result",
          "data": {
            "text/plain": [
              "           TRAN_AMT  ACCT_PRE_TRAN_AVAIL_BAL      CUST_AGE  OPEN_ACCT_CT  \\\n",
              "count  13879.000000             13879.000000  13879.000000  13879.000000   \n",
              "mean     274.713969             10190.003056     54.272282      6.651056   \n",
              "std      317.503017             29942.871238     18.564696      9.045851   \n",
              "min        0.010000                 0.000000     18.000000      0.000000   \n",
              "25%       11.190000                 0.000000     39.000000      3.000000   \n",
              "50%      159.930000              2397.200000     59.000000      5.000000   \n",
              "75%      488.750000              4691.955000     68.000000      7.000000   \n",
              "max     2376.060000            361519.050000    105.000000    227.000000   \n",
              "\n",
              "         WF_dvc_age      CUST_ZIP  \n",
              "count  13879.000000  13879.000000  \n",
              "mean     609.874415  74045.045608  \n",
              "std      667.554750  24940.680268  \n",
              "min     -117.000000      0.000000  \n",
              "25%       75.000000  64121.000000  \n",
              "50%      363.000000  85042.000000  \n",
              "75%      959.000000  92203.000000  \n",
              "max     2783.000000  99835.000000  "
            ],
            "text/html": [
              "\n",
              "  <div id=\"df-d7403b7c-8f0f-41ac-b7bf-028f7cf959b1\">\n",
              "    <div class=\"colab-df-container\">\n",
              "      <div>\n",
              "<style scoped>\n",
              "    .dataframe tbody tr th:only-of-type {\n",
              "        vertical-align: middle;\n",
              "    }\n",
              "\n",
              "    .dataframe tbody tr th {\n",
              "        vertical-align: top;\n",
              "    }\n",
              "\n",
              "    .dataframe thead th {\n",
              "        text-align: right;\n",
              "    }\n",
              "</style>\n",
              "<table border=\"1\" class=\"dataframe\">\n",
              "  <thead>\n",
              "    <tr style=\"text-align: right;\">\n",
              "      <th></th>\n",
              "      <th>TRAN_AMT</th>\n",
              "      <th>ACCT_PRE_TRAN_AVAIL_BAL</th>\n",
              "      <th>CUST_AGE</th>\n",
              "      <th>OPEN_ACCT_CT</th>\n",
              "      <th>WF_dvc_age</th>\n",
              "      <th>CUST_ZIP</th>\n",
              "    </tr>\n",
              "  </thead>\n",
              "  <tbody>\n",
              "    <tr>\n",
              "      <th>count</th>\n",
              "      <td>13879.000000</td>\n",
              "      <td>13879.000000</td>\n",
              "      <td>13879.000000</td>\n",
              "      <td>13879.000000</td>\n",
              "      <td>13879.000000</td>\n",
              "      <td>13879.000000</td>\n",
              "    </tr>\n",
              "    <tr>\n",
              "      <th>mean</th>\n",
              "      <td>274.713969</td>\n",
              "      <td>10190.003056</td>\n",
              "      <td>54.272282</td>\n",
              "      <td>6.651056</td>\n",
              "      <td>609.874415</td>\n",
              "      <td>74045.045608</td>\n",
              "    </tr>\n",
              "    <tr>\n",
              "      <th>std</th>\n",
              "      <td>317.503017</td>\n",
              "      <td>29942.871238</td>\n",
              "      <td>18.564696</td>\n",
              "      <td>9.045851</td>\n",
              "      <td>667.554750</td>\n",
              "      <td>24940.680268</td>\n",
              "    </tr>\n",
              "    <tr>\n",
              "      <th>min</th>\n",
              "      <td>0.010000</td>\n",
              "      <td>0.000000</td>\n",
              "      <td>18.000000</td>\n",
              "      <td>0.000000</td>\n",
              "      <td>-117.000000</td>\n",
              "      <td>0.000000</td>\n",
              "    </tr>\n",
              "    <tr>\n",
              "      <th>25%</th>\n",
              "      <td>11.190000</td>\n",
              "      <td>0.000000</td>\n",
              "      <td>39.000000</td>\n",
              "      <td>3.000000</td>\n",
              "      <td>75.000000</td>\n",
              "      <td>64121.000000</td>\n",
              "    </tr>\n",
              "    <tr>\n",
              "      <th>50%</th>\n",
              "      <td>159.930000</td>\n",
              "      <td>2397.200000</td>\n",
              "      <td>59.000000</td>\n",
              "      <td>5.000000</td>\n",
              "      <td>363.000000</td>\n",
              "      <td>85042.000000</td>\n",
              "    </tr>\n",
              "    <tr>\n",
              "      <th>75%</th>\n",
              "      <td>488.750000</td>\n",
              "      <td>4691.955000</td>\n",
              "      <td>68.000000</td>\n",
              "      <td>7.000000</td>\n",
              "      <td>959.000000</td>\n",
              "      <td>92203.000000</td>\n",
              "    </tr>\n",
              "    <tr>\n",
              "      <th>max</th>\n",
              "      <td>2376.060000</td>\n",
              "      <td>361519.050000</td>\n",
              "      <td>105.000000</td>\n",
              "      <td>227.000000</td>\n",
              "      <td>2783.000000</td>\n",
              "      <td>99835.000000</td>\n",
              "    </tr>\n",
              "  </tbody>\n",
              "</table>\n",
              "</div>\n",
              "      <button class=\"colab-df-convert\" onclick=\"convertToInteractive('df-d7403b7c-8f0f-41ac-b7bf-028f7cf959b1')\"\n",
              "              title=\"Convert this dataframe to an interactive table.\"\n",
              "              style=\"display:none;\">\n",
              "        \n",
              "  <svg xmlns=\"http://www.w3.org/2000/svg\" height=\"24px\"viewBox=\"0 0 24 24\"\n",
              "       width=\"24px\">\n",
              "    <path d=\"M0 0h24v24H0V0z\" fill=\"none\"/>\n",
              "    <path d=\"M18.56 5.44l.94 2.06.94-2.06 2.06-.94-2.06-.94-.94-2.06-.94 2.06-2.06.94zm-11 1L8.5 8.5l.94-2.06 2.06-.94-2.06-.94L8.5 2.5l-.94 2.06-2.06.94zm10 10l.94 2.06.94-2.06 2.06-.94-2.06-.94-.94-2.06-.94 2.06-2.06.94z\"/><path d=\"M17.41 7.96l-1.37-1.37c-.4-.4-.92-.59-1.43-.59-.52 0-1.04.2-1.43.59L10.3 9.45l-7.72 7.72c-.78.78-.78 2.05 0 2.83L4 21.41c.39.39.9.59 1.41.59.51 0 1.02-.2 1.41-.59l7.78-7.78 2.81-2.81c.8-.78.8-2.07 0-2.86zM5.41 20L4 18.59l7.72-7.72 1.47 1.35L5.41 20z\"/>\n",
              "  </svg>\n",
              "      </button>\n",
              "      \n",
              "  <style>\n",
              "    .colab-df-container {\n",
              "      display:flex;\n",
              "      flex-wrap:wrap;\n",
              "      gap: 12px;\n",
              "    }\n",
              "\n",
              "    .colab-df-convert {\n",
              "      background-color: #E8F0FE;\n",
              "      border: none;\n",
              "      border-radius: 50%;\n",
              "      cursor: pointer;\n",
              "      display: none;\n",
              "      fill: #1967D2;\n",
              "      height: 32px;\n",
              "      padding: 0 0 0 0;\n",
              "      width: 32px;\n",
              "    }\n",
              "\n",
              "    .colab-df-convert:hover {\n",
              "      background-color: #E2EBFA;\n",
              "      box-shadow: 0px 1px 2px rgba(60, 64, 67, 0.3), 0px 1px 3px 1px rgba(60, 64, 67, 0.15);\n",
              "      fill: #174EA6;\n",
              "    }\n",
              "\n",
              "    [theme=dark] .colab-df-convert {\n",
              "      background-color: #3B4455;\n",
              "      fill: #D2E3FC;\n",
              "    }\n",
              "\n",
              "    [theme=dark] .colab-df-convert:hover {\n",
              "      background-color: #434B5C;\n",
              "      box-shadow: 0px 1px 3px 1px rgba(0, 0, 0, 0.15);\n",
              "      filter: drop-shadow(0px 1px 2px rgba(0, 0, 0, 0.3));\n",
              "      fill: #FFFFFF;\n",
              "    }\n",
              "  </style>\n",
              "\n",
              "      <script>\n",
              "        const buttonEl =\n",
              "          document.querySelector('#df-d7403b7c-8f0f-41ac-b7bf-028f7cf959b1 button.colab-df-convert');\n",
              "        buttonEl.style.display =\n",
              "          google.colab.kernel.accessAllowed ? 'block' : 'none';\n",
              "\n",
              "        async function convertToInteractive(key) {\n",
              "          const element = document.querySelector('#df-d7403b7c-8f0f-41ac-b7bf-028f7cf959b1');\n",
              "          const dataTable =\n",
              "            await google.colab.kernel.invokeFunction('convertToInteractive',\n",
              "                                                     [key], {});\n",
              "          if (!dataTable) return;\n",
              "\n",
              "          const docLinkHtml = 'Like what you see? Visit the ' +\n",
              "            '<a target=\"_blank\" href=https://colab.research.google.com/notebooks/data_table.ipynb>data table notebook</a>'\n",
              "            + ' to learn more about interactive tables.';\n",
              "          element.innerHTML = '';\n",
              "          dataTable['output_type'] = 'display_data';\n",
              "          await google.colab.output.renderOutput(dataTable, element);\n",
              "          const docLink = document.createElement('div');\n",
              "          docLink.innerHTML = docLinkHtml;\n",
              "          element.appendChild(docLink);\n",
              "        }\n",
              "      </script>\n",
              "    </div>\n",
              "  </div>\n",
              "  "
            ]
          },
          "metadata": {},
          "execution_count": 181
        }
      ],
      "source": [
        "df.describe()"
      ]
    },
    {
      "cell_type": "markdown",
      "metadata": {
        "id": "zunt__Z1hqly"
      },
      "source": [
        "## Exploratory Data Analysis"
      ]
    },
    {
      "cell_type": "code",
      "execution_count": 184,
      "metadata": {
        "id": "45YiCwnOhqly"
      },
      "outputs": [],
      "source": [
        "import pylab as plt\n",
        "\n",
        "# Set the global default size of matplotlib figures\n",
        "plt.rc('figure', figsize=(15, 10))\n",
        "\n",
        "# Size of matplotlib figures that contain subplots\n",
        "fizsize_with_subplots = (12, 12)\n",
        "\n",
        "# Size of matplotlib histogram bins\n",
        "bin_size = 10"
      ]
    },
    {
      "cell_type": "code",
      "execution_count": 187,
      "metadata": {
        "colab": {
          "base_uri": "https://localhost:8080/",
          "height": 309
        },
        "id": "foCXTxaXhqly",
        "outputId": "3f52c378-4a11-473f-ce3d-bf8142703cf9"
      },
      "outputs": [
        {
          "output_type": "execute_result",
          "data": {
            "text/plain": [
              "<matplotlib.axes._subplots.AxesSubplot at 0x7efe72ef7490>"
            ]
          },
          "metadata": {},
          "execution_count": 187
        },
        {
          "output_type": "display_data",
          "data": {
            "text/plain": [
              "<Figure size 864x864 with 1 Axes>"
            ],
            "image/png": "[encoded data removed]"
          },
          "metadata": {
            "needs_background": "light"
          }
        }
      ],
      "source": [
        "# Set up a grid of plots\n",
        "fig = plt.figure(figsize=fizsize_with_subplots) \n",
        "fig_dims = (3, 2)\n",
        "\n",
        "# Plot fraus and nonfraud counts\n",
        "plt.subplot2grid(fig_dims, (0, 0))\n",
        "df['FRAUD_NONFRAUD'].value_counts().plot(kind='bar', \n",
        "                                         title='Fraud and NonFraud Counts')\n",
        "\n",
        "# Plot type of device used for transaction counts\n",
        "plt.subplot2grid(fig_dims, (0, 1))\n",
        "df['DVC_TYPE_TXT'].value_counts().plot(kind='bar', \n",
        "                                       title='Type of device used to initiate a transaction counts')\n",
        "\n",
        "# Plot primary authentication counts\n",
        "plt.subplot2grid(fig_dims, (1, 0))\n",
        "df['AUTHC_PRIM_TYPE_CD'].value_counts().plot(kind='bar', \n",
        "                                    title='Authentication Primary Type Code Counts')\n",
        "plt.xticks(rotation=0)\n",
        "\n",
        "# Plot secondary authentication counts\n",
        "plt.subplot2grid(fig_dims, (1, 1))\n",
        "df['AUTHC_SCNDRY_STAT_TXT'].value_counts().plot(kind='bar', \n",
        "                                        title='Authentication Secondary Type Code Counts')\n",
        "\n",
        "# Plot alert counts\n",
        "plt.subplot2grid(fig_dims, (1, 1))\n",
        "df['ALERT_TRGR_CD'].value_counts().plot(kind='bar', \n",
        "                                        title='Alert triggered Counts')\n",
        "\n",
        "# Plot the transaction ammount histogram\n",
        "plt.subplot2grid(fig_dims, (2, 0))\n",
        "df['TRAN_AMT'].hist()\n",
        "plt.title('TRAN_AMT Histogram')"
      ]
    },
    {
      "cell_type": "markdown",
      "metadata": {
        "id": "SkhEIt4Ehqlz"
      },
      "source": [
        "**Feature 1 : CUST_AGE**"
      ]
    },
    {
      "cell_type": "markdown",
      "metadata": {
        "id": "Ks-Zb9vqhqlz"
      },
      "source": [
        "CUST_AGE can be diveded into two chunks: 1st chunk = vulnerable adults (60 and above) and 2nd chunk = dependent adults (18-60)"
      ]
    },
    {
      "cell_type": "code",
      "execution_count": null,
      "metadata": {
        "id": "usnv4B8ihql0"
      },
      "outputs": [],
      "source": [
        "pd.options.mode.chained_assignment = None \n",
        "\n",
        "df.loc[df['CUST_AGE'] >= 60, 'CUST_AGE_NEW'] = 'vuln_adult'\n",
        "df.loc[df['CUST_AGE'] < 60, 'CUST_AGE_NEW'] = 'dep_adult'"
      ]
    },
    {
      "cell_type": "code",
      "execution_count": null,
      "metadata": {
        "colab": {
          "base_uri": "https://localhost:8080/",
          "height": 143
        },
        "id": "frE4qQ_mhql0",
        "outputId": "5cbf8362-dca8-42a8-ef05-300b786d057d"
      },
      "outputs": [
        {
          "output_type": "execute_result",
          "data": {
            "text/plain": [
              "FRAUD_NONFRAUD  Fraud  Non-Fraud\n",
              "CUST_AGE_NEW                    \n",
              "dep_adult        2032       4927\n",
              "vuln_adult       2076       4844"
            ],
            "text/html": [
              "\n",
              "  <div id=\"df-13aabcbf-c460-4012-8f44-20e0f4100ebe\">\n",
              "    <div class=\"colab-df-container\">\n",
              "      <div>\n",
              "<style scoped>\n",
              "    .dataframe tbody tr th:only-of-type {\n",
              "        vertical-align: middle;\n",
              "    }\n",
              "\n",
              "    .dataframe tbody tr th {\n",
              "        vertical-align: top;\n",
              "    }\n",
              "\n",
              "    .dataframe thead th {\n",
              "        text-align: right;\n",
              "    }\n",
              "</style>\n",
              "<table border=\"1\" class=\"dataframe\">\n",
              "  <thead>\n",
              "    <tr style=\"text-align: right;\">\n",
              "      <th>FRAUD_NONFRAUD</th>\n",
              "      <th>Fraud</th>\n",
              "      <th>Non-Fraud</th>\n",
              "    </tr>\n",
              "    <tr>\n",
              "      <th>CUST_AGE_NEW</th>\n",
              "      <th></th>\n",
              "      <th></th>\n",
              "    </tr>\n",
              "  </thead>\n",
              "  <tbody>\n",
              "    <tr>\n",
              "      <th>dep_adult</th>\n",
              "      <td>2032</td>\n",
              "      <td>4927</td>\n",
              "    </tr>\n",
              "    <tr>\n",
              "      <th>vuln_adult</th>\n",
              "      <td>2076</td>\n",
              "      <td>4844</td>\n",
              "    </tr>\n",
              "  </tbody>\n",
              "</table>\n",
              "</div>\n",
              "      <button class=\"colab-df-convert\" onclick=\"convertToInteractive('df-13aabcbf-c460-4012-8f44-20e0f4100ebe')\"\n",
              "              title=\"Convert this dataframe to an interactive table.\"\n",
              "              style=\"display:none;\">\n",
              "        \n",
              "  <svg xmlns=\"http://www.w3.org/2000/svg\" height=\"24px\"viewBox=\"0 0 24 24\"\n",
              "       width=\"24px\">\n",
              "    <path d=\"M0 0h24v24H0V0z\" fill=\"none\"/>\n",
              "    <path d=\"M18.56 5.44l.94 2.06.94-2.06 2.06-.94-2.06-.94-.94-2.06-.94 2.06-2.06.94zm-11 1L8.5 8.5l.94-2.06 2.06-.94-2.06-.94L8.5 2.5l-.94 2.06-2.06.94zm10 10l.94 2.06.94-2.06 2.06-.94-2.06-.94-.94-2.06-.94 2.06-2.06.94z\"/><path d=\"M17.41 7.96l-1.37-1.37c-.4-.4-.92-.59-1.43-.59-.52 0-1.04.2-1.43.59L10.3 9.45l-7.72 7.72c-.78.78-.78 2.05 0 2.83L4 21.41c.39.39.9.59 1.41.59.51 0 1.02-.2 1.41-.59l7.78-7.78 2.81-2.81c.8-.78.8-2.07 0-2.86zM5.41 20L4 18.59l7.72-7.72 1.47 1.35L5.41 20z\"/>\n",
              "  </svg>\n",
              "      </button>\n",
              "      \n",
              "  <style>\n",
              "    .colab-df-container {\n",
              "      display:flex;\n",
              "      flex-wrap:wrap;\n",
              "      gap: 12px;\n",
              "    }\n",
              "\n",
              "    .colab-df-convert {\n",
              "      background-color: #E8F0FE;\n",
              "      border: none;\n",
              "      border-radius: 50%;\n",
              "      cursor: pointer;\n",
              "      display: none;\n",
              "      fill: #1967D2;\n",
              "      height: 32px;\n",
              "      padding: 0 0 0 0;\n",
              "      width: 32px;\n",
              "    }\n",
              "\n",
              "    .colab-df-convert:hover {\n",
              "      background-color: #E2EBFA;\n",
              "      box-shadow: 0px 1px 2px rgba(60, 64, 67, 0.3), 0px 1px 3px 1px rgba(60, 64, 67, 0.15);\n",
              "      fill: #174EA6;\n",
              "    }\n",
              "\n",
              "    [theme=dark] .colab-df-convert {\n",
              "      background-color: #3B4455;\n",
              "      fill: #D2E3FC;\n",
              "    }\n",
              "\n",
              "    [theme=dark] .colab-df-convert:hover {\n",
              "      background-color: #434B5C;\n",
              "      box-shadow: 0px 1px 3px 1px rgba(0, 0, 0, 0.15);\n",
              "      filter: drop-shadow(0px 1px 2px rgba(0, 0, 0, 0.3));\n",
              "      fill: #FFFFFF;\n",
              "    }\n",
              "  </style>\n",
              "\n",
              "      <script>\n",
              "        const buttonEl =\n",
              "          document.querySelector('#df-13aabcbf-c460-4012-8f44-20e0f4100ebe button.colab-df-convert');\n",
              "        buttonEl.style.display =\n",
              "          google.colab.kernel.accessAllowed ? 'block' : 'none';\n",
              "\n",
              "        async function convertToInteractive(key) {\n",
              "          const element = document.querySelector('#df-13aabcbf-c460-4012-8f44-20e0f4100ebe');\n",
              "          const dataTable =\n",
              "            await google.colab.kernel.invokeFunction('convertToInteractive',\n",
              "                                                     [key], {});\n",
              "          if (!dataTable) return;\n",
              "\n",
              "          const docLinkHtml = 'Like what you see? Visit the ' +\n",
              "            '<a target=\"_blank\" href=https://colab.research.google.com/notebooks/data_table.ipynb>data table notebook</a>'\n",
              "            + ' to learn more about interactive tables.';\n",
              "          element.innerHTML = '';\n",
              "          dataTable['output_type'] = 'display_data';\n",
              "          await google.colab.output.renderOutput(dataTable, element);\n",
              "          const docLink = document.createElement('div');\n",
              "          docLink.innerHTML = docLinkHtml;\n",
              "          element.appendChild(docLink);\n",
              "        }\n",
              "      </script>\n",
              "    </div>\n",
              "  </div>\n",
              "  "
            ]
          },
          "metadata": {},
          "execution_count": 26
        }
      ],
      "source": [
        "ageclass_xt = pd.crosstab(df['CUST_AGE_NEW'], df['FRAUD_NONFRAUD'])\n",
        "ageclass_xt"
      ]
    },
    {
      "cell_type": "code",
      "execution_count": null,
      "metadata": {
        "colab": {
          "base_uri": "https://localhost:8080/",
          "height": 463
        },
        "id": "_lvKwLrVhql0",
        "outputId": "50253a2c-05b2-4ae2-e8db-fd1672263297"
      },
      "outputs": [
        {
          "output_type": "execute_result",
          "data": {
            "text/plain": [
              "Text(0, 0.5, 'Fraud Rate')"
            ]
          },
          "metadata": {},
          "execution_count": 27
        },
        {
          "output_type": "display_data",
          "data": {
            "text/plain": [
              "<Figure size 864x432 with 1 Axes>"
            ],
            "image/png": "[encoded data removed]"
          },
          "metadata": {
            "needs_background": "light"
          }
        }
      ],
      "source": [
        "# Normalize the cross tab to sum to 1:\n",
        "ageclass_xt_pct = ageclass_xt.div(ageclass_xt.sum(1).astype(float), axis=0)\n",
        "\n",
        "ageclass_xt_pct.plot(kind='bar', \n",
        "                   stacked=True, \n",
        "                   title='Fraud by Age Groups')\n",
        "plt.xlabel('Age Group Class')\n",
        "plt.ylabel('Fraud Rate')"
      ]
    },
    {
      "cell_type": "markdown",
      "metadata": {
        "id": "BxgYM1cRhql1"
      },
      "source": [
        "We see that the rate of Fraud is almost the same in both the classes vulnerable adults (60 and above) and dependent adults (18-60)."
      ]
    },
    {
      "cell_type": "markdown",
      "metadata": {
        "id": "pfpahXIZhql1"
      },
      "source": [
        "**Feature 2 : ALERT_TRGR_CD**"
      ]
    },
    {
      "cell_type": "markdown",
      "metadata": {
        "id": "z09VmSsihql1"
      },
      "source": [
        "Feature : ALERT_TRGR_CD represents Code refers to the trigger of an alert. This column has no missing data."
      ]
    },
    {
      "cell_type": "code",
      "execution_count": null,
      "metadata": {
        "colab": {
          "base_uri": "https://localhost:8080/",
          "height": 143
        },
        "id": "cDw0pwDlhql1",
        "outputId": "67ea3234-626d-44b2-db75-a70c17a06e1c"
      },
      "outputs": [
        {
          "output_type": "execute_result",
          "data": {
            "text/plain": [
              "FRAUD_NONFRAUD  Fraud  Non-Fraud\n",
              "ALERT_TRGR_CD                   \n",
              "MOBL             1575       5484\n",
              "ONLN             2533       4287"
            ],
            "text/html": [
              "\n",
              "  <div id=\"df-f0a2f197-6e18-484d-9376-b02c63a9a2d0\">\n",
              "    <div class=\"colab-df-container\">\n",
              "      <div>\n",
              "<style scoped>\n",
              "    .dataframe tbody tr th:only-of-type {\n",
              "        vertical-align: middle;\n",
              "    }\n",
              "\n",
              "    .dataframe tbody tr th {\n",
              "        vertical-align: top;\n",
              "    }\n",
              "\n",
              "    .dataframe thead th {\n",
              "        text-align: right;\n",
              "    }\n",
              "</style>\n",
              "<table border=\"1\" class=\"dataframe\">\n",
              "  <thead>\n",
              "    <tr style=\"text-align: right;\">\n",
              "      <th>FRAUD_NONFRAUD</th>\n",
              "      <th>Fraud</th>\n",
              "      <th>Non-Fraud</th>\n",
              "    </tr>\n",
              "    <tr>\n",
              "      <th>ALERT_TRGR_CD</th>\n",
              "      <th></th>\n",
              "      <th></th>\n",
              "    </tr>\n",
              "  </thead>\n",
              "  <tbody>\n",
              "    <tr>\n",
              "      <th>MOBL</th>\n",
              "      <td>1575</td>\n",
              "      <td>5484</td>\n",
              "    </tr>\n",
              "    <tr>\n",
              "      <th>ONLN</th>\n",
              "      <td>2533</td>\n",
              "      <td>4287</td>\n",
              "    </tr>\n",
              "  </tbody>\n",
              "</table>\n",
              "</div>\n",
              "      <button class=\"colab-df-convert\" onclick=\"convertToInteractive('df-f0a2f197-6e18-484d-9376-b02c63a9a2d0')\"\n",
              "              title=\"Convert this dataframe to an interactive table.\"\n",
              "              style=\"display:none;\">\n",
              "        \n",
              "  <svg xmlns=\"http://www.w3.org/2000/svg\" height=\"24px\"viewBox=\"0 0 24 24\"\n",
              "       width=\"24px\">\n",
              "    <path d=\"M0 0h24v24H0V0z\" fill=\"none\"/>\n",
              "    <path d=\"M18.56 5.44l.94 2.06.94-2.06 2.06-.94-2.06-.94-.94-2.06-.94 2.06-2.06.94zm-11 1L8.5 8.5l.94-2.06 2.06-.94-2.06-.94L8.5 2.5l-.94 2.06-2.06.94zm10 10l.94 2.06.94-2.06 2.06-.94-2.06-.94-.94-2.06-.94 2.06-2.06.94z\"/><path d=\"M17.41 7.96l-1.37-1.37c-.4-.4-.92-.59-1.43-.59-.52 0-1.04.2-1.43.59L10.3 9.45l-7.72 7.72c-.78.78-.78 2.05 0 2.83L4 21.41c.39.39.9.59 1.41.59.51 0 1.02-.2 1.41-.59l7.78-7.78 2.81-2.81c.8-.78.8-2.07 0-2.86zM5.41 20L4 18.59l7.72-7.72 1.47 1.35L5.41 20z\"/>\n",
              "  </svg>\n",
              "      </button>\n",
              "      \n",
              "  <style>\n",
              "    .colab-df-container {\n",
              "      display:flex;\n",
              "      flex-wrap:wrap;\n",
              "      gap: 12px;\n",
              "    }\n",
              "\n",
              "    .colab-df-convert {\n",
              "      background-color: #E8F0FE;\n",
              "      border: none;\n",
              "      border-radius: 50%;\n",
              "      cursor: pointer;\n",
              "      display: none;\n",
              "      fill: #1967D2;\n",
              "      height: 32px;\n",
              "      padding: 0 0 0 0;\n",
              "      width: 32px;\n",
              "    }\n",
              "\n",
              "    .colab-df-convert:hover {\n",
              "      background-color: #E2EBFA;\n",
              "      box-shadow: 0px 1px 2px rgba(60, 64, 67, 0.3), 0px 1px 3px 1px rgba(60, 64, 67, 0.15);\n",
              "      fill: #174EA6;\n",
              "    }\n",
              "\n",
              "    [theme=dark] .colab-df-convert {\n",
              "      background-color: #3B4455;\n",
              "      fill: #D2E3FC;\n",
              "    }\n",
              "\n",
              "    [theme=dark] .colab-df-convert:hover {\n",
              "      background-color: #434B5C;\n",
              "      box-shadow: 0px 1px 3px 1px rgba(0, 0, 0, 0.15);\n",
              "      filter: drop-shadow(0px 1px 2px rgba(0, 0, 0, 0.3));\n",
              "      fill: #FFFFFF;\n",
              "    }\n",
              "  </style>\n",
              "\n",
              "      <script>\n",
              "        const buttonEl =\n",
              "          document.querySelector('#df-f0a2f197-6e18-484d-9376-b02c63a9a2d0 button.colab-df-convert');\n",
              "        buttonEl.style.display =\n",
              "          google.colab.kernel.accessAllowed ? 'block' : 'none';\n",
              "\n",
              "        async function convertToInteractive(key) {\n",
              "          const element = document.querySelector('#df-f0a2f197-6e18-484d-9376-b02c63a9a2d0');\n",
              "          const dataTable =\n",
              "            await google.colab.kernel.invokeFunction('convertToInteractive',\n",
              "                                                     [key], {});\n",
              "          if (!dataTable) return;\n",
              "\n",
              "          const docLinkHtml = 'Like what you see? Visit the ' +\n",
              "            '<a target=\"_blank\" href=https://colab.research.google.com/notebooks/data_table.ipynb>data table notebook</a>'\n",
              "            + ' to learn more about interactive tables.';\n",
              "          element.innerHTML = '';\n",
              "          dataTable['output_type'] = 'display_data';\n",
              "          await google.colab.output.renderOutput(dataTable, element);\n",
              "          const docLink = document.createElement('div');\n",
              "          docLink.innerHTML = docLinkHtml;\n",
              "          element.appendChild(docLink);\n",
              "        }\n",
              "      </script>\n",
              "    </div>\n",
              "  </div>\n",
              "  "
            ]
          },
          "metadata": {},
          "execution_count": 28
        }
      ],
      "source": [
        "alert_xt = pd.crosstab(df['ALERT_TRGR_CD'], df['FRAUD_NONFRAUD'])\n",
        "alert_xt"
      ]
    },
    {
      "cell_type": "code",
      "execution_count": null,
      "metadata": {
        "colab": {
          "base_uri": "https://localhost:8080/",
          "height": 441
        },
        "id": "9ez7-PQqhql1",
        "outputId": "2b4df37d-9467-47aa-82ea-6529514ca592"
      },
      "outputs": [
        {
          "output_type": "execute_result",
          "data": {
            "text/plain": [
              "<matplotlib.axes._subplots.AxesSubplot at 0x7efe797c9290>"
            ]
          },
          "metadata": {},
          "execution_count": 29
        },
        {
          "output_type": "display_data",
          "data": {
            "text/plain": [
              "<Figure size 864x432 with 1 Axes>"
            ],
            "image/png": "[encoded data removed]"
          },
          "metadata": {
            "needs_background": "light"
          }
        }
      ],
      "source": [
        "alert_xt_pct = alert_xt.div(alert_xt.sum(1).astype(float), axis=0)\n",
        "alert_xt_pct.plot(kind='bar', stacked=True, title='Fraud Rate by trigger of an alert')"
      ]
    },
    {
      "cell_type": "markdown",
      "metadata": {
        "id": "2NQOse5vhql2"
      },
      "source": [
        "Trigger alert code ONLN has more Fraud rate as compared to MOBL. "
      ]
    },
    {
      "cell_type": "markdown",
      "metadata": {
        "id": "Ef39RGKWhql2"
      },
      "source": [
        "**Feature 3: DVC_TYPE_TXT**"
      ]
    },
    {
      "cell_type": "markdown",
      "metadata": {
        "id": "t_MU1JYThql2"
      },
      "source": [
        "Feature: DVC_TYPE_TXT represents Type of device used to initiate a transaction. This column has 1741 missing values."
      ]
    },
    {
      "cell_type": "code",
      "execution_count": null,
      "metadata": {
        "colab": {
          "base_uri": "https://localhost:8080/",
          "height": 206
        },
        "id": "CBYdoytGhql2",
        "outputId": "86d3acd2-89ca-42bf-c560-af92d5933e31"
      },
      "outputs": [
        {
          "output_type": "execute_result",
          "data": {
            "text/plain": [
              "FRAUD_NONFRAUD  Fraud  Non-Fraud\n",
              "DVC_TYPE_TXT                    \n",
              "DESKTOP          1468       1491\n",
              "MOBILE           1560       7169\n",
              "PHONE              68        149\n",
              "TABLET             77        156"
            ],
            "text/html": [
              "\n",
              "  <div id=\"df-136900ca-afe9-49da-9dce-d6fe77ee1010\">\n",
              "    <div class=\"colab-df-container\">\n",
              "      <div>\n",
              "<style scoped>\n",
              "    .dataframe tbody tr th:only-of-type {\n",
              "        vertical-align: middle;\n",
              "    }\n",
              "\n",
              "    .dataframe tbody tr th {\n",
              "        vertical-align: top;\n",
              "    }\n",
              "\n",
              "    .dataframe thead th {\n",
              "        text-align: right;\n",
              "    }\n",
              "</style>\n",
              "<table border=\"1\" class=\"dataframe\">\n",
              "  <thead>\n",
              "    <tr style=\"text-align: right;\">\n",
              "      <th>FRAUD_NONFRAUD</th>\n",
              "      <th>Fraud</th>\n",
              "      <th>Non-Fraud</th>\n",
              "    </tr>\n",
              "    <tr>\n",
              "      <th>DVC_TYPE_TXT</th>\n",
              "      <th></th>\n",
              "      <th></th>\n",
              "    </tr>\n",
              "  </thead>\n",
              "  <tbody>\n",
              "    <tr>\n",
              "      <th>DESKTOP</th>\n",
              "      <td>1468</td>\n",
              "      <td>1491</td>\n",
              "    </tr>\n",
              "    <tr>\n",
              "      <th>MOBILE</th>\n",
              "      <td>1560</td>\n",
              "      <td>7169</td>\n",
              "    </tr>\n",
              "    <tr>\n",
              "      <th>PHONE</th>\n",
              "      <td>68</td>\n",
              "      <td>149</td>\n",
              "    </tr>\n",
              "    <tr>\n",
              "      <th>TABLET</th>\n",
              "      <td>77</td>\n",
              "      <td>156</td>\n",
              "    </tr>\n",
              "  </tbody>\n",
              "</table>\n",
              "</div>\n",
              "      <button class=\"colab-df-convert\" onclick=\"convertToInteractive('df-136900ca-afe9-49da-9dce-d6fe77ee1010')\"\n",
              "              title=\"Convert this dataframe to an interactive table.\"\n",
              "              style=\"display:none;\">\n",
              "        \n",
              "  <svg xmlns=\"http://www.w3.org/2000/svg\" height=\"24px\"viewBox=\"0 0 24 24\"\n",
              "       width=\"24px\">\n",
              "    <path d=\"M0 0h24v24H0V0z\" fill=\"none\"/>\n",
              "    <path d=\"M18.56 5.44l.94 2.06.94-2.06 2.06-.94-2.06-.94-.94-2.06-.94 2.06-2.06.94zm-11 1L8.5 8.5l.94-2.06 2.06-.94-2.06-.94L8.5 2.5l-.94 2.06-2.06.94zm10 10l.94 2.06.94-2.06 2.06-.94-2.06-.94-.94-2.06-.94 2.06-2.06.94z\"/><path d=\"M17.41 7.96l-1.37-1.37c-.4-.4-.92-.59-1.43-.59-.52 0-1.04.2-1.43.59L10.3 9.45l-7.72 7.72c-.78.78-.78 2.05 0 2.83L4 21.41c.39.39.9.59 1.41.59.51 0 1.02-.2 1.41-.59l7.78-7.78 2.81-2.81c.8-.78.8-2.07 0-2.86zM5.41 20L4 18.59l7.72-7.72 1.47 1.35L5.41 20z\"/>\n",
              "  </svg>\n",
              "      </button>\n",
              "      \n",
              "  <style>\n",
              "    .colab-df-container {\n",
              "      display:flex;\n",
              "      flex-wrap:wrap;\n",
              "      gap: 12px;\n",
              "    }\n",
              "\n",
              "    .colab-df-convert {\n",
              "      background-color: #E8F0FE;\n",
              "      border: none;\n",
              "      border-radius: 50%;\n",
              "      cursor: pointer;\n",
              "      display: none;\n",
              "      fill: #1967D2;\n",
              "      height: 32px;\n",
              "      padding: 0 0 0 0;\n",
              "      width: 32px;\n",
              "    }\n",
              "\n",
              "    .colab-df-convert:hover {\n",
              "      background-color: #E2EBFA;\n",
              "      box-shadow: 0px 1px 2px rgba(60, 64, 67, 0.3), 0px 1px 3px 1px rgba(60, 64, 67, 0.15);\n",
              "      fill: #174EA6;\n",
              "    }\n",
              "\n",
              "    [theme=dark] .colab-df-convert {\n",
              "      background-color: #3B4455;\n",
              "      fill: #D2E3FC;\n",
              "    }\n",
              "\n",
              "    [theme=dark] .colab-df-convert:hover {\n",
              "      background-color: #434B5C;\n",
              "      box-shadow: 0px 1px 3px 1px rgba(0, 0, 0, 0.15);\n",
              "      filter: drop-shadow(0px 1px 2px rgba(0, 0, 0, 0.3));\n",
              "      fill: #FFFFFF;\n",
              "    }\n",
              "  </style>\n",
              "\n",
              "      <script>\n",
              "        const buttonEl =\n",
              "          document.querySelector('#df-136900ca-afe9-49da-9dce-d6fe77ee1010 button.colab-df-convert');\n",
              "        buttonEl.style.display =\n",
              "          google.colab.kernel.accessAllowed ? 'block' : 'none';\n",
              "\n",
              "        async function convertToInteractive(key) {\n",
              "          const element = document.querySelector('#df-136900ca-afe9-49da-9dce-d6fe77ee1010');\n",
              "          const dataTable =\n",
              "            await google.colab.kernel.invokeFunction('convertToInteractive',\n",
              "                                                     [key], {});\n",
              "          if (!dataTable) return;\n",
              "\n",
              "          const docLinkHtml = 'Like what you see? Visit the ' +\n",
              "            '<a target=\"_blank\" href=https://colab.research.google.com/notebooks/data_table.ipynb>data table notebook</a>'\n",
              "            + ' to learn more about interactive tables.';\n",
              "          element.innerHTML = '';\n",
              "          dataTable['output_type'] = 'display_data';\n",
              "          await google.colab.output.renderOutput(dataTable, element);\n",
              "          const docLink = document.createElement('div');\n",
              "          docLink.innerHTML = docLinkHtml;\n",
              "          element.appendChild(docLink);\n",
              "        }\n",
              "      </script>\n",
              "    </div>\n",
              "  </div>\n",
              "  "
            ]
          },
          "metadata": {},
          "execution_count": 30
        }
      ],
      "source": [
        "DVC_TYPE_xt = pd.crosstab(df['DVC_TYPE_TXT'], df['FRAUD_NONFRAUD'])\n",
        "DVC_TYPE_xt"
      ]
    },
    {
      "cell_type": "code",
      "execution_count": null,
      "metadata": {
        "colab": {
          "base_uri": "https://localhost:8080/",
          "height": 458
        },
        "id": "ic59mtsfhql2",
        "outputId": "c539710b-4a9f-4348-eab8-660e101ca00d"
      },
      "outputs": [
        {
          "output_type": "execute_result",
          "data": {
            "text/plain": [
              "<matplotlib.axes._subplots.AxesSubplot at 0x7efe7975a6d0>"
            ]
          },
          "metadata": {},
          "execution_count": 31
        },
        {
          "output_type": "display_data",
          "data": {
            "text/plain": [
              "<Figure size 864x432 with 1 Axes>"
            ],
            "image/png": "[encoded data removed]"
          },
          "metadata": {
            "needs_background": "light"
          }
        }
      ],
      "source": [
        "DVC_TYPE_pct = DVC_TYPE_xt.div(DVC_TYPE_xt.sum(1).astype(float), axis=0)\n",
        "DVC_TYPE_pct.plot(kind='bar', stacked=True, title='Fraud Rate by device used for transaction')"
      ]
    },
    {
      "cell_type": "markdown",
      "metadata": {
        "id": "NarzgLQ_hql3"
      },
      "source": [
        "Clearly, DESKTOP is most frequently used for Fraudulent transactions followed by TABLET,PHONE and MOBILE."
      ]
    },
    {
      "cell_type": "markdown",
      "metadata": {
        "id": "i9fpCuBGhql3"
      },
      "source": [
        "**Feature 4: CUST_STATE**"
      ]
    },
    {
      "cell_type": "markdown",
      "metadata": {
        "id": "_I3PatHghql3"
      },
      "source": [
        "Feature: CUST_STATE represents the state in which the customer resides. This column has 36 missing values."
      ]
    },
    {
      "cell_type": "code",
      "execution_count": null,
      "metadata": {
        "id": "dpjioBQvhql3"
      },
      "outputs": [],
      "source": [
        "CUST_STATE_xt = pd.crosstab(df['CUST_STATE'], df['FRAUD_NONFRAUD'])"
      ]
    },
    {
      "cell_type": "code",
      "execution_count": null,
      "metadata": {
        "colab": {
          "base_uri": "https://localhost:8080/",
          "height": 429
        },
        "id": "kAc1D9yOhql3",
        "outputId": "c3573b52-2102-4d2d-dfcf-e2e68894325c"
      },
      "outputs": [
        {
          "output_type": "execute_result",
          "data": {
            "text/plain": [
              "<matplotlib.axes._subplots.AxesSubplot at 0x7efe79d345d0>"
            ]
          },
          "metadata": {},
          "execution_count": 33
        },
        {
          "output_type": "display_data",
          "data": {
            "text/plain": [
              "<Figure size 864x432 with 1 Axes>"
            ],
            "image/png": "[encoded data removed]"
          },
          "metadata": {
            "needs_background": "light"
          }
        }
      ],
      "source": [
        "CUST_STATE_pct = CUST_STATE_xt.div(CUST_STATE_xt.sum(1).astype(float), axis=0)\n",
        "CUST_STATE_pct.plot(kind='bar', stacked=True, title='Fraud Rate by customer states')"
      ]
    },
    {
      "cell_type": "markdown",
      "metadata": {
        "id": "H2S9_BmThql3"
      },
      "source": [
        "Customers from MS i.e. Massachusetts state seems to have maximum Frauds while GU i.e. GUAM has the least."
      ]
    },
    {
      "cell_type": "markdown",
      "metadata": {
        "id": "KiutqxPuhql4"
      },
      "source": [
        "**Feature 5: AUTHC_PRIM_TYPE_CD**"
      ]
    },
    {
      "cell_type": "markdown",
      "metadata": {
        "id": "6ZVssyUQhql4"
      },
      "source": [
        "Feature : AUTHC_PRIM_TYPE_CD represents the primary Authentication method that is used. "
      ]
    },
    {
      "cell_type": "code",
      "execution_count": null,
      "metadata": {
        "colab": {
          "base_uri": "https://localhost:8080/",
          "height": 238
        },
        "id": "q7JxPZ-9hql4",
        "outputId": "ddf2c633-0641-4944-aa17-f5ca9cd04986"
      },
      "outputs": [
        {
          "output_type": "execute_result",
          "data": {
            "text/plain": [
              "FRAUD_NONFRAUD      Fraud  Non-Fraud\n",
              "AUTHC_PRIM_TYPE_CD                  \n",
              "AFA_BM                  0         89\n",
              "AFA_PL                114        598\n",
              "FACE_ID               510       1418\n",
              "TOUCH_ID              151        538\n",
              "UN_PWD               3333       7128"
            ],
            "text/html": [
              "\n",
              "  <div id=\"df-2f11cadc-7a1d-47d3-b800-5b8ced4a280a\">\n",
              "    <div class=\"colab-df-container\">\n",
              "      <div>\n",
              "<style scoped>\n",
              "    .dataframe tbody tr th:only-of-type {\n",
              "        vertical-align: middle;\n",
              "    }\n",
              "\n",
              "    .dataframe tbody tr th {\n",
              "        vertical-align: top;\n",
              "    }\n",
              "\n",
              "    .dataframe thead th {\n",
              "        text-align: right;\n",
              "    }\n",
              "</style>\n",
              "<table border=\"1\" class=\"dataframe\">\n",
              "  <thead>\n",
              "    <tr style=\"text-align: right;\">\n",
              "      <th>FRAUD_NONFRAUD</th>\n",
              "      <th>Fraud</th>\n",
              "      <th>Non-Fraud</th>\n",
              "    </tr>\n",
              "    <tr>\n",
              "      <th>AUTHC_PRIM_TYPE_CD</th>\n",
              "      <th></th>\n",
              "      <th></th>\n",
              "    </tr>\n",
              "  </thead>\n",
              "  <tbody>\n",
              "    <tr>\n",
              "      <th>AFA_BM</th>\n",
              "      <td>0</td>\n",
              "      <td>89</td>\n",
              "    </tr>\n",
              "    <tr>\n",
              "      <th>AFA_PL</th>\n",
              "      <td>114</td>\n",
              "      <td>598</td>\n",
              "    </tr>\n",
              "    <tr>\n",
              "      <th>FACE_ID</th>\n",
              "      <td>510</td>\n",
              "      <td>1418</td>\n",
              "    </tr>\n",
              "    <tr>\n",
              "      <th>TOUCH_ID</th>\n",
              "      <td>151</td>\n",
              "      <td>538</td>\n",
              "    </tr>\n",
              "    <tr>\n",
              "      <th>UN_PWD</th>\n",
              "      <td>3333</td>\n",
              "      <td>7128</td>\n",
              "    </tr>\n",
              "  </tbody>\n",
              "</table>\n",
              "</div>\n",
              "      <button class=\"colab-df-convert\" onclick=\"convertToInteractive('df-2f11cadc-7a1d-47d3-b800-5b8ced4a280a')\"\n",
              "              title=\"Convert this dataframe to an interactive table.\"\n",
              "              style=\"display:none;\">\n",
              "        \n",
              "  <svg xmlns=\"http://www.w3.org/2000/svg\" height=\"24px\"viewBox=\"0 0 24 24\"\n",
              "       width=\"24px\">\n",
              "    <path d=\"M0 0h24v24H0V0z\" fill=\"none\"/>\n",
              "    <path d=\"M18.56 5.44l.94 2.06.94-2.06 2.06-.94-2.06-.94-.94-2.06-.94 2.06-2.06.94zm-11 1L8.5 8.5l.94-2.06 2.06-.94-2.06-.94L8.5 2.5l-.94 2.06-2.06.94zm10 10l.94 2.06.94-2.06 2.06-.94-2.06-.94-.94-2.06-.94 2.06-2.06.94z\"/><path d=\"M17.41 7.96l-1.37-1.37c-.4-.4-.92-.59-1.43-.59-.52 0-1.04.2-1.43.59L10.3 9.45l-7.72 7.72c-.78.78-.78 2.05 0 2.83L4 21.41c.39.39.9.59 1.41.59.51 0 1.02-.2 1.41-.59l7.78-7.78 2.81-2.81c.8-.78.8-2.07 0-2.86zM5.41 20L4 18.59l7.72-7.72 1.47 1.35L5.41 20z\"/>\n",
              "  </svg>\n",
              "      </button>\n",
              "      \n",
              "  <style>\n",
              "    .colab-df-container {\n",
              "      display:flex;\n",
              "      flex-wrap:wrap;\n",
              "      gap: 12px;\n",
              "    }\n",
              "\n",
              "    .colab-df-convert {\n",
              "      background-color: #E8F0FE;\n",
              "      border: none;\n",
              "      border-radius: 50%;\n",
              "      cursor: pointer;\n",
              "      display: none;\n",
              "      fill: #1967D2;\n",
              "      height: 32px;\n",
              "      padding: 0 0 0 0;\n",
              "      width: 32px;\n",
              "    }\n",
              "\n",
              "    .colab-df-convert:hover {\n",
              "      background-color: #E2EBFA;\n",
              "      box-shadow: 0px 1px 2px rgba(60, 64, 67, 0.3), 0px 1px 3px 1px rgba(60, 64, 67, 0.15);\n",
              "      fill: #174EA6;\n",
              "    }\n",
              "\n",
              "    [theme=dark] .colab-df-convert {\n",
              "      background-color: #3B4455;\n",
              "      fill: #D2E3FC;\n",
              "    }\n",
              "\n",
              "    [theme=dark] .colab-df-convert:hover {\n",
              "      background-color: #434B5C;\n",
              "      box-shadow: 0px 1px 3px 1px rgba(0, 0, 0, 0.15);\n",
              "      filter: drop-shadow(0px 1px 2px rgba(0, 0, 0, 0.3));\n",
              "      fill: #FFFFFF;\n",
              "    }\n",
              "  </style>\n",
              "\n",
              "      <script>\n",
              "        const buttonEl =\n",
              "          document.querySelector('#df-2f11cadc-7a1d-47d3-b800-5b8ced4a280a button.colab-df-convert');\n",
              "        buttonEl.style.display =\n",
              "          google.colab.kernel.accessAllowed ? 'block' : 'none';\n",
              "\n",
              "        async function convertToInteractive(key) {\n",
              "          const element = document.querySelector('#df-2f11cadc-7a1d-47d3-b800-5b8ced4a280a');\n",
              "          const dataTable =\n",
              "            await google.colab.kernel.invokeFunction('convertToInteractive',\n",
              "                                                     [key], {});\n",
              "          if (!dataTable) return;\n",
              "\n",
              "          const docLinkHtml = 'Like what you see? Visit the ' +\n",
              "            '<a target=\"_blank\" href=https://colab.research.google.com/notebooks/data_table.ipynb>data table notebook</a>'\n",
              "            + ' to learn more about interactive tables.';\n",
              "          element.innerHTML = '';\n",
              "          dataTable['output_type'] = 'display_data';\n",
              "          await google.colab.output.renderOutput(dataTable, element);\n",
              "          const docLink = document.createElement('div');\n",
              "          docLink.innerHTML = docLinkHtml;\n",
              "          element.appendChild(docLink);\n",
              "        }\n",
              "      </script>\n",
              "    </div>\n",
              "  </div>\n",
              "  "
            ]
          },
          "metadata": {},
          "execution_count": 34
        }
      ],
      "source": [
        "AUTHC_PRIM_xt = pd.crosstab(df['AUTHC_PRIM_TYPE_CD'], df['FRAUD_NONFRAUD'])\n",
        "AUTHC_PRIM_xt"
      ]
    },
    {
      "cell_type": "code",
      "execution_count": null,
      "metadata": {
        "colab": {
          "base_uri": "https://localhost:8080/",
          "height": 463
        },
        "id": "DWpm4Fkrhql4",
        "outputId": "1b6aa33d-01f9-45b7-f2a7-8c1c0232990c"
      },
      "outputs": [
        {
          "output_type": "execute_result",
          "data": {
            "text/plain": [
              "<matplotlib.axes._subplots.AxesSubplot at 0x7efe7950a9d0>"
            ]
          },
          "metadata": {},
          "execution_count": 35
        },
        {
          "output_type": "display_data",
          "data": {
            "text/plain": [
              "<Figure size 864x432 with 1 Axes>"
            ],
            "image/png": "[encoded data removed]"
          },
          "metadata": {
            "needs_background": "light"
          }
        }
      ],
      "source": [
        "AUTHC_PRIM_pct = AUTHC_PRIM_xt.div(AUTHC_PRIM_xt.sum(1).astype(float), axis=0)\n",
        "AUTHC_PRIM_pct.plot(kind='bar', stacked=True, title='Fraud Rate by Primary Authentication Type')"
      ]
    },
    {
      "cell_type": "markdown",
      "metadata": {
        "id": "mdwZ0LiUhql4"
      },
      "source": [
        "UN_PWD i.e. Username/Password Authentication has the maximum Fraud rate while AFA_BM has the least."
      ]
    },
    {
      "cell_type": "markdown",
      "metadata": {
        "id": "kXqf6KCohql4"
      },
      "source": [
        "**Feature 6: AUTHC_SCNDRY_STAT_TXT**"
      ]
    },
    {
      "cell_type": "markdown",
      "metadata": {
        "id": "Ov2it0m4hql5"
      },
      "source": [
        "Feature : AUTHC_SCNDRY_STAT_TXT represents the secondary Authentication method that is used.This coulmn has 70 missing values."
      ]
    },
    {
      "cell_type": "code",
      "execution_count": null,
      "metadata": {
        "colab": {
          "base_uri": "https://localhost:8080/",
          "height": 175
        },
        "id": "T7FhGIL0hql5",
        "outputId": "5ea2ddbf-2dee-4aa9-de5e-acfacb338663"
      },
      "outputs": [
        {
          "output_type": "execute_result",
          "data": {
            "text/plain": [
              "FRAUD_NONFRAUD         Fraud  Non-Fraud\n",
              "AUTHC_SCNDRY_STAT_TXT                  \n",
              "ALLOW                   3796       9294\n",
              "CHALLENGE_ISSUED          31         53\n",
              "CHALLENGE_SUCCESS        281        354"
            ],
            "text/html": [
              "\n",
              "  <div id=\"df-8638508c-f48e-4c89-8b14-7a3d84679676\">\n",
              "    <div class=\"colab-df-container\">\n",
              "      <div>\n",
              "<style scoped>\n",
              "    .dataframe tbody tr th:only-of-type {\n",
              "        vertical-align: middle;\n",
              "    }\n",
              "\n",
              "    .dataframe tbody tr th {\n",
              "        vertical-align: top;\n",
              "    }\n",
              "\n",
              "    .dataframe thead th {\n",
              "        text-align: right;\n",
              "    }\n",
              "</style>\n",
              "<table border=\"1\" class=\"dataframe\">\n",
              "  <thead>\n",
              "    <tr style=\"text-align: right;\">\n",
              "      <th>FRAUD_NONFRAUD</th>\n",
              "      <th>Fraud</th>\n",
              "      <th>Non-Fraud</th>\n",
              "    </tr>\n",
              "    <tr>\n",
              "      <th>AUTHC_SCNDRY_STAT_TXT</th>\n",
              "      <th></th>\n",
              "      <th></th>\n",
              "    </tr>\n",
              "  </thead>\n",
              "  <tbody>\n",
              "    <tr>\n",
              "      <th>ALLOW</th>\n",
              "      <td>3796</td>\n",
              "      <td>9294</td>\n",
              "    </tr>\n",
              "    <tr>\n",
              "      <th>CHALLENGE_ISSUED</th>\n",
              "      <td>31</td>\n",
              "      <td>53</td>\n",
              "    </tr>\n",
              "    <tr>\n",
              "      <th>CHALLENGE_SUCCESS</th>\n",
              "      <td>281</td>\n",
              "      <td>354</td>\n",
              "    </tr>\n",
              "  </tbody>\n",
              "</table>\n",
              "</div>\n",
              "      <button class=\"colab-df-convert\" onclick=\"convertToInteractive('df-8638508c-f48e-4c89-8b14-7a3d84679676')\"\n",
              "              title=\"Convert this dataframe to an interactive table.\"\n",
              "              style=\"display:none;\">\n",
              "        \n",
              "  <svg xmlns=\"http://www.w3.org/2000/svg\" height=\"24px\"viewBox=\"0 0 24 24\"\n",
              "       width=\"24px\">\n",
              "    <path d=\"M0 0h24v24H0V0z\" fill=\"none\"/>\n",
              "    <path d=\"M18.56 5.44l.94 2.06.94-2.06 2.06-.94-2.06-.94-.94-2.06-.94 2.06-2.06.94zm-11 1L8.5 8.5l.94-2.06 2.06-.94-2.06-.94L8.5 2.5l-.94 2.06-2.06.94zm10 10l.94 2.06.94-2.06 2.06-.94-2.06-.94-.94-2.06-.94 2.06-2.06.94z\"/><path d=\"M17.41 7.96l-1.37-1.37c-.4-.4-.92-.59-1.43-.59-.52 0-1.04.2-1.43.59L10.3 9.45l-7.72 7.72c-.78.78-.78 2.05 0 2.83L4 21.41c.39.39.9.59 1.41.59.51 0 1.02-.2 1.41-.59l7.78-7.78 2.81-2.81c.8-.78.8-2.07 0-2.86zM5.41 20L4 18.59l7.72-7.72 1.47 1.35L5.41 20z\"/>\n",
              "  </svg>\n",
              "      </button>\n",
              "      \n",
              "  <style>\n",
              "    .colab-df-container {\n",
              "      display:flex;\n",
              "      flex-wrap:wrap;\n",
              "      gap: 12px;\n",
              "    }\n",
              "\n",
              "    .colab-df-convert {\n",
              "      background-color: #E8F0FE;\n",
              "      border: none;\n",
              "      border-radius: 50%;\n",
              "      cursor: pointer;\n",
              "      display: none;\n",
              "      fill: #1967D2;\n",
              "      height: 32px;\n",
              "      padding: 0 0 0 0;\n",
              "      width: 32px;\n",
              "    }\n",
              "\n",
              "    .colab-df-convert:hover {\n",
              "      background-color: #E2EBFA;\n",
              "      box-shadow: 0px 1px 2px rgba(60, 64, 67, 0.3), 0px 1px 3px 1px rgba(60, 64, 67, 0.15);\n",
              "      fill: #174EA6;\n",
              "    }\n",
              "\n",
              "    [theme=dark] .colab-df-convert {\n",
              "      background-color: #3B4455;\n",
              "      fill: #D2E3FC;\n",
              "    }\n",
              "\n",
              "    [theme=dark] .colab-df-convert:hover {\n",
              "      background-color: #434B5C;\n",
              "      box-shadow: 0px 1px 3px 1px rgba(0, 0, 0, 0.15);\n",
              "      filter: drop-shadow(0px 1px 2px rgba(0, 0, 0, 0.3));\n",
              "      fill: #FFFFFF;\n",
              "    }\n",
              "  </style>\n",
              "\n",
              "      <script>\n",
              "        const buttonEl =\n",
              "          document.querySelector('#df-8638508c-f48e-4c89-8b14-7a3d84679676 button.colab-df-convert');\n",
              "        buttonEl.style.display =\n",
              "          google.colab.kernel.accessAllowed ? 'block' : 'none';\n",
              "\n",
              "        async function convertToInteractive(key) {\n",
              "          const element = document.querySelector('#df-8638508c-f48e-4c89-8b14-7a3d84679676');\n",
              "          const dataTable =\n",
              "            await google.colab.kernel.invokeFunction('convertToInteractive',\n",
              "                                                     [key], {});\n",
              "          if (!dataTable) return;\n",
              "\n",
              "          const docLinkHtml = 'Like what you see? Visit the ' +\n",
              "            '<a target=\"_blank\" href=https://colab.research.google.com/notebooks/data_table.ipynb>data table notebook</a>'\n",
              "            + ' to learn more about interactive tables.';\n",
              "          element.innerHTML = '';\n",
              "          dataTable['output_type'] = 'display_data';\n",
              "          await google.colab.output.renderOutput(dataTable, element);\n",
              "          const docLink = document.createElement('div');\n",
              "          docLink.innerHTML = docLinkHtml;\n",
              "          element.appendChild(docLink);\n",
              "        }\n",
              "      </script>\n",
              "    </div>\n",
              "  </div>\n",
              "  "
            ]
          },
          "metadata": {},
          "execution_count": 36
        }
      ],
      "source": [
        "AUTHC_SEC_xt = pd.crosstab(df['AUTHC_SCNDRY_STAT_TXT'], df['FRAUD_NONFRAUD'])\n",
        "AUTHC_SEC_xt"
      ]
    },
    {
      "cell_type": "code",
      "execution_count": null,
      "metadata": {
        "colab": {
          "base_uri": "https://localhost:8080/",
          "height": 523
        },
        "id": "p7u6d4vGhql5",
        "outputId": "64c8e575-2180-43ee-f7fa-c9d6cc2ed0ff"
      },
      "outputs": [
        {
          "output_type": "execute_result",
          "data": {
            "text/plain": [
              "<matplotlib.axes._subplots.AxesSubplot at 0x7efe79487310>"
            ]
          },
          "metadata": {},
          "execution_count": 37
        },
        {
          "output_type": "display_data",
          "data": {
            "text/plain": [
              "<Figure size 864x432 with 1 Axes>"
            ],
            "image/png": "[encoded data removed]"
          },
          "metadata": {
            "needs_background": "light"
          }
        }
      ],
      "source": [
        "AUTHC_SEC_pct = AUTHC_SEC_xt.div(AUTHC_SEC_xt.sum(1).astype(float), axis=0)\n",
        "AUTHC_SEC_pct.plot(kind='bar', stacked=True, title='Fraud Rate by Secondary Authentication Type')"
      ]
    },
    {
      "cell_type": "markdown",
      "metadata": {
        "id": "M8hZXpyPhql5"
      },
      "source": [
        "CHALLENGE_SUCCESS Authentication has the maximum Fraud rate while ALLOW has the least."
      ]
    },
    {
      "cell_type": "markdown",
      "metadata": {
        "id": "CzqXhlfzhql5"
      },
      "source": [
        "## Data Preparation and Imputation of Missing Values:"
      ]
    },
    {
      "cell_type": "markdown",
      "metadata": {
        "id": "JFANd8IPhql5"
      },
      "source": [
        "WF_DVC_AGE represents the number of days customer identified to be assciated to device. There are some negative values in this column which might be due to human error. Lets make them positive.\n",
        "Negative values are: -117, -111, -102, -88, -33"
      ]
    },
    {
      "cell_type": "code",
      "execution_count": null,
      "metadata": {
        "id": "qf7ELSmlhql6"
      },
      "outputs": [],
      "source": [
        "df = df.replace({'WF_dvc_age' : { -117 : 117, -111 : 111, -102 : 102, -88 : 88, -33 : 33 }})"
      ]
    },
    {
      "cell_type": "code",
      "execution_count": null,
      "metadata": {
        "colab": {
          "base_uri": "https://localhost:8080/",
          "height": 300
        },
        "id": "y60HqC4Whql6",
        "outputId": "738b6ef7-3bc9-432e-dcbf-9b5eebf5a0c9"
      },
      "outputs": [
        {
          "output_type": "execute_result",
          "data": {
            "text/plain": [
              "           TRAN_AMT  ACCT_PRE_TRAN_AVAIL_BAL      CUST_AGE  OPEN_ACCT_CT  \\\n",
              "count  13879.000000             13879.000000  13879.000000  13879.000000   \n",
              "mean     274.713969             10190.003056     54.272282      6.651056   \n",
              "std      317.503017             29942.871238     18.564696      9.045851   \n",
              "min        0.010000                 0.000000     18.000000      0.000000   \n",
              "25%       11.190000                 0.000000     39.000000      3.000000   \n",
              "50%      159.930000              2397.200000     59.000000      5.000000   \n",
              "75%      488.750000              4691.955000     68.000000      7.000000   \n",
              "max     2376.060000            361519.050000    105.000000    227.000000   \n",
              "\n",
              "         WF_dvc_age      CUST_ZIP  \n",
              "count  13879.000000  13879.000000  \n",
              "mean     609.990273  74045.045608  \n",
              "std      667.448877  24940.680268  \n",
              "min        0.000000      0.000000  \n",
              "25%       75.000000  64121.000000  \n",
              "50%      363.000000  85042.000000  \n",
              "75%      959.000000  92203.000000  \n",
              "max     2783.000000  99835.000000  "
            ],
            "text/html": [
              "\n",
              "  <div id=\"df-89be2b75-5f65-481a-82e1-ea58c6c57314\">\n",
              "    <div class=\"colab-df-container\">\n",
              "      <div>\n",
              "<style scoped>\n",
              "    .dataframe tbody tr th:only-of-type {\n",
              "        vertical-align: middle;\n",
              "    }\n",
              "\n",
              "    .dataframe tbody tr th {\n",
              "        vertical-align: top;\n",
              "    }\n",
              "\n",
              "    .dataframe thead th {\n",
              "        text-align: right;\n",
              "    }\n",
              "</style>\n",
              "<table border=\"1\" class=\"dataframe\">\n",
              "  <thead>\n",
              "    <tr style=\"text-align: right;\">\n",
              "      <th></th>\n",
              "      <th>TRAN_AMT</th>\n",
              "      <th>ACCT_PRE_TRAN_AVAIL_BAL</th>\n",
              "      <th>CUST_AGE</th>\n",
              "      <th>OPEN_ACCT_CT</th>\n",
              "      <th>WF_dvc_age</th>\n",
              "      <th>CUST_ZIP</th>\n",
              "    </tr>\n",
              "  </thead>\n",
              "  <tbody>\n",
              "    <tr>\n",
              "      <th>count</th>\n",
              "      <td>13879.000000</td>\n",
              "      <td>13879.000000</td>\n",
              "      <td>13879.000000</td>\n",
              "      <td>13879.000000</td>\n",
              "      <td>13879.000000</td>\n",
              "      <td>13879.000000</td>\n",
              "    </tr>\n",
              "    <tr>\n",
              "      <th>mean</th>\n",
              "      <td>274.713969</td>\n",
              "      <td>10190.003056</td>\n",
              "      <td>54.272282</td>\n",
              "      <td>6.651056</td>\n",
              "      <td>609.990273</td>\n",
              "      <td>74045.045608</td>\n",
              "    </tr>\n",
              "    <tr>\n",
              "      <th>std</th>\n",
              "      <td>317.503017</td>\n",
              "      <td>29942.871238</td>\n",
              "      <td>18.564696</td>\n",
              "      <td>9.045851</td>\n",
              "      <td>667.448877</td>\n",
              "      <td>24940.680268</td>\n",
              "    </tr>\n",
              "    <tr>\n",
              "      <th>min</th>\n",
              "      <td>0.010000</td>\n",
              "      <td>0.000000</td>\n",
              "      <td>18.000000</td>\n",
              "      <td>0.000000</td>\n",
              "      <td>0.000000</td>\n",
              "      <td>0.000000</td>\n",
              "    </tr>\n",
              "    <tr>\n",
              "      <th>25%</th>\n",
              "      <td>11.190000</td>\n",
              "      <td>0.000000</td>\n",
              "      <td>39.000000</td>\n",
              "      <td>3.000000</td>\n",
              "      <td>75.000000</td>\n",
              "      <td>64121.000000</td>\n",
              "    </tr>\n",
              "    <tr>\n",
              "      <th>50%</th>\n",
              "      <td>159.930000</td>\n",
              "      <td>2397.200000</td>\n",
              "      <td>59.000000</td>\n",
              "      <td>5.000000</td>\n",
              "      <td>363.000000</td>\n",
              "      <td>85042.000000</td>\n",
              "    </tr>\n",
              "    <tr>\n",
              "      <th>75%</th>\n",
              "      <td>488.750000</td>\n",
              "      <td>4691.955000</td>\n",
              "      <td>68.000000</td>\n",
              "      <td>7.000000</td>\n",
              "      <td>959.000000</td>\n",
              "      <td>92203.000000</td>\n",
              "    </tr>\n",
              "    <tr>\n",
              "      <th>max</th>\n",
              "      <td>2376.060000</td>\n",
              "      <td>361519.050000</td>\n",
              "      <td>105.000000</td>\n",
              "      <td>227.000000</td>\n",
              "      <td>2783.000000</td>\n",
              "      <td>99835.000000</td>\n",
              "    </tr>\n",
              "  </tbody>\n",
              "</table>\n",
              "</div>\n",
              "      <button class=\"colab-df-convert\" onclick=\"convertToInteractive('df-89be2b75-5f65-481a-82e1-ea58c6c57314')\"\n",
              "              title=\"Convert this dataframe to an interactive table.\"\n",
              "              style=\"display:none;\">\n",
              "        \n",
              "  <svg xmlns=\"http://www.w3.org/2000/svg\" height=\"24px\"viewBox=\"0 0 24 24\"\n",
              "       width=\"24px\">\n",
              "    <path d=\"M0 0h24v24H0V0z\" fill=\"none\"/>\n",
              "    <path d=\"M18.56 5.44l.94 2.06.94-2.06 2.06-.94-2.06-.94-.94-2.06-.94 2.06-2.06.94zm-11 1L8.5 8.5l.94-2.06 2.06-.94-2.06-.94L8.5 2.5l-.94 2.06-2.06.94zm10 10l.94 2.06.94-2.06 2.06-.94-2.06-.94-.94-2.06-.94 2.06-2.06.94z\"/><path d=\"M17.41 7.96l-1.37-1.37c-.4-.4-.92-.59-1.43-.59-.52 0-1.04.2-1.43.59L10.3 9.45l-7.72 7.72c-.78.78-.78 2.05 0 2.83L4 21.41c.39.39.9.59 1.41.59.51 0 1.02-.2 1.41-.59l7.78-7.78 2.81-2.81c.8-.78.8-2.07 0-2.86zM5.41 20L4 18.59l7.72-7.72 1.47 1.35L5.41 20z\"/>\n",
              "  </svg>\n",
              "      </button>\n",
              "      \n",
              "  <style>\n",
              "    .colab-df-container {\n",
              "      display:flex;\n",
              "      flex-wrap:wrap;\n",
              "      gap: 12px;\n",
              "    }\n",
              "\n",
              "    .colab-df-convert {\n",
              "      background-color: #E8F0FE;\n",
              "      border: none;\n",
              "      border-radius: 50%;\n",
              "      cursor: pointer;\n",
              "      display: none;\n",
              "      fill: #1967D2;\n",
              "      height: 32px;\n",
              "      padding: 0 0 0 0;\n",
              "      width: 32px;\n",
              "    }\n",
              "\n",
              "    .colab-df-convert:hover {\n",
              "      background-color: #E2EBFA;\n",
              "      box-shadow: 0px 1px 2px rgba(60, 64, 67, 0.3), 0px 1px 3px 1px rgba(60, 64, 67, 0.15);\n",
              "      fill: #174EA6;\n",
              "    }\n",
              "\n",
              "    [theme=dark] .colab-df-convert {\n",
              "      background-color: #3B4455;\n",
              "      fill: #D2E3FC;\n",
              "    }\n",
              "\n",
              "    [theme=dark] .colab-df-convert:hover {\n",
              "      background-color: #434B5C;\n",
              "      box-shadow: 0px 1px 3px 1px rgba(0, 0, 0, 0.15);\n",
              "      filter: drop-shadow(0px 1px 2px rgba(0, 0, 0, 0.3));\n",
              "      fill: #FFFFFF;\n",
              "    }\n",
              "  </style>\n",
              "\n",
              "      <script>\n",
              "        const buttonEl =\n",
              "          document.querySelector('#df-89be2b75-5f65-481a-82e1-ea58c6c57314 button.colab-df-convert');\n",
              "        buttonEl.style.display =\n",
              "          google.colab.kernel.accessAllowed ? 'block' : 'none';\n",
              "\n",
              "        async function convertToInteractive(key) {\n",
              "          const element = document.querySelector('#df-89be2b75-5f65-481a-82e1-ea58c6c57314');\n",
              "          const dataTable =\n",
              "            await google.colab.kernel.invokeFunction('convertToInteractive',\n",
              "                                                     [key], {});\n",
              "          if (!dataTable) return;\n",
              "\n",
              "          const docLinkHtml = 'Like what you see? Visit the ' +\n",
              "            '<a target=\"_blank\" href=https://colab.research.google.com/notebooks/data_table.ipynb>data table notebook</a>'\n",
              "            + ' to learn more about interactive tables.';\n",
              "          element.innerHTML = '';\n",
              "          dataTable['output_type'] = 'display_data';\n",
              "          await google.colab.output.renderOutput(dataTable, element);\n",
              "          const docLink = document.createElement('div');\n",
              "          docLink.innerHTML = docLinkHtml;\n",
              "          element.appendChild(docLink);\n",
              "        }\n",
              "      </script>\n",
              "    </div>\n",
              "  </div>\n",
              "  "
            ]
          },
          "metadata": {},
          "execution_count": 39
        }
      ],
      "source": [
        "df.describe()"
      ]
    },
    {
      "cell_type": "markdown",
      "metadata": {
        "id": "Dgzd8qvJhql6"
      },
      "source": [
        "TRAN_DT values are only for 2021. Considering WF_dvc_age i.e. the no of days customer was identified to be associated to device should be 365 days. We expect that the device was associated for atleast 2021 since all the transactions are done in 2021.\n",
        "So we can map <= 365 days as 1 i.e. the device was identified to be associated in 2021 for recent transactions. The new column WF_dvc_age_NEW is created and WF_dvc_age is dropped."
      ]
    },
    {
      "cell_type": "code",
      "execution_count": null,
      "metadata": {
        "id": "jKEfgBnHhql6"
      },
      "outputs": [],
      "source": [
        "pd.options.mode.chained_assignment = None \n",
        "\n",
        "df.loc[df['WF_dvc_age'] > 365, 'WF_dvc_age_NEW'] = 'old'\n",
        "df.loc[df['WF_dvc_age'] <= 365 , 'WF_dvc_age_NEW'] = 'recent'"
      ]
    },
    {
      "cell_type": "code",
      "execution_count": null,
      "metadata": {
        "colab": {
          "base_uri": "https://localhost:8080/",
          "height": 713
        },
        "id": "NZQgyM_phql6",
        "outputId": "d78b54c4-c006-478b-c2e4-3c0947cd8aa0"
      },
      "outputs": [
        {
          "output_type": "execute_result",
          "data": {
            "text/plain": [
              "       TRAN_AMT  ACCT_PRE_TRAN_AVAIL_BAL  CUST_AGE  OPEN_ACCT_CT  \\\n",
              "0          5.38                 23619.91        47             4   \n",
              "1         65.19                     0.00        45             5   \n",
              "2         54.84                 34570.63        36             8   \n",
              "3          0.01                     0.00        62             3   \n",
              "4        497.08                 12725.18        81             2   \n",
              "...         ...                      ...       ...           ...   \n",
              "13995   1937.21                   230.75        55             4   \n",
              "13996    114.38                     0.00        44            10   \n",
              "13997    493.00                  2848.63        54             3   \n",
              "13998    491.64                  3163.25        21             3   \n",
              "13999      6.02                     0.00        60             6   \n",
              "\n",
              "               PWD_UPDT_TS                                CARR_NAME  \\\n",
              "0        1/16/2018 11:3:58                  cox communications inc.   \n",
              "1                      NaN                   charter communications   \n",
              "2      12/22/2021 10:42:51                       utah broadband llc   \n",
              "3         2/8/2020 7:28:31                       t-mobile usa  inc.   \n",
              "4      12/28/2020 12:12:44                    cogent communications   \n",
              "...                    ...                                      ...   \n",
              "13995                  NaN  cellco partnership dba verizon wireless   \n",
              "13996    11/2/2017 4:28:20                       t-mobile usa  inc.   \n",
              "13997    6/3/2021 19:31:15                         att services inc   \n",
              "13998    3/2/2020 11:34:54                                      NaN   \n",
              "13999                  NaN               charter communications inc   \n",
              "\n",
              "            RGN_NAME STATE_PRVNC_TXT ALERT_TRGR_CD DVC_TYPE_TXT  ...  \\\n",
              "0          southwest          nevada          MOBL          NaN  ...   \n",
              "1          southwest      california          MOBL          NaN  ...   \n",
              "2           mountain            utah          ONLN      DESKTOP  ...   \n",
              "3          southwest      california          MOBL       MOBILE  ...   \n",
              "4      south central           texas          MOBL       MOBILE  ...   \n",
              "...              ...             ...           ...          ...  ...   \n",
              "13995      southwest      california          MOBL       MOBILE  ...   \n",
              "13996      southwest      california          MOBL       MOBILE  ...   \n",
              "13997      southwest      california          MOBL      DESKTOP  ...   \n",
              "13998            NaN             NaN          ONLN      DESKTOP  ...   \n",
              "13999  south central           texas          MOBL       MOBILE  ...   \n",
              "\n",
              "             CUST_SINCE_DT             TRAN_TS    TRAN_DT ACTN_CD  \\\n",
              "0      1993-01-06 00:00:00    5/3/2021 18:3:58   5/3/2021  SCHPMT   \n",
              "1      1971-01-07 00:00:00  1/13/2021 19:19:37  1/13/2021  SCHPMT   \n",
              "2      1994-02-01 00:00:00    4/8/2021 9:42:51   4/8/2021  SCHPMT   \n",
              "3      2001-11-01 00:00:00  8/10/2021 15:28:31  8/10/2021  SCHPMT   \n",
              "4      1987-02-07 00:00:00  6/27/2021 11:12:44  6/27/2021  SCHPMT   \n",
              "...                    ...                 ...        ...     ...   \n",
              "13995  2001-06-05 00:00:00  3/12/2021 12:11:59  3/12/2021  SCHPMT   \n",
              "13996  2010-06-03 00:00:00   6/11/2021 9:28:20  6/11/2021  SCHPMT   \n",
              "13997  1984-10-27 00:00:00  5/16/2021 12:31:15  5/16/2021  SCHPMT   \n",
              "13998  2021-03-01 00:00:00  5/11/2021 12:34:54  5/11/2021  SCHPMT   \n",
              "13999  2013-01-09 00:00:00   2/15/2021 16:38:0  2/15/2021  SCHPMT   \n",
              "\n",
              "      ACTN_INTNL_TXT TRAN_TYPE_CD   ACTVY_DT FRAUD_NONFRAUD CUST_AGE_NEW  \\\n",
              "0         P2P_COMMIT          P2P   5/3/2021      Non-Fraud    dep_adult   \n",
              "1         P2P_COMMIT          P2P  1/13/2021      Non-Fraud    dep_adult   \n",
              "2         P2P_COMMIT          P2P   4/8/2021          Fraud    dep_adult   \n",
              "3         P2P_COMMIT          P2P  8/10/2021      Non-Fraud   vuln_adult   \n",
              "4         P2P_COMMIT          P2P  6/27/2021          Fraud   vuln_adult   \n",
              "...              ...          ...        ...            ...          ...   \n",
              "13995     P2P_COMMIT          P2P  3/12/2021      Non-Fraud    dep_adult   \n",
              "13996     P2P_COMMIT          P2P  6/11/2021      Non-Fraud    dep_adult   \n",
              "13997     P2P_COMMIT          P2P  5/16/2021          Fraud    dep_adult   \n",
              "13998     P2P_COMMIT          P2P  5/11/2021          Fraud    dep_adult   \n",
              "13999     P2P_COMMIT          P2P  2/15/2021      Non-Fraud   vuln_adult   \n",
              "\n",
              "      WF_dvc_age_NEW  \n",
              "0                  0  \n",
              "1                  0  \n",
              "2                  0  \n",
              "3                  0  \n",
              "4                  0  \n",
              "...              ...  \n",
              "13995              1  \n",
              "13996              1  \n",
              "13997              0  \n",
              "13998              1  \n",
              "13999              0  \n",
              "\n",
              "[13879 rows x 25 columns]"
            ],
            "text/html": [
              "\n",
              "  <div id=\"df-812ad4dc-94e6-40eb-b7d9-417173560e06\">\n",
              "    <div class=\"colab-df-container\">\n",
              "      <div>\n",
              "<style scoped>\n",
              "    .dataframe tbody tr th:only-of-type {\n",
              "        vertical-align: middle;\n",
              "    }\n",
              "\n",
              "    .dataframe tbody tr th {\n",
              "        vertical-align: top;\n",
              "    }\n",
              "\n",
              "    .dataframe thead th {\n",
              "        text-align: right;\n",
              "    }\n",
              "</style>\n",
              "<table border=\"1\" class=\"dataframe\">\n",
              "  <thead>\n",
              "    <tr style=\"text-align: right;\">\n",
              "      <th></th>\n",
              "      <th>TRAN_AMT</th>\n",
              "      <th>ACCT_PRE_TRAN_AVAIL_BAL</th>\n",
              "      <th>CUST_AGE</th>\n",
              "      <th>OPEN_ACCT_CT</th>\n",
              "      <th>PWD_UPDT_TS</th>\n",
              "      <th>CARR_NAME</th>\n",
              "      <th>RGN_NAME</th>\n",
              "      <th>STATE_PRVNC_TXT</th>\n",
              "      <th>ALERT_TRGR_CD</th>\n",
              "      <th>DVC_TYPE_TXT</th>\n",
              "      <th>...</th>\n",
              "      <th>CUST_SINCE_DT</th>\n",
              "      <th>TRAN_TS</th>\n",
              "      <th>TRAN_DT</th>\n",
              "      <th>ACTN_CD</th>\n",
              "      <th>ACTN_INTNL_TXT</th>\n",
              "      <th>TRAN_TYPE_CD</th>\n",
              "      <th>ACTVY_DT</th>\n",
              "      <th>FRAUD_NONFRAUD</th>\n",
              "      <th>CUST_AGE_NEW</th>\n",
              "      <th>WF_dvc_age_NEW</th>\n",
              "    </tr>\n",
              "  </thead>\n",
              "  <tbody>\n",
              "    <tr>\n",
              "      <th>0</th>\n",
              "      <td>5.38</td>\n",
              "      <td>23619.91</td>\n",
              "      <td>47</td>\n",
              "      <td>4</td>\n",
              "      <td>1/16/2018 11:3:58</td>\n",
              "      <td>cox communications inc.</td>\n",
              "      <td>southwest</td>\n",
              "      <td>nevada</td>\n",
              "      <td>MOBL</td>\n",
              "      <td>NaN</td>\n",
              "      <td>...</td>\n",
              "      <td>1993-01-06 00:00:00</td>\n",
              "      <td>5/3/2021 18:3:58</td>\n",
              "      <td>5/3/2021</td>\n",
              "      <td>SCHPMT</td>\n",
              "      <td>P2P_COMMIT</td>\n",
              "      <td>P2P</td>\n",
              "      <td>5/3/2021</td>\n",
              "      <td>Non-Fraud</td>\n",
              "      <td>dep_adult</td>\n",
              "      <td>0</td>\n",
              "    </tr>\n",
              "    <tr>\n",
              "      <th>1</th>\n",
              "      <td>65.19</td>\n",
              "      <td>0.00</td>\n",
              "      <td>45</td>\n",
              "      <td>5</td>\n",
              "      <td>NaN</td>\n",
              "      <td>charter communications</td>\n",
              "      <td>southwest</td>\n",
              "      <td>california</td>\n",
              "      <td>MOBL</td>\n",
              "      <td>NaN</td>\n",
              "      <td>...</td>\n",
              "      <td>1971-01-07 00:00:00</td>\n",
              "      <td>1/13/2021 19:19:37</td>\n",
              "      <td>1/13/2021</td>\n",
              "      <td>SCHPMT</td>\n",
              "      <td>P2P_COMMIT</td>\n",
              "      <td>P2P</td>\n",
              "      <td>1/13/2021</td>\n",
              "      <td>Non-Fraud</td>\n",
              "      <td>dep_adult</td>\n",
              "      <td>0</td>\n",
              "    </tr>\n",
              "    <tr>\n",
              "      <th>2</th>\n",
              "      <td>54.84</td>\n",
              "      <td>34570.63</td>\n",
              "      <td>36</td>\n",
              "      <td>8</td>\n",
              "      <td>12/22/2021 10:42:51</td>\n",
              "      <td>utah broadband llc</td>\n",
              "      <td>mountain</td>\n",
              "      <td>utah</td>\n",
              "      <td>ONLN</td>\n",
              "      <td>DESKTOP</td>\n",
              "      <td>...</td>\n",
              "      <td>1994-02-01 00:00:00</td>\n",
              "      <td>4/8/2021 9:42:51</td>\n",
              "      <td>4/8/2021</td>\n",
              "      <td>SCHPMT</td>\n",
              "      <td>P2P_COMMIT</td>\n",
              "      <td>P2P</td>\n",
              "      <td>4/8/2021</td>\n",
              "      <td>Fraud</td>\n",
              "      <td>dep_adult</td>\n",
              "      <td>0</td>\n",
              "    </tr>\n",
              "    <tr>\n",
              "      <th>3</th>\n",
              "      <td>0.01</td>\n",
              "      <td>0.00</td>\n",
              "      <td>62</td>\n",
              "      <td>3</td>\n",
              "      <td>2/8/2020 7:28:31</td>\n",
              "      <td>t-mobile usa  inc.</td>\n",
              "      <td>southwest</td>\n",
              "      <td>california</td>\n",
              "      <td>MOBL</td>\n",
              "      <td>MOBILE</td>\n",
              "      <td>...</td>\n",
              "      <td>2001-11-01 00:00:00</td>\n",
              "      <td>8/10/2021 15:28:31</td>\n",
              "      <td>8/10/2021</td>\n",
              "      <td>SCHPMT</td>\n",
              "      <td>P2P_COMMIT</td>\n",
              "      <td>P2P</td>\n",
              "      <td>8/10/2021</td>\n",
              "      <td>Non-Fraud</td>\n",
              "      <td>vuln_adult</td>\n",
              "      <td>0</td>\n",
              "    </tr>\n",
              "    <tr>\n",
              "      <th>4</th>\n",
              "      <td>497.08</td>\n",
              "      <td>12725.18</td>\n",
              "      <td>81</td>\n",
              "      <td>2</td>\n",
              "      <td>12/28/2020 12:12:44</td>\n",
              "      <td>cogent communications</td>\n",
              "      <td>south central</td>\n",
              "      <td>texas</td>\n",
              "      <td>MOBL</td>\n",
              "      <td>MOBILE</td>\n",
              "      <td>...</td>\n",
              "      <td>1987-02-07 00:00:00</td>\n",
              "      <td>6/27/2021 11:12:44</td>\n",
              "      <td>6/27/2021</td>\n",
              "      <td>SCHPMT</td>\n",
              "      <td>P2P_COMMIT</td>\n",
              "      <td>P2P</td>\n",
              "      <td>6/27/2021</td>\n",
              "      <td>Fraud</td>\n",
              "      <td>vuln_adult</td>\n",
              "      <td>0</td>\n",
              "    </tr>\n",
              "    <tr>\n",
              "      <th>...</th>\n",
              "      <td>...</td>\n",
              "      <td>...</td>\n",
              "      <td>...</td>\n",
              "      <td>...</td>\n",
              "      <td>...</td>\n",
              "      <td>...</td>\n",
              "      <td>...</td>\n",
              "      <td>...</td>\n",
              "      <td>...</td>\n",
              "      <td>...</td>\n",
              "      <td>...</td>\n",
              "      <td>...</td>\n",
              "      <td>...</td>\n",
              "      <td>...</td>\n",
              "      <td>...</td>\n",
              "      <td>...</td>\n",
              "      <td>...</td>\n",
              "      <td>...</td>\n",
              "      <td>...</td>\n",
              "      <td>...</td>\n",
              "      <td>...</td>\n",
              "    </tr>\n",
              "    <tr>\n",
              "      <th>13995</th>\n",
              "      <td>1937.21</td>\n",
              "      <td>230.75</td>\n",
              "      <td>55</td>\n",
              "      <td>4</td>\n",
              "      <td>NaN</td>\n",
              "      <td>cellco partnership dba verizon wireless</td>\n",
              "      <td>southwest</td>\n",
              "      <td>california</td>\n",
              "      <td>MOBL</td>\n",
              "      <td>MOBILE</td>\n",
              "      <td>...</td>\n",
              "      <td>2001-06-05 00:00:00</td>\n",
              "      <td>3/12/2021 12:11:59</td>\n",
              "      <td>3/12/2021</td>\n",
              "      <td>SCHPMT</td>\n",
              "      <td>P2P_COMMIT</td>\n",
              "      <td>P2P</td>\n",
              "      <td>3/12/2021</td>\n",
              "      <td>Non-Fraud</td>\n",
              "      <td>dep_adult</td>\n",
              "      <td>1</td>\n",
              "    </tr>\n",
              "    <tr>\n",
              "      <th>13996</th>\n",
              "      <td>114.38</td>\n",
              "      <td>0.00</td>\n",
              "      <td>44</td>\n",
              "      <td>10</td>\n",
              "      <td>11/2/2017 4:28:20</td>\n",
              "      <td>t-mobile usa  inc.</td>\n",
              "      <td>southwest</td>\n",
              "      <td>california</td>\n",
              "      <td>MOBL</td>\n",
              "      <td>MOBILE</td>\n",
              "      <td>...</td>\n",
              "      <td>2010-06-03 00:00:00</td>\n",
              "      <td>6/11/2021 9:28:20</td>\n",
              "      <td>6/11/2021</td>\n",
              "      <td>SCHPMT</td>\n",
              "      <td>P2P_COMMIT</td>\n",
              "      <td>P2P</td>\n",
              "      <td>6/11/2021</td>\n",
              "      <td>Non-Fraud</td>\n",
              "      <td>dep_adult</td>\n",
              "      <td>1</td>\n",
              "    </tr>\n",
              "    <tr>\n",
              "      <th>13997</th>\n",
              "      <td>493.00</td>\n",
              "      <td>2848.63</td>\n",
              "      <td>54</td>\n",
              "      <td>3</td>\n",
              "      <td>6/3/2021 19:31:15</td>\n",
              "      <td>att services inc</td>\n",
              "      <td>southwest</td>\n",
              "      <td>california</td>\n",
              "      <td>MOBL</td>\n",
              "      <td>DESKTOP</td>\n",
              "      <td>...</td>\n",
              "      <td>1984-10-27 00:00:00</td>\n",
              "      <td>5/16/2021 12:31:15</td>\n",
              "      <td>5/16/2021</td>\n",
              "      <td>SCHPMT</td>\n",
              "      <td>P2P_COMMIT</td>\n",
              "      <td>P2P</td>\n",
              "      <td>5/16/2021</td>\n",
              "      <td>Fraud</td>\n",
              "      <td>dep_adult</td>\n",
              "      <td>0</td>\n",
              "    </tr>\n",
              "    <tr>\n",
              "      <th>13998</th>\n",
              "      <td>491.64</td>\n",
              "      <td>3163.25</td>\n",
              "      <td>21</td>\n",
              "      <td>3</td>\n",
              "      <td>3/2/2020 11:34:54</td>\n",
              "      <td>NaN</td>\n",
              "      <td>NaN</td>\n",
              "      <td>NaN</td>\n",
              "      <td>ONLN</td>\n",
              "      <td>DESKTOP</td>\n",
              "      <td>...</td>\n",
              "      <td>2021-03-01 00:00:00</td>\n",
              "      <td>5/11/2021 12:34:54</td>\n",
              "      <td>5/11/2021</td>\n",
              "      <td>SCHPMT</td>\n",
              "      <td>P2P_COMMIT</td>\n",
              "      <td>P2P</td>\n",
              "      <td>5/11/2021</td>\n",
              "      <td>Fraud</td>\n",
              "      <td>dep_adult</td>\n",
              "      <td>1</td>\n",
              "    </tr>\n",
              "    <tr>\n",
              "      <th>13999</th>\n",
              "      <td>6.02</td>\n",
              "      <td>0.00</td>\n",
              "      <td>60</td>\n",
              "      <td>6</td>\n",
              "      <td>NaN</td>\n",
              "      <td>charter communications inc</td>\n",
              "      <td>south central</td>\n",
              "      <td>texas</td>\n",
              "      <td>MOBL</td>\n",
              "      <td>MOBILE</td>\n",
              "      <td>...</td>\n",
              "      <td>2013-01-09 00:00:00</td>\n",
              "      <td>2/15/2021 16:38:0</td>\n",
              "      <td>2/15/2021</td>\n",
              "      <td>SCHPMT</td>\n",
              "      <td>P2P_COMMIT</td>\n",
              "      <td>P2P</td>\n",
              "      <td>2/15/2021</td>\n",
              "      <td>Non-Fraud</td>\n",
              "      <td>vuln_adult</td>\n",
              "      <td>0</td>\n",
              "    </tr>\n",
              "  </tbody>\n",
              "</table>\n",
              "<p>13879 rows × 25 columns</p>\n",
              "</div>\n",
              "      <button class=\"colab-df-convert\" onclick=\"convertToInteractive('df-812ad4dc-94e6-40eb-b7d9-417173560e06')\"\n",
              "              title=\"Convert this dataframe to an interactive table.\"\n",
              "              style=\"display:none;\">\n",
              "        \n",
              "  <svg xmlns=\"http://www.w3.org/2000/svg\" height=\"24px\"viewBox=\"0 0 24 24\"\n",
              "       width=\"24px\">\n",
              "    <path d=\"M0 0h24v24H0V0z\" fill=\"none\"/>\n",
              "    <path d=\"M18.56 5.44l.94 2.06.94-2.06 2.06-.94-2.06-.94-.94-2.06-.94 2.06-2.06.94zm-11 1L8.5 8.5l.94-2.06 2.06-.94-2.06-.94L8.5 2.5l-.94 2.06-2.06.94zm10 10l.94 2.06.94-2.06 2.06-.94-2.06-.94-.94-2.06-.94 2.06-2.06.94z\"/><path d=\"M17.41 7.96l-1.37-1.37c-.4-.4-.92-.59-1.43-.59-.52 0-1.04.2-1.43.59L10.3 9.45l-7.72 7.72c-.78.78-.78 2.05 0 2.83L4 21.41c.39.39.9.59 1.41.59.51 0 1.02-.2 1.41-.59l7.78-7.78 2.81-2.81c.8-.78.8-2.07 0-2.86zM5.41 20L4 18.59l7.72-7.72 1.47 1.35L5.41 20z\"/>\n",
              "  </svg>\n",
              "      </button>\n",
              "      \n",
              "  <style>\n",
              "    .colab-df-container {\n",
              "      display:flex;\n",
              "      flex-wrap:wrap;\n",
              "      gap: 12px;\n",
              "    }\n",
              "\n",
              "    .colab-df-convert {\n",
              "      background-color: #E8F0FE;\n",
              "      border: none;\n",
              "      border-radius: 50%;\n",
              "      cursor: pointer;\n",
              "      display: none;\n",
              "      fill: #1967D2;\n",
              "      height: 32px;\n",
              "      padding: 0 0 0 0;\n",
              "      width: 32px;\n",
              "    }\n",
              "\n",
              "    .colab-df-convert:hover {\n",
              "      background-color: #E2EBFA;\n",
              "      box-shadow: 0px 1px 2px rgba(60, 64, 67, 0.3), 0px 1px 3px 1px rgba(60, 64, 67, 0.15);\n",
              "      fill: #174EA6;\n",
              "    }\n",
              "\n",
              "    [theme=dark] .colab-df-convert {\n",
              "      background-color: #3B4455;\n",
              "      fill: #D2E3FC;\n",
              "    }\n",
              "\n",
              "    [theme=dark] .colab-df-convert:hover {\n",
              "      background-color: #434B5C;\n",
              "      box-shadow: 0px 1px 3px 1px rgba(0, 0, 0, 0.15);\n",
              "      filter: drop-shadow(0px 1px 2px rgba(0, 0, 0, 0.3));\n",
              "      fill: #FFFFFF;\n",
              "    }\n",
              "  </style>\n",
              "\n",
              "      <script>\n",
              "        const buttonEl =\n",
              "          document.querySelector('#df-812ad4dc-94e6-40eb-b7d9-417173560e06 button.colab-df-convert');\n",
              "        buttonEl.style.display =\n",
              "          google.colab.kernel.accessAllowed ? 'block' : 'none';\n",
              "\n",
              "        async function convertToInteractive(key) {\n",
              "          const element = document.querySelector('#df-812ad4dc-94e6-40eb-b7d9-417173560e06');\n",
              "          const dataTable =\n",
              "            await google.colab.kernel.invokeFunction('convertToInteractive',\n",
              "                                                     [key], {});\n",
              "          if (!dataTable) return;\n",
              "\n",
              "          const docLinkHtml = 'Like what you see? Visit the ' +\n",
              "            '<a target=\"_blank\" href=https://colab.research.google.com/notebooks/data_table.ipynb>data table notebook</a>'\n",
              "            + ' to learn more about interactive tables.';\n",
              "          element.innerHTML = '';\n",
              "          dataTable['output_type'] = 'display_data';\n",
              "          await google.colab.output.renderOutput(dataTable, element);\n",
              "          const docLink = document.createElement('div');\n",
              "          docLink.innerHTML = docLinkHtml;\n",
              "          element.appendChild(docLink);\n",
              "        }\n",
              "      </script>\n",
              "    </div>\n",
              "  </div>\n",
              "  "
            ]
          },
          "metadata": {},
          "execution_count": 41
        }
      ],
      "source": [
        "df['WF_dvc_age_NEW'] = df['WF_dvc_age_NEW'].map({'recent':1, 'old':0}).astype(int)\n",
        "df = df.drop(['WF_dvc_age'], axis=1)\n",
        "df"
      ]
    },
    {
      "cell_type": "markdown",
      "metadata": {
        "id": "aZiSSRc7hql7"
      },
      "source": [
        "PWD_UPDT_TS -> Date and time when Wells Fargo customer's password was last updated. This is an important feature because if the password was not updated recently (with reference to the transaction) then there the ransaction is likely to be fraud.\n",
        "If the difference between PWD_UPDT_TS and TRAN_DT is <= 6 months -> then the password was recently updated otherwise not updated => 1. "
      ]
    },
    {
      "cell_type": "markdown",
      "metadata": {
        "id": "Ho9n80HMhql7"
      },
      "source": [
        "When I executed a code i got an error saying that the day is out of range of the month. This is because we has day as 31st for the month of june in some instances. To solve this issue we create a function to subtract one day from such instances so that it will be in range for the month of June."
      ]
    },
    {
      "cell_type": "code",
      "execution_count": null,
      "metadata": {
        "colab": {
          "base_uri": "https://localhost:8080/",
          "height": 713
        },
        "id": "GvRsJ-TThql7",
        "outputId": "75b0401c-9e3b-4ae3-e91c-233344fad8b5"
      },
      "outputs": [
        {
          "output_type": "execute_result",
          "data": {
            "text/plain": [
              "       TRAN_AMT  ACCT_PRE_TRAN_AVAIL_BAL  CUST_AGE  OPEN_ACCT_CT  \\\n",
              "0          5.38                 23619.91        47             4   \n",
              "1         65.19                     0.00        45             5   \n",
              "2         54.84                 34570.63        36             8   \n",
              "3          0.01                     0.00        62             3   \n",
              "4        497.08                 12725.18        81             2   \n",
              "...         ...                      ...       ...           ...   \n",
              "13995   1937.21                   230.75        55             4   \n",
              "13996    114.38                     0.00        44            10   \n",
              "13997    493.00                  2848.63        54             3   \n",
              "13998    491.64                  3163.25        21             3   \n",
              "13999      6.02                     0.00        60             6   \n",
              "\n",
              "              PWD_UPDT_TS                                CARR_NAME  \\\n",
              "0     2018-01-16 11:03:58                  cox communications inc.   \n",
              "1                     NaT                   charter communications   \n",
              "2     2021-12-22 10:42:51                       utah broadband llc   \n",
              "3     2020-02-08 07:28:31                       t-mobile usa  inc.   \n",
              "4     2020-12-28 12:12:44                    cogent communications   \n",
              "...                   ...                                      ...   \n",
              "13995                 NaT  cellco partnership dba verizon wireless   \n",
              "13996 2017-11-02 04:28:20                       t-mobile usa  inc.   \n",
              "13997 2021-06-03 19:31:15                         att services inc   \n",
              "13998 2020-03-02 11:34:54                                      NaN   \n",
              "13999                 NaT               charter communications inc   \n",
              "\n",
              "            RGN_NAME STATE_PRVNC_TXT ALERT_TRGR_CD DVC_TYPE_TXT  ...  \\\n",
              "0          southwest          nevada          MOBL          NaN  ...   \n",
              "1          southwest      california          MOBL          NaN  ...   \n",
              "2           mountain            utah          ONLN      DESKTOP  ...   \n",
              "3          southwest      california          MOBL       MOBILE  ...   \n",
              "4      south central           texas          MOBL       MOBILE  ...   \n",
              "...              ...             ...           ...          ...  ...   \n",
              "13995      southwest      california          MOBL       MOBILE  ...   \n",
              "13996      southwest      california          MOBL       MOBILE  ...   \n",
              "13997      southwest      california          MOBL      DESKTOP  ...   \n",
              "13998            NaN             NaN          ONLN      DESKTOP  ...   \n",
              "13999  south central           texas          MOBL       MOBILE  ...   \n",
              "\n",
              "             CUST_SINCE_DT             TRAN_TS    TRAN_DT ACTN_CD  \\\n",
              "0      1993-01-06 00:00:00    5/3/2021 18:3:58   5/3/2021  SCHPMT   \n",
              "1      1971-01-07 00:00:00  1/13/2021 19:19:37  1/13/2021  SCHPMT   \n",
              "2      1994-02-01 00:00:00    4/8/2021 9:42:51   4/8/2021  SCHPMT   \n",
              "3      2001-11-01 00:00:00  8/10/2021 15:28:31  8/10/2021  SCHPMT   \n",
              "4      1987-02-07 00:00:00  6/27/2021 11:12:44  6/27/2021  SCHPMT   \n",
              "...                    ...                 ...        ...     ...   \n",
              "13995  2001-06-05 00:00:00  3/12/2021 12:11:59  3/12/2021  SCHPMT   \n",
              "13996  2010-06-03 00:00:00   6/11/2021 9:28:20  6/11/2021  SCHPMT   \n",
              "13997  1984-10-27 00:00:00  5/16/2021 12:31:15  5/16/2021  SCHPMT   \n",
              "13998  2021-03-01 00:00:00  5/11/2021 12:34:54  5/11/2021  SCHPMT   \n",
              "13999  2013-01-09 00:00:00   2/15/2021 16:38:0  2/15/2021  SCHPMT   \n",
              "\n",
              "      ACTN_INTNL_TXT TRAN_TYPE_CD   ACTVY_DT FRAUD_NONFRAUD CUST_AGE_NEW  \\\n",
              "0         P2P_COMMIT          P2P   5/3/2021      Non-Fraud    dep_adult   \n",
              "1         P2P_COMMIT          P2P  1/13/2021      Non-Fraud    dep_adult   \n",
              "2         P2P_COMMIT          P2P   4/8/2021          Fraud    dep_adult   \n",
              "3         P2P_COMMIT          P2P  8/10/2021      Non-Fraud   vuln_adult   \n",
              "4         P2P_COMMIT          P2P  6/27/2021          Fraud   vuln_adult   \n",
              "...              ...          ...        ...            ...          ...   \n",
              "13995     P2P_COMMIT          P2P  3/12/2021      Non-Fraud    dep_adult   \n",
              "13996     P2P_COMMIT          P2P  6/11/2021      Non-Fraud    dep_adult   \n",
              "13997     P2P_COMMIT          P2P  5/16/2021          Fraud    dep_adult   \n",
              "13998     P2P_COMMIT          P2P  5/11/2021          Fraud    dep_adult   \n",
              "13999     P2P_COMMIT          P2P  2/15/2021      Non-Fraud   vuln_adult   \n",
              "\n",
              "      WF_dvc_age_NEW  \n",
              "0                  0  \n",
              "1                  0  \n",
              "2                  0  \n",
              "3                  0  \n",
              "4                  0  \n",
              "...              ...  \n",
              "13995              1  \n",
              "13996              1  \n",
              "13997              0  \n",
              "13998              1  \n",
              "13999              0  \n",
              "\n",
              "[13879 rows x 25 columns]"
            ],
            "text/html": [
              "\n",
              "  <div id=\"df-6d9fcb61-4e9f-431b-8671-3ed2074079b2\">\n",
              "    <div class=\"colab-df-container\">\n",
              "      <div>\n",
              "<style scoped>\n",
              "    .dataframe tbody tr th:only-of-type {\n",
              "        vertical-align: middle;\n",
              "    }\n",
              "\n",
              "    .dataframe tbody tr th {\n",
              "        vertical-align: top;\n",
              "    }\n",
              "\n",
              "    .dataframe thead th {\n",
              "        text-align: right;\n",
              "    }\n",
              "</style>\n",
              "<table border=\"1\" class=\"dataframe\">\n",
              "  <thead>\n",
              "    <tr style=\"text-align: right;\">\n",
              "      <th></th>\n",
              "      <th>TRAN_AMT</th>\n",
              "      <th>ACCT_PRE_TRAN_AVAIL_BAL</th>\n",
              "      <th>CUST_AGE</th>\n",
              "      <th>OPEN_ACCT_CT</th>\n",
              "      <th>PWD_UPDT_TS</th>\n",
              "      <th>CARR_NAME</th>\n",
              "      <th>RGN_NAME</th>\n",
              "      <th>STATE_PRVNC_TXT</th>\n",
              "      <th>ALERT_TRGR_CD</th>\n",
              "      <th>DVC_TYPE_TXT</th>\n",
              "      <th>...</th>\n",
              "      <th>CUST_SINCE_DT</th>\n",
              "      <th>TRAN_TS</th>\n",
              "      <th>TRAN_DT</th>\n",
              "      <th>ACTN_CD</th>\n",
              "      <th>ACTN_INTNL_TXT</th>\n",
              "      <th>TRAN_TYPE_CD</th>\n",
              "      <th>ACTVY_DT</th>\n",
              "      <th>FRAUD_NONFRAUD</th>\n",
              "      <th>CUST_AGE_NEW</th>\n",
              "      <th>WF_dvc_age_NEW</th>\n",
              "    </tr>\n",
              "  </thead>\n",
              "  <tbody>\n",
              "    <tr>\n",
              "      <th>0</th>\n",
              "      <td>5.38</td>\n",
              "      <td>23619.91</td>\n",
              "      <td>47</td>\n",
              "      <td>4</td>\n",
              "      <td>2018-01-16 11:03:58</td>\n",
              "      <td>cox communications inc.</td>\n",
              "      <td>southwest</td>\n",
              "      <td>nevada</td>\n",
              "      <td>MOBL</td>\n",
              "      <td>NaN</td>\n",
              "      <td>...</td>\n",
              "      <td>1993-01-06 00:00:00</td>\n",
              "      <td>5/3/2021 18:3:58</td>\n",
              "      <td>5/3/2021</td>\n",
              "      <td>SCHPMT</td>\n",
              "      <td>P2P_COMMIT</td>\n",
              "      <td>P2P</td>\n",
              "      <td>5/3/2021</td>\n",
              "      <td>Non-Fraud</td>\n",
              "      <td>dep_adult</td>\n",
              "      <td>0</td>\n",
              "    </tr>\n",
              "    <tr>\n",
              "      <th>1</th>\n",
              "      <td>65.19</td>\n",
              "      <td>0.00</td>\n",
              "      <td>45</td>\n",
              "      <td>5</td>\n",
              "      <td>NaT</td>\n",
              "      <td>charter communications</td>\n",
              "      <td>southwest</td>\n",
              "      <td>california</td>\n",
              "      <td>MOBL</td>\n",
              "      <td>NaN</td>\n",
              "      <td>...</td>\n",
              "      <td>1971-01-07 00:00:00</td>\n",
              "      <td>1/13/2021 19:19:37</td>\n",
              "      <td>1/13/2021</td>\n",
              "      <td>SCHPMT</td>\n",
              "      <td>P2P_COMMIT</td>\n",
              "      <td>P2P</td>\n",
              "      <td>1/13/2021</td>\n",
              "      <td>Non-Fraud</td>\n",
              "      <td>dep_adult</td>\n",
              "      <td>0</td>\n",
              "    </tr>\n",
              "    <tr>\n",
              "      <th>2</th>\n",
              "      <td>54.84</td>\n",
              "      <td>34570.63</td>\n",
              "      <td>36</td>\n",
              "      <td>8</td>\n",
              "      <td>2021-12-22 10:42:51</td>\n",
              "      <td>utah broadband llc</td>\n",
              "      <td>mountain</td>\n",
              "      <td>utah</td>\n",
              "      <td>ONLN</td>\n",
              "      <td>DESKTOP</td>\n",
              "      <td>...</td>\n",
              "      <td>1994-02-01 00:00:00</td>\n",
              "      <td>4/8/2021 9:42:51</td>\n",
              "      <td>4/8/2021</td>\n",
              "      <td>SCHPMT</td>\n",
              "      <td>P2P_COMMIT</td>\n",
              "      <td>P2P</td>\n",
              "      <td>4/8/2021</td>\n",
              "      <td>Fraud</td>\n",
              "      <td>dep_adult</td>\n",
              "      <td>0</td>\n",
              "    </tr>\n",
              "    <tr>\n",
              "      <th>3</th>\n",
              "      <td>0.01</td>\n",
              "      <td>0.00</td>\n",
              "      <td>62</td>\n",
              "      <td>3</td>\n",
              "      <td>2020-02-08 07:28:31</td>\n",
              "      <td>t-mobile usa  inc.</td>\n",
              "      <td>southwest</td>\n",
              "      <td>california</td>\n",
              "      <td>MOBL</td>\n",
              "      <td>MOBILE</td>\n",
              "      <td>...</td>\n",
              "      <td>2001-11-01 00:00:00</td>\n",
              "      <td>8/10/2021 15:28:31</td>\n",
              "      <td>8/10/2021</td>\n",
              "      <td>SCHPMT</td>\n",
              "      <td>P2P_COMMIT</td>\n",
              "      <td>P2P</td>\n",
              "      <td>8/10/2021</td>\n",
              "      <td>Non-Fraud</td>\n",
              "      <td>vuln_adult</td>\n",
              "      <td>0</td>\n",
              "    </tr>\n",
              "    <tr>\n",
              "      <th>4</th>\n",
              "      <td>497.08</td>\n",
              "      <td>12725.18</td>\n",
              "      <td>81</td>\n",
              "      <td>2</td>\n",
              "      <td>2020-12-28 12:12:44</td>\n",
              "      <td>cogent communications</td>\n",
              "      <td>south central</td>\n",
              "      <td>texas</td>\n",
              "      <td>MOBL</td>\n",
              "      <td>MOBILE</td>\n",
              "      <td>...</td>\n",
              "      <td>1987-02-07 00:00:00</td>\n",
              "      <td>6/27/2021 11:12:44</td>\n",
              "      <td>6/27/2021</td>\n",
              "      <td>SCHPMT</td>\n",
              "      <td>P2P_COMMIT</td>\n",
              "      <td>P2P</td>\n",
              "      <td>6/27/2021</td>\n",
              "      <td>Fraud</td>\n",
              "      <td>vuln_adult</td>\n",
              "      <td>0</td>\n",
              "    </tr>\n",
              "    <tr>\n",
              "      <th>...</th>\n",
              "      <td>...</td>\n",
              "      <td>...</td>\n",
              "      <td>...</td>\n",
              "      <td>...</td>\n",
              "      <td>...</td>\n",
              "      <td>...</td>\n",
              "      <td>...</td>\n",
              "      <td>...</td>\n",
              "      <td>...</td>\n",
              "      <td>...</td>\n",
              "      <td>...</td>\n",
              "      <td>...</td>\n",
              "      <td>...</td>\n",
              "      <td>...</td>\n",
              "      <td>...</td>\n",
              "      <td>...</td>\n",
              "      <td>...</td>\n",
              "      <td>...</td>\n",
              "      <td>...</td>\n",
              "      <td>...</td>\n",
              "      <td>...</td>\n",
              "    </tr>\n",
              "    <tr>\n",
              "      <th>13995</th>\n",
              "      <td>1937.21</td>\n",
              "      <td>230.75</td>\n",
              "      <td>55</td>\n",
              "      <td>4</td>\n",
              "      <td>NaT</td>\n",
              "      <td>cellco partnership dba verizon wireless</td>\n",
              "      <td>southwest</td>\n",
              "      <td>california</td>\n",
              "      <td>MOBL</td>\n",
              "      <td>MOBILE</td>\n",
              "      <td>...</td>\n",
              "      <td>2001-06-05 00:00:00</td>\n",
              "      <td>3/12/2021 12:11:59</td>\n",
              "      <td>3/12/2021</td>\n",
              "      <td>SCHPMT</td>\n",
              "      <td>P2P_COMMIT</td>\n",
              "      <td>P2P</td>\n",
              "      <td>3/12/2021</td>\n",
              "      <td>Non-Fraud</td>\n",
              "      <td>dep_adult</td>\n",
              "      <td>1</td>\n",
              "    </tr>\n",
              "    <tr>\n",
              "      <th>13996</th>\n",
              "      <td>114.38</td>\n",
              "      <td>0.00</td>\n",
              "      <td>44</td>\n",
              "      <td>10</td>\n",
              "      <td>2017-11-02 04:28:20</td>\n",
              "      <td>t-mobile usa  inc.</td>\n",
              "      <td>southwest</td>\n",
              "      <td>california</td>\n",
              "      <td>MOBL</td>\n",
              "      <td>MOBILE</td>\n",
              "      <td>...</td>\n",
              "      <td>2010-06-03 00:00:00</td>\n",
              "      <td>6/11/2021 9:28:20</td>\n",
              "      <td>6/11/2021</td>\n",
              "      <td>SCHPMT</td>\n",
              "      <td>P2P_COMMIT</td>\n",
              "      <td>P2P</td>\n",
              "      <td>6/11/2021</td>\n",
              "      <td>Non-Fraud</td>\n",
              "      <td>dep_adult</td>\n",
              "      <td>1</td>\n",
              "    </tr>\n",
              "    <tr>\n",
              "      <th>13997</th>\n",
              "      <td>493.00</td>\n",
              "      <td>2848.63</td>\n",
              "      <td>54</td>\n",
              "      <td>3</td>\n",
              "      <td>2021-06-03 19:31:15</td>\n",
              "      <td>att services inc</td>\n",
              "      <td>southwest</td>\n",
              "      <td>california</td>\n",
              "      <td>MOBL</td>\n",
              "      <td>DESKTOP</td>\n",
              "      <td>...</td>\n",
              "      <td>1984-10-27 00:00:00</td>\n",
              "      <td>5/16/2021 12:31:15</td>\n",
              "      <td>5/16/2021</td>\n",
              "      <td>SCHPMT</td>\n",
              "      <td>P2P_COMMIT</td>\n",
              "      <td>P2P</td>\n",
              "      <td>5/16/2021</td>\n",
              "      <td>Fraud</td>\n",
              "      <td>dep_adult</td>\n",
              "      <td>0</td>\n",
              "    </tr>\n",
              "    <tr>\n",
              "      <th>13998</th>\n",
              "      <td>491.64</td>\n",
              "      <td>3163.25</td>\n",
              "      <td>21</td>\n",
              "      <td>3</td>\n",
              "      <td>2020-03-02 11:34:54</td>\n",
              "      <td>NaN</td>\n",
              "      <td>NaN</td>\n",
              "      <td>NaN</td>\n",
              "      <td>ONLN</td>\n",
              "      <td>DESKTOP</td>\n",
              "      <td>...</td>\n",
              "      <td>2021-03-01 00:00:00</td>\n",
              "      <td>5/11/2021 12:34:54</td>\n",
              "      <td>5/11/2021</td>\n",
              "      <td>SCHPMT</td>\n",
              "      <td>P2P_COMMIT</td>\n",
              "      <td>P2P</td>\n",
              "      <td>5/11/2021</td>\n",
              "      <td>Fraud</td>\n",
              "      <td>dep_adult</td>\n",
              "      <td>1</td>\n",
              "    </tr>\n",
              "    <tr>\n",
              "      <th>13999</th>\n",
              "      <td>6.02</td>\n",
              "      <td>0.00</td>\n",
              "      <td>60</td>\n",
              "      <td>6</td>\n",
              "      <td>NaT</td>\n",
              "      <td>charter communications inc</td>\n",
              "      <td>south central</td>\n",
              "      <td>texas</td>\n",
              "      <td>MOBL</td>\n",
              "      <td>MOBILE</td>\n",
              "      <td>...</td>\n",
              "      <td>2013-01-09 00:00:00</td>\n",
              "      <td>2/15/2021 16:38:0</td>\n",
              "      <td>2/15/2021</td>\n",
              "      <td>SCHPMT</td>\n",
              "      <td>P2P_COMMIT</td>\n",
              "      <td>P2P</td>\n",
              "      <td>2/15/2021</td>\n",
              "      <td>Non-Fraud</td>\n",
              "      <td>vuln_adult</td>\n",
              "      <td>0</td>\n",
              "    </tr>\n",
              "  </tbody>\n",
              "</table>\n",
              "<p>13879 rows × 25 columns</p>\n",
              "</div>\n",
              "      <button class=\"colab-df-convert\" onclick=\"convertToInteractive('df-6d9fcb61-4e9f-431b-8671-3ed2074079b2')\"\n",
              "              title=\"Convert this dataframe to an interactive table.\"\n",
              "              style=\"display:none;\">\n",
              "        \n",
              "  <svg xmlns=\"http://www.w3.org/2000/svg\" height=\"24px\"viewBox=\"0 0 24 24\"\n",
              "       width=\"24px\">\n",
              "    <path d=\"M0 0h24v24H0V0z\" fill=\"none\"/>\n",
              "    <path d=\"M18.56 5.44l.94 2.06.94-2.06 2.06-.94-2.06-.94-.94-2.06-.94 2.06-2.06.94zm-11 1L8.5 8.5l.94-2.06 2.06-.94-2.06-.94L8.5 2.5l-.94 2.06-2.06.94zm10 10l.94 2.06.94-2.06 2.06-.94-2.06-.94-.94-2.06-.94 2.06-2.06.94z\"/><path d=\"M17.41 7.96l-1.37-1.37c-.4-.4-.92-.59-1.43-.59-.52 0-1.04.2-1.43.59L10.3 9.45l-7.72 7.72c-.78.78-.78 2.05 0 2.83L4 21.41c.39.39.9.59 1.41.59.51 0 1.02-.2 1.41-.59l7.78-7.78 2.81-2.81c.8-.78.8-2.07 0-2.86zM5.41 20L4 18.59l7.72-7.72 1.47 1.35L5.41 20z\"/>\n",
              "  </svg>\n",
              "      </button>\n",
              "      \n",
              "  <style>\n",
              "    .colab-df-container {\n",
              "      display:flex;\n",
              "      flex-wrap:wrap;\n",
              "      gap: 12px;\n",
              "    }\n",
              "\n",
              "    .colab-df-convert {\n",
              "      background-color: #E8F0FE;\n",
              "      border: none;\n",
              "      border-radius: 50%;\n",
              "      cursor: pointer;\n",
              "      display: none;\n",
              "      fill: #1967D2;\n",
              "      height: 32px;\n",
              "      padding: 0 0 0 0;\n",
              "      width: 32px;\n",
              "    }\n",
              "\n",
              "    .colab-df-convert:hover {\n",
              "      background-color: #E2EBFA;\n",
              "      box-shadow: 0px 1px 2px rgba(60, 64, 67, 0.3), 0px 1px 3px 1px rgba(60, 64, 67, 0.15);\n",
              "      fill: #174EA6;\n",
              "    }\n",
              "\n",
              "    [theme=dark] .colab-df-convert {\n",
              "      background-color: #3B4455;\n",
              "      fill: #D2E3FC;\n",
              "    }\n",
              "\n",
              "    [theme=dark] .colab-df-convert:hover {\n",
              "      background-color: #434B5C;\n",
              "      box-shadow: 0px 1px 3px 1px rgba(0, 0, 0, 0.15);\n",
              "      filter: drop-shadow(0px 1px 2px rgba(0, 0, 0, 0.3));\n",
              "      fill: #FFFFFF;\n",
              "    }\n",
              "  </style>\n",
              "\n",
              "      <script>\n",
              "        const buttonEl =\n",
              "          document.querySelector('#df-6d9fcb61-4e9f-431b-8671-3ed2074079b2 button.colab-df-convert');\n",
              "        buttonEl.style.display =\n",
              "          google.colab.kernel.accessAllowed ? 'block' : 'none';\n",
              "\n",
              "        async function convertToInteractive(key) {\n",
              "          const element = document.querySelector('#df-6d9fcb61-4e9f-431b-8671-3ed2074079b2');\n",
              "          const dataTable =\n",
              "            await google.colab.kernel.invokeFunction('convertToInteractive',\n",
              "                                                     [key], {});\n",
              "          if (!dataTable) return;\n",
              "\n",
              "          const docLinkHtml = 'Like what you see? Visit the ' +\n",
              "            '<a target=\"_blank\" href=https://colab.research.google.com/notebooks/data_table.ipynb>data table notebook</a>'\n",
              "            + ' to learn more about interactive tables.';\n",
              "          element.innerHTML = '';\n",
              "          dataTable['output_type'] = 'display_data';\n",
              "          await google.colab.output.renderOutput(dataTable, element);\n",
              "          const docLink = document.createElement('div');\n",
              "          docLink.innerHTML = docLinkHtml;\n",
              "          element.appendChild(docLink);\n",
              "        }\n",
              "      </script>\n",
              "    </div>\n",
              "  </div>\n",
              "  "
            ]
          },
          "metadata": {},
          "execution_count": 42
        }
      ],
      "source": [
        "def subtract_1_day(match):\n",
        "    days = int(match.group(1))\n",
        "    return str(days - 1)\n",
        "\n",
        "df['PWD_UPDT_TS'] = pd.to_datetime(df['PWD_UPDT_TS'], errors='coerce')\n",
        "fixed_dates = df.loc[df['PWD_UPDT_TS'].isna(), 'PWD_UPDT_TS'].replace(r\"(?<=/)(\\d+)(?=/)\", subtract_1_day)\n",
        "df['PWD_UPDT_TS'].update(pd.to_datetime(fixed_dates, format=\"%m/%d/%Y\"))\n",
        "df"
      ]
    },
    {
      "cell_type": "markdown",
      "metadata": {
        "id": "jyqXJmj5hql7"
      },
      "source": [
        "We then create new column PWD_UPDT_DT representing only the Date when the password was updated. Drop the PWD_UPDT_TS column."
      ]
    },
    {
      "cell_type": "code",
      "execution_count": null,
      "metadata": {
        "colab": {
          "base_uri": "https://localhost:8080/",
          "height": 713
        },
        "id": "C7di39H8hql7",
        "outputId": "86d3ba8a-0d1c-4e36-d5bc-b5781ab7708c"
      },
      "outputs": [
        {
          "output_type": "execute_result",
          "data": {
            "text/plain": [
              "       TRAN_AMT  ACCT_PRE_TRAN_AVAIL_BAL  CUST_AGE  OPEN_ACCT_CT  \\\n",
              "0          5.38                 23619.91        47             4   \n",
              "1         65.19                     0.00        45             5   \n",
              "2         54.84                 34570.63        36             8   \n",
              "3          0.01                     0.00        62             3   \n",
              "4        497.08                 12725.18        81             2   \n",
              "...         ...                      ...       ...           ...   \n",
              "13995   1937.21                   230.75        55             4   \n",
              "13996    114.38                     0.00        44            10   \n",
              "13997    493.00                  2848.63        54             3   \n",
              "13998    491.64                  3163.25        21             3   \n",
              "13999      6.02                     0.00        60             6   \n",
              "\n",
              "                                     CARR_NAME       RGN_NAME STATE_PRVNC_TXT  \\\n",
              "0                      cox communications inc.      southwest          nevada   \n",
              "1                       charter communications      southwest      california   \n",
              "2                           utah broadband llc       mountain            utah   \n",
              "3                           t-mobile usa  inc.      southwest      california   \n",
              "4                        cogent communications  south central           texas   \n",
              "...                                        ...            ...             ...   \n",
              "13995  cellco partnership dba verizon wireless      southwest      california   \n",
              "13996                       t-mobile usa  inc.      southwest      california   \n",
              "13997                         att services inc      southwest      california   \n",
              "13998                                      NaN            NaN             NaN   \n",
              "13999               charter communications inc  south central           texas   \n",
              "\n",
              "      ALERT_TRGR_CD DVC_TYPE_TXT AUTHC_PRIM_TYPE_CD  ...             TRAN_TS  \\\n",
              "0              MOBL          NaN             UN_PWD  ...    5/3/2021 18:3:58   \n",
              "1              MOBL          NaN            FACE_ID  ...  1/13/2021 19:19:37   \n",
              "2              ONLN      DESKTOP             UN_PWD  ...    4/8/2021 9:42:51   \n",
              "3              MOBL       MOBILE             UN_PWD  ...  8/10/2021 15:28:31   \n",
              "4              MOBL       MOBILE             UN_PWD  ...  6/27/2021 11:12:44   \n",
              "...             ...          ...                ...  ...                 ...   \n",
              "13995          MOBL       MOBILE             UN_PWD  ...  3/12/2021 12:11:59   \n",
              "13996          MOBL       MOBILE            FACE_ID  ...   6/11/2021 9:28:20   \n",
              "13997          MOBL      DESKTOP             UN_PWD  ...  5/16/2021 12:31:15   \n",
              "13998          ONLN      DESKTOP             UN_PWD  ...  5/11/2021 12:34:54   \n",
              "13999          MOBL       MOBILE             UN_PWD  ...   2/15/2021 16:38:0   \n",
              "\n",
              "         TRAN_DT ACTN_CD ACTN_INTNL_TXT TRAN_TYPE_CD   ACTVY_DT  \\\n",
              "0       5/3/2021  SCHPMT     P2P_COMMIT          P2P   5/3/2021   \n",
              "1      1/13/2021  SCHPMT     P2P_COMMIT          P2P  1/13/2021   \n",
              "2       4/8/2021  SCHPMT     P2P_COMMIT          P2P   4/8/2021   \n",
              "3      8/10/2021  SCHPMT     P2P_COMMIT          P2P  8/10/2021   \n",
              "4      6/27/2021  SCHPMT     P2P_COMMIT          P2P  6/27/2021   \n",
              "...          ...     ...            ...          ...        ...   \n",
              "13995  3/12/2021  SCHPMT     P2P_COMMIT          P2P  3/12/2021   \n",
              "13996  6/11/2021  SCHPMT     P2P_COMMIT          P2P  6/11/2021   \n",
              "13997  5/16/2021  SCHPMT     P2P_COMMIT          P2P  5/16/2021   \n",
              "13998  5/11/2021  SCHPMT     P2P_COMMIT          P2P  5/11/2021   \n",
              "13999  2/15/2021  SCHPMT     P2P_COMMIT          P2P  2/15/2021   \n",
              "\n",
              "      FRAUD_NONFRAUD CUST_AGE_NEW WF_dvc_age_NEW PWD_UPDT_DT  \n",
              "0          Non-Fraud    dep_adult              0  2018-01-16  \n",
              "1          Non-Fraud    dep_adult              0         NaT  \n",
              "2              Fraud    dep_adult              0  2021-12-22  \n",
              "3          Non-Fraud   vuln_adult              0  2020-02-08  \n",
              "4              Fraud   vuln_adult              0  2020-12-28  \n",
              "...              ...          ...            ...         ...  \n",
              "13995      Non-Fraud    dep_adult              1         NaT  \n",
              "13996      Non-Fraud    dep_adult              1  2017-11-02  \n",
              "13997          Fraud    dep_adult              0  2021-06-03  \n",
              "13998          Fraud    dep_adult              1  2020-03-02  \n",
              "13999      Non-Fraud   vuln_adult              0         NaT  \n",
              "\n",
              "[13879 rows x 25 columns]"
            ],
            "text/html": [
              "\n",
              "  <div id=\"df-12f67ce1-b7a6-4e8c-a556-51854440ce50\">\n",
              "    <div class=\"colab-df-container\">\n",
              "      <div>\n",
              "<style scoped>\n",
              "    .dataframe tbody tr th:only-of-type {\n",
              "        vertical-align: middle;\n",
              "    }\n",
              "\n",
              "    .dataframe tbody tr th {\n",
              "        vertical-align: top;\n",
              "    }\n",
              "\n",
              "    .dataframe thead th {\n",
              "        text-align: right;\n",
              "    }\n",
              "</style>\n",
              "<table border=\"1\" class=\"dataframe\">\n",
              "  <thead>\n",
              "    <tr style=\"text-align: right;\">\n",
              "      <th></th>\n",
              "      <th>TRAN_AMT</th>\n",
              "      <th>ACCT_PRE_TRAN_AVAIL_BAL</th>\n",
              "      <th>CUST_AGE</th>\n",
              "      <th>OPEN_ACCT_CT</th>\n",
              "      <th>CARR_NAME</th>\n",
              "      <th>RGN_NAME</th>\n",
              "      <th>STATE_PRVNC_TXT</th>\n",
              "      <th>ALERT_TRGR_CD</th>\n",
              "      <th>DVC_TYPE_TXT</th>\n",
              "      <th>AUTHC_PRIM_TYPE_CD</th>\n",
              "      <th>...</th>\n",
              "      <th>TRAN_TS</th>\n",
              "      <th>TRAN_DT</th>\n",
              "      <th>ACTN_CD</th>\n",
              "      <th>ACTN_INTNL_TXT</th>\n",
              "      <th>TRAN_TYPE_CD</th>\n",
              "      <th>ACTVY_DT</th>\n",
              "      <th>FRAUD_NONFRAUD</th>\n",
              "      <th>CUST_AGE_NEW</th>\n",
              "      <th>WF_dvc_age_NEW</th>\n",
              "      <th>PWD_UPDT_DT</th>\n",
              "    </tr>\n",
              "  </thead>\n",
              "  <tbody>\n",
              "    <tr>\n",
              "      <th>0</th>\n",
              "      <td>5.38</td>\n",
              "      <td>23619.91</td>\n",
              "      <td>47</td>\n",
              "      <td>4</td>\n",
              "      <td>cox communications inc.</td>\n",
              "      <td>southwest</td>\n",
              "      <td>nevada</td>\n",
              "      <td>MOBL</td>\n",
              "      <td>NaN</td>\n",
              "      <td>UN_PWD</td>\n",
              "      <td>...</td>\n",
              "      <td>5/3/2021 18:3:58</td>\n",
              "      <td>5/3/2021</td>\n",
              "      <td>SCHPMT</td>\n",
              "      <td>P2P_COMMIT</td>\n",
              "      <td>P2P</td>\n",
              "      <td>5/3/2021</td>\n",
              "      <td>Non-Fraud</td>\n",
              "      <td>dep_adult</td>\n",
              "      <td>0</td>\n",
              "      <td>2018-01-16</td>\n",
              "    </tr>\n",
              "    <tr>\n",
              "      <th>1</th>\n",
              "      <td>65.19</td>\n",
              "      <td>0.00</td>\n",
              "      <td>45</td>\n",
              "      <td>5</td>\n",
              "      <td>charter communications</td>\n",
              "      <td>southwest</td>\n",
              "      <td>california</td>\n",
              "      <td>MOBL</td>\n",
              "      <td>NaN</td>\n",
              "      <td>FACE_ID</td>\n",
              "      <td>...</td>\n",
              "      <td>1/13/2021 19:19:37</td>\n",
              "      <td>1/13/2021</td>\n",
              "      <td>SCHPMT</td>\n",
              "      <td>P2P_COMMIT</td>\n",
              "      <td>P2P</td>\n",
              "      <td>1/13/2021</td>\n",
              "      <td>Non-Fraud</td>\n",
              "      <td>dep_adult</td>\n",
              "      <td>0</td>\n",
              "      <td>NaT</td>\n",
              "    </tr>\n",
              "    <tr>\n",
              "      <th>2</th>\n",
              "      <td>54.84</td>\n",
              "      <td>34570.63</td>\n",
              "      <td>36</td>\n",
              "      <td>8</td>\n",
              "      <td>utah broadband llc</td>\n",
              "      <td>mountain</td>\n",
              "      <td>utah</td>\n",
              "      <td>ONLN</td>\n",
              "      <td>DESKTOP</td>\n",
              "      <td>UN_PWD</td>\n",
              "      <td>...</td>\n",
              "      <td>4/8/2021 9:42:51</td>\n",
              "      <td>4/8/2021</td>\n",
              "      <td>SCHPMT</td>\n",
              "      <td>P2P_COMMIT</td>\n",
              "      <td>P2P</td>\n",
              "      <td>4/8/2021</td>\n",
              "      <td>Fraud</td>\n",
              "      <td>dep_adult</td>\n",
              "      <td>0</td>\n",
              "      <td>2021-12-22</td>\n",
              "    </tr>\n",
              "    <tr>\n",
              "      <th>3</th>\n",
              "      <td>0.01</td>\n",
              "      <td>0.00</td>\n",
              "      <td>62</td>\n",
              "      <td>3</td>\n",
              "      <td>t-mobile usa  inc.</td>\n",
              "      <td>southwest</td>\n",
              "      <td>california</td>\n",
              "      <td>MOBL</td>\n",
              "      <td>MOBILE</td>\n",
              "      <td>UN_PWD</td>\n",
              "      <td>...</td>\n",
              "      <td>8/10/2021 15:28:31</td>\n",
              "      <td>8/10/2021</td>\n",
              "      <td>SCHPMT</td>\n",
              "      <td>P2P_COMMIT</td>\n",
              "      <td>P2P</td>\n",
              "      <td>8/10/2021</td>\n",
              "      <td>Non-Fraud</td>\n",
              "      <td>vuln_adult</td>\n",
              "      <td>0</td>\n",
              "      <td>2020-02-08</td>\n",
              "    </tr>\n",
              "    <tr>\n",
              "      <th>4</th>\n",
              "      <td>497.08</td>\n",
              "      <td>12725.18</td>\n",
              "      <td>81</td>\n",
              "      <td>2</td>\n",
              "      <td>cogent communications</td>\n",
              "      <td>south central</td>\n",
              "      <td>texas</td>\n",
              "      <td>MOBL</td>\n",
              "      <td>MOBILE</td>\n",
              "      <td>UN_PWD</td>\n",
              "      <td>...</td>\n",
              "      <td>6/27/2021 11:12:44</td>\n",
              "      <td>6/27/2021</td>\n",
              "      <td>SCHPMT</td>\n",
              "      <td>P2P_COMMIT</td>\n",
              "      <td>P2P</td>\n",
              "      <td>6/27/2021</td>\n",
              "      <td>Fraud</td>\n",
              "      <td>vuln_adult</td>\n",
              "      <td>0</td>\n",
              "      <td>2020-12-28</td>\n",
              "    </tr>\n",
              "    <tr>\n",
              "      <th>...</th>\n",
              "      <td>...</td>\n",
              "      <td>...</td>\n",
              "      <td>...</td>\n",
              "      <td>...</td>\n",
              "      <td>...</td>\n",
              "      <td>...</td>\n",
              "      <td>...</td>\n",
              "      <td>...</td>\n",
              "      <td>...</td>\n",
              "      <td>...</td>\n",
              "      <td>...</td>\n",
              "      <td>...</td>\n",
              "      <td>...</td>\n",
              "      <td>...</td>\n",
              "      <td>...</td>\n",
              "      <td>...</td>\n",
              "      <td>...</td>\n",
              "      <td>...</td>\n",
              "      <td>...</td>\n",
              "      <td>...</td>\n",
              "      <td>...</td>\n",
              "    </tr>\n",
              "    <tr>\n",
              "      <th>13995</th>\n",
              "      <td>1937.21</td>\n",
              "      <td>230.75</td>\n",
              "      <td>55</td>\n",
              "      <td>4</td>\n",
              "      <td>cellco partnership dba verizon wireless</td>\n",
              "      <td>southwest</td>\n",
              "      <td>california</td>\n",
              "      <td>MOBL</td>\n",
              "      <td>MOBILE</td>\n",
              "      <td>UN_PWD</td>\n",
              "      <td>...</td>\n",
              "      <td>3/12/2021 12:11:59</td>\n",
              "      <td>3/12/2021</td>\n",
              "      <td>SCHPMT</td>\n",
              "      <td>P2P_COMMIT</td>\n",
              "      <td>P2P</td>\n",
              "      <td>3/12/2021</td>\n",
              "      <td>Non-Fraud</td>\n",
              "      <td>dep_adult</td>\n",
              "      <td>1</td>\n",
              "      <td>NaT</td>\n",
              "    </tr>\n",
              "    <tr>\n",
              "      <th>13996</th>\n",
              "      <td>114.38</td>\n",
              "      <td>0.00</td>\n",
              "      <td>44</td>\n",
              "      <td>10</td>\n",
              "      <td>t-mobile usa  inc.</td>\n",
              "      <td>southwest</td>\n",
              "      <td>california</td>\n",
              "      <td>MOBL</td>\n",
              "      <td>MOBILE</td>\n",
              "      <td>FACE_ID</td>\n",
              "      <td>...</td>\n",
              "      <td>6/11/2021 9:28:20</td>\n",
              "      <td>6/11/2021</td>\n",
              "      <td>SCHPMT</td>\n",
              "      <td>P2P_COMMIT</td>\n",
              "      <td>P2P</td>\n",
              "      <td>6/11/2021</td>\n",
              "      <td>Non-Fraud</td>\n",
              "      <td>dep_adult</td>\n",
              "      <td>1</td>\n",
              "      <td>2017-11-02</td>\n",
              "    </tr>\n",
              "    <tr>\n",
              "      <th>13997</th>\n",
              "      <td>493.00</td>\n",
              "      <td>2848.63</td>\n",
              "      <td>54</td>\n",
              "      <td>3</td>\n",
              "      <td>att services inc</td>\n",
              "      <td>southwest</td>\n",
              "      <td>california</td>\n",
              "      <td>MOBL</td>\n",
              "      <td>DESKTOP</td>\n",
              "      <td>UN_PWD</td>\n",
              "      <td>...</td>\n",
              "      <td>5/16/2021 12:31:15</td>\n",
              "      <td>5/16/2021</td>\n",
              "      <td>SCHPMT</td>\n",
              "      <td>P2P_COMMIT</td>\n",
              "      <td>P2P</td>\n",
              "      <td>5/16/2021</td>\n",
              "      <td>Fraud</td>\n",
              "      <td>dep_adult</td>\n",
              "      <td>0</td>\n",
              "      <td>2021-06-03</td>\n",
              "    </tr>\n",
              "    <tr>\n",
              "      <th>13998</th>\n",
              "      <td>491.64</td>\n",
              "      <td>3163.25</td>\n",
              "      <td>21</td>\n",
              "      <td>3</td>\n",
              "      <td>NaN</td>\n",
              "      <td>NaN</td>\n",
              "      <td>NaN</td>\n",
              "      <td>ONLN</td>\n",
              "      <td>DESKTOP</td>\n",
              "      <td>UN_PWD</td>\n",
              "      <td>...</td>\n",
              "      <td>5/11/2021 12:34:54</td>\n",
              "      <td>5/11/2021</td>\n",
              "      <td>SCHPMT</td>\n",
              "      <td>P2P_COMMIT</td>\n",
              "      <td>P2P</td>\n",
              "      <td>5/11/2021</td>\n",
              "      <td>Fraud</td>\n",
              "      <td>dep_adult</td>\n",
              "      <td>1</td>\n",
              "      <td>2020-03-02</td>\n",
              "    </tr>\n",
              "    <tr>\n",
              "      <th>13999</th>\n",
              "      <td>6.02</td>\n",
              "      <td>0.00</td>\n",
              "      <td>60</td>\n",
              "      <td>6</td>\n",
              "      <td>charter communications inc</td>\n",
              "      <td>south central</td>\n",
              "      <td>texas</td>\n",
              "      <td>MOBL</td>\n",
              "      <td>MOBILE</td>\n",
              "      <td>UN_PWD</td>\n",
              "      <td>...</td>\n",
              "      <td>2/15/2021 16:38:0</td>\n",
              "      <td>2/15/2021</td>\n",
              "      <td>SCHPMT</td>\n",
              "      <td>P2P_COMMIT</td>\n",
              "      <td>P2P</td>\n",
              "      <td>2/15/2021</td>\n",
              "      <td>Non-Fraud</td>\n",
              "      <td>vuln_adult</td>\n",
              "      <td>0</td>\n",
              "      <td>NaT</td>\n",
              "    </tr>\n",
              "  </tbody>\n",
              "</table>\n",
              "<p>13879 rows × 25 columns</p>\n",
              "</div>\n",
              "      <button class=\"colab-df-convert\" onclick=\"convertToInteractive('df-12f67ce1-b7a6-4e8c-a556-51854440ce50')\"\n",
              "              title=\"Convert this dataframe to an interactive table.\"\n",
              "              style=\"display:none;\">\n",
              "        \n",
              "  <svg xmlns=\"http://www.w3.org/2000/svg\" height=\"24px\"viewBox=\"0 0 24 24\"\n",
              "       width=\"24px\">\n",
              "    <path d=\"M0 0h24v24H0V0z\" fill=\"none\"/>\n",
              "    <path d=\"M18.56 5.44l.94 2.06.94-2.06 2.06-.94-2.06-.94-.94-2.06-.94 2.06-2.06.94zm-11 1L8.5 8.5l.94-2.06 2.06-.94-2.06-.94L8.5 2.5l-.94 2.06-2.06.94zm10 10l.94 2.06.94-2.06 2.06-.94-2.06-.94-.94-2.06-.94 2.06-2.06.94z\"/><path d=\"M17.41 7.96l-1.37-1.37c-.4-.4-.92-.59-1.43-.59-.52 0-1.04.2-1.43.59L10.3 9.45l-7.72 7.72c-.78.78-.78 2.05 0 2.83L4 21.41c.39.39.9.59 1.41.59.51 0 1.02-.2 1.41-.59l7.78-7.78 2.81-2.81c.8-.78.8-2.07 0-2.86zM5.41 20L4 18.59l7.72-7.72 1.47 1.35L5.41 20z\"/>\n",
              "  </svg>\n",
              "      </button>\n",
              "      \n",
              "  <style>\n",
              "    .colab-df-container {\n",
              "      display:flex;\n",
              "      flex-wrap:wrap;\n",
              "      gap: 12px;\n",
              "    }\n",
              "\n",
              "    .colab-df-convert {\n",
              "      background-color: #E8F0FE;\n",
              "      border: none;\n",
              "      border-radius: 50%;\n",
              "      cursor: pointer;\n",
              "      display: none;\n",
              "      fill: #1967D2;\n",
              "      height: 32px;\n",
              "      padding: 0 0 0 0;\n",
              "      width: 32px;\n",
              "    }\n",
              "\n",
              "    .colab-df-convert:hover {\n",
              "      background-color: #E2EBFA;\n",
              "      box-shadow: 0px 1px 2px rgba(60, 64, 67, 0.3), 0px 1px 3px 1px rgba(60, 64, 67, 0.15);\n",
              "      fill: #174EA6;\n",
              "    }\n",
              "\n",
              "    [theme=dark] .colab-df-convert {\n",
              "      background-color: #3B4455;\n",
              "      fill: #D2E3FC;\n",
              "    }\n",
              "\n",
              "    [theme=dark] .colab-df-convert:hover {\n",
              "      background-color: #434B5C;\n",
              "      box-shadow: 0px 1px 3px 1px rgba(0, 0, 0, 0.15);\n",
              "      filter: drop-shadow(0px 1px 2px rgba(0, 0, 0, 0.3));\n",
              "      fill: #FFFFFF;\n",
              "    }\n",
              "  </style>\n",
              "\n",
              "      <script>\n",
              "        const buttonEl =\n",
              "          document.querySelector('#df-12f67ce1-b7a6-4e8c-a556-51854440ce50 button.colab-df-convert');\n",
              "        buttonEl.style.display =\n",
              "          google.colab.kernel.accessAllowed ? 'block' : 'none';\n",
              "\n",
              "        async function convertToInteractive(key) {\n",
              "          const element = document.querySelector('#df-12f67ce1-b7a6-4e8c-a556-51854440ce50');\n",
              "          const dataTable =\n",
              "            await google.colab.kernel.invokeFunction('convertToInteractive',\n",
              "                                                     [key], {});\n",
              "          if (!dataTable) return;\n",
              "\n",
              "          const docLinkHtml = 'Like what you see? Visit the ' +\n",
              "            '<a target=\"_blank\" href=https://colab.research.google.com/notebooks/data_table.ipynb>data table notebook</a>'\n",
              "            + ' to learn more about interactive tables.';\n",
              "          element.innerHTML = '';\n",
              "          dataTable['output_type'] = 'display_data';\n",
              "          await google.colab.output.renderOutput(dataTable, element);\n",
              "          const docLink = document.createElement('div');\n",
              "          docLink.innerHTML = docLinkHtml;\n",
              "          element.appendChild(docLink);\n",
              "        }\n",
              "      </script>\n",
              "    </div>\n",
              "  </div>\n",
              "  "
            ]
          },
          "metadata": {},
          "execution_count": 43
        }
      ],
      "source": [
        "df['PWD_UPDT_DT'] = df['PWD_UPDT_TS'].dt.date\n",
        "df.drop('PWD_UPDT_TS', axis = 1, inplace = True)\n",
        "df"
      ]
    },
    {
      "cell_type": "code",
      "execution_count": null,
      "metadata": {
        "colab": {
          "base_uri": "https://localhost:8080/"
        },
        "id": "83vFYt9Bhql8",
        "outputId": "a8dc4a84-2146-44b0-d065-5ebddf76b09c"
      },
      "outputs": [
        {
          "output_type": "stream",
          "name": "stdout",
          "text": [
            "<class 'pandas.core.frame.DataFrame'>\n",
            "Int64Index: 13879 entries, 0 to 13999\n",
            "Data columns (total 25 columns):\n",
            " #   Column                   Non-Null Count  Dtype         \n",
            "---  ------                   --------------  -----         \n",
            " 0   TRAN_AMT                 13879 non-null  float64       \n",
            " 1   ACCT_PRE_TRAN_AVAIL_BAL  13879 non-null  float64       \n",
            " 2   CUST_AGE                 13879 non-null  int64         \n",
            " 3   OPEN_ACCT_CT             13879 non-null  int64         \n",
            " 4   CARR_NAME                11203 non-null  object        \n",
            " 5   RGN_NAME                 11203 non-null  object        \n",
            " 6   STATE_PRVNC_TXT          11203 non-null  object        \n",
            " 7   ALERT_TRGR_CD            13879 non-null  object        \n",
            " 8   DVC_TYPE_TXT             12138 non-null  object        \n",
            " 9   AUTHC_PRIM_TYPE_CD       13879 non-null  object        \n",
            " 10  AUTHC_SCNDRY_STAT_TXT    13809 non-null  object        \n",
            " 11  CUST_ZIP                 13879 non-null  int64         \n",
            " 12  CUST_STATE               13843 non-null  object        \n",
            " 13  PH_NUM_UPDT_TS           6874 non-null   object        \n",
            " 14  CUST_SINCE_DT            13879 non-null  object        \n",
            " 15  TRAN_TS                  13879 non-null  object        \n",
            " 16  TRAN_DT                  13879 non-null  datetime64[ns]\n",
            " 17  ACTN_CD                  13879 non-null  object        \n",
            " 18  ACTN_INTNL_TXT           13879 non-null  object        \n",
            " 19  TRAN_TYPE_CD             13879 non-null  object        \n",
            " 20  ACTVY_DT                 13879 non-null  object        \n",
            " 21  FRAUD_NONFRAUD           13879 non-null  object        \n",
            " 22  CUST_AGE_NEW             13879 non-null  object        \n",
            " 23  WF_dvc_age_NEW           13879 non-null  int64         \n",
            " 24  PWD_UPDT_DT              10780 non-null  datetime64[ns]\n",
            "dtypes: datetime64[ns](2), float64(2), int64(4), object(17)\n",
            "memory usage: 2.8+ MB\n"
          ]
        }
      ],
      "source": [
        "# Changing the Dtype to datetime\n",
        "df['PWD_UPDT_DT'] = pd.to_datetime(df['PWD_UPDT_DT'])\n",
        "df['TRAN_DT'] = pd.to_datetime(df['TRAN_DT'])\n",
        "df.info()"
      ]
    },
    {
      "cell_type": "markdown",
      "metadata": {
        "id": "KtXR20F7hql8"
      },
      "source": [
        "We then create months_pwd column to find the no of months before the transaction the password was updated.In some instances password was updated after the transation was done. In such instances the value for months comes out to be negative. We will handle this later."
      ]
    },
    {
      "cell_type": "code",
      "execution_count": null,
      "metadata": {
        "colab": {
          "base_uri": "https://localhost:8080/"
        },
        "id": "A04SMhY3hql8",
        "outputId": "08b3ea7a-bd5a-4969-cb73-8989972945d9"
      },
      "outputs": [
        {
          "output_type": "stream",
          "name": "stdout",
          "text": [
            "<class 'pandas.core.frame.DataFrame'>\n",
            "Int64Index: 13879 entries, 0 to 13999\n",
            "Data columns (total 26 columns):\n",
            " #   Column                   Non-Null Count  Dtype         \n",
            "---  ------                   --------------  -----         \n",
            " 0   TRAN_AMT                 13879 non-null  float64       \n",
            " 1   ACCT_PRE_TRAN_AVAIL_BAL  13879 non-null  float64       \n",
            " 2   CUST_AGE                 13879 non-null  int64         \n",
            " 3   OPEN_ACCT_CT             13879 non-null  int64         \n",
            " 4   CARR_NAME                11203 non-null  object        \n",
            " 5   RGN_NAME                 11203 non-null  object        \n",
            " 6   STATE_PRVNC_TXT          11203 non-null  object        \n",
            " 7   ALERT_TRGR_CD            13879 non-null  object        \n",
            " 8   DVC_TYPE_TXT             12138 non-null  object        \n",
            " 9   AUTHC_PRIM_TYPE_CD       13879 non-null  object        \n",
            " 10  AUTHC_SCNDRY_STAT_TXT    13809 non-null  object        \n",
            " 11  CUST_ZIP                 13879 non-null  int64         \n",
            " 12  CUST_STATE               13843 non-null  object        \n",
            " 13  PH_NUM_UPDT_TS           6874 non-null   object        \n",
            " 14  CUST_SINCE_DT            13879 non-null  object        \n",
            " 15  TRAN_TS                  13879 non-null  object        \n",
            " 16  TRAN_DT                  13879 non-null  datetime64[ns]\n",
            " 17  ACTN_CD                  13879 non-null  object        \n",
            " 18  ACTN_INTNL_TXT           13879 non-null  object        \n",
            " 19  TRAN_TYPE_CD             13879 non-null  object        \n",
            " 20  ACTVY_DT                 13879 non-null  object        \n",
            " 21  FRAUD_NONFRAUD           13879 non-null  object        \n",
            " 22  CUST_AGE_NEW             13879 non-null  object        \n",
            " 23  WF_dvc_age_NEW           13879 non-null  int64         \n",
            " 24  PWD_UPDT_DT              10780 non-null  datetime64[ns]\n",
            " 25  months_pwd               10780 non-null  float64       \n",
            "dtypes: datetime64[ns](2), float64(3), int64(4), object(17)\n",
            "memory usage: 2.9+ MB\n"
          ]
        }
      ],
      "source": [
        "df['months_pwd'] = (df['TRAN_DT'] - df['PWD_UPDT_DT'])/np.timedelta64(1, 'M')\n",
        "df.info()"
      ]
    },
    {
      "cell_type": "markdown",
      "metadata": {
        "id": "KXDEdeWhhql8"
      },
      "source": [
        "There are 3092 missing values in the column PWD_UPDT_DT. We can assume that the password was not updated since the account was opened for these instances. I am imputing -1 for these instances.We also convert this column to int type."
      ]
    },
    {
      "cell_type": "code",
      "execution_count": null,
      "metadata": {
        "id": "MqCgf-vFhql8"
      },
      "outputs": [],
      "source": [
        "df['months_pwd'] = df['months_pwd'].replace(np.NaN, -1)\n",
        "df['months_pwd'] = df['months_pwd'].astype(int)"
      ]
    },
    {
      "cell_type": "markdown",
      "metadata": {
        "id": "AA46Hyxmhql8"
      },
      "source": [
        "We can assume that the password was updated recently if the 0<= months_pwd <= 6 -> This is mapped as 1.We create a new column recentpwdupdate to store these values and drop 'PWD_UPDT_DT','months_pwd' columns."
      ]
    },
    {
      "cell_type": "code",
      "execution_count": null,
      "metadata": {
        "colab": {
          "base_uri": "https://localhost:8080/",
          "height": 713
        },
        "id": "mZISYbNdhql9",
        "outputId": "1d12048b-75bd-4039-9d3d-43baecd926d2"
      },
      "outputs": [
        {
          "output_type": "execute_result",
          "data": {
            "text/plain": [
              "       TRAN_AMT  ACCT_PRE_TRAN_AVAIL_BAL  CUST_AGE  OPEN_ACCT_CT  \\\n",
              "0          5.38                 23619.91        47             4   \n",
              "1         65.19                     0.00        45             5   \n",
              "2         54.84                 34570.63        36             8   \n",
              "3          0.01                     0.00        62             3   \n",
              "4        497.08                 12725.18        81             2   \n",
              "...         ...                      ...       ...           ...   \n",
              "13995   1937.21                   230.75        55             4   \n",
              "13996    114.38                     0.00        44            10   \n",
              "13997    493.00                  2848.63        54             3   \n",
              "13998    491.64                  3163.25        21             3   \n",
              "13999      6.02                     0.00        60             6   \n",
              "\n",
              "                                     CARR_NAME       RGN_NAME STATE_PRVNC_TXT  \\\n",
              "0                      cox communications inc.      southwest          nevada   \n",
              "1                       charter communications      southwest      california   \n",
              "2                           utah broadband llc       mountain            utah   \n",
              "3                           t-mobile usa  inc.      southwest      california   \n",
              "4                        cogent communications  south central           texas   \n",
              "...                                        ...            ...             ...   \n",
              "13995  cellco partnership dba verizon wireless      southwest      california   \n",
              "13996                       t-mobile usa  inc.      southwest      california   \n",
              "13997                         att services inc      southwest      california   \n",
              "13998                                      NaN            NaN             NaN   \n",
              "13999               charter communications inc  south central           texas   \n",
              "\n",
              "      ALERT_TRGR_CD DVC_TYPE_TXT AUTHC_PRIM_TYPE_CD  ...             TRAN_TS  \\\n",
              "0              MOBL          NaN             UN_PWD  ...    5/3/2021 18:3:58   \n",
              "1              MOBL          NaN            FACE_ID  ...  1/13/2021 19:19:37   \n",
              "2              ONLN      DESKTOP             UN_PWD  ...    4/8/2021 9:42:51   \n",
              "3              MOBL       MOBILE             UN_PWD  ...  8/10/2021 15:28:31   \n",
              "4              MOBL       MOBILE             UN_PWD  ...  6/27/2021 11:12:44   \n",
              "...             ...          ...                ...  ...                 ...   \n",
              "13995          MOBL       MOBILE             UN_PWD  ...  3/12/2021 12:11:59   \n",
              "13996          MOBL       MOBILE            FACE_ID  ...   6/11/2021 9:28:20   \n",
              "13997          MOBL      DESKTOP             UN_PWD  ...  5/16/2021 12:31:15   \n",
              "13998          ONLN      DESKTOP             UN_PWD  ...  5/11/2021 12:34:54   \n",
              "13999          MOBL       MOBILE             UN_PWD  ...   2/15/2021 16:38:0   \n",
              "\n",
              "         TRAN_DT ACTN_CD ACTN_INTNL_TXT TRAN_TYPE_CD   ACTVY_DT  \\\n",
              "0     2021-05-03  SCHPMT     P2P_COMMIT          P2P   5/3/2021   \n",
              "1     2021-01-13  SCHPMT     P2P_COMMIT          P2P  1/13/2021   \n",
              "2     2021-04-08  SCHPMT     P2P_COMMIT          P2P   4/8/2021   \n",
              "3     2021-08-10  SCHPMT     P2P_COMMIT          P2P  8/10/2021   \n",
              "4     2021-06-27  SCHPMT     P2P_COMMIT          P2P  6/27/2021   \n",
              "...          ...     ...            ...          ...        ...   \n",
              "13995 2021-03-12  SCHPMT     P2P_COMMIT          P2P  3/12/2021   \n",
              "13996 2021-06-11  SCHPMT     P2P_COMMIT          P2P  6/11/2021   \n",
              "13997 2021-05-16  SCHPMT     P2P_COMMIT          P2P  5/16/2021   \n",
              "13998 2021-05-11  SCHPMT     P2P_COMMIT          P2P  5/11/2021   \n",
              "13999 2021-02-15  SCHPMT     P2P_COMMIT          P2P  2/15/2021   \n",
              "\n",
              "      FRAUD_NONFRAUD CUST_AGE_NEW WF_dvc_age_NEW recentpwdupdate  \n",
              "0          Non-Fraud    dep_adult              0               0  \n",
              "1          Non-Fraud    dep_adult              0               0  \n",
              "2              Fraud    dep_adult              0               0  \n",
              "3          Non-Fraud   vuln_adult              0               0  \n",
              "4              Fraud   vuln_adult              0               1  \n",
              "...              ...          ...            ...             ...  \n",
              "13995      Non-Fraud    dep_adult              1               0  \n",
              "13996      Non-Fraud    dep_adult              1               0  \n",
              "13997          Fraud    dep_adult              0               1  \n",
              "13998          Fraud    dep_adult              1               0  \n",
              "13999      Non-Fraud   vuln_adult              0               0  \n",
              "\n",
              "[13879 rows x 25 columns]"
            ],
            "text/html": [
              "\n",
              "  <div id=\"df-114ded58-4afc-45f5-b65f-bac2d001a579\">\n",
              "    <div class=\"colab-df-container\">\n",
              "      <div>\n",
              "<style scoped>\n",
              "    .dataframe tbody tr th:only-of-type {\n",
              "        vertical-align: middle;\n",
              "    }\n",
              "\n",
              "    .dataframe tbody tr th {\n",
              "        vertical-align: top;\n",
              "    }\n",
              "\n",
              "    .dataframe thead th {\n",
              "        text-align: right;\n",
              "    }\n",
              "</style>\n",
              "<table border=\"1\" class=\"dataframe\">\n",
              "  <thead>\n",
              "    <tr style=\"text-align: right;\">\n",
              "      <th></th>\n",
              "      <th>TRAN_AMT</th>\n",
              "      <th>ACCT_PRE_TRAN_AVAIL_BAL</th>\n",
              "      <th>CUST_AGE</th>\n",
              "      <th>OPEN_ACCT_CT</th>\n",
              "      <th>CARR_NAME</th>\n",
              "      <th>RGN_NAME</th>\n",
              "      <th>STATE_PRVNC_TXT</th>\n",
              "      <th>ALERT_TRGR_CD</th>\n",
              "      <th>DVC_TYPE_TXT</th>\n",
              "      <th>AUTHC_PRIM_TYPE_CD</th>\n",
              "      <th>...</th>\n",
              "      <th>TRAN_TS</th>\n",
              "      <th>TRAN_DT</th>\n",
              "      <th>ACTN_CD</th>\n",
              "      <th>ACTN_INTNL_TXT</th>\n",
              "      <th>TRAN_TYPE_CD</th>\n",
              "      <th>ACTVY_DT</th>\n",
              "      <th>FRAUD_NONFRAUD</th>\n",
              "      <th>CUST_AGE_NEW</th>\n",
              "      <th>WF_dvc_age_NEW</th>\n",
              "      <th>recentpwdupdate</th>\n",
              "    </tr>\n",
              "  </thead>\n",
              "  <tbody>\n",
              "    <tr>\n",
              "      <th>0</th>\n",
              "      <td>5.38</td>\n",
              "      <td>23619.91</td>\n",
              "      <td>47</td>\n",
              "      <td>4</td>\n",
              "      <td>cox communications inc.</td>\n",
              "      <td>southwest</td>\n",
              "      <td>nevada</td>\n",
              "      <td>MOBL</td>\n",
              "      <td>NaN</td>\n",
              "      <td>UN_PWD</td>\n",
              "      <td>...</td>\n",
              "      <td>5/3/2021 18:3:58</td>\n",
              "      <td>2021-05-03</td>\n",
              "      <td>SCHPMT</td>\n",
              "      <td>P2P_COMMIT</td>\n",
              "      <td>P2P</td>\n",
              "      <td>5/3/2021</td>\n",
              "      <td>Non-Fraud</td>\n",
              "      <td>dep_adult</td>\n",
              "      <td>0</td>\n",
              "      <td>0</td>\n",
              "    </tr>\n",
              "    <tr>\n",
              "      <th>1</th>\n",
              "      <td>65.19</td>\n",
              "      <td>0.00</td>\n",
              "      <td>45</td>\n",
              "      <td>5</td>\n",
              "      <td>charter communications</td>\n",
              "      <td>southwest</td>\n",
              "      <td>california</td>\n",
              "      <td>MOBL</td>\n",
              "      <td>NaN</td>\n",
              "      <td>FACE_ID</td>\n",
              "      <td>...</td>\n",
              "      <td>1/13/2021 19:19:37</td>\n",
              "      <td>2021-01-13</td>\n",
              "      <td>SCHPMT</td>\n",
              "      <td>P2P_COMMIT</td>\n",
              "      <td>P2P</td>\n",
              "      <td>1/13/2021</td>\n",
              "      <td>Non-Fraud</td>\n",
              "      <td>dep_adult</td>\n",
              "      <td>0</td>\n",
              "      <td>0</td>\n",
              "    </tr>\n",
              "    <tr>\n",
              "      <th>2</th>\n",
              "      <td>54.84</td>\n",
              "      <td>34570.63</td>\n",
              "      <td>36</td>\n",
              "      <td>8</td>\n",
              "      <td>utah broadband llc</td>\n",
              "      <td>mountain</td>\n",
              "      <td>utah</td>\n",
              "      <td>ONLN</td>\n",
              "      <td>DESKTOP</td>\n",
              "      <td>UN_PWD</td>\n",
              "      <td>...</td>\n",
              "      <td>4/8/2021 9:42:51</td>\n",
              "      <td>2021-04-08</td>\n",
              "      <td>SCHPMT</td>\n",
              "      <td>P2P_COMMIT</td>\n",
              "      <td>P2P</td>\n",
              "      <td>4/8/2021</td>\n",
              "      <td>Fraud</td>\n",
              "      <td>dep_adult</td>\n",
              "      <td>0</td>\n",
              "      <td>0</td>\n",
              "    </tr>\n",
              "    <tr>\n",
              "      <th>3</th>\n",
              "      <td>0.01</td>\n",
              "      <td>0.00</td>\n",
              "      <td>62</td>\n",
              "      <td>3</td>\n",
              "      <td>t-mobile usa  inc.</td>\n",
              "      <td>southwest</td>\n",
              "      <td>california</td>\n",
              "      <td>MOBL</td>\n",
              "      <td>MOBILE</td>\n",
              "      <td>UN_PWD</td>\n",
              "      <td>...</td>\n",
              "      <td>8/10/2021 15:28:31</td>\n",
              "      <td>2021-08-10</td>\n",
              "      <td>SCHPMT</td>\n",
              "      <td>P2P_COMMIT</td>\n",
              "      <td>P2P</td>\n",
              "      <td>8/10/2021</td>\n",
              "      <td>Non-Fraud</td>\n",
              "      <td>vuln_adult</td>\n",
              "      <td>0</td>\n",
              "      <td>0</td>\n",
              "    </tr>\n",
              "    <tr>\n",
              "      <th>4</th>\n",
              "      <td>497.08</td>\n",
              "      <td>12725.18</td>\n",
              "      <td>81</td>\n",
              "      <td>2</td>\n",
              "      <td>cogent communications</td>\n",
              "      <td>south central</td>\n",
              "      <td>texas</td>\n",
              "      <td>MOBL</td>\n",
              "      <td>MOBILE</td>\n",
              "      <td>UN_PWD</td>\n",
              "      <td>...</td>\n",
              "      <td>6/27/2021 11:12:44</td>\n",
              "      <td>2021-06-27</td>\n",
              "      <td>SCHPMT</td>\n",
              "      <td>P2P_COMMIT</td>\n",
              "      <td>P2P</td>\n",
              "      <td>6/27/2021</td>\n",
              "      <td>Fraud</td>\n",
              "      <td>vuln_adult</td>\n",
              "      <td>0</td>\n",
              "      <td>1</td>\n",
              "    </tr>\n",
              "    <tr>\n",
              "      <th>...</th>\n",
              "      <td>...</td>\n",
              "      <td>...</td>\n",
              "      <td>...</td>\n",
              "      <td>...</td>\n",
              "      <td>...</td>\n",
              "      <td>...</td>\n",
              "      <td>...</td>\n",
              "      <td>...</td>\n",
              "      <td>...</td>\n",
              "      <td>...</td>\n",
              "      <td>...</td>\n",
              "      <td>...</td>\n",
              "      <td>...</td>\n",
              "      <td>...</td>\n",
              "      <td>...</td>\n",
              "      <td>...</td>\n",
              "      <td>...</td>\n",
              "      <td>...</td>\n",
              "      <td>...</td>\n",
              "      <td>...</td>\n",
              "      <td>...</td>\n",
              "    </tr>\n",
              "    <tr>\n",
              "      <th>13995</th>\n",
              "      <td>1937.21</td>\n",
              "      <td>230.75</td>\n",
              "      <td>55</td>\n",
              "      <td>4</td>\n",
              "      <td>cellco partnership dba verizon wireless</td>\n",
              "      <td>southwest</td>\n",
              "      <td>california</td>\n",
              "      <td>MOBL</td>\n",
              "      <td>MOBILE</td>\n",
              "      <td>UN_PWD</td>\n",
              "      <td>...</td>\n",
              "      <td>3/12/2021 12:11:59</td>\n",
              "      <td>2021-03-12</td>\n",
              "      <td>SCHPMT</td>\n",
              "      <td>P2P_COMMIT</td>\n",
              "      <td>P2P</td>\n",
              "      <td>3/12/2021</td>\n",
              "      <td>Non-Fraud</td>\n",
              "      <td>dep_adult</td>\n",
              "      <td>1</td>\n",
              "      <td>0</td>\n",
              "    </tr>\n",
              "    <tr>\n",
              "      <th>13996</th>\n",
              "      <td>114.38</td>\n",
              "      <td>0.00</td>\n",
              "      <td>44</td>\n",
              "      <td>10</td>\n",
              "      <td>t-mobile usa  inc.</td>\n",
              "      <td>southwest</td>\n",
              "      <td>california</td>\n",
              "      <td>MOBL</td>\n",
              "      <td>MOBILE</td>\n",
              "      <td>FACE_ID</td>\n",
              "      <td>...</td>\n",
              "      <td>6/11/2021 9:28:20</td>\n",
              "      <td>2021-06-11</td>\n",
              "      <td>SCHPMT</td>\n",
              "      <td>P2P_COMMIT</td>\n",
              "      <td>P2P</td>\n",
              "      <td>6/11/2021</td>\n",
              "      <td>Non-Fraud</td>\n",
              "      <td>dep_adult</td>\n",
              "      <td>1</td>\n",
              "      <td>0</td>\n",
              "    </tr>\n",
              "    <tr>\n",
              "      <th>13997</th>\n",
              "      <td>493.00</td>\n",
              "      <td>2848.63</td>\n",
              "      <td>54</td>\n",
              "      <td>3</td>\n",
              "      <td>att services inc</td>\n",
              "      <td>southwest</td>\n",
              "      <td>california</td>\n",
              "      <td>MOBL</td>\n",
              "      <td>DESKTOP</td>\n",
              "      <td>UN_PWD</td>\n",
              "      <td>...</td>\n",
              "      <td>5/16/2021 12:31:15</td>\n",
              "      <td>2021-05-16</td>\n",
              "      <td>SCHPMT</td>\n",
              "      <td>P2P_COMMIT</td>\n",
              "      <td>P2P</td>\n",
              "      <td>5/16/2021</td>\n",
              "      <td>Fraud</td>\n",
              "      <td>dep_adult</td>\n",
              "      <td>0</td>\n",
              "      <td>1</td>\n",
              "    </tr>\n",
              "    <tr>\n",
              "      <th>13998</th>\n",
              "      <td>491.64</td>\n",
              "      <td>3163.25</td>\n",
              "      <td>21</td>\n",
              "      <td>3</td>\n",
              "      <td>NaN</td>\n",
              "      <td>NaN</td>\n",
              "      <td>NaN</td>\n",
              "      <td>ONLN</td>\n",
              "      <td>DESKTOP</td>\n",
              "      <td>UN_PWD</td>\n",
              "      <td>...</td>\n",
              "      <td>5/11/2021 12:34:54</td>\n",
              "      <td>2021-05-11</td>\n",
              "      <td>SCHPMT</td>\n",
              "      <td>P2P_COMMIT</td>\n",
              "      <td>P2P</td>\n",
              "      <td>5/11/2021</td>\n",
              "      <td>Fraud</td>\n",
              "      <td>dep_adult</td>\n",
              "      <td>1</td>\n",
              "      <td>0</td>\n",
              "    </tr>\n",
              "    <tr>\n",
              "      <th>13999</th>\n",
              "      <td>6.02</td>\n",
              "      <td>0.00</td>\n",
              "      <td>60</td>\n",
              "      <td>6</td>\n",
              "      <td>charter communications inc</td>\n",
              "      <td>south central</td>\n",
              "      <td>texas</td>\n",
              "      <td>MOBL</td>\n",
              "      <td>MOBILE</td>\n",
              "      <td>UN_PWD</td>\n",
              "      <td>...</td>\n",
              "      <td>2/15/2021 16:38:0</td>\n",
              "      <td>2021-02-15</td>\n",
              "      <td>SCHPMT</td>\n",
              "      <td>P2P_COMMIT</td>\n",
              "      <td>P2P</td>\n",
              "      <td>2/15/2021</td>\n",
              "      <td>Non-Fraud</td>\n",
              "      <td>vuln_adult</td>\n",
              "      <td>0</td>\n",
              "      <td>0</td>\n",
              "    </tr>\n",
              "  </tbody>\n",
              "</table>\n",
              "<p>13879 rows × 25 columns</p>\n",
              "</div>\n",
              "      <button class=\"colab-df-convert\" onclick=\"convertToInteractive('df-114ded58-4afc-45f5-b65f-bac2d001a579')\"\n",
              "              title=\"Convert this dataframe to an interactive table.\"\n",
              "              style=\"display:none;\">\n",
              "        \n",
              "  <svg xmlns=\"http://www.w3.org/2000/svg\" height=\"24px\"viewBox=\"0 0 24 24\"\n",
              "       width=\"24px\">\n",
              "    <path d=\"M0 0h24v24H0V0z\" fill=\"none\"/>\n",
              "    <path d=\"M18.56 5.44l.94 2.06.94-2.06 2.06-.94-2.06-.94-.94-2.06-.94 2.06-2.06.94zm-11 1L8.5 8.5l.94-2.06 2.06-.94-2.06-.94L8.5 2.5l-.94 2.06-2.06.94zm10 10l.94 2.06.94-2.06 2.06-.94-2.06-.94-.94-2.06-.94 2.06-2.06.94z\"/><path d=\"M17.41 7.96l-1.37-1.37c-.4-.4-.92-.59-1.43-.59-.52 0-1.04.2-1.43.59L10.3 9.45l-7.72 7.72c-.78.78-.78 2.05 0 2.83L4 21.41c.39.39.9.59 1.41.59.51 0 1.02-.2 1.41-.59l7.78-7.78 2.81-2.81c.8-.78.8-2.07 0-2.86zM5.41 20L4 18.59l7.72-7.72 1.47 1.35L5.41 20z\"/>\n",
              "  </svg>\n",
              "      </button>\n",
              "      \n",
              "  <style>\n",
              "    .colab-df-container {\n",
              "      display:flex;\n",
              "      flex-wrap:wrap;\n",
              "      gap: 12px;\n",
              "    }\n",
              "\n",
              "    .colab-df-convert {\n",
              "      background-color: #E8F0FE;\n",
              "      border: none;\n",
              "      border-radius: 50%;\n",
              "      cursor: pointer;\n",
              "      display: none;\n",
              "      fill: #1967D2;\n",
              "      height: 32px;\n",
              "      padding: 0 0 0 0;\n",
              "      width: 32px;\n",
              "    }\n",
              "\n",
              "    .colab-df-convert:hover {\n",
              "      background-color: #E2EBFA;\n",
              "      box-shadow: 0px 1px 2px rgba(60, 64, 67, 0.3), 0px 1px 3px 1px rgba(60, 64, 67, 0.15);\n",
              "      fill: #174EA6;\n",
              "    }\n",
              "\n",
              "    [theme=dark] .colab-df-convert {\n",
              "      background-color: #3B4455;\n",
              "      fill: #D2E3FC;\n",
              "    }\n",
              "\n",
              "    [theme=dark] .colab-df-convert:hover {\n",
              "      background-color: #434B5C;\n",
              "      box-shadow: 0px 1px 3px 1px rgba(0, 0, 0, 0.15);\n",
              "      filter: drop-shadow(0px 1px 2px rgba(0, 0, 0, 0.3));\n",
              "      fill: #FFFFFF;\n",
              "    }\n",
              "  </style>\n",
              "\n",
              "      <script>\n",
              "        const buttonEl =\n",
              "          document.querySelector('#df-114ded58-4afc-45f5-b65f-bac2d001a579 button.colab-df-convert');\n",
              "        buttonEl.style.display =\n",
              "          google.colab.kernel.accessAllowed ? 'block' : 'none';\n",
              "\n",
              "        async function convertToInteractive(key) {\n",
              "          const element = document.querySelector('#df-114ded58-4afc-45f5-b65f-bac2d001a579');\n",
              "          const dataTable =\n",
              "            await google.colab.kernel.invokeFunction('convertToInteractive',\n",
              "                                                     [key], {});\n",
              "          if (!dataTable) return;\n",
              "\n",
              "          const docLinkHtml = 'Like what you see? Visit the ' +\n",
              "            '<a target=\"_blank\" href=https://colab.research.google.com/notebooks/data_table.ipynb>data table notebook</a>'\n",
              "            + ' to learn more about interactive tables.';\n",
              "          element.innerHTML = '';\n",
              "          dataTable['output_type'] = 'display_data';\n",
              "          await google.colab.output.renderOutput(dataTable, element);\n",
              "          const docLink = document.createElement('div');\n",
              "          docLink.innerHTML = docLinkHtml;\n",
              "          element.appendChild(docLink);\n",
              "        }\n",
              "      </script>\n",
              "    </div>\n",
              "  </div>\n",
              "  "
            ]
          },
          "metadata": {},
          "execution_count": 48
        }
      ],
      "source": [
        "df['recentpwdupdate'] =np.where((df['months_pwd'] >= 0) & (df['months_pwd'] <= 6) , 1, 0)\n",
        "df = df.drop(columns = {'PWD_UPDT_DT','months_pwd'})\n",
        "df"
      ]
    },
    {
      "cell_type": "markdown",
      "metadata": {
        "id": "hXAcEFhKhql9"
      },
      "source": [
        "CARR_NAME represents the name of the carrier derived from Internet Protocol (IP) Address of the customer's device. There are many unique values in this column and there are 2676 missing values in this column. Therefore, we create a new column CARR_NAME_avail which tells us if the carrier info is available or not. If the info is available we map it to 1. We then drop the 'CARR_NAME' column."
      ]
    },
    {
      "cell_type": "code",
      "execution_count": null,
      "metadata": {
        "colab": {
          "base_uri": "https://localhost:8080/",
          "height": 661
        },
        "id": "_PufNKVUhql9",
        "outputId": "487309cd-2b4b-41ec-f84d-af21c08c5a12"
      },
      "outputs": [
        {
          "output_type": "execute_result",
          "data": {
            "text/plain": [
              "       TRAN_AMT  ACCT_PRE_TRAN_AVAIL_BAL  CUST_AGE  OPEN_ACCT_CT  \\\n",
              "0          5.38                 23619.91        47             4   \n",
              "1         65.19                     0.00        45             5   \n",
              "2         54.84                 34570.63        36             8   \n",
              "3          0.01                     0.00        62             3   \n",
              "4        497.08                 12725.18        81             2   \n",
              "...         ...                      ...       ...           ...   \n",
              "13995   1937.21                   230.75        55             4   \n",
              "13996    114.38                     0.00        44            10   \n",
              "13997    493.00                  2848.63        54             3   \n",
              "13998    491.64                  3163.25        21             3   \n",
              "13999      6.02                     0.00        60             6   \n",
              "\n",
              "            RGN_NAME STATE_PRVNC_TXT ALERT_TRGR_CD DVC_TYPE_TXT  \\\n",
              "0          southwest          nevada          MOBL          NaN   \n",
              "1          southwest      california          MOBL          NaN   \n",
              "2           mountain            utah          ONLN      DESKTOP   \n",
              "3          southwest      california          MOBL       MOBILE   \n",
              "4      south central           texas          MOBL       MOBILE   \n",
              "...              ...             ...           ...          ...   \n",
              "13995      southwest      california          MOBL       MOBILE   \n",
              "13996      southwest      california          MOBL       MOBILE   \n",
              "13997      southwest      california          MOBL      DESKTOP   \n",
              "13998            NaN             NaN          ONLN      DESKTOP   \n",
              "13999  south central           texas          MOBL       MOBILE   \n",
              "\n",
              "      AUTHC_PRIM_TYPE_CD AUTHC_SCNDRY_STAT_TXT  ...    TRAN_DT ACTN_CD  \\\n",
              "0                 UN_PWD                 ALLOW  ... 2021-05-03  SCHPMT   \n",
              "1                FACE_ID                 ALLOW  ... 2021-01-13  SCHPMT   \n",
              "2                 UN_PWD                 ALLOW  ... 2021-04-08  SCHPMT   \n",
              "3                 UN_PWD                 ALLOW  ... 2021-08-10  SCHPMT   \n",
              "4                 UN_PWD     CHALLENGE_SUCCESS  ... 2021-06-27  SCHPMT   \n",
              "...                  ...                   ...  ...        ...     ...   \n",
              "13995             UN_PWD                 ALLOW  ... 2021-03-12  SCHPMT   \n",
              "13996            FACE_ID                 ALLOW  ... 2021-06-11  SCHPMT   \n",
              "13997             UN_PWD                 ALLOW  ... 2021-05-16  SCHPMT   \n",
              "13998             UN_PWD                 ALLOW  ... 2021-05-11  SCHPMT   \n",
              "13999             UN_PWD                 ALLOW  ... 2021-02-15  SCHPMT   \n",
              "\n",
              "      ACTN_INTNL_TXT TRAN_TYPE_CD   ACTVY_DT FRAUD_NONFRAUD CUST_AGE_NEW  \\\n",
              "0         P2P_COMMIT          P2P   5/3/2021      Non-Fraud    dep_adult   \n",
              "1         P2P_COMMIT          P2P  1/13/2021      Non-Fraud    dep_adult   \n",
              "2         P2P_COMMIT          P2P   4/8/2021          Fraud    dep_adult   \n",
              "3         P2P_COMMIT          P2P  8/10/2021      Non-Fraud   vuln_adult   \n",
              "4         P2P_COMMIT          P2P  6/27/2021          Fraud   vuln_adult   \n",
              "...              ...          ...        ...            ...          ...   \n",
              "13995     P2P_COMMIT          P2P  3/12/2021      Non-Fraud    dep_adult   \n",
              "13996     P2P_COMMIT          P2P  6/11/2021      Non-Fraud    dep_adult   \n",
              "13997     P2P_COMMIT          P2P  5/16/2021          Fraud    dep_adult   \n",
              "13998     P2P_COMMIT          P2P  5/11/2021          Fraud    dep_adult   \n",
              "13999     P2P_COMMIT          P2P  2/15/2021      Non-Fraud   vuln_adult   \n",
              "\n",
              "      WF_dvc_age_NEW recentpwdupdate CARR_NAME_avail  \n",
              "0                  0               0               1  \n",
              "1                  0               0               1  \n",
              "2                  0               0               1  \n",
              "3                  0               0               1  \n",
              "4                  0               1               1  \n",
              "...              ...             ...             ...  \n",
              "13995              1               0               1  \n",
              "13996              1               0               1  \n",
              "13997              0               1               1  \n",
              "13998              1               0               1  \n",
              "13999              0               0               1  \n",
              "\n",
              "[13879 rows x 25 columns]"
            ],
            "text/html": [
              "\n",
              "  <div id=\"df-d7075d2d-bebb-44bc-85cb-7cbecb05dbc3\">\n",
              "    <div class=\"colab-df-container\">\n",
              "      <div>\n",
              "<style scoped>\n",
              "    .dataframe tbody tr th:only-of-type {\n",
              "        vertical-align: middle;\n",
              "    }\n",
              "\n",
              "    .dataframe tbody tr th {\n",
              "        vertical-align: top;\n",
              "    }\n",
              "\n",
              "    .dataframe thead th {\n",
              "        text-align: right;\n",
              "    }\n",
              "</style>\n",
              "<table border=\"1\" class=\"dataframe\">\n",
              "  <thead>\n",
              "    <tr style=\"text-align: right;\">\n",
              "      <th></th>\n",
              "      <th>TRAN_AMT</th>\n",
              "      <th>ACCT_PRE_TRAN_AVAIL_BAL</th>\n",
              "      <th>CUST_AGE</th>\n",
              "      <th>OPEN_ACCT_CT</th>\n",
              "      <th>RGN_NAME</th>\n",
              "      <th>STATE_PRVNC_TXT</th>\n",
              "      <th>ALERT_TRGR_CD</th>\n",
              "      <th>DVC_TYPE_TXT</th>\n",
              "      <th>AUTHC_PRIM_TYPE_CD</th>\n",
              "      <th>AUTHC_SCNDRY_STAT_TXT</th>\n",
              "      <th>...</th>\n",
              "      <th>TRAN_DT</th>\n",
              "      <th>ACTN_CD</th>\n",
              "      <th>ACTN_INTNL_TXT</th>\n",
              "      <th>TRAN_TYPE_CD</th>\n",
              "      <th>ACTVY_DT</th>\n",
              "      <th>FRAUD_NONFRAUD</th>\n",
              "      <th>CUST_AGE_NEW</th>\n",
              "      <th>WF_dvc_age_NEW</th>\n",
              "      <th>recentpwdupdate</th>\n",
              "      <th>CARR_NAME_avail</th>\n",
              "    </tr>\n",
              "  </thead>\n",
              "  <tbody>\n",
              "    <tr>\n",
              "      <th>0</th>\n",
              "      <td>5.38</td>\n",
              "      <td>23619.91</td>\n",
              "      <td>47</td>\n",
              "      <td>4</td>\n",
              "      <td>southwest</td>\n",
              "      <td>nevada</td>\n",
              "      <td>MOBL</td>\n",
              "      <td>NaN</td>\n",
              "      <td>UN_PWD</td>\n",
              "      <td>ALLOW</td>\n",
              "      <td>...</td>\n",
              "      <td>2021-05-03</td>\n",
              "      <td>SCHPMT</td>\n",
              "      <td>P2P_COMMIT</td>\n",
              "      <td>P2P</td>\n",
              "      <td>5/3/2021</td>\n",
              "      <td>Non-Fraud</td>\n",
              "      <td>dep_adult</td>\n",
              "      <td>0</td>\n",
              "      <td>0</td>\n",
              "      <td>1</td>\n",
              "    </tr>\n",
              "    <tr>\n",
              "      <th>1</th>\n",
              "      <td>65.19</td>\n",
              "      <td>0.00</td>\n",
              "      <td>45</td>\n",
              "      <td>5</td>\n",
              "      <td>southwest</td>\n",
              "      <td>california</td>\n",
              "      <td>MOBL</td>\n",
              "      <td>NaN</td>\n",
              "      <td>FACE_ID</td>\n",
              "      <td>ALLOW</td>\n",
              "      <td>...</td>\n",
              "      <td>2021-01-13</td>\n",
              "      <td>SCHPMT</td>\n",
              "      <td>P2P_COMMIT</td>\n",
              "      <td>P2P</td>\n",
              "      <td>1/13/2021</td>\n",
              "      <td>Non-Fraud</td>\n",
              "      <td>dep_adult</td>\n",
              "      <td>0</td>\n",
              "      <td>0</td>\n",
              "      <td>1</td>\n",
              "    </tr>\n",
              "    <tr>\n",
              "      <th>2</th>\n",
              "      <td>54.84</td>\n",
              "      <td>34570.63</td>\n",
              "      <td>36</td>\n",
              "      <td>8</td>\n",
              "      <td>mountain</td>\n",
              "      <td>utah</td>\n",
              "      <td>ONLN</td>\n",
              "      <td>DESKTOP</td>\n",
              "      <td>UN_PWD</td>\n",
              "      <td>ALLOW</td>\n",
              "      <td>...</td>\n",
              "      <td>2021-04-08</td>\n",
              "      <td>SCHPMT</td>\n",
              "      <td>P2P_COMMIT</td>\n",
              "      <td>P2P</td>\n",
              "      <td>4/8/2021</td>\n",
              "      <td>Fraud</td>\n",
              "      <td>dep_adult</td>\n",
              "      <td>0</td>\n",
              "      <td>0</td>\n",
              "      <td>1</td>\n",
              "    </tr>\n",
              "    <tr>\n",
              "      <th>3</th>\n",
              "      <td>0.01</td>\n",
              "      <td>0.00</td>\n",
              "      <td>62</td>\n",
              "      <td>3</td>\n",
              "      <td>southwest</td>\n",
              "      <td>california</td>\n",
              "      <td>MOBL</td>\n",
              "      <td>MOBILE</td>\n",
              "      <td>UN_PWD</td>\n",
              "      <td>ALLOW</td>\n",
              "      <td>...</td>\n",
              "      <td>2021-08-10</td>\n",
              "      <td>SCHPMT</td>\n",
              "      <td>P2P_COMMIT</td>\n",
              "      <td>P2P</td>\n",
              "      <td>8/10/2021</td>\n",
              "      <td>Non-Fraud</td>\n",
              "      <td>vuln_adult</td>\n",
              "      <td>0</td>\n",
              "      <td>0</td>\n",
              "      <td>1</td>\n",
              "    </tr>\n",
              "    <tr>\n",
              "      <th>4</th>\n",
              "      <td>497.08</td>\n",
              "      <td>12725.18</td>\n",
              "      <td>81</td>\n",
              "      <td>2</td>\n",
              "      <td>south central</td>\n",
              "      <td>texas</td>\n",
              "      <td>MOBL</td>\n",
              "      <td>MOBILE</td>\n",
              "      <td>UN_PWD</td>\n",
              "      <td>CHALLENGE_SUCCESS</td>\n",
              "      <td>...</td>\n",
              "      <td>2021-06-27</td>\n",
              "      <td>SCHPMT</td>\n",
              "      <td>P2P_COMMIT</td>\n",
              "      <td>P2P</td>\n",
              "      <td>6/27/2021</td>\n",
              "      <td>Fraud</td>\n",
              "      <td>vuln_adult</td>\n",
              "      <td>0</td>\n",
              "      <td>1</td>\n",
              "      <td>1</td>\n",
              "    </tr>\n",
              "    <tr>\n",
              "      <th>...</th>\n",
              "      <td>...</td>\n",
              "      <td>...</td>\n",
              "      <td>...</td>\n",
              "      <td>...</td>\n",
              "      <td>...</td>\n",
              "      <td>...</td>\n",
              "      <td>...</td>\n",
              "      <td>...</td>\n",
              "      <td>...</td>\n",
              "      <td>...</td>\n",
              "      <td>...</td>\n",
              "      <td>...</td>\n",
              "      <td>...</td>\n",
              "      <td>...</td>\n",
              "      <td>...</td>\n",
              "      <td>...</td>\n",
              "      <td>...</td>\n",
              "      <td>...</td>\n",
              "      <td>...</td>\n",
              "      <td>...</td>\n",
              "      <td>...</td>\n",
              "    </tr>\n",
              "    <tr>\n",
              "      <th>13995</th>\n",
              "      <td>1937.21</td>\n",
              "      <td>230.75</td>\n",
              "      <td>55</td>\n",
              "      <td>4</td>\n",
              "      <td>southwest</td>\n",
              "      <td>california</td>\n",
              "      <td>MOBL</td>\n",
              "      <td>MOBILE</td>\n",
              "      <td>UN_PWD</td>\n",
              "      <td>ALLOW</td>\n",
              "      <td>...</td>\n",
              "      <td>2021-03-12</td>\n",
              "      <td>SCHPMT</td>\n",
              "      <td>P2P_COMMIT</td>\n",
              "      <td>P2P</td>\n",
              "      <td>3/12/2021</td>\n",
              "      <td>Non-Fraud</td>\n",
              "      <td>dep_adult</td>\n",
              "      <td>1</td>\n",
              "      <td>0</td>\n",
              "      <td>1</td>\n",
              "    </tr>\n",
              "    <tr>\n",
              "      <th>13996</th>\n",
              "      <td>114.38</td>\n",
              "      <td>0.00</td>\n",
              "      <td>44</td>\n",
              "      <td>10</td>\n",
              "      <td>southwest</td>\n",
              "      <td>california</td>\n",
              "      <td>MOBL</td>\n",
              "      <td>MOBILE</td>\n",
              "      <td>FACE_ID</td>\n",
              "      <td>ALLOW</td>\n",
              "      <td>...</td>\n",
              "      <td>2021-06-11</td>\n",
              "      <td>SCHPMT</td>\n",
              "      <td>P2P_COMMIT</td>\n",
              "      <td>P2P</td>\n",
              "      <td>6/11/2021</td>\n",
              "      <td>Non-Fraud</td>\n",
              "      <td>dep_adult</td>\n",
              "      <td>1</td>\n",
              "      <td>0</td>\n",
              "      <td>1</td>\n",
              "    </tr>\n",
              "    <tr>\n",
              "      <th>13997</th>\n",
              "      <td>493.00</td>\n",
              "      <td>2848.63</td>\n",
              "      <td>54</td>\n",
              "      <td>3</td>\n",
              "      <td>southwest</td>\n",
              "      <td>california</td>\n",
              "      <td>MOBL</td>\n",
              "      <td>DESKTOP</td>\n",
              "      <td>UN_PWD</td>\n",
              "      <td>ALLOW</td>\n",
              "      <td>...</td>\n",
              "      <td>2021-05-16</td>\n",
              "      <td>SCHPMT</td>\n",
              "      <td>P2P_COMMIT</td>\n",
              "      <td>P2P</td>\n",
              "      <td>5/16/2021</td>\n",
              "      <td>Fraud</td>\n",
              "      <td>dep_adult</td>\n",
              "      <td>0</td>\n",
              "      <td>1</td>\n",
              "      <td>1</td>\n",
              "    </tr>\n",
              "    <tr>\n",
              "      <th>13998</th>\n",
              "      <td>491.64</td>\n",
              "      <td>3163.25</td>\n",
              "      <td>21</td>\n",
              "      <td>3</td>\n",
              "      <td>NaN</td>\n",
              "      <td>NaN</td>\n",
              "      <td>ONLN</td>\n",
              "      <td>DESKTOP</td>\n",
              "      <td>UN_PWD</td>\n",
              "      <td>ALLOW</td>\n",
              "      <td>...</td>\n",
              "      <td>2021-05-11</td>\n",
              "      <td>SCHPMT</td>\n",
              "      <td>P2P_COMMIT</td>\n",
              "      <td>P2P</td>\n",
              "      <td>5/11/2021</td>\n",
              "      <td>Fraud</td>\n",
              "      <td>dep_adult</td>\n",
              "      <td>1</td>\n",
              "      <td>0</td>\n",
              "      <td>1</td>\n",
              "    </tr>\n",
              "    <tr>\n",
              "      <th>13999</th>\n",
              "      <td>6.02</td>\n",
              "      <td>0.00</td>\n",
              "      <td>60</td>\n",
              "      <td>6</td>\n",
              "      <td>south central</td>\n",
              "      <td>texas</td>\n",
              "      <td>MOBL</td>\n",
              "      <td>MOBILE</td>\n",
              "      <td>UN_PWD</td>\n",
              "      <td>ALLOW</td>\n",
              "      <td>...</td>\n",
              "      <td>2021-02-15</td>\n",
              "      <td>SCHPMT</td>\n",
              "      <td>P2P_COMMIT</td>\n",
              "      <td>P2P</td>\n",
              "      <td>2/15/2021</td>\n",
              "      <td>Non-Fraud</td>\n",
              "      <td>vuln_adult</td>\n",
              "      <td>0</td>\n",
              "      <td>0</td>\n",
              "      <td>1</td>\n",
              "    </tr>\n",
              "  </tbody>\n",
              "</table>\n",
              "<p>13879 rows × 25 columns</p>\n",
              "</div>\n",
              "      <button class=\"colab-df-convert\" onclick=\"convertToInteractive('df-d7075d2d-bebb-44bc-85cb-7cbecb05dbc3')\"\n",
              "              title=\"Convert this dataframe to an interactive table.\"\n",
              "              style=\"display:none;\">\n",
              "        \n",
              "  <svg xmlns=\"http://www.w3.org/2000/svg\" height=\"24px\"viewBox=\"0 0 24 24\"\n",
              "       width=\"24px\">\n",
              "    <path d=\"M0 0h24v24H0V0z\" fill=\"none\"/>\n",
              "    <path d=\"M18.56 5.44l.94 2.06.94-2.06 2.06-.94-2.06-.94-.94-2.06-.94 2.06-2.06.94zm-11 1L8.5 8.5l.94-2.06 2.06-.94-2.06-.94L8.5 2.5l-.94 2.06-2.06.94zm10 10l.94 2.06.94-2.06 2.06-.94-2.06-.94-.94-2.06-.94 2.06-2.06.94z\"/><path d=\"M17.41 7.96l-1.37-1.37c-.4-.4-.92-.59-1.43-.59-.52 0-1.04.2-1.43.59L10.3 9.45l-7.72 7.72c-.78.78-.78 2.05 0 2.83L4 21.41c.39.39.9.59 1.41.59.51 0 1.02-.2 1.41-.59l7.78-7.78 2.81-2.81c.8-.78.8-2.07 0-2.86zM5.41 20L4 18.59l7.72-7.72 1.47 1.35L5.41 20z\"/>\n",
              "  </svg>\n",
              "      </button>\n",
              "      \n",
              "  <style>\n",
              "    .colab-df-container {\n",
              "      display:flex;\n",
              "      flex-wrap:wrap;\n",
              "      gap: 12px;\n",
              "    }\n",
              "\n",
              "    .colab-df-convert {\n",
              "      background-color: #E8F0FE;\n",
              "      border: none;\n",
              "      border-radius: 50%;\n",
              "      cursor: pointer;\n",
              "      display: none;\n",
              "      fill: #1967D2;\n",
              "      height: 32px;\n",
              "      padding: 0 0 0 0;\n",
              "      width: 32px;\n",
              "    }\n",
              "\n",
              "    .colab-df-convert:hover {\n",
              "      background-color: #E2EBFA;\n",
              "      box-shadow: 0px 1px 2px rgba(60, 64, 67, 0.3), 0px 1px 3px 1px rgba(60, 64, 67, 0.15);\n",
              "      fill: #174EA6;\n",
              "    }\n",
              "\n",
              "    [theme=dark] .colab-df-convert {\n",
              "      background-color: #3B4455;\n",
              "      fill: #D2E3FC;\n",
              "    }\n",
              "\n",
              "    [theme=dark] .colab-df-convert:hover {\n",
              "      background-color: #434B5C;\n",
              "      box-shadow: 0px 1px 3px 1px rgba(0, 0, 0, 0.15);\n",
              "      filter: drop-shadow(0px 1px 2px rgba(0, 0, 0, 0.3));\n",
              "      fill: #FFFFFF;\n",
              "    }\n",
              "  </style>\n",
              "\n",
              "      <script>\n",
              "        const buttonEl =\n",
              "          document.querySelector('#df-d7075d2d-bebb-44bc-85cb-7cbecb05dbc3 button.colab-df-convert');\n",
              "        buttonEl.style.display =\n",
              "          google.colab.kernel.accessAllowed ? 'block' : 'none';\n",
              "\n",
              "        async function convertToInteractive(key) {\n",
              "          const element = document.querySelector('#df-d7075d2d-bebb-44bc-85cb-7cbecb05dbc3');\n",
              "          const dataTable =\n",
              "            await google.colab.kernel.invokeFunction('convertToInteractive',\n",
              "                                                     [key], {});\n",
              "          if (!dataTable) return;\n",
              "\n",
              "          const docLinkHtml = 'Like what you see? Visit the ' +\n",
              "            '<a target=\"_blank\" href=https://colab.research.google.com/notebooks/data_table.ipynb>data table notebook</a>'\n",
              "            + ' to learn more about interactive tables.';\n",
              "          element.innerHTML = '';\n",
              "          dataTable['output_type'] = 'display_data';\n",
              "          await google.colab.output.renderOutput(dataTable, element);\n",
              "          const docLink = document.createElement('div');\n",
              "          docLink.innerHTML = docLinkHtml;\n",
              "          element.appendChild(docLink);\n",
              "        }\n",
              "      </script>\n",
              "    </div>\n",
              "  </div>\n",
              "  "
            ]
          },
          "metadata": {},
          "execution_count": 49
        }
      ],
      "source": [
        "# Carr info available = 1, not available = 0\n",
        "df['CARR_NAME_avail'] =np.where((df['CARR_NAME'] == np.NaN) , 0, 1)\n",
        "df = df.drop(['CARR_NAME'], axis=1)\n",
        "df"
      ]
    },
    {
      "cell_type": "markdown",
      "metadata": {
        "id": "Xo5kbL1dhql9"
      },
      "source": [
        "RGN_NAME represents the name of regions derived from Internet Protocol (IP) Address of the customer's device.Since there are many unique values we drop this column. We customer state and transaction state to determine whether the transaction happened in the different state. "
      ]
    },
    {
      "cell_type": "code",
      "execution_count": null,
      "metadata": {
        "id": "6GZqcJEkhql-"
      },
      "outputs": [],
      "source": [
        "# region name can be dropped. We will use cust_state and trax_state instead\n",
        "df = df.drop(['RGN_NAME'], axis=1)"
      ]
    },
    {
      "cell_type": "markdown",
      "metadata": {
        "id": "GI5WYbeghql-"
      },
      "source": [
        "The column CUST_ZIP has a zip code 22480 for which CUST_STATE is not available. This belongs to state VA. The state where the transaction happened is california for this instance.For rest of the missing values in CUST_STATE, CUST_ZIP is '0'. This can be treated as NaN. We can drop CUST_ZIP and focus on CUST_STATE & STATE_PRVNC_TXT."
      ]
    },
    {
      "cell_type": "code",
      "execution_count": null,
      "metadata": {
        "id": "1z7vF2YYhql-"
      },
      "outputs": [],
      "source": [
        "df = df.drop(['CUST_ZIP'], axis=1)"
      ]
    },
    {
      "cell_type": "markdown",
      "metadata": {
        "id": "VIxFSrOzhql-"
      },
      "source": [
        "We first replace STATE_PRVNC_TXT with the same format as CUST_STATE. This will help us identify if the transaction was done in the same state as that of customer state. If the Transaction didnt happen in the customer state intuitively it is more likely to be fraudulent.\n",
        "We create a new column STATE_Same that has value 1 if the customer state and transaction states are the same otherwise it takes value 0. We then drop CUST_STATE','STATE_PRVNC_TXT'."
      ]
    },
    {
      "cell_type": "code",
      "execution_count": null,
      "metadata": {
        "colab": {
          "base_uri": "https://localhost:8080/"
        },
        "id": "NNuvFk1rhql-",
        "outputId": "bcbce7af-8e1b-49bc-9a5f-751e8072096a"
      },
      "outputs": [
        {
          "output_type": "execute_result",
          "data": {
            "text/plain": [
              "array(['nevada', 'california', 'utah', 'texas', nan, 'arizona',\n",
              "       'wisconsin', 'minnesota', 'phnum penh', 'alabama', 'florida',\n",
              "       'nebraska', 'none', 'south dakota', 'punjab', 'north carolina',\n",
              "       'new york', 'michigan', 'colorado', 'massachusetts', 'antioquia',\n",
              "       'washington', 'arkansas', 'new jersey', 'kentucky',\n",
              "       'ostergotlands lan', 'tennessee', 'district of columbia',\n",
              "       'georgia', 'maryland', 'oregon', 'wyoming', 'oklahoma', 'illinois',\n",
              "       'north dakota', 'indiana', 'pennsylvania', 'distrito nacional',\n",
              "       'distrito capital', 'iowa', 'zuerich', 'hamerkaz', 'sonora',\n",
              "       'madrid', 'new mexico', 'new south wales', 'unknown',\n",
              "       'loire-atlantique', 'carabobo', 'montana', 'idaho', 'hong kong',\n",
              "       'ohio', 'south carolina', 'missouri', 'colima', 'baja california',\n",
              "       'noord-brabant', 'nairobi area', 'baden-wuerttemberg', 'virginia',\n",
              "       'alaska', 'hawaii', 'kansas', 'greater accra', 'kingston',\n",
              "       'connecticut', 'louisiana', 'bolivar', 'lagos', 'gujarat', 'zulia',\n",
              "       'jalisco', 'san salvador', 'west bengal', 'guerrero',\n",
              "       'distrito federal', 'mississippi', \"saint george's\", 'hampshire',\n",
              "       'paris', 'mazowieckie', 'region metropolitana', 'ha noi', 'lara',\n",
              "       'maine', 'seoul teukbyeolsi', 'telangana', 'victoria', 'kinshasa',\n",
              "       'aguascalientes', 'western australia', 'andhra pradesh',\n",
              "       'sao paulo', 'nueva esparta', 'dubayy', 'chihuahua',\n",
              "       'rhode island', 'istanbul', 'guatemala', 'gauteng',\n",
              "       'michoacan de ocampo', \"ra's al khaymah\", 'sodermanlands lan',\n",
              "       'da nang', 'taipei', 'sindh', 'tamaulipas', 'sinaloa', 'liverpool',\n",
              "       'western cape', 'aragua', 'british columbia', 'guanacaste',\n",
              "       '`amman', 'hessen', 'ontario', 'delaware', 'dublin', 'south west',\n",
              "       'west virginia', 'south australia', 'delhi', 'pichincha',\n",
              "       'new providence', 'tokyo', 'nordrhein-westfalen'], dtype=object)"
            ]
          },
          "metadata": {},
          "execution_count": 52
        }
      ],
      "source": [
        "df['STATE_PRVNC_TXT'].unique()"
      ]
    },
    {
      "cell_type": "code",
      "execution_count": null,
      "metadata": {
        "colab": {
          "base_uri": "https://localhost:8080/"
        },
        "id": "7ay-8dF4hql_",
        "outputId": "e859338b-3e61-46c6-9b2d-2c7e60bb86ea"
      },
      "outputs": [
        {
          "output_type": "execute_result",
          "data": {
            "text/plain": [
              "array(['NV', 'CA', 'MD', 'UT', 'CO', 'TX', 'VA', 'OR', 'NY', 'AZ', 'NJ',\n",
              "       'HI', 'GA', 'MN', 'SC', 'PA', 'FL', 'ID', 'OH', 'MS', 'NC', 'NM',\n",
              "       'WA', 'NE', 'MT', 'WI', 'IA', 'WY', 'TN', 'MO', 'AL', 'IL', 'SD',\n",
              "       'AR', 'AK', 'CT', 'MI', 'DC', 'IN', 'KY', nan, 'KS', 'LA', 'ND',\n",
              "       'OK', 'ME', 'DE', 'WV', 'GU'], dtype=object)"
            ]
          },
          "metadata": {},
          "execution_count": 53
        }
      ],
      "source": [
        "df['CUST_STATE'].unique()"
      ]
    },
    {
      "cell_type": "code",
      "execution_count": null,
      "metadata": {
        "id": "wE8ZOLNahql_"
      },
      "outputs": [],
      "source": [
        "df['STATE_PRVNC_TXT'] = df['STATE_PRVNC_TXT'].replace({'nevada': 'NV', 'california': 'CA', 'utah': 'UT', \n",
        "                                                       'texas': 'TX','arizona': 'Az', 'wisconsin': 'WI', \n",
        "                                                       'minnesota': 'MN','alabama': 'AL', 'florida': 'FL',\n",
        "                                                       'nebraska': 'NE','south dakota': 'SD', 'north carolina': 'NC',\n",
        "                                                       'new york': 'NY','michigan': 'MI', 'colorado': 'CO',                                                                               \n",
        "                                                       'massachusetts': 'MA','washington': 'WA', 'arkansas': 'AR',\n",
        "                                                        'kentucky': 'KY','tennessee': 'TN', 'georgia': 'GA',\n",
        "                                                        'maryland': 'MD','oregon': 'OR', 'wyoming': 'WI',\n",
        "                                                        'oklahoma': 'TX','illinois': 'Az', 'north dakota': 'WI',\n",
        "                                                       'indiana': 'TX','pennsylvania': 'Az', 'wyoming': 'WY',\n",
        "                                                       'new mexico': 'NM','montana': 'MT', 'idaho': 'ID',                                                       \n",
        "                                                        'ohio': 'OH','south carolina': 'SC', 'iowa': 'IA',\n",
        "                                                       'missouri': 'Mo','virginia': 'VA', 'alaska': 'AK',                                                       \n",
        "                                                        'hawaii': 'HI','kansas': 'KS', 'connecticut': 'CT',\n",
        "                                                        'louisiana': 'LA','mississippi': 'AS', 'maine': 'WE',           \n",
        "                                                     'rhode island': 'RI','delaware': 'DE', 'west virginia': 'WV'}).astype(str)"
      ]
    },
    {
      "cell_type": "code",
      "execution_count": null,
      "metadata": {
        "colab": {
          "base_uri": "https://localhost:8080/"
        },
        "id": "RUSVkuc5hql_",
        "outputId": "1bb800b9-fc69-49c5-9ad4-3a7fa0d8885d"
      },
      "outputs": [
        {
          "output_type": "stream",
          "name": "stdout",
          "text": [
            "<class 'pandas.core.frame.DataFrame'>\n",
            "Int64Index: 13879 entries, 0 to 13999\n",
            "Data columns (total 24 columns):\n",
            " #   Column                   Non-Null Count  Dtype         \n",
            "---  ------                   --------------  -----         \n",
            " 0   TRAN_AMT                 13879 non-null  float64       \n",
            " 1   ACCT_PRE_TRAN_AVAIL_BAL  13879 non-null  float64       \n",
            " 2   CUST_AGE                 13879 non-null  int64         \n",
            " 3   OPEN_ACCT_CT             13879 non-null  int64         \n",
            " 4   STATE_PRVNC_TXT          13879 non-null  object        \n",
            " 5   ALERT_TRGR_CD            13879 non-null  object        \n",
            " 6   DVC_TYPE_TXT             12138 non-null  object        \n",
            " 7   AUTHC_PRIM_TYPE_CD       13879 non-null  object        \n",
            " 8   AUTHC_SCNDRY_STAT_TXT    13809 non-null  object        \n",
            " 9   CUST_STATE               13843 non-null  object        \n",
            " 10  PH_NUM_UPDT_TS           6874 non-null   object        \n",
            " 11  CUST_SINCE_DT            13879 non-null  object        \n",
            " 12  TRAN_TS                  13879 non-null  object        \n",
            " 13  TRAN_DT                  13879 non-null  datetime64[ns]\n",
            " 14  ACTN_CD                  13879 non-null  object        \n",
            " 15  ACTN_INTNL_TXT           13879 non-null  object        \n",
            " 16  TRAN_TYPE_CD             13879 non-null  object        \n",
            " 17  ACTVY_DT                 13879 non-null  object        \n",
            " 18  FRAUD_NONFRAUD           13879 non-null  object        \n",
            " 19  CUST_AGE_NEW             13879 non-null  object        \n",
            " 20  WF_dvc_age_NEW           13879 non-null  int64         \n",
            " 21  recentpwdupdate          13879 non-null  int64         \n",
            " 22  CARR_NAME_avail          13879 non-null  int64         \n",
            " 23  STATE_Same               13879 non-null  int64         \n",
            "dtypes: datetime64[ns](1), float64(2), int64(6), object(15)\n",
            "memory usage: 2.6+ MB\n"
          ]
        }
      ],
      "source": [
        "df['STATE_Same']= (df['CUST_STATE'] == df['STATE_PRVNC_TXT'])\n",
        "df['STATE_Same'] = df['STATE_Same'].replace({'True': 1,'False':0}).astype(int)\n",
        "df.info()"
      ]
    },
    {
      "cell_type": "code",
      "execution_count": null,
      "metadata": {
        "colab": {
          "base_uri": "https://localhost:8080/"
        },
        "id": "3zyUX0wdhql_",
        "outputId": "0fb86f58-9120-40dc-b088-9ed303a1ac95"
      },
      "outputs": [
        {
          "output_type": "stream",
          "name": "stdout",
          "text": [
            "<class 'pandas.core.frame.DataFrame'>\n",
            "Int64Index: 13879 entries, 0 to 13999\n",
            "Data columns (total 22 columns):\n",
            " #   Column                   Non-Null Count  Dtype         \n",
            "---  ------                   --------------  -----         \n",
            " 0   TRAN_AMT                 13879 non-null  float64       \n",
            " 1   ACCT_PRE_TRAN_AVAIL_BAL  13879 non-null  float64       \n",
            " 2   CUST_AGE                 13879 non-null  int64         \n",
            " 3   OPEN_ACCT_CT             13879 non-null  int64         \n",
            " 4   ALERT_TRGR_CD            13879 non-null  object        \n",
            " 5   DVC_TYPE_TXT             12138 non-null  object        \n",
            " 6   AUTHC_PRIM_TYPE_CD       13879 non-null  object        \n",
            " 7   AUTHC_SCNDRY_STAT_TXT    13809 non-null  object        \n",
            " 8   PH_NUM_UPDT_TS           6874 non-null   object        \n",
            " 9   CUST_SINCE_DT            13879 non-null  object        \n",
            " 10  TRAN_TS                  13879 non-null  object        \n",
            " 11  TRAN_DT                  13879 non-null  datetime64[ns]\n",
            " 12  ACTN_CD                  13879 non-null  object        \n",
            " 13  ACTN_INTNL_TXT           13879 non-null  object        \n",
            " 14  TRAN_TYPE_CD             13879 non-null  object        \n",
            " 15  ACTVY_DT                 13879 non-null  object        \n",
            " 16  FRAUD_NONFRAUD           13879 non-null  object        \n",
            " 17  CUST_AGE_NEW             13879 non-null  object        \n",
            " 18  WF_dvc_age_NEW           13879 non-null  int64         \n",
            " 19  recentpwdupdate          13879 non-null  int64         \n",
            " 20  CARR_NAME_avail          13879 non-null  int64         \n",
            " 21  STATE_Same               13879 non-null  int64         \n",
            "dtypes: datetime64[ns](1), float64(2), int64(6), object(13)\n",
            "memory usage: 2.4+ MB\n"
          ]
        }
      ],
      "source": [
        "# Now we can drop extra original columns that we wont need \n",
        "df = df.drop(['CUST_STATE','STATE_PRVNC_TXT'], axis = 1)\n",
        "df.info()"
      ]
    },
    {
      "cell_type": "markdown",
      "metadata": {
        "id": "xJ8YrbGKhqmA"
      },
      "source": [
        "Now we can drop extra columns ACTN_CD,ACTN_INTNL_TXT, TRAN_TYPE_CD, TRAN_TS, 'CUST_AGE_NEW' since these values are same for all the instances.It wont make any difference. We can also drop ACTVY_DT as it is exactly same as TRAN_DT."
      ]
    },
    {
      "cell_type": "code",
      "execution_count": null,
      "metadata": {
        "colab": {
          "base_uri": "https://localhost:8080/"
        },
        "id": "tmC5qav_hqmA",
        "outputId": "6ab4aece-444e-4acb-eb6e-607947dc14a8"
      },
      "outputs": [
        {
          "output_type": "stream",
          "name": "stdout",
          "text": [
            "<class 'pandas.core.frame.DataFrame'>\n",
            "Int64Index: 13879 entries, 0 to 13999\n",
            "Data columns (total 16 columns):\n",
            " #   Column                   Non-Null Count  Dtype         \n",
            "---  ------                   --------------  -----         \n",
            " 0   TRAN_AMT                 13879 non-null  float64       \n",
            " 1   ACCT_PRE_TRAN_AVAIL_BAL  13879 non-null  float64       \n",
            " 2   CUST_AGE                 13879 non-null  int64         \n",
            " 3   OPEN_ACCT_CT             13879 non-null  int64         \n",
            " 4   ALERT_TRGR_CD            13879 non-null  object        \n",
            " 5   DVC_TYPE_TXT             12138 non-null  object        \n",
            " 6   AUTHC_PRIM_TYPE_CD       13879 non-null  object        \n",
            " 7   AUTHC_SCNDRY_STAT_TXT    13809 non-null  object        \n",
            " 8   PH_NUM_UPDT_TS           6874 non-null   object        \n",
            " 9   CUST_SINCE_DT            13879 non-null  object        \n",
            " 10  TRAN_DT                  13879 non-null  datetime64[ns]\n",
            " 11  FRAUD_NONFRAUD           13879 non-null  object        \n",
            " 12  WF_dvc_age_NEW           13879 non-null  int64         \n",
            " 13  recentpwdupdate          13879 non-null  int64         \n",
            " 14  CARR_NAME_avail          13879 non-null  int64         \n",
            " 15  STATE_Same               13879 non-null  int64         \n",
            "dtypes: datetime64[ns](1), float64(2), int64(6), object(7)\n",
            "memory usage: 1.8+ MB\n"
          ]
        }
      ],
      "source": [
        "df = df.drop(['ACTN_CD','ACTN_INTNL_TXT','TRAN_TYPE_CD','ACTVY_DT','TRAN_TS','CUST_AGE_NEW'], axis = 1)\n",
        "df.info()"
      ]
    },
    {
      "cell_type": "markdown",
      "metadata": {
        "id": "xZLlpenFhqmA"
      },
      "source": [
        "Column ALERT_TRGR_CD -> 'MOBL':1,'ONLN':0. We map the most frequent category as 1."
      ]
    },
    {
      "cell_type": "code",
      "execution_count": null,
      "metadata": {
        "colab": {
          "base_uri": "https://localhost:8080/"
        },
        "id": "_1vABlikhqmA",
        "outputId": "d5d8f640-416f-4d43-9fdb-4c7e9ed5c659"
      },
      "outputs": [
        {
          "output_type": "execute_result",
          "data": {
            "text/plain": [
              "MOBL    7059\n",
              "ONLN    6820\n",
              "Name: ALERT_TRGR_CD, dtype: int64"
            ]
          },
          "metadata": {},
          "execution_count": 58
        }
      ],
      "source": [
        "# ALERT_TRGR_CD - maping the binomial categorical variable\n",
        "df['ALERT_TRGR_CD'].value_counts()"
      ]
    },
    {
      "cell_type": "code",
      "execution_count": null,
      "metadata": {
        "id": "e14w-yiwhqmA"
      },
      "outputs": [],
      "source": [
        "# MOBL = 1 and ONLN = 0\n",
        "df['ALERT_TRGR_CD'] = df['ALERT_TRGR_CD'].map({'MOBL':1,'ONLN':0}).astype(int)\n",
        "#df"
      ]
    },
    {
      "cell_type": "markdown",
      "metadata": {
        "id": "Xr5CxTxRhqmB"
      },
      "source": [
        "DVC_TYPE_TXT -> 1741 missing values that can be assigned a most frequent category."
      ]
    },
    {
      "cell_type": "code",
      "execution_count": null,
      "metadata": {
        "colab": {
          "base_uri": "https://localhost:8080/"
        },
        "id": "6cLJGmMOhqmB",
        "outputId": "928d3334-2e58-4ca0-bec5-4c50cdf8b46a"
      },
      "outputs": [
        {
          "output_type": "execute_result",
          "data": {
            "text/plain": [
              "MOBILE     8729\n",
              "DESKTOP    2959\n",
              "TABLET      233\n",
              "PHONE       217\n",
              "Name: DVC_TYPE_TXT, dtype: int64"
            ]
          },
          "metadata": {},
          "execution_count": 60
        }
      ],
      "source": [
        "# DVC_TYPE_TXT - check the count\n",
        "df['DVC_TYPE_TXT'].value_counts()"
      ]
    },
    {
      "cell_type": "code",
      "execution_count": null,
      "metadata": {
        "colab": {
          "base_uri": "https://localhost:8080/",
          "height": 661
        },
        "id": "8CnXbpbNhqmB",
        "outputId": "fc3f9030-945e-4b90-9fb1-b85123f7e2f8"
      },
      "outputs": [
        {
          "output_type": "execute_result",
          "data": {
            "text/plain": [
              "       TRAN_AMT  ACCT_PRE_TRAN_AVAIL_BAL  CUST_AGE  OPEN_ACCT_CT  \\\n",
              "0          5.38                 23619.91        47             4   \n",
              "1         65.19                     0.00        45             5   \n",
              "2         54.84                 34570.63        36             8   \n",
              "3          0.01                     0.00        62             3   \n",
              "4        497.08                 12725.18        81             2   \n",
              "...         ...                      ...       ...           ...   \n",
              "13995   1937.21                   230.75        55             4   \n",
              "13996    114.38                     0.00        44            10   \n",
              "13997    493.00                  2848.63        54             3   \n",
              "13998    491.64                  3163.25        21             3   \n",
              "13999      6.02                     0.00        60             6   \n",
              "\n",
              "       ALERT_TRGR_CD DVC_TYPE_TXT AUTHC_PRIM_TYPE_CD AUTHC_SCNDRY_STAT_TXT  \\\n",
              "0                  1       MOBILE             UN_PWD                 ALLOW   \n",
              "1                  1       MOBILE            FACE_ID                 ALLOW   \n",
              "2                  0      DESKTOP             UN_PWD                 ALLOW   \n",
              "3                  1       MOBILE             UN_PWD                 ALLOW   \n",
              "4                  1       MOBILE             UN_PWD     CHALLENGE_SUCCESS   \n",
              "...              ...          ...                ...                   ...   \n",
              "13995              1       MOBILE             UN_PWD                 ALLOW   \n",
              "13996              1       MOBILE            FACE_ID                 ALLOW   \n",
              "13997              1      DESKTOP             UN_PWD                 ALLOW   \n",
              "13998              0      DESKTOP             UN_PWD                 ALLOW   \n",
              "13999              1       MOBILE             UN_PWD                 ALLOW   \n",
              "\n",
              "           PH_NUM_UPDT_TS        CUST_SINCE_DT    TRAN_DT FRAUD_NONFRAUD  \\\n",
              "0      2/24/2021 15:55:10  1993-01-06 00:00:00 2021-05-03      Non-Fraud   \n",
              "1                     NaN  1971-01-07 00:00:00 2021-01-13      Non-Fraud   \n",
              "2         5/5/2019 1:8:39  1994-02-01 00:00:00 2021-04-08          Fraud   \n",
              "3       2/16/2019 6:45:37  2001-11-01 00:00:00 2021-08-10      Non-Fraud   \n",
              "4        5/8/2020 10:27:6  1987-02-07 00:00:00 2021-06-27          Fraud   \n",
              "...                   ...                  ...        ...            ...   \n",
              "13995   7/15/2017 6:58:59  2001-06-05 00:00:00 2021-03-12      Non-Fraud   \n",
              "13996                 NaN  2010-06-03 00:00:00 2021-06-11      Non-Fraud   \n",
              "13997    5/25/2021 8:50:5  1984-10-27 00:00:00 2021-05-16          Fraud   \n",
              "13998                 NaN  2021-03-01 00:00:00 2021-05-11          Fraud   \n",
              "13999                 NaN  2013-01-09 00:00:00 2021-02-15      Non-Fraud   \n",
              "\n",
              "       WF_dvc_age_NEW  recentpwdupdate  CARR_NAME_avail  STATE_Same  \n",
              "0                   0                0                1           1  \n",
              "1                   0                0                1           1  \n",
              "2                   0                0                1           0  \n",
              "3                   0                0                1           0  \n",
              "4                   0                1                1           0  \n",
              "...               ...              ...              ...         ...  \n",
              "13995               1                0                1           1  \n",
              "13996               1                0                1           0  \n",
              "13997               0                1                1           0  \n",
              "13998               1                0                1           0  \n",
              "13999               0                0                1           0  \n",
              "\n",
              "[13879 rows x 16 columns]"
            ],
            "text/html": [
              "\n",
              "  <div id=\"df-526205da-b595-40b8-92e4-c18c346d704b\">\n",
              "    <div class=\"colab-df-container\">\n",
              "      <div>\n",
              "<style scoped>\n",
              "    .dataframe tbody tr th:only-of-type {\n",
              "        vertical-align: middle;\n",
              "    }\n",
              "\n",
              "    .dataframe tbody tr th {\n",
              "        vertical-align: top;\n",
              "    }\n",
              "\n",
              "    .dataframe thead th {\n",
              "        text-align: right;\n",
              "    }\n",
              "</style>\n",
              "<table border=\"1\" class=\"dataframe\">\n",
              "  <thead>\n",
              "    <tr style=\"text-align: right;\">\n",
              "      <th></th>\n",
              "      <th>TRAN_AMT</th>\n",
              "      <th>ACCT_PRE_TRAN_AVAIL_BAL</th>\n",
              "      <th>CUST_AGE</th>\n",
              "      <th>OPEN_ACCT_CT</th>\n",
              "      <th>ALERT_TRGR_CD</th>\n",
              "      <th>DVC_TYPE_TXT</th>\n",
              "      <th>AUTHC_PRIM_TYPE_CD</th>\n",
              "      <th>AUTHC_SCNDRY_STAT_TXT</th>\n",
              "      <th>PH_NUM_UPDT_TS</th>\n",
              "      <th>CUST_SINCE_DT</th>\n",
              "      <th>TRAN_DT</th>\n",
              "      <th>FRAUD_NONFRAUD</th>\n",
              "      <th>WF_dvc_age_NEW</th>\n",
              "      <th>recentpwdupdate</th>\n",
              "      <th>CARR_NAME_avail</th>\n",
              "      <th>STATE_Same</th>\n",
              "    </tr>\n",
              "  </thead>\n",
              "  <tbody>\n",
              "    <tr>\n",
              "      <th>0</th>\n",
              "      <td>5.38</td>\n",
              "      <td>23619.91</td>\n",
              "      <td>47</td>\n",
              "      <td>4</td>\n",
              "      <td>1</td>\n",
              "      <td>MOBILE</td>\n",
              "      <td>UN_PWD</td>\n",
              "      <td>ALLOW</td>\n",
              "      <td>2/24/2021 15:55:10</td>\n",
              "      <td>1993-01-06 00:00:00</td>\n",
              "      <td>2021-05-03</td>\n",
              "      <td>Non-Fraud</td>\n",
              "      <td>0</td>\n",
              "      <td>0</td>\n",
              "      <td>1</td>\n",
              "      <td>1</td>\n",
              "    </tr>\n",
              "    <tr>\n",
              "      <th>1</th>\n",
              "      <td>65.19</td>\n",
              "      <td>0.00</td>\n",
              "      <td>45</td>\n",
              "      <td>5</td>\n",
              "      <td>1</td>\n",
              "      <td>MOBILE</td>\n",
              "      <td>FACE_ID</td>\n",
              "      <td>ALLOW</td>\n",
              "      <td>NaN</td>\n",
              "      <td>1971-01-07 00:00:00</td>\n",
              "      <td>2021-01-13</td>\n",
              "      <td>Non-Fraud</td>\n",
              "      <td>0</td>\n",
              "      <td>0</td>\n",
              "      <td>1</td>\n",
              "      <td>1</td>\n",
              "    </tr>\n",
              "    <tr>\n",
              "      <th>2</th>\n",
              "      <td>54.84</td>\n",
              "      <td>34570.63</td>\n",
              "      <td>36</td>\n",
              "      <td>8</td>\n",
              "      <td>0</td>\n",
              "      <td>DESKTOP</td>\n",
              "      <td>UN_PWD</td>\n",
              "      <td>ALLOW</td>\n",
              "      <td>5/5/2019 1:8:39</td>\n",
              "      <td>1994-02-01 00:00:00</td>\n",
              "      <td>2021-04-08</td>\n",
              "      <td>Fraud</td>\n",
              "      <td>0</td>\n",
              "      <td>0</td>\n",
              "      <td>1</td>\n",
              "      <td>0</td>\n",
              "    </tr>\n",
              "    <tr>\n",
              "      <th>3</th>\n",
              "      <td>0.01</td>\n",
              "      <td>0.00</td>\n",
              "      <td>62</td>\n",
              "      <td>3</td>\n",
              "      <td>1</td>\n",
              "      <td>MOBILE</td>\n",
              "      <td>UN_PWD</td>\n",
              "      <td>ALLOW</td>\n",
              "      <td>2/16/2019 6:45:37</td>\n",
              "      <td>2001-11-01 00:00:00</td>\n",
              "      <td>2021-08-10</td>\n",
              "      <td>Non-Fraud</td>\n",
              "      <td>0</td>\n",
              "      <td>0</td>\n",
              "      <td>1</td>\n",
              "      <td>0</td>\n",
              "    </tr>\n",
              "    <tr>\n",
              "      <th>4</th>\n",
              "      <td>497.08</td>\n",
              "      <td>12725.18</td>\n",
              "      <td>81</td>\n",
              "      <td>2</td>\n",
              "      <td>1</td>\n",
              "      <td>MOBILE</td>\n",
              "      <td>UN_PWD</td>\n",
              "      <td>CHALLENGE_SUCCESS</td>\n",
              "      <td>5/8/2020 10:27:6</td>\n",
              "      <td>1987-02-07 00:00:00</td>\n",
              "      <td>2021-06-27</td>\n",
              "      <td>Fraud</td>\n",
              "      <td>0</td>\n",
              "      <td>1</td>\n",
              "      <td>1</td>\n",
              "      <td>0</td>\n",
              "    </tr>\n",
              "    <tr>\n",
              "      <th>...</th>\n",
              "      <td>...</td>\n",
              "      <td>...</td>\n",
              "      <td>...</td>\n",
              "      <td>...</td>\n",
              "      <td>...</td>\n",
              "      <td>...</td>\n",
              "      <td>...</td>\n",
              "      <td>...</td>\n",
              "      <td>...</td>\n",
              "      <td>...</td>\n",
              "      <td>...</td>\n",
              "      <td>...</td>\n",
              "      <td>...</td>\n",
              "      <td>...</td>\n",
              "      <td>...</td>\n",
              "      <td>...</td>\n",
              "    </tr>\n",
              "    <tr>\n",
              "      <th>13995</th>\n",
              "      <td>1937.21</td>\n",
              "      <td>230.75</td>\n",
              "      <td>55</td>\n",
              "      <td>4</td>\n",
              "      <td>1</td>\n",
              "      <td>MOBILE</td>\n",
              "      <td>UN_PWD</td>\n",
              "      <td>ALLOW</td>\n",
              "      <td>7/15/2017 6:58:59</td>\n",
              "      <td>2001-06-05 00:00:00</td>\n",
              "      <td>2021-03-12</td>\n",
              "      <td>Non-Fraud</td>\n",
              "      <td>1</td>\n",
              "      <td>0</td>\n",
              "      <td>1</td>\n",
              "      <td>1</td>\n",
              "    </tr>\n",
              "    <tr>\n",
              "      <th>13996</th>\n",
              "      <td>114.38</td>\n",
              "      <td>0.00</td>\n",
              "      <td>44</td>\n",
              "      <td>10</td>\n",
              "      <td>1</td>\n",
              "      <td>MOBILE</td>\n",
              "      <td>FACE_ID</td>\n",
              "      <td>ALLOW</td>\n",
              "      <td>NaN</td>\n",
              "      <td>2010-06-03 00:00:00</td>\n",
              "      <td>2021-06-11</td>\n",
              "      <td>Non-Fraud</td>\n",
              "      <td>1</td>\n",
              "      <td>0</td>\n",
              "      <td>1</td>\n",
              "      <td>0</td>\n",
              "    </tr>\n",
              "    <tr>\n",
              "      <th>13997</th>\n",
              "      <td>493.00</td>\n",
              "      <td>2848.63</td>\n",
              "      <td>54</td>\n",
              "      <td>3</td>\n",
              "      <td>1</td>\n",
              "      <td>DESKTOP</td>\n",
              "      <td>UN_PWD</td>\n",
              "      <td>ALLOW</td>\n",
              "      <td>5/25/2021 8:50:5</td>\n",
              "      <td>1984-10-27 00:00:00</td>\n",
              "      <td>2021-05-16</td>\n",
              "      <td>Fraud</td>\n",
              "      <td>0</td>\n",
              "      <td>1</td>\n",
              "      <td>1</td>\n",
              "      <td>0</td>\n",
              "    </tr>\n",
              "    <tr>\n",
              "      <th>13998</th>\n",
              "      <td>491.64</td>\n",
              "      <td>3163.25</td>\n",
              "      <td>21</td>\n",
              "      <td>3</td>\n",
              "      <td>0</td>\n",
              "      <td>DESKTOP</td>\n",
              "      <td>UN_PWD</td>\n",
              "      <td>ALLOW</td>\n",
              "      <td>NaN</td>\n",
              "      <td>2021-03-01 00:00:00</td>\n",
              "      <td>2021-05-11</td>\n",
              "      <td>Fraud</td>\n",
              "      <td>1</td>\n",
              "      <td>0</td>\n",
              "      <td>1</td>\n",
              "      <td>0</td>\n",
              "    </tr>\n",
              "    <tr>\n",
              "      <th>13999</th>\n",
              "      <td>6.02</td>\n",
              "      <td>0.00</td>\n",
              "      <td>60</td>\n",
              "      <td>6</td>\n",
              "      <td>1</td>\n",
              "      <td>MOBILE</td>\n",
              "      <td>UN_PWD</td>\n",
              "      <td>ALLOW</td>\n",
              "      <td>NaN</td>\n",
              "      <td>2013-01-09 00:00:00</td>\n",
              "      <td>2021-02-15</td>\n",
              "      <td>Non-Fraud</td>\n",
              "      <td>0</td>\n",
              "      <td>0</td>\n",
              "      <td>1</td>\n",
              "      <td>0</td>\n",
              "    </tr>\n",
              "  </tbody>\n",
              "</table>\n",
              "<p>13879 rows × 16 columns</p>\n",
              "</div>\n",
              "      <button class=\"colab-df-convert\" onclick=\"convertToInteractive('df-526205da-b595-40b8-92e4-c18c346d704b')\"\n",
              "              title=\"Convert this dataframe to an interactive table.\"\n",
              "              style=\"display:none;\">\n",
              "        \n",
              "  <svg xmlns=\"http://www.w3.org/2000/svg\" height=\"24px\"viewBox=\"0 0 24 24\"\n",
              "       width=\"24px\">\n",
              "    <path d=\"M0 0h24v24H0V0z\" fill=\"none\"/>\n",
              "    <path d=\"M18.56 5.44l.94 2.06.94-2.06 2.06-.94-2.06-.94-.94-2.06-.94 2.06-2.06.94zm-11 1L8.5 8.5l.94-2.06 2.06-.94-2.06-.94L8.5 2.5l-.94 2.06-2.06.94zm10 10l.94 2.06.94-2.06 2.06-.94-2.06-.94-.94-2.06-.94 2.06-2.06.94z\"/><path d=\"M17.41 7.96l-1.37-1.37c-.4-.4-.92-.59-1.43-.59-.52 0-1.04.2-1.43.59L10.3 9.45l-7.72 7.72c-.78.78-.78 2.05 0 2.83L4 21.41c.39.39.9.59 1.41.59.51 0 1.02-.2 1.41-.59l7.78-7.78 2.81-2.81c.8-.78.8-2.07 0-2.86zM5.41 20L4 18.59l7.72-7.72 1.47 1.35L5.41 20z\"/>\n",
              "  </svg>\n",
              "      </button>\n",
              "      \n",
              "  <style>\n",
              "    .colab-df-container {\n",
              "      display:flex;\n",
              "      flex-wrap:wrap;\n",
              "      gap: 12px;\n",
              "    }\n",
              "\n",
              "    .colab-df-convert {\n",
              "      background-color: #E8F0FE;\n",
              "      border: none;\n",
              "      border-radius: 50%;\n",
              "      cursor: pointer;\n",
              "      display: none;\n",
              "      fill: #1967D2;\n",
              "      height: 32px;\n",
              "      padding: 0 0 0 0;\n",
              "      width: 32px;\n",
              "    }\n",
              "\n",
              "    .colab-df-convert:hover {\n",
              "      background-color: #E2EBFA;\n",
              "      box-shadow: 0px 1px 2px rgba(60, 64, 67, 0.3), 0px 1px 3px 1px rgba(60, 64, 67, 0.15);\n",
              "      fill: #174EA6;\n",
              "    }\n",
              "\n",
              "    [theme=dark] .colab-df-convert {\n",
              "      background-color: #3B4455;\n",
              "      fill: #D2E3FC;\n",
              "    }\n",
              "\n",
              "    [theme=dark] .colab-df-convert:hover {\n",
              "      background-color: #434B5C;\n",
              "      box-shadow: 0px 1px 3px 1px rgba(0, 0, 0, 0.15);\n",
              "      filter: drop-shadow(0px 1px 2px rgba(0, 0, 0, 0.3));\n",
              "      fill: #FFFFFF;\n",
              "    }\n",
              "  </style>\n",
              "\n",
              "      <script>\n",
              "        const buttonEl =\n",
              "          document.querySelector('#df-526205da-b595-40b8-92e4-c18c346d704b button.colab-df-convert');\n",
              "        buttonEl.style.display =\n",
              "          google.colab.kernel.accessAllowed ? 'block' : 'none';\n",
              "\n",
              "        async function convertToInteractive(key) {\n",
              "          const element = document.querySelector('#df-526205da-b595-40b8-92e4-c18c346d704b');\n",
              "          const dataTable =\n",
              "            await google.colab.kernel.invokeFunction('convertToInteractive',\n",
              "                                                     [key], {});\n",
              "          if (!dataTable) return;\n",
              "\n",
              "          const docLinkHtml = 'Like what you see? Visit the ' +\n",
              "            '<a target=\"_blank\" href=https://colab.research.google.com/notebooks/data_table.ipynb>data table notebook</a>'\n",
              "            + ' to learn more about interactive tables.';\n",
              "          element.innerHTML = '';\n",
              "          dataTable['output_type'] = 'display_data';\n",
              "          await google.colab.output.renderOutput(dataTable, element);\n",
              "          const docLink = document.createElement('div');\n",
              "          docLink.innerHTML = docLinkHtml;\n",
              "          element.appendChild(docLink);\n",
              "        }\n",
              "      </script>\n",
              "    </div>\n",
              "  </div>\n",
              "  "
            ]
          },
          "metadata": {},
          "execution_count": 61
        }
      ],
      "source": [
        "# Replacing nan's by the maximum count value\n",
        "df['DVC_TYPE_TXT'] = df['DVC_TYPE_TXT'].replace(np.NaN, 'MOBILE')\n",
        "df"
      ]
    },
    {
      "cell_type": "code",
      "execution_count": null,
      "metadata": {
        "colab": {
          "base_uri": "https://localhost:8080/"
        },
        "id": "MlcdZkA8hqmE",
        "outputId": "ef1512f1-f3c3-4a00-e6a0-d560871df616"
      },
      "outputs": [
        {
          "output_type": "execute_result",
          "data": {
            "text/plain": [
              "MOBILE     10470\n",
              "DESKTOP     2959\n",
              "TABLET       233\n",
              "PHONE        217\n",
              "Name: DVC_TYPE_TXT, dtype: int64"
            ]
          },
          "metadata": {},
          "execution_count": 62
        }
      ],
      "source": [
        "df['DVC_TYPE_TXT'].value_counts()"
      ]
    },
    {
      "cell_type": "code",
      "execution_count": null,
      "metadata": {
        "colab": {
          "base_uri": "https://localhost:8080/"
        },
        "id": "wm4MaD6ahqmF",
        "outputId": "1a508baf-909f-4342-b2d9-236a6fcac52b"
      },
      "outputs": [
        {
          "output_type": "stream",
          "name": "stdout",
          "text": [
            "<class 'pandas.core.frame.DataFrame'>\n",
            "Int64Index: 13879 entries, 0 to 13999\n",
            "Data columns (total 19 columns):\n",
            " #   Column                   Non-Null Count  Dtype         \n",
            "---  ------                   --------------  -----         \n",
            " 0   TRAN_AMT                 13879 non-null  float64       \n",
            " 1   ACCT_PRE_TRAN_AVAIL_BAL  13879 non-null  float64       \n",
            " 2   CUST_AGE                 13879 non-null  int64         \n",
            " 3   OPEN_ACCT_CT             13879 non-null  int64         \n",
            " 4   ALERT_TRGR_CD            13879 non-null  int64         \n",
            " 5   AUTHC_PRIM_TYPE_CD       13879 non-null  object        \n",
            " 6   AUTHC_SCNDRY_STAT_TXT    13809 non-null  object        \n",
            " 7   PH_NUM_UPDT_TS           6874 non-null   object        \n",
            " 8   CUST_SINCE_DT            13879 non-null  object        \n",
            " 9   TRAN_DT                  13879 non-null  datetime64[ns]\n",
            " 10  FRAUD_NONFRAUD           13879 non-null  object        \n",
            " 11  WF_dvc_age_NEW           13879 non-null  int64         \n",
            " 12  recentpwdupdate          13879 non-null  int64         \n",
            " 13  CARR_NAME_avail          13879 non-null  int64         \n",
            " 14  STATE_Same               13879 non-null  int64         \n",
            " 15  DVC_TYPE_TXT_DESKTOP     13879 non-null  uint8         \n",
            " 16  DVC_TYPE_TXT_MOBILE      13879 non-null  uint8         \n",
            " 17  DVC_TYPE_TXT_PHONE       13879 non-null  uint8         \n",
            " 18  DVC_TYPE_TXT_TABLET      13879 non-null  uint8         \n",
            "dtypes: datetime64[ns](1), float64(2), int64(7), object(5), uint8(4)\n",
            "memory usage: 1.7+ MB\n"
          ]
        }
      ],
      "source": [
        "# one-hot encoding for 4 categories\n",
        "cols = pd.get_dummies(df['DVC_TYPE_TXT'], prefix= 'DVC_TYPE_TXT')\n",
        "df[cols.columns] = cols\n",
        "df.drop('DVC_TYPE_TXT', axis = 1, inplace = True)\n",
        "df.info()"
      ]
    },
    {
      "cell_type": "markdown",
      "metadata": {
        "id": "MKi-SCn5hqmF"
      },
      "source": [
        "AUTHC_PRIM_TYPE_CD has no missing values. Using one-hot coding for 5 categories."
      ]
    },
    {
      "cell_type": "code",
      "execution_count": null,
      "metadata": {
        "colab": {
          "base_uri": "https://localhost:8080/"
        },
        "id": "oobFryZHhqmF",
        "outputId": "4dd3ae1e-c2fe-43ad-9612-24d43075bd20"
      },
      "outputs": [
        {
          "output_type": "execute_result",
          "data": {
            "text/plain": [
              "UN_PWD      10461\n",
              "FACE_ID      1928\n",
              "AFA_PL        712\n",
              "TOUCH_ID      689\n",
              "AFA_BM         89\n",
              "Name: AUTHC_PRIM_TYPE_CD, dtype: int64"
            ]
          },
          "metadata": {},
          "execution_count": 64
        }
      ],
      "source": [
        "# AUTHC_PRIM_TYPE_CD - check the count\n",
        "df['AUTHC_PRIM_TYPE_CD'].value_counts()"
      ]
    },
    {
      "cell_type": "code",
      "execution_count": null,
      "metadata": {
        "colab": {
          "base_uri": "https://localhost:8080/"
        },
        "id": "iH3_3we_hqmF",
        "outputId": "7c7e27b2-dc78-40c2-c1d3-346d121b426d"
      },
      "outputs": [
        {
          "output_type": "stream",
          "name": "stdout",
          "text": [
            "<class 'pandas.core.frame.DataFrame'>\n",
            "Int64Index: 13879 entries, 0 to 13999\n",
            "Data columns (total 23 columns):\n",
            " #   Column                       Non-Null Count  Dtype         \n",
            "---  ------                       --------------  -----         \n",
            " 0   TRAN_AMT                     13879 non-null  float64       \n",
            " 1   ACCT_PRE_TRAN_AVAIL_BAL      13879 non-null  float64       \n",
            " 2   CUST_AGE                     13879 non-null  int64         \n",
            " 3   OPEN_ACCT_CT                 13879 non-null  int64         \n",
            " 4   ALERT_TRGR_CD                13879 non-null  int64         \n",
            " 5   AUTHC_SCNDRY_STAT_TXT        13809 non-null  object        \n",
            " 6   PH_NUM_UPDT_TS               6874 non-null   object        \n",
            " 7   CUST_SINCE_DT                13879 non-null  object        \n",
            " 8   TRAN_DT                      13879 non-null  datetime64[ns]\n",
            " 9   FRAUD_NONFRAUD               13879 non-null  object        \n",
            " 10  WF_dvc_age_NEW               13879 non-null  int64         \n",
            " 11  recentpwdupdate              13879 non-null  int64         \n",
            " 12  CARR_NAME_avail              13879 non-null  int64         \n",
            " 13  STATE_Same                   13879 non-null  int64         \n",
            " 14  DVC_TYPE_TXT_DESKTOP         13879 non-null  uint8         \n",
            " 15  DVC_TYPE_TXT_MOBILE          13879 non-null  uint8         \n",
            " 16  DVC_TYPE_TXT_PHONE           13879 non-null  uint8         \n",
            " 17  DVC_TYPE_TXT_TABLET          13879 non-null  uint8         \n",
            " 18  AUTHC_PRIM_TYPE_CD_AFA_BM    13879 non-null  uint8         \n",
            " 19  AUTHC_PRIM_TYPE_CD_AFA_PL    13879 non-null  uint8         \n",
            " 20  AUTHC_PRIM_TYPE_CD_FACE_ID   13879 non-null  uint8         \n",
            " 21  AUTHC_PRIM_TYPE_CD_TOUCH_ID  13879 non-null  uint8         \n",
            " 22  AUTHC_PRIM_TYPE_CD_UN_PWD    13879 non-null  uint8         \n",
            "dtypes: datetime64[ns](1), float64(2), int64(7), object(4), uint8(9)\n",
            "memory usage: 1.7+ MB\n"
          ]
        }
      ],
      "source": [
        "# one-hot encoding for 5 categories\n",
        "cols = pd.get_dummies(df['AUTHC_PRIM_TYPE_CD'], prefix= 'AUTHC_PRIM_TYPE_CD')\n",
        "df[cols.columns] = cols\n",
        "df.drop('AUTHC_PRIM_TYPE_CD', axis = 1, inplace = True)\n",
        "df.info()"
      ]
    },
    {
      "cell_type": "markdown",
      "metadata": {
        "id": "7U5asibuhqmG"
      },
      "source": [
        "AUTHC_SCNDRY_STAT_TXT has 70 missing values. These can be mapped to the most frequent category \"ALLOW\"."
      ]
    },
    {
      "cell_type": "code",
      "execution_count": null,
      "metadata": {
        "colab": {
          "base_uri": "https://localhost:8080/"
        },
        "id": "nLMCeU5shqmG",
        "outputId": "97402f69-b9f3-43be-dee9-1ed9b2f5f968"
      },
      "outputs": [
        {
          "output_type": "execute_result",
          "data": {
            "text/plain": [
              "ALLOW                13090\n",
              "CHALLENGE_SUCCESS      635\n",
              "CHALLENGE_ISSUED        84\n",
              "Name: AUTHC_SCNDRY_STAT_TXT, dtype: int64"
            ]
          },
          "metadata": {},
          "execution_count": 66
        }
      ],
      "source": [
        "# AUTHC_SCNDRY_STAT_TXT - check the count\n",
        "df['AUTHC_SCNDRY_STAT_TXT'].value_counts()"
      ]
    },
    {
      "cell_type": "code",
      "execution_count": null,
      "metadata": {
        "id": "o5PyNDI5hqmG"
      },
      "outputs": [],
      "source": [
        "# Replacing nan's by the maximum count value\n",
        "df['AUTHC_SCNDRY_STAT_TXT'] = df['AUTHC_SCNDRY_STAT_TXT'].replace(np.NaN, 'ALLOW')"
      ]
    },
    {
      "cell_type": "code",
      "execution_count": null,
      "metadata": {
        "colab": {
          "base_uri": "https://localhost:8080/"
        },
        "id": "Y5Tld69yhqmG",
        "outputId": "1785d337-3fc4-4749-b676-6b5c45c484fc"
      },
      "outputs": [
        {
          "output_type": "stream",
          "name": "stdout",
          "text": [
            "<class 'pandas.core.frame.DataFrame'>\n",
            "Int64Index: 13879 entries, 0 to 13999\n",
            "Data columns (total 25 columns):\n",
            " #   Column                                   Non-Null Count  Dtype         \n",
            "---  ------                                   --------------  -----         \n",
            " 0   TRAN_AMT                                 13879 non-null  float64       \n",
            " 1   ACCT_PRE_TRAN_AVAIL_BAL                  13879 non-null  float64       \n",
            " 2   CUST_AGE                                 13879 non-null  int64         \n",
            " 3   OPEN_ACCT_CT                             13879 non-null  int64         \n",
            " 4   ALERT_TRGR_CD                            13879 non-null  int64         \n",
            " 5   PH_NUM_UPDT_TS                           6874 non-null   object        \n",
            " 6   CUST_SINCE_DT                            13879 non-null  object        \n",
            " 7   TRAN_DT                                  13879 non-null  datetime64[ns]\n",
            " 8   FRAUD_NONFRAUD                           13879 non-null  object        \n",
            " 9   WF_dvc_age_NEW                           13879 non-null  int64         \n",
            " 10  recentpwdupdate                          13879 non-null  int64         \n",
            " 11  CARR_NAME_avail                          13879 non-null  int64         \n",
            " 12  STATE_Same                               13879 non-null  int64         \n",
            " 13  DVC_TYPE_TXT_DESKTOP                     13879 non-null  uint8         \n",
            " 14  DVC_TYPE_TXT_MOBILE                      13879 non-null  uint8         \n",
            " 15  DVC_TYPE_TXT_PHONE                       13879 non-null  uint8         \n",
            " 16  DVC_TYPE_TXT_TABLET                      13879 non-null  uint8         \n",
            " 17  AUTHC_PRIM_TYPE_CD_AFA_BM                13879 non-null  uint8         \n",
            " 18  AUTHC_PRIM_TYPE_CD_AFA_PL                13879 non-null  uint8         \n",
            " 19  AUTHC_PRIM_TYPE_CD_FACE_ID               13879 non-null  uint8         \n",
            " 20  AUTHC_PRIM_TYPE_CD_TOUCH_ID              13879 non-null  uint8         \n",
            " 21  AUTHC_PRIM_TYPE_CD_UN_PWD                13879 non-null  uint8         \n",
            " 22  AUTHC_SCNDRY_STAT_TXT_ALLOW              13879 non-null  uint8         \n",
            " 23  AUTHC_SCNDRY_STAT_TXT_CHALLENGE_ISSUED   13879 non-null  uint8         \n",
            " 24  AUTHC_SCNDRY_STAT_TXT_CHALLENGE_SUCCESS  13879 non-null  uint8         \n",
            "dtypes: datetime64[ns](1), float64(2), int64(7), object(3), uint8(12)\n",
            "memory usage: 1.6+ MB\n"
          ]
        }
      ],
      "source": [
        "# one-hot encoding for 5 categories\n",
        "cols = pd.get_dummies(df['AUTHC_SCNDRY_STAT_TXT'], prefix= 'AUTHC_SCNDRY_STAT_TXT')\n",
        "df[cols.columns] = cols\n",
        "df.drop('AUTHC_SCNDRY_STAT_TXT', axis = 1, inplace = True)\n",
        "df.info()"
      ]
    },
    {
      "cell_type": "markdown",
      "metadata": {
        "id": "8BSHLk56hqmH"
      },
      "source": [
        "PH_NUM_UPDT_TS -> Date and time when Wells Fargo customer's phone number was last updated. This is an important feature because if the phone number wasnot updated recently (with reference to the transaction) then there the transaction is likely to be fraud. If the difference between PH_NUM_UPDT_TS and TRAN_DT is upto 6 months -> then recently updated otherwise not updated => 1. PH_NUM_UPDT_TS has some invalid dates having day as 0 which is not possible. We correct that by defining a funtion that adds 1 day to that instance. "
      ]
    },
    {
      "cell_type": "code",
      "execution_count": null,
      "metadata": {
        "colab": {
          "base_uri": "https://localhost:8080/",
          "height": 661
        },
        "id": "mXaiJVT1hqmH",
        "outputId": "504b9d2b-67b7-497d-9dac-59f6453871b3"
      },
      "outputs": [
        {
          "output_type": "execute_result",
          "data": {
            "text/plain": [
              "       TRAN_AMT  ACCT_PRE_TRAN_AVAIL_BAL  CUST_AGE  OPEN_ACCT_CT  \\\n",
              "0          5.38                 23619.91        47             4   \n",
              "1         65.19                     0.00        45             5   \n",
              "2         54.84                 34570.63        36             8   \n",
              "3          0.01                     0.00        62             3   \n",
              "4        497.08                 12725.18        81             2   \n",
              "...         ...                      ...       ...           ...   \n",
              "13995   1937.21                   230.75        55             4   \n",
              "13996    114.38                     0.00        44            10   \n",
              "13997    493.00                  2848.63        54             3   \n",
              "13998    491.64                  3163.25        21             3   \n",
              "13999      6.02                     0.00        60             6   \n",
              "\n",
              "       ALERT_TRGR_CD      PH_NUM_UPDT_TS        CUST_SINCE_DT    TRAN_DT  \\\n",
              "0                  1 2021-02-24 15:55:10  1993-01-06 00:00:00 2021-05-03   \n",
              "1                  1                 NaT  1971-01-07 00:00:00 2021-01-13   \n",
              "2                  0 2019-05-05 01:08:39  1994-02-01 00:00:00 2021-04-08   \n",
              "3                  1 2019-02-16 06:45:37  2001-11-01 00:00:00 2021-08-10   \n",
              "4                  1 2020-05-08 10:27:06  1987-02-07 00:00:00 2021-06-27   \n",
              "...              ...                 ...                  ...        ...   \n",
              "13995              1 2017-07-15 06:58:59  2001-06-05 00:00:00 2021-03-12   \n",
              "13996              1                 NaT  2010-06-03 00:00:00 2021-06-11   \n",
              "13997              1 2021-05-25 08:50:05  1984-10-27 00:00:00 2021-05-16   \n",
              "13998              0                 NaT  2021-03-01 00:00:00 2021-05-11   \n",
              "13999              1                 NaT  2013-01-09 00:00:00 2021-02-15   \n",
              "\n",
              "      FRAUD_NONFRAUD  WF_dvc_age_NEW  ...  DVC_TYPE_TXT_PHONE  \\\n",
              "0          Non-Fraud               0  ...                   0   \n",
              "1          Non-Fraud               0  ...                   0   \n",
              "2              Fraud               0  ...                   0   \n",
              "3          Non-Fraud               0  ...                   0   \n",
              "4              Fraud               0  ...                   0   \n",
              "...              ...             ...  ...                 ...   \n",
              "13995      Non-Fraud               1  ...                   0   \n",
              "13996      Non-Fraud               1  ...                   0   \n",
              "13997          Fraud               0  ...                   0   \n",
              "13998          Fraud               1  ...                   0   \n",
              "13999      Non-Fraud               0  ...                   0   \n",
              "\n",
              "       DVC_TYPE_TXT_TABLET  AUTHC_PRIM_TYPE_CD_AFA_BM  \\\n",
              "0                        0                          0   \n",
              "1                        0                          0   \n",
              "2                        0                          0   \n",
              "3                        0                          0   \n",
              "4                        0                          0   \n",
              "...                    ...                        ...   \n",
              "13995                    0                          0   \n",
              "13996                    0                          0   \n",
              "13997                    0                          0   \n",
              "13998                    0                          0   \n",
              "13999                    0                          0   \n",
              "\n",
              "       AUTHC_PRIM_TYPE_CD_AFA_PL  AUTHC_PRIM_TYPE_CD_FACE_ID  \\\n",
              "0                              0                           0   \n",
              "1                              0                           1   \n",
              "2                              0                           0   \n",
              "3                              0                           0   \n",
              "4                              0                           0   \n",
              "...                          ...                         ...   \n",
              "13995                          0                           0   \n",
              "13996                          0                           1   \n",
              "13997                          0                           0   \n",
              "13998                          0                           0   \n",
              "13999                          0                           0   \n",
              "\n",
              "       AUTHC_PRIM_TYPE_CD_TOUCH_ID  AUTHC_PRIM_TYPE_CD_UN_PWD  \\\n",
              "0                                0                          1   \n",
              "1                                0                          0   \n",
              "2                                0                          1   \n",
              "3                                0                          1   \n",
              "4                                0                          1   \n",
              "...                            ...                        ...   \n",
              "13995                            0                          1   \n",
              "13996                            0                          0   \n",
              "13997                            0                          1   \n",
              "13998                            0                          1   \n",
              "13999                            0                          1   \n",
              "\n",
              "       AUTHC_SCNDRY_STAT_TXT_ALLOW  AUTHC_SCNDRY_STAT_TXT_CHALLENGE_ISSUED  \\\n",
              "0                                1                                       0   \n",
              "1                                1                                       0   \n",
              "2                                1                                       0   \n",
              "3                                1                                       0   \n",
              "4                                0                                       0   \n",
              "...                            ...                                     ...   \n",
              "13995                            1                                       0   \n",
              "13996                            1                                       0   \n",
              "13997                            1                                       0   \n",
              "13998                            1                                       0   \n",
              "13999                            1                                       0   \n",
              "\n",
              "       AUTHC_SCNDRY_STAT_TXT_CHALLENGE_SUCCESS  \n",
              "0                                            0  \n",
              "1                                            0  \n",
              "2                                            0  \n",
              "3                                            0  \n",
              "4                                            1  \n",
              "...                                        ...  \n",
              "13995                                        0  \n",
              "13996                                        0  \n",
              "13997                                        0  \n",
              "13998                                        0  \n",
              "13999                                        0  \n",
              "\n",
              "[13879 rows x 25 columns]"
            ],
            "text/html": [
              "\n",
              "  <div id=\"df-c07dc376-6a92-4813-8752-eebcc7aa2d57\">\n",
              "    <div class=\"colab-df-container\">\n",
              "      <div>\n",
              "<style scoped>\n",
              "    .dataframe tbody tr th:only-of-type {\n",
              "        vertical-align: middle;\n",
              "    }\n",
              "\n",
              "    .dataframe tbody tr th {\n",
              "        vertical-align: top;\n",
              "    }\n",
              "\n",
              "    .dataframe thead th {\n",
              "        text-align: right;\n",
              "    }\n",
              "</style>\n",
              "<table border=\"1\" class=\"dataframe\">\n",
              "  <thead>\n",
              "    <tr style=\"text-align: right;\">\n",
              "      <th></th>\n",
              "      <th>TRAN_AMT</th>\n",
              "      <th>ACCT_PRE_TRAN_AVAIL_BAL</th>\n",
              "      <th>CUST_AGE</th>\n",
              "      <th>OPEN_ACCT_CT</th>\n",
              "      <th>ALERT_TRGR_CD</th>\n",
              "      <th>PH_NUM_UPDT_TS</th>\n",
              "      <th>CUST_SINCE_DT</th>\n",
              "      <th>TRAN_DT</th>\n",
              "      <th>FRAUD_NONFRAUD</th>\n",
              "      <th>WF_dvc_age_NEW</th>\n",
              "      <th>...</th>\n",
              "      <th>DVC_TYPE_TXT_PHONE</th>\n",
              "      <th>DVC_TYPE_TXT_TABLET</th>\n",
              "      <th>AUTHC_PRIM_TYPE_CD_AFA_BM</th>\n",
              "      <th>AUTHC_PRIM_TYPE_CD_AFA_PL</th>\n",
              "      <th>AUTHC_PRIM_TYPE_CD_FACE_ID</th>\n",
              "      <th>AUTHC_PRIM_TYPE_CD_TOUCH_ID</th>\n",
              "      <th>AUTHC_PRIM_TYPE_CD_UN_PWD</th>\n",
              "      <th>AUTHC_SCNDRY_STAT_TXT_ALLOW</th>\n",
              "      <th>AUTHC_SCNDRY_STAT_TXT_CHALLENGE_ISSUED</th>\n",
              "      <th>AUTHC_SCNDRY_STAT_TXT_CHALLENGE_SUCCESS</th>\n",
              "    </tr>\n",
              "  </thead>\n",
              "  <tbody>\n",
              "    <tr>\n",
              "      <th>0</th>\n",
              "      <td>5.38</td>\n",
              "      <td>23619.91</td>\n",
              "      <td>47</td>\n",
              "      <td>4</td>\n",
              "      <td>1</td>\n",
              "      <td>2021-02-24 15:55:10</td>\n",
              "      <td>1993-01-06 00:00:00</td>\n",
              "      <td>2021-05-03</td>\n",
              "      <td>Non-Fraud</td>\n",
              "      <td>0</td>\n",
              "      <td>...</td>\n",
              "      <td>0</td>\n",
              "      <td>0</td>\n",
              "      <td>0</td>\n",
              "      <td>0</td>\n",
              "      <td>0</td>\n",
              "      <td>0</td>\n",
              "      <td>1</td>\n",
              "      <td>1</td>\n",
              "      <td>0</td>\n",
              "      <td>0</td>\n",
              "    </tr>\n",
              "    <tr>\n",
              "      <th>1</th>\n",
              "      <td>65.19</td>\n",
              "      <td>0.00</td>\n",
              "      <td>45</td>\n",
              "      <td>5</td>\n",
              "      <td>1</td>\n",
              "      <td>NaT</td>\n",
              "      <td>1971-01-07 00:00:00</td>\n",
              "      <td>2021-01-13</td>\n",
              "      <td>Non-Fraud</td>\n",
              "      <td>0</td>\n",
              "      <td>...</td>\n",
              "      <td>0</td>\n",
              "      <td>0</td>\n",
              "      <td>0</td>\n",
              "      <td>0</td>\n",
              "      <td>1</td>\n",
              "      <td>0</td>\n",
              "      <td>0</td>\n",
              "      <td>1</td>\n",
              "      <td>0</td>\n",
              "      <td>0</td>\n",
              "    </tr>\n",
              "    <tr>\n",
              "      <th>2</th>\n",
              "      <td>54.84</td>\n",
              "      <td>34570.63</td>\n",
              "      <td>36</td>\n",
              "      <td>8</td>\n",
              "      <td>0</td>\n",
              "      <td>2019-05-05 01:08:39</td>\n",
              "      <td>1994-02-01 00:00:00</td>\n",
              "      <td>2021-04-08</td>\n",
              "      <td>Fraud</td>\n",
              "      <td>0</td>\n",
              "      <td>...</td>\n",
              "      <td>0</td>\n",
              "      <td>0</td>\n",
              "      <td>0</td>\n",
              "      <td>0</td>\n",
              "      <td>0</td>\n",
              "      <td>0</td>\n",
              "      <td>1</td>\n",
              "      <td>1</td>\n",
              "      <td>0</td>\n",
              "      <td>0</td>\n",
              "    </tr>\n",
              "    <tr>\n",
              "      <th>3</th>\n",
              "      <td>0.01</td>\n",
              "      <td>0.00</td>\n",
              "      <td>62</td>\n",
              "      <td>3</td>\n",
              "      <td>1</td>\n",
              "      <td>2019-02-16 06:45:37</td>\n",
              "      <td>2001-11-01 00:00:00</td>\n",
              "      <td>2021-08-10</td>\n",
              "      <td>Non-Fraud</td>\n",
              "      <td>0</td>\n",
              "      <td>...</td>\n",
              "      <td>0</td>\n",
              "      <td>0</td>\n",
              "      <td>0</td>\n",
              "      <td>0</td>\n",
              "      <td>0</td>\n",
              "      <td>0</td>\n",
              "      <td>1</td>\n",
              "      <td>1</td>\n",
              "      <td>0</td>\n",
              "      <td>0</td>\n",
              "    </tr>\n",
              "    <tr>\n",
              "      <th>4</th>\n",
              "      <td>497.08</td>\n",
              "      <td>12725.18</td>\n",
              "      <td>81</td>\n",
              "      <td>2</td>\n",
              "      <td>1</td>\n",
              "      <td>2020-05-08 10:27:06</td>\n",
              "      <td>1987-02-07 00:00:00</td>\n",
              "      <td>2021-06-27</td>\n",
              "      <td>Fraud</td>\n",
              "      <td>0</td>\n",
              "      <td>...</td>\n",
              "      <td>0</td>\n",
              "      <td>0</td>\n",
              "      <td>0</td>\n",
              "      <td>0</td>\n",
              "      <td>0</td>\n",
              "      <td>0</td>\n",
              "      <td>1</td>\n",
              "      <td>0</td>\n",
              "      <td>0</td>\n",
              "      <td>1</td>\n",
              "    </tr>\n",
              "    <tr>\n",
              "      <th>...</th>\n",
              "      <td>...</td>\n",
              "      <td>...</td>\n",
              "      <td>...</td>\n",
              "      <td>...</td>\n",
              "      <td>...</td>\n",
              "      <td>...</td>\n",
              "      <td>...</td>\n",
              "      <td>...</td>\n",
              "      <td>...</td>\n",
              "      <td>...</td>\n",
              "      <td>...</td>\n",
              "      <td>...</td>\n",
              "      <td>...</td>\n",
              "      <td>...</td>\n",
              "      <td>...</td>\n",
              "      <td>...</td>\n",
              "      <td>...</td>\n",
              "      <td>...</td>\n",
              "      <td>...</td>\n",
              "      <td>...</td>\n",
              "      <td>...</td>\n",
              "    </tr>\n",
              "    <tr>\n",
              "      <th>13995</th>\n",
              "      <td>1937.21</td>\n",
              "      <td>230.75</td>\n",
              "      <td>55</td>\n",
              "      <td>4</td>\n",
              "      <td>1</td>\n",
              "      <td>2017-07-15 06:58:59</td>\n",
              "      <td>2001-06-05 00:00:00</td>\n",
              "      <td>2021-03-12</td>\n",
              "      <td>Non-Fraud</td>\n",
              "      <td>1</td>\n",
              "      <td>...</td>\n",
              "      <td>0</td>\n",
              "      <td>0</td>\n",
              "      <td>0</td>\n",
              "      <td>0</td>\n",
              "      <td>0</td>\n",
              "      <td>0</td>\n",
              "      <td>1</td>\n",
              "      <td>1</td>\n",
              "      <td>0</td>\n",
              "      <td>0</td>\n",
              "    </tr>\n",
              "    <tr>\n",
              "      <th>13996</th>\n",
              "      <td>114.38</td>\n",
              "      <td>0.00</td>\n",
              "      <td>44</td>\n",
              "      <td>10</td>\n",
              "      <td>1</td>\n",
              "      <td>NaT</td>\n",
              "      <td>2010-06-03 00:00:00</td>\n",
              "      <td>2021-06-11</td>\n",
              "      <td>Non-Fraud</td>\n",
              "      <td>1</td>\n",
              "      <td>...</td>\n",
              "      <td>0</td>\n",
              "      <td>0</td>\n",
              "      <td>0</td>\n",
              "      <td>0</td>\n",
              "      <td>1</td>\n",
              "      <td>0</td>\n",
              "      <td>0</td>\n",
              "      <td>1</td>\n",
              "      <td>0</td>\n",
              "      <td>0</td>\n",
              "    </tr>\n",
              "    <tr>\n",
              "      <th>13997</th>\n",
              "      <td>493.00</td>\n",
              "      <td>2848.63</td>\n",
              "      <td>54</td>\n",
              "      <td>3</td>\n",
              "      <td>1</td>\n",
              "      <td>2021-05-25 08:50:05</td>\n",
              "      <td>1984-10-27 00:00:00</td>\n",
              "      <td>2021-05-16</td>\n",
              "      <td>Fraud</td>\n",
              "      <td>0</td>\n",
              "      <td>...</td>\n",
              "      <td>0</td>\n",
              "      <td>0</td>\n",
              "      <td>0</td>\n",
              "      <td>0</td>\n",
              "      <td>0</td>\n",
              "      <td>0</td>\n",
              "      <td>1</td>\n",
              "      <td>1</td>\n",
              "      <td>0</td>\n",
              "      <td>0</td>\n",
              "    </tr>\n",
              "    <tr>\n",
              "      <th>13998</th>\n",
              "      <td>491.64</td>\n",
              "      <td>3163.25</td>\n",
              "      <td>21</td>\n",
              "      <td>3</td>\n",
              "      <td>0</td>\n",
              "      <td>NaT</td>\n",
              "      <td>2021-03-01 00:00:00</td>\n",
              "      <td>2021-05-11</td>\n",
              "      <td>Fraud</td>\n",
              "      <td>1</td>\n",
              "      <td>...</td>\n",
              "      <td>0</td>\n",
              "      <td>0</td>\n",
              "      <td>0</td>\n",
              "      <td>0</td>\n",
              "      <td>0</td>\n",
              "      <td>0</td>\n",
              "      <td>1</td>\n",
              "      <td>1</td>\n",
              "      <td>0</td>\n",
              "      <td>0</td>\n",
              "    </tr>\n",
              "    <tr>\n",
              "      <th>13999</th>\n",
              "      <td>6.02</td>\n",
              "      <td>0.00</td>\n",
              "      <td>60</td>\n",
              "      <td>6</td>\n",
              "      <td>1</td>\n",
              "      <td>NaT</td>\n",
              "      <td>2013-01-09 00:00:00</td>\n",
              "      <td>2021-02-15</td>\n",
              "      <td>Non-Fraud</td>\n",
              "      <td>0</td>\n",
              "      <td>...</td>\n",
              "      <td>0</td>\n",
              "      <td>0</td>\n",
              "      <td>0</td>\n",
              "      <td>0</td>\n",
              "      <td>0</td>\n",
              "      <td>0</td>\n",
              "      <td>1</td>\n",
              "      <td>1</td>\n",
              "      <td>0</td>\n",
              "      <td>0</td>\n",
              "    </tr>\n",
              "  </tbody>\n",
              "</table>\n",
              "<p>13879 rows × 25 columns</p>\n",
              "</div>\n",
              "      <button class=\"colab-df-convert\" onclick=\"convertToInteractive('df-c07dc376-6a92-4813-8752-eebcc7aa2d57')\"\n",
              "              title=\"Convert this dataframe to an interactive table.\"\n",
              "              style=\"display:none;\">\n",
              "        \n",
              "  <svg xmlns=\"http://www.w3.org/2000/svg\" height=\"24px\"viewBox=\"0 0 24 24\"\n",
              "       width=\"24px\">\n",
              "    <path d=\"M0 0h24v24H0V0z\" fill=\"none\"/>\n",
              "    <path d=\"M18.56 5.44l.94 2.06.94-2.06 2.06-.94-2.06-.94-.94-2.06-.94 2.06-2.06.94zm-11 1L8.5 8.5l.94-2.06 2.06-.94-2.06-.94L8.5 2.5l-.94 2.06-2.06.94zm10 10l.94 2.06.94-2.06 2.06-.94-2.06-.94-.94-2.06-.94 2.06-2.06.94z\"/><path d=\"M17.41 7.96l-1.37-1.37c-.4-.4-.92-.59-1.43-.59-.52 0-1.04.2-1.43.59L10.3 9.45l-7.72 7.72c-.78.78-.78 2.05 0 2.83L4 21.41c.39.39.9.59 1.41.59.51 0 1.02-.2 1.41-.59l7.78-7.78 2.81-2.81c.8-.78.8-2.07 0-2.86zM5.41 20L4 18.59l7.72-7.72 1.47 1.35L5.41 20z\"/>\n",
              "  </svg>\n",
              "      </button>\n",
              "      \n",
              "  <style>\n",
              "    .colab-df-container {\n",
              "      display:flex;\n",
              "      flex-wrap:wrap;\n",
              "      gap: 12px;\n",
              "    }\n",
              "\n",
              "    .colab-df-convert {\n",
              "      background-color: #E8F0FE;\n",
              "      border: none;\n",
              "      border-radius: 50%;\n",
              "      cursor: pointer;\n",
              "      display: none;\n",
              "      fill: #1967D2;\n",
              "      height: 32px;\n",
              "      padding: 0 0 0 0;\n",
              "      width: 32px;\n",
              "    }\n",
              "\n",
              "    .colab-df-convert:hover {\n",
              "      background-color: #E2EBFA;\n",
              "      box-shadow: 0px 1px 2px rgba(60, 64, 67, 0.3), 0px 1px 3px 1px rgba(60, 64, 67, 0.15);\n",
              "      fill: #174EA6;\n",
              "    }\n",
              "\n",
              "    [theme=dark] .colab-df-convert {\n",
              "      background-color: #3B4455;\n",
              "      fill: #D2E3FC;\n",
              "    }\n",
              "\n",
              "    [theme=dark] .colab-df-convert:hover {\n",
              "      background-color: #434B5C;\n",
              "      box-shadow: 0px 1px 3px 1px rgba(0, 0, 0, 0.15);\n",
              "      filter: drop-shadow(0px 1px 2px rgba(0, 0, 0, 0.3));\n",
              "      fill: #FFFFFF;\n",
              "    }\n",
              "  </style>\n",
              "\n",
              "      <script>\n",
              "        const buttonEl =\n",
              "          document.querySelector('#df-c07dc376-6a92-4813-8752-eebcc7aa2d57 button.colab-df-convert');\n",
              "        buttonEl.style.display =\n",
              "          google.colab.kernel.accessAllowed ? 'block' : 'none';\n",
              "\n",
              "        async function convertToInteractive(key) {\n",
              "          const element = document.querySelector('#df-c07dc376-6a92-4813-8752-eebcc7aa2d57');\n",
              "          const dataTable =\n",
              "            await google.colab.kernel.invokeFunction('convertToInteractive',\n",
              "                                                     [key], {});\n",
              "          if (!dataTable) return;\n",
              "\n",
              "          const docLinkHtml = 'Like what you see? Visit the ' +\n",
              "            '<a target=\"_blank\" href=https://colab.research.google.com/notebooks/data_table.ipynb>data table notebook</a>'\n",
              "            + ' to learn more about interactive tables.';\n",
              "          element.innerHTML = '';\n",
              "          dataTable['output_type'] = 'display_data';\n",
              "          await google.colab.output.renderOutput(dataTable, element);\n",
              "          const docLink = document.createElement('div');\n",
              "          docLink.innerHTML = docLinkHtml;\n",
              "          element.appendChild(docLink);\n",
              "        }\n",
              "      </script>\n",
              "    </div>\n",
              "  </div>\n",
              "  "
            ]
          },
          "metadata": {},
          "execution_count": 69
        }
      ],
      "source": [
        "def add_1_day(match):\n",
        "    days = int(match.group(1))\n",
        "    return str(days + 1)\n",
        "\n",
        "df['PH_NUM_UPDT_TS'] = pd.to_datetime(df['PH_NUM_UPDT_TS'], errors='coerce')\n",
        "fixed_dates = df.loc[df['PH_NUM_UPDT_TS'].isna(), 'PH_NUM_UPDT_TS'].replace(r\"(?<=/)(\\d+)(?=/)\", add_1_day)\n",
        "df['PH_NUM_UPDT_TS'].update(pd.to_datetime(fixed_dates, format=\"%m/%d/%Y\"))\n",
        "df"
      ]
    },
    {
      "cell_type": "markdown",
      "metadata": {
        "id": "f8ZwdUP0hqmH"
      },
      "source": [
        "We then creat a date column 'PH_NUM_UPDT_DT' and a month column 'months_ph'. We drop 'PH_NUM_UPDT_TS'."
      ]
    },
    {
      "cell_type": "code",
      "execution_count": null,
      "metadata": {
        "id": "4C9uv_YyhqmH"
      },
      "outputs": [],
      "source": [
        "df['PH_NUM_UPDT_DT'] = df['PH_NUM_UPDT_TS'].dt.date\n",
        "df.drop('PH_NUM_UPDT_TS', axis = 1, inplace = True)"
      ]
    },
    {
      "cell_type": "code",
      "execution_count": null,
      "metadata": {
        "colab": {
          "base_uri": "https://localhost:8080/"
        },
        "id": "sOwjnakqhqmH",
        "outputId": "2eacd860-4abf-4ad7-b1f5-8c921ab10461"
      },
      "outputs": [
        {
          "output_type": "stream",
          "name": "stdout",
          "text": [
            "<class 'pandas.core.frame.DataFrame'>\n",
            "Int64Index: 13879 entries, 0 to 13999\n",
            "Data columns (total 26 columns):\n",
            " #   Column                                   Non-Null Count  Dtype         \n",
            "---  ------                                   --------------  -----         \n",
            " 0   TRAN_AMT                                 13879 non-null  float64       \n",
            " 1   ACCT_PRE_TRAN_AVAIL_BAL                  13879 non-null  float64       \n",
            " 2   CUST_AGE                                 13879 non-null  int64         \n",
            " 3   OPEN_ACCT_CT                             13879 non-null  int64         \n",
            " 4   ALERT_TRGR_CD                            13879 non-null  int64         \n",
            " 5   CUST_SINCE_DT                            13879 non-null  object        \n",
            " 6   TRAN_DT                                  13879 non-null  datetime64[ns]\n",
            " 7   FRAUD_NONFRAUD                           13879 non-null  object        \n",
            " 8   WF_dvc_age_NEW                           13879 non-null  int64         \n",
            " 9   recentpwdupdate                          13879 non-null  int64         \n",
            " 10  CARR_NAME_avail                          13879 non-null  int64         \n",
            " 11  STATE_Same                               13879 non-null  int64         \n",
            " 12  DVC_TYPE_TXT_DESKTOP                     13879 non-null  uint8         \n",
            " 13  DVC_TYPE_TXT_MOBILE                      13879 non-null  uint8         \n",
            " 14  DVC_TYPE_TXT_PHONE                       13879 non-null  uint8         \n",
            " 15  DVC_TYPE_TXT_TABLET                      13879 non-null  uint8         \n",
            " 16  AUTHC_PRIM_TYPE_CD_AFA_BM                13879 non-null  uint8         \n",
            " 17  AUTHC_PRIM_TYPE_CD_AFA_PL                13879 non-null  uint8         \n",
            " 18  AUTHC_PRIM_TYPE_CD_FACE_ID               13879 non-null  uint8         \n",
            " 19  AUTHC_PRIM_TYPE_CD_TOUCH_ID              13879 non-null  uint8         \n",
            " 20  AUTHC_PRIM_TYPE_CD_UN_PWD                13879 non-null  uint8         \n",
            " 21  AUTHC_SCNDRY_STAT_TXT_ALLOW              13879 non-null  uint8         \n",
            " 22  AUTHC_SCNDRY_STAT_TXT_CHALLENGE_ISSUED   13879 non-null  uint8         \n",
            " 23  AUTHC_SCNDRY_STAT_TXT_CHALLENGE_SUCCESS  13879 non-null  uint8         \n",
            " 24  PH_NUM_UPDT_DT                           6375 non-null   datetime64[ns]\n",
            " 25  months_ph                                6375 non-null   float64       \n",
            "dtypes: datetime64[ns](2), float64(3), int64(7), object(2), uint8(12)\n",
            "memory usage: 1.7+ MB\n"
          ]
        }
      ],
      "source": [
        "df['PH_NUM_UPDT_DT'] = pd.to_datetime(df['PH_NUM_UPDT_DT'])\n",
        "df['months_ph'] = (df['TRAN_DT'] - df['PH_NUM_UPDT_DT'])/np.timedelta64(1, 'M')\n",
        "df.info()"
      ]
    },
    {
      "cell_type": "markdown",
      "metadata": {
        "id": "1kVHvfq_hqmI"
      },
      "source": [
        "We use the same technique we used for password update column. We map NaN to -1 so that it can be mapped as oldupdate later."
      ]
    },
    {
      "cell_type": "code",
      "execution_count": null,
      "metadata": {
        "colab": {
          "base_uri": "https://localhost:8080/"
        },
        "id": "MqLW5JK8hqmI",
        "outputId": "c41f1976-897e-4af3-ee29-11cf3fbf1d49"
      },
      "outputs": [
        {
          "output_type": "stream",
          "name": "stdout",
          "text": [
            "<class 'pandas.core.frame.DataFrame'>\n",
            "Int64Index: 13879 entries, 0 to 13999\n",
            "Data columns (total 26 columns):\n",
            " #   Column                                   Non-Null Count  Dtype         \n",
            "---  ------                                   --------------  -----         \n",
            " 0   TRAN_AMT                                 13879 non-null  float64       \n",
            " 1   ACCT_PRE_TRAN_AVAIL_BAL                  13879 non-null  float64       \n",
            " 2   CUST_AGE                                 13879 non-null  int64         \n",
            " 3   OPEN_ACCT_CT                             13879 non-null  int64         \n",
            " 4   ALERT_TRGR_CD                            13879 non-null  int64         \n",
            " 5   CUST_SINCE_DT                            13879 non-null  object        \n",
            " 6   TRAN_DT                                  13879 non-null  datetime64[ns]\n",
            " 7   FRAUD_NONFRAUD                           13879 non-null  object        \n",
            " 8   WF_dvc_age_NEW                           13879 non-null  int64         \n",
            " 9   recentpwdupdate                          13879 non-null  int64         \n",
            " 10  CARR_NAME_avail                          13879 non-null  int64         \n",
            " 11  STATE_Same                               13879 non-null  int64         \n",
            " 12  DVC_TYPE_TXT_DESKTOP                     13879 non-null  uint8         \n",
            " 13  DVC_TYPE_TXT_MOBILE                      13879 non-null  uint8         \n",
            " 14  DVC_TYPE_TXT_PHONE                       13879 non-null  uint8         \n",
            " 15  DVC_TYPE_TXT_TABLET                      13879 non-null  uint8         \n",
            " 16  AUTHC_PRIM_TYPE_CD_AFA_BM                13879 non-null  uint8         \n",
            " 17  AUTHC_PRIM_TYPE_CD_AFA_PL                13879 non-null  uint8         \n",
            " 18  AUTHC_PRIM_TYPE_CD_FACE_ID               13879 non-null  uint8         \n",
            " 19  AUTHC_PRIM_TYPE_CD_TOUCH_ID              13879 non-null  uint8         \n",
            " 20  AUTHC_PRIM_TYPE_CD_UN_PWD                13879 non-null  uint8         \n",
            " 21  AUTHC_SCNDRY_STAT_TXT_ALLOW              13879 non-null  uint8         \n",
            " 22  AUTHC_SCNDRY_STAT_TXT_CHALLENGE_ISSUED   13879 non-null  uint8         \n",
            " 23  AUTHC_SCNDRY_STAT_TXT_CHALLENGE_SUCCESS  13879 non-null  uint8         \n",
            " 24  PH_NUM_UPDT_DT                           6375 non-null   datetime64[ns]\n",
            " 25  months_ph                                13879 non-null  int64         \n",
            "dtypes: datetime64[ns](2), float64(2), int64(8), object(2), uint8(12)\n",
            "memory usage: 1.7+ MB\n"
          ]
        }
      ],
      "source": [
        "df['months_ph'] = df['months_ph'].replace(np.NaN, -1)\n",
        "df['months_ph'] = df['months_ph'].astype(int)\n",
        "df.info()"
      ]
    },
    {
      "cell_type": "markdown",
      "metadata": {
        "id": "Qpm9_PayhqmI"
      },
      "source": [
        "We create a new column recentphupdate which represents 1 if the phone was updated within previos 6 months of the transaction. We then drop PH_NUM_UPDT_DT','months_ph' columns."
      ]
    },
    {
      "cell_type": "code",
      "execution_count": null,
      "metadata": {
        "colab": {
          "base_uri": "https://localhost:8080/"
        },
        "id": "D6zHJLD1hqmI",
        "outputId": "dd5b6542-7b60-4c77-9281-f237ff0851d7"
      },
      "outputs": [
        {
          "output_type": "stream",
          "name": "stdout",
          "text": [
            "<class 'pandas.core.frame.DataFrame'>\n",
            "Int64Index: 13879 entries, 0 to 13999\n",
            "Data columns (total 25 columns):\n",
            " #   Column                                   Non-Null Count  Dtype         \n",
            "---  ------                                   --------------  -----         \n",
            " 0   TRAN_AMT                                 13879 non-null  float64       \n",
            " 1   ACCT_PRE_TRAN_AVAIL_BAL                  13879 non-null  float64       \n",
            " 2   CUST_AGE                                 13879 non-null  int64         \n",
            " 3   OPEN_ACCT_CT                             13879 non-null  int64         \n",
            " 4   ALERT_TRGR_CD                            13879 non-null  int64         \n",
            " 5   CUST_SINCE_DT                            13879 non-null  object        \n",
            " 6   TRAN_DT                                  13879 non-null  datetime64[ns]\n",
            " 7   FRAUD_NONFRAUD                           13879 non-null  object        \n",
            " 8   WF_dvc_age_NEW                           13879 non-null  int64         \n",
            " 9   recentpwdupdate                          13879 non-null  int64         \n",
            " 10  CARR_NAME_avail                          13879 non-null  int64         \n",
            " 11  STATE_Same                               13879 non-null  int64         \n",
            " 12  DVC_TYPE_TXT_DESKTOP                     13879 non-null  uint8         \n",
            " 13  DVC_TYPE_TXT_MOBILE                      13879 non-null  uint8         \n",
            " 14  DVC_TYPE_TXT_PHONE                       13879 non-null  uint8         \n",
            " 15  DVC_TYPE_TXT_TABLET                      13879 non-null  uint8         \n",
            " 16  AUTHC_PRIM_TYPE_CD_AFA_BM                13879 non-null  uint8         \n",
            " 17  AUTHC_PRIM_TYPE_CD_AFA_PL                13879 non-null  uint8         \n",
            " 18  AUTHC_PRIM_TYPE_CD_FACE_ID               13879 non-null  uint8         \n",
            " 19  AUTHC_PRIM_TYPE_CD_TOUCH_ID              13879 non-null  uint8         \n",
            " 20  AUTHC_PRIM_TYPE_CD_UN_PWD                13879 non-null  uint8         \n",
            " 21  AUTHC_SCNDRY_STAT_TXT_ALLOW              13879 non-null  uint8         \n",
            " 22  AUTHC_SCNDRY_STAT_TXT_CHALLENGE_ISSUED   13879 non-null  uint8         \n",
            " 23  AUTHC_SCNDRY_STAT_TXT_CHALLENGE_SUCCESS  13879 non-null  uint8         \n",
            " 24  recentphupdate                           13879 non-null  int64         \n",
            "dtypes: datetime64[ns](1), float64(2), int64(8), object(2), uint8(12)\n",
            "memory usage: 1.6+ MB\n"
          ]
        }
      ],
      "source": [
        "df['recentphupdate'] =np.where((df['months_ph'] >= 0) & (df['months_ph'] <= 6) , 1, 0)\n",
        "df = df.drop(columns = {'PH_NUM_UPDT_DT','months_ph'})\n",
        "df.info()"
      ]
    },
    {
      "cell_type": "markdown",
      "metadata": {
        "id": "HxwM4YUnhqmI"
      },
      "source": [
        "Let us find how old the customer account is from cust since date."
      ]
    },
    {
      "cell_type": "code",
      "execution_count": null,
      "metadata": {
        "id": "E2Md4177hqmJ"
      },
      "outputs": [],
      "source": [
        "# adding column \"Age\" which is the difference between 2022 and the year of birth for each employee.\n",
        "# First of all let us extract year from DOB\n",
        "df['CUST_SINCE_DT'] = pd.to_datetime(df['CUST_SINCE_DT'])\n",
        "df['CUST_SINCE_DT'] = df['CUST_SINCE_DT'].dt.year \n",
        "df['CUST_Years'] = 2021 - df['CUST_SINCE_DT']"
      ]
    },
    {
      "cell_type": "code",
      "execution_count": null,
      "metadata": {
        "colab": {
          "base_uri": "https://localhost:8080/",
          "height": 488
        },
        "id": "p6j0GdZmhqmJ",
        "outputId": "0849848b-0a6a-401a-efac-492e147fa980"
      },
      "outputs": [
        {
          "output_type": "execute_result",
          "data": {
            "text/plain": [
              "       TRAN_AMT  ACCT_PRE_TRAN_AVAIL_BAL  CUST_AGE  OPEN_ACCT_CT  \\\n",
              "0          5.38                 23619.91        47             4   \n",
              "1         65.19                     0.00        45             5   \n",
              "2         54.84                 34570.63        36             8   \n",
              "3          0.01                     0.00        62             3   \n",
              "4        497.08                 12725.18        81             2   \n",
              "...         ...                      ...       ...           ...   \n",
              "13995   1937.21                   230.75        55             4   \n",
              "13996    114.38                     0.00        44            10   \n",
              "13997    493.00                  2848.63        54             3   \n",
              "13998    491.64                  3163.25        21             3   \n",
              "13999      6.02                     0.00        60             6   \n",
              "\n",
              "       ALERT_TRGR_CD FRAUD_NONFRAUD  WF_dvc_age_NEW  recentpwdupdate  \\\n",
              "0                  1      Non-Fraud               0                0   \n",
              "1                  1      Non-Fraud               0                0   \n",
              "2                  0          Fraud               0                0   \n",
              "3                  1      Non-Fraud               0                0   \n",
              "4                  1          Fraud               0                1   \n",
              "...              ...            ...             ...              ...   \n",
              "13995              1      Non-Fraud               1                0   \n",
              "13996              1      Non-Fraud               1                0   \n",
              "13997              1          Fraud               0                1   \n",
              "13998              0          Fraud               1                0   \n",
              "13999              1      Non-Fraud               0                0   \n",
              "\n",
              "       CARR_NAME_avail  STATE_Same  ...  AUTHC_PRIM_TYPE_CD_AFA_BM  \\\n",
              "0                    1           1  ...                          0   \n",
              "1                    1           1  ...                          0   \n",
              "2                    1           0  ...                          0   \n",
              "3                    1           0  ...                          0   \n",
              "4                    1           0  ...                          0   \n",
              "...                ...         ...  ...                        ...   \n",
              "13995                1           1  ...                          0   \n",
              "13996                1           0  ...                          0   \n",
              "13997                1           0  ...                          0   \n",
              "13998                1           0  ...                          0   \n",
              "13999                1           0  ...                          0   \n",
              "\n",
              "       AUTHC_PRIM_TYPE_CD_AFA_PL  AUTHC_PRIM_TYPE_CD_FACE_ID  \\\n",
              "0                              0                           0   \n",
              "1                              0                           1   \n",
              "2                              0                           0   \n",
              "3                              0                           0   \n",
              "4                              0                           0   \n",
              "...                          ...                         ...   \n",
              "13995                          0                           0   \n",
              "13996                          0                           1   \n",
              "13997                          0                           0   \n",
              "13998                          0                           0   \n",
              "13999                          0                           0   \n",
              "\n",
              "       AUTHC_PRIM_TYPE_CD_TOUCH_ID  AUTHC_PRIM_TYPE_CD_UN_PWD  \\\n",
              "0                                0                          1   \n",
              "1                                0                          0   \n",
              "2                                0                          1   \n",
              "3                                0                          1   \n",
              "4                                0                          1   \n",
              "...                            ...                        ...   \n",
              "13995                            0                          1   \n",
              "13996                            0                          0   \n",
              "13997                            0                          1   \n",
              "13998                            0                          1   \n",
              "13999                            0                          1   \n",
              "\n",
              "       AUTHC_SCNDRY_STAT_TXT_ALLOW  AUTHC_SCNDRY_STAT_TXT_CHALLENGE_ISSUED  \\\n",
              "0                                1                                       0   \n",
              "1                                1                                       0   \n",
              "2                                1                                       0   \n",
              "3                                1                                       0   \n",
              "4                                0                                       0   \n",
              "...                            ...                                     ...   \n",
              "13995                            1                                       0   \n",
              "13996                            1                                       0   \n",
              "13997                            1                                       0   \n",
              "13998                            1                                       0   \n",
              "13999                            1                                       0   \n",
              "\n",
              "       AUTHC_SCNDRY_STAT_TXT_CHALLENGE_SUCCESS  recentphupdate  CUST_Years  \n",
              "0                                            0               1          28  \n",
              "1                                            0               0          50  \n",
              "2                                            0               0          27  \n",
              "3                                            0               0          20  \n",
              "4                                            1               0          34  \n",
              "...                                        ...             ...         ...  \n",
              "13995                                        0               0          20  \n",
              "13996                                        0               0          11  \n",
              "13997                                        0               1          37  \n",
              "13998                                        0               0           0  \n",
              "13999                                        0               0           8  \n",
              "\n",
              "[13879 rows x 24 columns]"
            ],
            "text/html": [
              "\n",
              "  <div id=\"df-cf1d5067-5407-4e2a-bff4-3613fb513a00\">\n",
              "    <div class=\"colab-df-container\">\n",
              "      <div>\n",
              "<style scoped>\n",
              "    .dataframe tbody tr th:only-of-type {\n",
              "        vertical-align: middle;\n",
              "    }\n",
              "\n",
              "    .dataframe tbody tr th {\n",
              "        vertical-align: top;\n",
              "    }\n",
              "\n",
              "    .dataframe thead th {\n",
              "        text-align: right;\n",
              "    }\n",
              "</style>\n",
              "<table border=\"1\" class=\"dataframe\">\n",
              "  <thead>\n",
              "    <tr style=\"text-align: right;\">\n",
              "      <th></th>\n",
              "      <th>TRAN_AMT</th>\n",
              "      <th>ACCT_PRE_TRAN_AVAIL_BAL</th>\n",
              "      <th>CUST_AGE</th>\n",
              "      <th>OPEN_ACCT_CT</th>\n",
              "      <th>ALERT_TRGR_CD</th>\n",
              "      <th>FRAUD_NONFRAUD</th>\n",
              "      <th>WF_dvc_age_NEW</th>\n",
              "      <th>recentpwdupdate</th>\n",
              "      <th>CARR_NAME_avail</th>\n",
              "      <th>STATE_Same</th>\n",
              "      <th>...</th>\n",
              "      <th>AUTHC_PRIM_TYPE_CD_AFA_BM</th>\n",
              "      <th>AUTHC_PRIM_TYPE_CD_AFA_PL</th>\n",
              "      <th>AUTHC_PRIM_TYPE_CD_FACE_ID</th>\n",
              "      <th>AUTHC_PRIM_TYPE_CD_TOUCH_ID</th>\n",
              "      <th>AUTHC_PRIM_TYPE_CD_UN_PWD</th>\n",
              "      <th>AUTHC_SCNDRY_STAT_TXT_ALLOW</th>\n",
              "      <th>AUTHC_SCNDRY_STAT_TXT_CHALLENGE_ISSUED</th>\n",
              "      <th>AUTHC_SCNDRY_STAT_TXT_CHALLENGE_SUCCESS</th>\n",
              "      <th>recentphupdate</th>\n",
              "      <th>CUST_Years</th>\n",
              "    </tr>\n",
              "  </thead>\n",
              "  <tbody>\n",
              "    <tr>\n",
              "      <th>0</th>\n",
              "      <td>5.38</td>\n",
              "      <td>23619.91</td>\n",
              "      <td>47</td>\n",
              "      <td>4</td>\n",
              "      <td>1</td>\n",
              "      <td>Non-Fraud</td>\n",
              "      <td>0</td>\n",
              "      <td>0</td>\n",
              "      <td>1</td>\n",
              "      <td>1</td>\n",
              "      <td>...</td>\n",
              "      <td>0</td>\n",
              "      <td>0</td>\n",
              "      <td>0</td>\n",
              "      <td>0</td>\n",
              "      <td>1</td>\n",
              "      <td>1</td>\n",
              "      <td>0</td>\n",
              "      <td>0</td>\n",
              "      <td>1</td>\n",
              "      <td>28</td>\n",
              "    </tr>\n",
              "    <tr>\n",
              "      <th>1</th>\n",
              "      <td>65.19</td>\n",
              "      <td>0.00</td>\n",
              "      <td>45</td>\n",
              "      <td>5</td>\n",
              "      <td>1</td>\n",
              "      <td>Non-Fraud</td>\n",
              "      <td>0</td>\n",
              "      <td>0</td>\n",
              "      <td>1</td>\n",
              "      <td>1</td>\n",
              "      <td>...</td>\n",
              "      <td>0</td>\n",
              "      <td>0</td>\n",
              "      <td>1</td>\n",
              "      <td>0</td>\n",
              "      <td>0</td>\n",
              "      <td>1</td>\n",
              "      <td>0</td>\n",
              "      <td>0</td>\n",
              "      <td>0</td>\n",
              "      <td>50</td>\n",
              "    </tr>\n",
              "    <tr>\n",
              "      <th>2</th>\n",
              "      <td>54.84</td>\n",
              "      <td>34570.63</td>\n",
              "      <td>36</td>\n",
              "      <td>8</td>\n",
              "      <td>0</td>\n",
              "      <td>Fraud</td>\n",
              "      <td>0</td>\n",
              "      <td>0</td>\n",
              "      <td>1</td>\n",
              "      <td>0</td>\n",
              "      <td>...</td>\n",
              "      <td>0</td>\n",
              "      <td>0</td>\n",
              "      <td>0</td>\n",
              "      <td>0</td>\n",
              "      <td>1</td>\n",
              "      <td>1</td>\n",
              "      <td>0</td>\n",
              "      <td>0</td>\n",
              "      <td>0</td>\n",
              "      <td>27</td>\n",
              "    </tr>\n",
              "    <tr>\n",
              "      <th>3</th>\n",
              "      <td>0.01</td>\n",
              "      <td>0.00</td>\n",
              "      <td>62</td>\n",
              "      <td>3</td>\n",
              "      <td>1</td>\n",
              "      <td>Non-Fraud</td>\n",
              "      <td>0</td>\n",
              "      <td>0</td>\n",
              "      <td>1</td>\n",
              "      <td>0</td>\n",
              "      <td>...</td>\n",
              "      <td>0</td>\n",
              "      <td>0</td>\n",
              "      <td>0</td>\n",
              "      <td>0</td>\n",
              "      <td>1</td>\n",
              "      <td>1</td>\n",
              "      <td>0</td>\n",
              "      <td>0</td>\n",
              "      <td>0</td>\n",
              "      <td>20</td>\n",
              "    </tr>\n",
              "    <tr>\n",
              "      <th>4</th>\n",
              "      <td>497.08</td>\n",
              "      <td>12725.18</td>\n",
              "      <td>81</td>\n",
              "      <td>2</td>\n",
              "      <td>1</td>\n",
              "      <td>Fraud</td>\n",
              "      <td>0</td>\n",
              "      <td>1</td>\n",
              "      <td>1</td>\n",
              "      <td>0</td>\n",
              "      <td>...</td>\n",
              "      <td>0</td>\n",
              "      <td>0</td>\n",
              "      <td>0</td>\n",
              "      <td>0</td>\n",
              "      <td>1</td>\n",
              "      <td>0</td>\n",
              "      <td>0</td>\n",
              "      <td>1</td>\n",
              "      <td>0</td>\n",
              "      <td>34</td>\n",
              "    </tr>\n",
              "    <tr>\n",
              "      <th>...</th>\n",
              "      <td>...</td>\n",
              "      <td>...</td>\n",
              "      <td>...</td>\n",
              "      <td>...</td>\n",
              "      <td>...</td>\n",
              "      <td>...</td>\n",
              "      <td>...</td>\n",
              "      <td>...</td>\n",
              "      <td>...</td>\n",
              "      <td>...</td>\n",
              "      <td>...</td>\n",
              "      <td>...</td>\n",
              "      <td>...</td>\n",
              "      <td>...</td>\n",
              "      <td>...</td>\n",
              "      <td>...</td>\n",
              "      <td>...</td>\n",
              "      <td>...</td>\n",
              "      <td>...</td>\n",
              "      <td>...</td>\n",
              "      <td>...</td>\n",
              "    </tr>\n",
              "    <tr>\n",
              "      <th>13995</th>\n",
              "      <td>1937.21</td>\n",
              "      <td>230.75</td>\n",
              "      <td>55</td>\n",
              "      <td>4</td>\n",
              "      <td>1</td>\n",
              "      <td>Non-Fraud</td>\n",
              "      <td>1</td>\n",
              "      <td>0</td>\n",
              "      <td>1</td>\n",
              "      <td>1</td>\n",
              "      <td>...</td>\n",
              "      <td>0</td>\n",
              "      <td>0</td>\n",
              "      <td>0</td>\n",
              "      <td>0</td>\n",
              "      <td>1</td>\n",
              "      <td>1</td>\n",
              "      <td>0</td>\n",
              "      <td>0</td>\n",
              "      <td>0</td>\n",
              "      <td>20</td>\n",
              "    </tr>\n",
              "    <tr>\n",
              "      <th>13996</th>\n",
              "      <td>114.38</td>\n",
              "      <td>0.00</td>\n",
              "      <td>44</td>\n",
              "      <td>10</td>\n",
              "      <td>1</td>\n",
              "      <td>Non-Fraud</td>\n",
              "      <td>1</td>\n",
              "      <td>0</td>\n",
              "      <td>1</td>\n",
              "      <td>0</td>\n",
              "      <td>...</td>\n",
              "      <td>0</td>\n",
              "      <td>0</td>\n",
              "      <td>1</td>\n",
              "      <td>0</td>\n",
              "      <td>0</td>\n",
              "      <td>1</td>\n",
              "      <td>0</td>\n",
              "      <td>0</td>\n",
              "      <td>0</td>\n",
              "      <td>11</td>\n",
              "    </tr>\n",
              "    <tr>\n",
              "      <th>13997</th>\n",
              "      <td>493.00</td>\n",
              "      <td>2848.63</td>\n",
              "      <td>54</td>\n",
              "      <td>3</td>\n",
              "      <td>1</td>\n",
              "      <td>Fraud</td>\n",
              "      <td>0</td>\n",
              "      <td>1</td>\n",
              "      <td>1</td>\n",
              "      <td>0</td>\n",
              "      <td>...</td>\n",
              "      <td>0</td>\n",
              "      <td>0</td>\n",
              "      <td>0</td>\n",
              "      <td>0</td>\n",
              "      <td>1</td>\n",
              "      <td>1</td>\n",
              "      <td>0</td>\n",
              "      <td>0</td>\n",
              "      <td>1</td>\n",
              "      <td>37</td>\n",
              "    </tr>\n",
              "    <tr>\n",
              "      <th>13998</th>\n",
              "      <td>491.64</td>\n",
              "      <td>3163.25</td>\n",
              "      <td>21</td>\n",
              "      <td>3</td>\n",
              "      <td>0</td>\n",
              "      <td>Fraud</td>\n",
              "      <td>1</td>\n",
              "      <td>0</td>\n",
              "      <td>1</td>\n",
              "      <td>0</td>\n",
              "      <td>...</td>\n",
              "      <td>0</td>\n",
              "      <td>0</td>\n",
              "      <td>0</td>\n",
              "      <td>0</td>\n",
              "      <td>1</td>\n",
              "      <td>1</td>\n",
              "      <td>0</td>\n",
              "      <td>0</td>\n",
              "      <td>0</td>\n",
              "      <td>0</td>\n",
              "    </tr>\n",
              "    <tr>\n",
              "      <th>13999</th>\n",
              "      <td>6.02</td>\n",
              "      <td>0.00</td>\n",
              "      <td>60</td>\n",
              "      <td>6</td>\n",
              "      <td>1</td>\n",
              "      <td>Non-Fraud</td>\n",
              "      <td>0</td>\n",
              "      <td>0</td>\n",
              "      <td>1</td>\n",
              "      <td>0</td>\n",
              "      <td>...</td>\n",
              "      <td>0</td>\n",
              "      <td>0</td>\n",
              "      <td>0</td>\n",
              "      <td>0</td>\n",
              "      <td>1</td>\n",
              "      <td>1</td>\n",
              "      <td>0</td>\n",
              "      <td>0</td>\n",
              "      <td>0</td>\n",
              "      <td>8</td>\n",
              "    </tr>\n",
              "  </tbody>\n",
              "</table>\n",
              "<p>13879 rows × 24 columns</p>\n",
              "</div>\n",
              "      <button class=\"colab-df-convert\" onclick=\"convertToInteractive('df-cf1d5067-5407-4e2a-bff4-3613fb513a00')\"\n",
              "              title=\"Convert this dataframe to an interactive table.\"\n",
              "              style=\"display:none;\">\n",
              "        \n",
              "  <svg xmlns=\"http://www.w3.org/2000/svg\" height=\"24px\"viewBox=\"0 0 24 24\"\n",
              "       width=\"24px\">\n",
              "    <path d=\"M0 0h24v24H0V0z\" fill=\"none\"/>\n",
              "    <path d=\"M18.56 5.44l.94 2.06.94-2.06 2.06-.94-2.06-.94-.94-2.06-.94 2.06-2.06.94zm-11 1L8.5 8.5l.94-2.06 2.06-.94-2.06-.94L8.5 2.5l-.94 2.06-2.06.94zm10 10l.94 2.06.94-2.06 2.06-.94-2.06-.94-.94-2.06-.94 2.06-2.06.94z\"/><path d=\"M17.41 7.96l-1.37-1.37c-.4-.4-.92-.59-1.43-.59-.52 0-1.04.2-1.43.59L10.3 9.45l-7.72 7.72c-.78.78-.78 2.05 0 2.83L4 21.41c.39.39.9.59 1.41.59.51 0 1.02-.2 1.41-.59l7.78-7.78 2.81-2.81c.8-.78.8-2.07 0-2.86zM5.41 20L4 18.59l7.72-7.72 1.47 1.35L5.41 20z\"/>\n",
              "  </svg>\n",
              "      </button>\n",
              "      \n",
              "  <style>\n",
              "    .colab-df-container {\n",
              "      display:flex;\n",
              "      flex-wrap:wrap;\n",
              "      gap: 12px;\n",
              "    }\n",
              "\n",
              "    .colab-df-convert {\n",
              "      background-color: #E8F0FE;\n",
              "      border: none;\n",
              "      border-radius: 50%;\n",
              "      cursor: pointer;\n",
              "      display: none;\n",
              "      fill: #1967D2;\n",
              "      height: 32px;\n",
              "      padding: 0 0 0 0;\n",
              "      width: 32px;\n",
              "    }\n",
              "\n",
              "    .colab-df-convert:hover {\n",
              "      background-color: #E2EBFA;\n",
              "      box-shadow: 0px 1px 2px rgba(60, 64, 67, 0.3), 0px 1px 3px 1px rgba(60, 64, 67, 0.15);\n",
              "      fill: #174EA6;\n",
              "    }\n",
              "\n",
              "    [theme=dark] .colab-df-convert {\n",
              "      background-color: #3B4455;\n",
              "      fill: #D2E3FC;\n",
              "    }\n",
              "\n",
              "    [theme=dark] .colab-df-convert:hover {\n",
              "      background-color: #434B5C;\n",
              "      box-shadow: 0px 1px 3px 1px rgba(0, 0, 0, 0.15);\n",
              "      filter: drop-shadow(0px 1px 2px rgba(0, 0, 0, 0.3));\n",
              "      fill: #FFFFFF;\n",
              "    }\n",
              "  </style>\n",
              "\n",
              "      <script>\n",
              "        const buttonEl =\n",
              "          document.querySelector('#df-cf1d5067-5407-4e2a-bff4-3613fb513a00 button.colab-df-convert');\n",
              "        buttonEl.style.display =\n",
              "          google.colab.kernel.accessAllowed ? 'block' : 'none';\n",
              "\n",
              "        async function convertToInteractive(key) {\n",
              "          const element = document.querySelector('#df-cf1d5067-5407-4e2a-bff4-3613fb513a00');\n",
              "          const dataTable =\n",
              "            await google.colab.kernel.invokeFunction('convertToInteractive',\n",
              "                                                     [key], {});\n",
              "          if (!dataTable) return;\n",
              "\n",
              "          const docLinkHtml = 'Like what you see? Visit the ' +\n",
              "            '<a target=\"_blank\" href=https://colab.research.google.com/notebooks/data_table.ipynb>data table notebook</a>'\n",
              "            + ' to learn more about interactive tables.';\n",
              "          element.innerHTML = '';\n",
              "          dataTable['output_type'] = 'display_data';\n",
              "          await google.colab.output.renderOutput(dataTable, element);\n",
              "          const docLink = document.createElement('div');\n",
              "          docLink.innerHTML = docLinkHtml;\n",
              "          element.appendChild(docLink);\n",
              "        }\n",
              "      </script>\n",
              "    </div>\n",
              "  </div>\n",
              "  "
            ]
          },
          "metadata": {},
          "execution_count": 75
        }
      ],
      "source": [
        "df = df.drop(columns = {'CUST_SINCE_DT','TRAN_DT'})\n",
        "df"
      ]
    },
    {
      "cell_type": "markdown",
      "metadata": {
        "id": "po3da3zVhqmJ"
      },
      "source": [
        "FRAUD_NONFRAUD is the target column. We map Non-Fraud to 1 and Fraud to 0. Also we realise that this dataset is imbalanced."
      ]
    },
    {
      "cell_type": "code",
      "execution_count": null,
      "metadata": {
        "colab": {
          "base_uri": "https://localhost:8080/"
        },
        "id": "stqryFhMhqmJ",
        "outputId": "c3f06c84-9ae5-4f4e-9a23-7ce4ee22a538"
      },
      "outputs": [
        {
          "output_type": "execute_result",
          "data": {
            "text/plain": [
              "Non-Fraud    9771\n",
              "Fraud        4108\n",
              "Name: FRAUD_NONFRAUD, dtype: int64"
            ]
          },
          "metadata": {},
          "execution_count": 76
        }
      ],
      "source": [
        "df['FRAUD_NONFRAUD'].value_counts()"
      ]
    },
    {
      "cell_type": "code",
      "execution_count": null,
      "metadata": {
        "colab": {
          "base_uri": "https://localhost:8080/",
          "height": 488
        },
        "id": "ad8uktV2hqmJ",
        "outputId": "082a8d3d-347e-4c67-dd46-bb7974810755"
      },
      "outputs": [
        {
          "output_type": "execute_result",
          "data": {
            "text/plain": [
              "       TRAN_AMT  ACCT_PRE_TRAN_AVAIL_BAL  CUST_AGE  OPEN_ACCT_CT  \\\n",
              "0          5.38                 23619.91        47             4   \n",
              "1         65.19                     0.00        45             5   \n",
              "2         54.84                 34570.63        36             8   \n",
              "3          0.01                     0.00        62             3   \n",
              "4        497.08                 12725.18        81             2   \n",
              "...         ...                      ...       ...           ...   \n",
              "13995   1937.21                   230.75        55             4   \n",
              "13996    114.38                     0.00        44            10   \n",
              "13997    493.00                  2848.63        54             3   \n",
              "13998    491.64                  3163.25        21             3   \n",
              "13999      6.02                     0.00        60             6   \n",
              "\n",
              "       ALERT_TRGR_CD  FRAUD_NONFRAUD  WF_dvc_age_NEW  recentpwdupdate  \\\n",
              "0                  1               1               0                0   \n",
              "1                  1               1               0                0   \n",
              "2                  0               0               0                0   \n",
              "3                  1               1               0                0   \n",
              "4                  1               0               0                1   \n",
              "...              ...             ...             ...              ...   \n",
              "13995              1               1               1                0   \n",
              "13996              1               1               1                0   \n",
              "13997              1               0               0                1   \n",
              "13998              0               0               1                0   \n",
              "13999              1               1               0                0   \n",
              "\n",
              "       CARR_NAME_avail  STATE_Same  ...  AUTHC_PRIM_TYPE_CD_AFA_BM  \\\n",
              "0                    1           1  ...                          0   \n",
              "1                    1           1  ...                          0   \n",
              "2                    1           0  ...                          0   \n",
              "3                    1           0  ...                          0   \n",
              "4                    1           0  ...                          0   \n",
              "...                ...         ...  ...                        ...   \n",
              "13995                1           1  ...                          0   \n",
              "13996                1           0  ...                          0   \n",
              "13997                1           0  ...                          0   \n",
              "13998                1           0  ...                          0   \n",
              "13999                1           0  ...                          0   \n",
              "\n",
              "       AUTHC_PRIM_TYPE_CD_AFA_PL  AUTHC_PRIM_TYPE_CD_FACE_ID  \\\n",
              "0                              0                           0   \n",
              "1                              0                           1   \n",
              "2                              0                           0   \n",
              "3                              0                           0   \n",
              "4                              0                           0   \n",
              "...                          ...                         ...   \n",
              "13995                          0                           0   \n",
              "13996                          0                           1   \n",
              "13997                          0                           0   \n",
              "13998                          0                           0   \n",
              "13999                          0                           0   \n",
              "\n",
              "       AUTHC_PRIM_TYPE_CD_TOUCH_ID  AUTHC_PRIM_TYPE_CD_UN_PWD  \\\n",
              "0                                0                          1   \n",
              "1                                0                          0   \n",
              "2                                0                          1   \n",
              "3                                0                          1   \n",
              "4                                0                          1   \n",
              "...                            ...                        ...   \n",
              "13995                            0                          1   \n",
              "13996                            0                          0   \n",
              "13997                            0                          1   \n",
              "13998                            0                          1   \n",
              "13999                            0                          1   \n",
              "\n",
              "       AUTHC_SCNDRY_STAT_TXT_ALLOW  AUTHC_SCNDRY_STAT_TXT_CHALLENGE_ISSUED  \\\n",
              "0                                1                                       0   \n",
              "1                                1                                       0   \n",
              "2                                1                                       0   \n",
              "3                                1                                       0   \n",
              "4                                0                                       0   \n",
              "...                            ...                                     ...   \n",
              "13995                            1                                       0   \n",
              "13996                            1                                       0   \n",
              "13997                            1                                       0   \n",
              "13998                            1                                       0   \n",
              "13999                            1                                       0   \n",
              "\n",
              "       AUTHC_SCNDRY_STAT_TXT_CHALLENGE_SUCCESS  recentphupdate  CUST_Years  \n",
              "0                                            0               1          28  \n",
              "1                                            0               0          50  \n",
              "2                                            0               0          27  \n",
              "3                                            0               0          20  \n",
              "4                                            1               0          34  \n",
              "...                                        ...             ...         ...  \n",
              "13995                                        0               0          20  \n",
              "13996                                        0               0          11  \n",
              "13997                                        0               1          37  \n",
              "13998                                        0               0           0  \n",
              "13999                                        0               0           8  \n",
              "\n",
              "[13879 rows x 24 columns]"
            ],
            "text/html": [
              "\n",
              "  <div id=\"df-e650ec06-8e49-4d51-b657-a79c509e65e9\">\n",
              "    <div class=\"colab-df-container\">\n",
              "      <div>\n",
              "<style scoped>\n",
              "    .dataframe tbody tr th:only-of-type {\n",
              "        vertical-align: middle;\n",
              "    }\n",
              "\n",
              "    .dataframe tbody tr th {\n",
              "        vertical-align: top;\n",
              "    }\n",
              "\n",
              "    .dataframe thead th {\n",
              "        text-align: right;\n",
              "    }\n",
              "</style>\n",
              "<table border=\"1\" class=\"dataframe\">\n",
              "  <thead>\n",
              "    <tr style=\"text-align: right;\">\n",
              "      <th></th>\n",
              "      <th>TRAN_AMT</th>\n",
              "      <th>ACCT_PRE_TRAN_AVAIL_BAL</th>\n",
              "      <th>CUST_AGE</th>\n",
              "      <th>OPEN_ACCT_CT</th>\n",
              "      <th>ALERT_TRGR_CD</th>\n",
              "      <th>FRAUD_NONFRAUD</th>\n",
              "      <th>WF_dvc_age_NEW</th>\n",
              "      <th>recentpwdupdate</th>\n",
              "      <th>CARR_NAME_avail</th>\n",
              "      <th>STATE_Same</th>\n",
              "      <th>...</th>\n",
              "      <th>AUTHC_PRIM_TYPE_CD_AFA_BM</th>\n",
              "      <th>AUTHC_PRIM_TYPE_CD_AFA_PL</th>\n",
              "      <th>AUTHC_PRIM_TYPE_CD_FACE_ID</th>\n",
              "      <th>AUTHC_PRIM_TYPE_CD_TOUCH_ID</th>\n",
              "      <th>AUTHC_PRIM_TYPE_CD_UN_PWD</th>\n",
              "      <th>AUTHC_SCNDRY_STAT_TXT_ALLOW</th>\n",
              "      <th>AUTHC_SCNDRY_STAT_TXT_CHALLENGE_ISSUED</th>\n",
              "      <th>AUTHC_SCNDRY_STAT_TXT_CHALLENGE_SUCCESS</th>\n",
              "      <th>recentphupdate</th>\n",
              "      <th>CUST_Years</th>\n",
              "    </tr>\n",
              "  </thead>\n",
              "  <tbody>\n",
              "    <tr>\n",
              "      <th>0</th>\n",
              "      <td>5.38</td>\n",
              "      <td>23619.91</td>\n",
              "      <td>47</td>\n",
              "      <td>4</td>\n",
              "      <td>1</td>\n",
              "      <td>1</td>\n",
              "      <td>0</td>\n",
              "      <td>0</td>\n",
              "      <td>1</td>\n",
              "      <td>1</td>\n",
              "      <td>...</td>\n",
              "      <td>0</td>\n",
              "      <td>0</td>\n",
              "      <td>0</td>\n",
              "      <td>0</td>\n",
              "      <td>1</td>\n",
              "      <td>1</td>\n",
              "      <td>0</td>\n",
              "      <td>0</td>\n",
              "      <td>1</td>\n",
              "      <td>28</td>\n",
              "    </tr>\n",
              "    <tr>\n",
              "      <th>1</th>\n",
              "      <td>65.19</td>\n",
              "      <td>0.00</td>\n",
              "      <td>45</td>\n",
              "      <td>5</td>\n",
              "      <td>1</td>\n",
              "      <td>1</td>\n",
              "      <td>0</td>\n",
              "      <td>0</td>\n",
              "      <td>1</td>\n",
              "      <td>1</td>\n",
              "      <td>...</td>\n",
              "      <td>0</td>\n",
              "      <td>0</td>\n",
              "      <td>1</td>\n",
              "      <td>0</td>\n",
              "      <td>0</td>\n",
              "      <td>1</td>\n",
              "      <td>0</td>\n",
              "      <td>0</td>\n",
              "      <td>0</td>\n",
              "      <td>50</td>\n",
              "    </tr>\n",
              "    <tr>\n",
              "      <th>2</th>\n",
              "      <td>54.84</td>\n",
              "      <td>34570.63</td>\n",
              "      <td>36</td>\n",
              "      <td>8</td>\n",
              "      <td>0</td>\n",
              "      <td>0</td>\n",
              "      <td>0</td>\n",
              "      <td>0</td>\n",
              "      <td>1</td>\n",
              "      <td>0</td>\n",
              "      <td>...</td>\n",
              "      <td>0</td>\n",
              "      <td>0</td>\n",
              "      <td>0</td>\n",
              "      <td>0</td>\n",
              "      <td>1</td>\n",
              "      <td>1</td>\n",
              "      <td>0</td>\n",
              "      <td>0</td>\n",
              "      <td>0</td>\n",
              "      <td>27</td>\n",
              "    </tr>\n",
              "    <tr>\n",
              "      <th>3</th>\n",
              "      <td>0.01</td>\n",
              "      <td>0.00</td>\n",
              "      <td>62</td>\n",
              "      <td>3</td>\n",
              "      <td>1</td>\n",
              "      <td>1</td>\n",
              "      <td>0</td>\n",
              "      <td>0</td>\n",
              "      <td>1</td>\n",
              "      <td>0</td>\n",
              "      <td>...</td>\n",
              "      <td>0</td>\n",
              "      <td>0</td>\n",
              "      <td>0</td>\n",
              "      <td>0</td>\n",
              "      <td>1</td>\n",
              "      <td>1</td>\n",
              "      <td>0</td>\n",
              "      <td>0</td>\n",
              "      <td>0</td>\n",
              "      <td>20</td>\n",
              "    </tr>\n",
              "    <tr>\n",
              "      <th>4</th>\n",
              "      <td>497.08</td>\n",
              "      <td>12725.18</td>\n",
              "      <td>81</td>\n",
              "      <td>2</td>\n",
              "      <td>1</td>\n",
              "      <td>0</td>\n",
              "      <td>0</td>\n",
              "      <td>1</td>\n",
              "      <td>1</td>\n",
              "      <td>0</td>\n",
              "      <td>...</td>\n",
              "      <td>0</td>\n",
              "      <td>0</td>\n",
              "      <td>0</td>\n",
              "      <td>0</td>\n",
              "      <td>1</td>\n",
              "      <td>0</td>\n",
              "      <td>0</td>\n",
              "      <td>1</td>\n",
              "      <td>0</td>\n",
              "      <td>34</td>\n",
              "    </tr>\n",
              "    <tr>\n",
              "      <th>...</th>\n",
              "      <td>...</td>\n",
              "      <td>...</td>\n",
              "      <td>...</td>\n",
              "      <td>...</td>\n",
              "      <td>...</td>\n",
              "      <td>...</td>\n",
              "      <td>...</td>\n",
              "      <td>...</td>\n",
              "      <td>...</td>\n",
              "      <td>...</td>\n",
              "      <td>...</td>\n",
              "      <td>...</td>\n",
              "      <td>...</td>\n",
              "      <td>...</td>\n",
              "      <td>...</td>\n",
              "      <td>...</td>\n",
              "      <td>...</td>\n",
              "      <td>...</td>\n",
              "      <td>...</td>\n",
              "      <td>...</td>\n",
              "      <td>...</td>\n",
              "    </tr>\n",
              "    <tr>\n",
              "      <th>13995</th>\n",
              "      <td>1937.21</td>\n",
              "      <td>230.75</td>\n",
              "      <td>55</td>\n",
              "      <td>4</td>\n",
              "      <td>1</td>\n",
              "      <td>1</td>\n",
              "      <td>1</td>\n",
              "      <td>0</td>\n",
              "      <td>1</td>\n",
              "      <td>1</td>\n",
              "      <td>...</td>\n",
              "      <td>0</td>\n",
              "      <td>0</td>\n",
              "      <td>0</td>\n",
              "      <td>0</td>\n",
              "      <td>1</td>\n",
              "      <td>1</td>\n",
              "      <td>0</td>\n",
              "      <td>0</td>\n",
              "      <td>0</td>\n",
              "      <td>20</td>\n",
              "    </tr>\n",
              "    <tr>\n",
              "      <th>13996</th>\n",
              "      <td>114.38</td>\n",
              "      <td>0.00</td>\n",
              "      <td>44</td>\n",
              "      <td>10</td>\n",
              "      <td>1</td>\n",
              "      <td>1</td>\n",
              "      <td>1</td>\n",
              "      <td>0</td>\n",
              "      <td>1</td>\n",
              "      <td>0</td>\n",
              "      <td>...</td>\n",
              "      <td>0</td>\n",
              "      <td>0</td>\n",
              "      <td>1</td>\n",
              "      <td>0</td>\n",
              "      <td>0</td>\n",
              "      <td>1</td>\n",
              "      <td>0</td>\n",
              "      <td>0</td>\n",
              "      <td>0</td>\n",
              "      <td>11</td>\n",
              "    </tr>\n",
              "    <tr>\n",
              "      <th>13997</th>\n",
              "      <td>493.00</td>\n",
              "      <td>2848.63</td>\n",
              "      <td>54</td>\n",
              "      <td>3</td>\n",
              "      <td>1</td>\n",
              "      <td>0</td>\n",
              "      <td>0</td>\n",
              "      <td>1</td>\n",
              "      <td>1</td>\n",
              "      <td>0</td>\n",
              "      <td>...</td>\n",
              "      <td>0</td>\n",
              "      <td>0</td>\n",
              "      <td>0</td>\n",
              "      <td>0</td>\n",
              "      <td>1</td>\n",
              "      <td>1</td>\n",
              "      <td>0</td>\n",
              "      <td>0</td>\n",
              "      <td>1</td>\n",
              "      <td>37</td>\n",
              "    </tr>\n",
              "    <tr>\n",
              "      <th>13998</th>\n",
              "      <td>491.64</td>\n",
              "      <td>3163.25</td>\n",
              "      <td>21</td>\n",
              "      <td>3</td>\n",
              "      <td>0</td>\n",
              "      <td>0</td>\n",
              "      <td>1</td>\n",
              "      <td>0</td>\n",
              "      <td>1</td>\n",
              "      <td>0</td>\n",
              "      <td>...</td>\n",
              "      <td>0</td>\n",
              "      <td>0</td>\n",
              "      <td>0</td>\n",
              "      <td>0</td>\n",
              "      <td>1</td>\n",
              "      <td>1</td>\n",
              "      <td>0</td>\n",
              "      <td>0</td>\n",
              "      <td>0</td>\n",
              "      <td>0</td>\n",
              "    </tr>\n",
              "    <tr>\n",
              "      <th>13999</th>\n",
              "      <td>6.02</td>\n",
              "      <td>0.00</td>\n",
              "      <td>60</td>\n",
              "      <td>6</td>\n",
              "      <td>1</td>\n",
              "      <td>1</td>\n",
              "      <td>0</td>\n",
              "      <td>0</td>\n",
              "      <td>1</td>\n",
              "      <td>0</td>\n",
              "      <td>...</td>\n",
              "      <td>0</td>\n",
              "      <td>0</td>\n",
              "      <td>0</td>\n",
              "      <td>0</td>\n",
              "      <td>1</td>\n",
              "      <td>1</td>\n",
              "      <td>0</td>\n",
              "      <td>0</td>\n",
              "      <td>0</td>\n",
              "      <td>8</td>\n",
              "    </tr>\n",
              "  </tbody>\n",
              "</table>\n",
              "<p>13879 rows × 24 columns</p>\n",
              "</div>\n",
              "      <button class=\"colab-df-convert\" onclick=\"convertToInteractive('df-e650ec06-8e49-4d51-b657-a79c509e65e9')\"\n",
              "              title=\"Convert this dataframe to an interactive table.\"\n",
              "              style=\"display:none;\">\n",
              "        \n",
              "  <svg xmlns=\"http://www.w3.org/2000/svg\" height=\"24px\"viewBox=\"0 0 24 24\"\n",
              "       width=\"24px\">\n",
              "    <path d=\"M0 0h24v24H0V0z\" fill=\"none\"/>\n",
              "    <path d=\"M18.56 5.44l.94 2.06.94-2.06 2.06-.94-2.06-.94-.94-2.06-.94 2.06-2.06.94zm-11 1L8.5 8.5l.94-2.06 2.06-.94-2.06-.94L8.5 2.5l-.94 2.06-2.06.94zm10 10l.94 2.06.94-2.06 2.06-.94-2.06-.94-.94-2.06-.94 2.06-2.06.94z\"/><path d=\"M17.41 7.96l-1.37-1.37c-.4-.4-.92-.59-1.43-.59-.52 0-1.04.2-1.43.59L10.3 9.45l-7.72 7.72c-.78.78-.78 2.05 0 2.83L4 21.41c.39.39.9.59 1.41.59.51 0 1.02-.2 1.41-.59l7.78-7.78 2.81-2.81c.8-.78.8-2.07 0-2.86zM5.41 20L4 18.59l7.72-7.72 1.47 1.35L5.41 20z\"/>\n",
              "  </svg>\n",
              "      </button>\n",
              "      \n",
              "  <style>\n",
              "    .colab-df-container {\n",
              "      display:flex;\n",
              "      flex-wrap:wrap;\n",
              "      gap: 12px;\n",
              "    }\n",
              "\n",
              "    .colab-df-convert {\n",
              "      background-color: #E8F0FE;\n",
              "      border: none;\n",
              "      border-radius: 50%;\n",
              "      cursor: pointer;\n",
              "      display: none;\n",
              "      fill: #1967D2;\n",
              "      height: 32px;\n",
              "      padding: 0 0 0 0;\n",
              "      width: 32px;\n",
              "    }\n",
              "\n",
              "    .colab-df-convert:hover {\n",
              "      background-color: #E2EBFA;\n",
              "      box-shadow: 0px 1px 2px rgba(60, 64, 67, 0.3), 0px 1px 3px 1px rgba(60, 64, 67, 0.15);\n",
              "      fill: #174EA6;\n",
              "    }\n",
              "\n",
              "    [theme=dark] .colab-df-convert {\n",
              "      background-color: #3B4455;\n",
              "      fill: #D2E3FC;\n",
              "    }\n",
              "\n",
              "    [theme=dark] .colab-df-convert:hover {\n",
              "      background-color: #434B5C;\n",
              "      box-shadow: 0px 1px 3px 1px rgba(0, 0, 0, 0.15);\n",
              "      filter: drop-shadow(0px 1px 2px rgba(0, 0, 0, 0.3));\n",
              "      fill: #FFFFFF;\n",
              "    }\n",
              "  </style>\n",
              "\n",
              "      <script>\n",
              "        const buttonEl =\n",
              "          document.querySelector('#df-e650ec06-8e49-4d51-b657-a79c509e65e9 button.colab-df-convert');\n",
              "        buttonEl.style.display =\n",
              "          google.colab.kernel.accessAllowed ? 'block' : 'none';\n",
              "\n",
              "        async function convertToInteractive(key) {\n",
              "          const element = document.querySelector('#df-e650ec06-8e49-4d51-b657-a79c509e65e9');\n",
              "          const dataTable =\n",
              "            await google.colab.kernel.invokeFunction('convertToInteractive',\n",
              "                                                     [key], {});\n",
              "          if (!dataTable) return;\n",
              "\n",
              "          const docLinkHtml = 'Like what you see? Visit the ' +\n",
              "            '<a target=\"_blank\" href=https://colab.research.google.com/notebooks/data_table.ipynb>data table notebook</a>'\n",
              "            + ' to learn more about interactive tables.';\n",
              "          element.innerHTML = '';\n",
              "          dataTable['output_type'] = 'display_data';\n",
              "          await google.colab.output.renderOutput(dataTable, element);\n",
              "          const docLink = document.createElement('div');\n",
              "          docLink.innerHTML = docLinkHtml;\n",
              "          element.appendChild(docLink);\n",
              "        }\n",
              "      </script>\n",
              "    </div>\n",
              "  </div>\n",
              "  "
            ]
          },
          "metadata": {},
          "execution_count": 77
        }
      ],
      "source": [
        "# Non-Fraud = 1 and Fraud = 0\n",
        "df['FRAUD_NONFRAUD'] = df['FRAUD_NONFRAUD'].map({'Non-Fraud':1,'Fraud':0}).astype(int)\n",
        "df"
      ]
    },
    {
      "cell_type": "code",
      "execution_count": null,
      "metadata": {
        "colab": {
          "base_uri": "https://localhost:8080/"
        },
        "id": "S_Tkefo1hqmK",
        "outputId": "b4711577-d45c-49ef-f8bb-f2d942609a58"
      },
      "outputs": [
        {
          "output_type": "stream",
          "name": "stdout",
          "text": [
            "<class 'pandas.core.frame.DataFrame'>\n",
            "Int64Index: 13879 entries, 0 to 13999\n",
            "Data columns (total 24 columns):\n",
            " #   Column                                   Non-Null Count  Dtype  \n",
            "---  ------                                   --------------  -----  \n",
            " 0   TRAN_AMT                                 13879 non-null  float64\n",
            " 1   ACCT_PRE_TRAN_AVAIL_BAL                  13879 non-null  float64\n",
            " 2   CUST_AGE                                 13879 non-null  int64  \n",
            " 3   OPEN_ACCT_CT                             13879 non-null  int64  \n",
            " 4   ALERT_TRGR_CD                            13879 non-null  int64  \n",
            " 5   FRAUD_NONFRAUD                           13879 non-null  int64  \n",
            " 6   WF_dvc_age_NEW                           13879 non-null  int64  \n",
            " 7   recentpwdupdate                          13879 non-null  int64  \n",
            " 8   CARR_NAME_avail                          13879 non-null  int64  \n",
            " 9   STATE_Same                               13879 non-null  int64  \n",
            " 10  DVC_TYPE_TXT_DESKTOP                     13879 non-null  uint8  \n",
            " 11  DVC_TYPE_TXT_MOBILE                      13879 non-null  uint8  \n",
            " 12  DVC_TYPE_TXT_PHONE                       13879 non-null  uint8  \n",
            " 13  DVC_TYPE_TXT_TABLET                      13879 non-null  uint8  \n",
            " 14  AUTHC_PRIM_TYPE_CD_AFA_BM                13879 non-null  uint8  \n",
            " 15  AUTHC_PRIM_TYPE_CD_AFA_PL                13879 non-null  uint8  \n",
            " 16  AUTHC_PRIM_TYPE_CD_FACE_ID               13879 non-null  uint8  \n",
            " 17  AUTHC_PRIM_TYPE_CD_TOUCH_ID              13879 non-null  uint8  \n",
            " 18  AUTHC_PRIM_TYPE_CD_UN_PWD                13879 non-null  uint8  \n",
            " 19  AUTHC_SCNDRY_STAT_TXT_ALLOW              13879 non-null  uint8  \n",
            " 20  AUTHC_SCNDRY_STAT_TXT_CHALLENGE_ISSUED   13879 non-null  uint8  \n",
            " 21  AUTHC_SCNDRY_STAT_TXT_CHALLENGE_SUCCESS  13879 non-null  uint8  \n",
            " 22  recentphupdate                           13879 non-null  int64  \n",
            " 23  CUST_Years                               13879 non-null  int64  \n",
            "dtypes: float64(2), int64(10), uint8(12)\n",
            "memory usage: 1.5 MB\n"
          ]
        }
      ],
      "source": [
        "df.info()"
      ]
    },
    {
      "cell_type": "markdown",
      "metadata": {
        "id": "rMKClkTFhqmK"
      },
      "source": [
        "Generally, MinMax scalar is used when we use dimension reductions algorithms and when we have lot of dummy variables in the dataset. This dataset has many dummy variables so we use MinMax Scalar. This dataset is also imbalanced dataset which makes the MinMax scalar suitable to use for our analysis."
      ]
    },
    {
      "cell_type": "code",
      "execution_count": null,
      "metadata": {
        "id": "XzVpLhy5hqmK"
      },
      "outputs": [],
      "source": [
        "X = df.drop('FRAUD_NONFRAUD', axis = 1)\n",
        "y = df['FRAUD_NONFRAUD']"
      ]
    },
    {
      "cell_type": "markdown",
      "metadata": {
        "id": "9rtPgvtphqmK"
      },
      "source": [
        "## Splitting Dataset into Training and Testing set"
      ]
    },
    {
      "cell_type": "code",
      "execution_count": null,
      "metadata": {
        "id": "Ls18-KhBhqmL"
      },
      "outputs": [],
      "source": [
        "from sklearn.preprocessing import MinMaxScaler\n",
        "from sklearn.model_selection import train_test_split"
      ]
    },
    {
      "cell_type": "code",
      "execution_count": null,
      "metadata": {
        "id": "Z_jshp3khqmL"
      },
      "outputs": [],
      "source": [
        "X_train_orig, X_test_orig, y_train, y_test = train_test_split(X, y, random_state=0)"
      ]
    },
    {
      "cell_type": "code",
      "execution_count": null,
      "metadata": {
        "id": "1hk4c0dYhqmL"
      },
      "outputs": [],
      "source": [
        "from sklearn.preprocessing import MinMaxScaler\n",
        "\n",
        "scaler = MinMaxScaler()\n",
        "X_train = scaler.fit_transform(X_train_orig)\n",
        "X_test = scaler.transform(X_test_orig)"
      ]
    },
    {
      "cell_type": "markdown",
      "metadata": {
        "id": "cw30GGFlhqmL"
      },
      "source": [
        "## Training Classification Models"
      ]
    },
    {
      "cell_type": "markdown",
      "metadata": {
        "id": "IE4j-vAkhqmL"
      },
      "source": [
        "We will train the dataset on below Models :\n",
        "\n",
        "1. K Nearest Neighbors Classifier\n",
        "2. Logistic Regression Classifier using Penalty = l2\n",
        "3. Logistic Regression Classifier using Penalty = l1\n",
        "4. Linear SVC Classifier\n",
        "5. SVC Classifier using kernel=rbf\n",
        "6. SVC Classifier using kernel=linear\n",
        "7. SVC Classifier using kernel=poly\n",
        "8. Decision Tree Classifier\n",
        "9. Random Forest Classifier\n",
        "\n",
        "**Evaluation Metric**\n",
        "\n",
        "For the imbalanced datasets AUC is a much better metric than accuracy since predicting randomly always produces an AUC of 0.5, no matter how imbalanced the classes in a dataset are. That is why we use 'roc_auc' scoring function for this analysis."
      ]
    },
    {
      "cell_type": "markdown",
      "metadata": {
        "id": "HlTifBVXhqmM"
      },
      "source": [
        "### 1. KNN Classifiers"
      ]
    },
    {
      "cell_type": "code",
      "execution_count": null,
      "metadata": {
        "id": "l-u7Oo-4hqmM"
      },
      "outputs": [],
      "source": [
        "from sklearn.neighbors import KNeighborsClassifier\n",
        "from sklearn.metrics import accuracy_score, plot_confusion_matrix"
      ]
    },
    {
      "cell_type": "markdown",
      "metadata": {
        "id": "YWLNC4XdhqmM"
      },
      "source": [
        "Model fitting with K-cross Validation and GridSearchCV"
      ]
    },
    {
      "cell_type": "code",
      "execution_count": null,
      "metadata": {
        "colab": {
          "base_uri": "https://localhost:8080/"
        },
        "id": "4cCcsM3ihqmM",
        "outputId": "5b02c39d-668e-4c5f-dcd6-1c56d889e05f"
      },
      "outputs": [
        {
          "output_type": "execute_result",
          "data": {
            "text/plain": [
              "GridSearchCV(cv=5, estimator=KNeighborsClassifier(), n_jobs=-1,\n",
              "             param_grid={'n_neighbors': [1, 2, 3, 4, 5, 6, 7, 8, 9, 10, 11, 12,\n",
              "                                         13, 14, 15, 16, 17, 18, 19, 20, 21, 22,\n",
              "                                         23, 24, 25, 26, 27, 28, 29, 30]},\n",
              "             return_train_score=True, scoring='roc_auc')"
            ]
          },
          "metadata": {},
          "execution_count": 84
        }
      ],
      "source": [
        "knn = KNeighborsClassifier()\n",
        "from sklearn.model_selection import GridSearchCV\n",
        "k_range = list(range(1,31))\n",
        "param_grid = dict(n_neighbors=k_range)\n",
        "  \n",
        "# defining parameter range\n",
        "grid_knn= GridSearchCV(knn, param_grid, cv=5, return_train_score=True, scoring=\"roc_auc\",n_jobs=-1)\n",
        "\n",
        "# fitting the model for grid search\n",
        "grid_knn.fit(X_train, y_train)"
      ]
    },
    {
      "cell_type": "code",
      "execution_count": null,
      "metadata": {
        "colab": {
          "base_uri": "https://localhost:8080/"
        },
        "id": "ZbtewecBhqmN",
        "outputId": "c36c553c-e78c-4f84-8018-1155136a41b9"
      },
      "outputs": [
        {
          "output_type": "execute_result",
          "data": {
            "text/plain": [
              "0.8530168736078964"
            ]
          },
          "metadata": {},
          "execution_count": 85
        }
      ],
      "source": [
        "grid_knn.score(X_test, y_test)"
      ]
    },
    {
      "cell_type": "code",
      "execution_count": null,
      "metadata": {
        "colab": {
          "base_uri": "https://localhost:8080/"
        },
        "id": "wA27o7AKhqmN",
        "outputId": "36ee1ee3-4ea0-4b7e-cd7a-87afaf9baa48"
      },
      "outputs": [
        {
          "output_type": "stream",
          "name": "stdout",
          "text": [
            "accuracy_score: 0.7991\n",
            "roc_auc_score: 0.8530\n"
          ]
        }
      ],
      "source": [
        "from sklearn.metrics import accuracy_score, roc_auc_score\n",
        "\n",
        "y_pred = grid_knn.predict(X_test)\n",
        "print('accuracy_score: {:.4f}'.format(accuracy_score(y_test, y_pred)))\n",
        "print('roc_auc_score: {:.4f}'.format(roc_auc_score(y_test, grid_knn.predict_proba(X_test)[:,1])))"
      ]
    },
    {
      "cell_type": "code",
      "execution_count": null,
      "metadata": {
        "colab": {
          "base_uri": "https://localhost:8080/"
        },
        "id": "YPoWzgtahqmN",
        "outputId": "bbce47d5-bf01-4a8a-c99c-b3ade5db5863"
      },
      "outputs": [
        {
          "output_type": "execute_result",
          "data": {
            "text/plain": [
              "{'n_neighbors': 21}"
            ]
          },
          "metadata": {},
          "execution_count": 87
        }
      ],
      "source": [
        "grid_knn.best_params_"
      ]
    },
    {
      "cell_type": "code",
      "execution_count": null,
      "metadata": {
        "colab": {
          "base_uri": "https://localhost:8080/",
          "height": 334
        },
        "id": "PeILClKzhqmO",
        "outputId": "a8582f7c-78af-42ca-a012-452ecc669eb1"
      },
      "outputs": [
        {
          "output_type": "display_data",
          "data": {
            "text/plain": [
              "<Figure size 1440x360 with 1 Axes>"
            ],
            "image/png": "[encoded data removed]"
          },
          "metadata": {
            "needs_background": "light"
          }
        }
      ],
      "source": [
        "%matplotlib inline \n",
        "\n",
        "knn = KNeighborsClassifier(n_neighbors=21)\n",
        "knn.fit(X_train, y_train)\n",
        "\n",
        "\n",
        "from sklearn.metrics import roc_curve\n",
        "fpr, tpr, thresholds = roc_curve(y_test, knn.predict_proba(X_test)[:, 1])\n",
        "\n",
        "plt.subplots(figsize = (20,5))\n",
        "plt.plot(fpr, tpr, label=\"ROC Curve for knn\")\n",
        "plt.xlabel(\"FPR\")\n",
        "plt.ylabel(\"TPR (recall)\")\n",
        "# find threshold closest to zero\n",
        "close_zero = np.argmin(np.abs(thresholds))\n",
        "plt.plot(fpr[close_zero], tpr[close_zero], 'o', markersize=10,\n",
        "         label=\"threshold zero\", fillstyle=\"none\", c='k', mew=2)\n",
        "plt.legend(loc=4)\n",
        "plt.grid()"
      ]
    },
    {
      "cell_type": "code",
      "execution_count": null,
      "metadata": {
        "colab": {
          "base_uri": "https://localhost:8080/",
          "height": 1000
        },
        "id": "6WqFHaMChqmO",
        "outputId": "122aeda5-ff30-464d-9f78-0cc1381d913b"
      },
      "outputs": [
        {
          "output_type": "stream",
          "name": "stdout",
          "text": [
            "k = 1.00  accuracy = 0.79  AUC = 0.74\n",
            "k = 2.00  accuracy = 0.76  AUC = 0.80\n",
            "k = 3.00  accuracy = 0.80  AUC = 0.83\n",
            "k = 4.00  accuracy = 0.78  AUC = 0.83\n",
            "k = 5.00  accuracy = 0.80  AUC = 0.84\n",
            "k = 6.00  accuracy = 0.79  AUC = 0.84\n",
            "k = 7.00  accuracy = 0.80  AUC = 0.85\n",
            "k = 8.00  accuracy = 0.80  AUC = 0.85\n",
            "k = 9.00  accuracy = 0.80  AUC = 0.85\n",
            "k = 10.00  accuracy = 0.79  AUC = 0.85\n",
            "k = 11.00  accuracy = 0.80  AUC = 0.85\n",
            "k = 12.00  accuracy = 0.80  AUC = 0.85\n",
            "k = 13.00  accuracy = 0.80  AUC = 0.85\n",
            "k = 14.00  accuracy = 0.79  AUC = 0.85\n",
            "k = 15.00  accuracy = 0.80  AUC = 0.85\n",
            "k = 16.00  accuracy = 0.80  AUC = 0.85\n",
            "k = 17.00  accuracy = 0.80  AUC = 0.85\n",
            "k = 18.00  accuracy = 0.80  AUC = 0.85\n",
            "k = 19.00  accuracy = 0.80  AUC = 0.85\n",
            "k = 20.00  accuracy = 0.80  AUC = 0.85\n",
            "k = 21.00  accuracy = 0.80  AUC = 0.85\n",
            "k = 22.00  accuracy = 0.79  AUC = 0.85\n",
            "k = 23.00  accuracy = 0.80  AUC = 0.85\n",
            "k = 24.00  accuracy = 0.80  AUC = 0.85\n",
            "k = 25.00  accuracy = 0.80  AUC = 0.85\n",
            "k = 26.00  accuracy = 0.80  AUC = 0.85\n",
            "k = 27.00  accuracy = 0.80  AUC = 0.85\n",
            "k = 28.00  accuracy = 0.80  AUC = 0.85\n",
            "k = 29.00  accuracy = 0.80  AUC = 0.85\n",
            "k = 30.00  accuracy = 0.80  AUC = 0.85\n"
          ]
        },
        {
          "output_type": "execute_result",
          "data": {
            "text/plain": [
              "<matplotlib.legend.Legend at 0x7efe75a0dd10>"
            ]
          },
          "metadata": {},
          "execution_count": 89
        },
        {
          "output_type": "display_data",
          "data": {
            "text/plain": [
              "<Figure size 720x720 with 1 Axes>"
            ],
            "image/png": "[encoded data removed]"
          },
          "metadata": {
            "needs_background": "light"
          }
        }
      ],
      "source": [
        "%matplotlib inline\n",
        "\n",
        "from sklearn.metrics import roc_auc_score\n",
        "\n",
        "plt.subplots(figsize = (10,10))\n",
        "\n",
        "for k in range(1,31): \n",
        "    knn = KNeighborsClassifier(k)\n",
        "    knn.fit(X_train, y_train)\n",
        "    accuracy = knn.score(X_test, y_test)\n",
        "    auc = roc_auc_score(y_test, knn.predict_proba(X_test)[:, 1])\n",
        "    fpr, tpr, _ = roc_curve(y_test , knn.predict_proba(X_test)[:, 1])\n",
        "    print(\"k = {:.2f}  accuracy = {:.2f}  AUC = {:.2f}\".format(\n",
        "        k, accuracy, auc))\n",
        "    plt.plot(fpr, tpr, label=\"k={:.3f}\".format(k))\n",
        "plt.xlabel(\"FPR\")\n",
        "plt.ylabel(\"TPR\")\n",
        "plt.xlim(-0.01, 1)\n",
        "plt.ylim(0, 1.02)\n",
        "plt.legend(loc=\"best\")"
      ]
    },
    {
      "cell_type": "code",
      "execution_count": null,
      "metadata": {
        "id": "KGTHi6ddhqmO"
      },
      "outputs": [],
      "source": [
        "Full_table=[['knn classifier: ', grid_knn.best_params_,roc_auc_score(y_test, grid_knn.predict_proba(X_test)[:,1])]]"
      ]
    },
    {
      "cell_type": "markdown",
      "metadata": {
        "id": "-dkAaZVChqmO"
      },
      "source": [
        "When we use scoring=\"roc_auc\" we get n_neighbors = 21 as the best paraameter. This parameter also has accuracy = 0.82  AUC = 0.87 from the ROC_AUC score."
      ]
    },
    {
      "cell_type": "markdown",
      "metadata": {
        "id": "aTA1-u98hqmO"
      },
      "source": [
        "### 2. Logistic Regression with penalty='l2',solver='lbfgs'"
      ]
    },
    {
      "cell_type": "code",
      "execution_count": null,
      "metadata": {
        "colab": {
          "base_uri": "https://localhost:8080/"
        },
        "id": "yZ0w0CJShqmP",
        "outputId": "f2bd58d2-22e9-4199-e2b8-08655e2da7e4"
      },
      "outputs": [
        {
          "output_type": "execute_result",
          "data": {
            "text/plain": [
              "GridSearchCV(cv=5, estimator=LogisticRegression(max_iter=1000, random_state=0),\n",
              "             param_grid={'C': [0.001, 0.01, 0.1, 1, 10, 100]},\n",
              "             scoring='roc_auc')"
            ]
          },
          "metadata": {},
          "execution_count": 91
        }
      ],
      "source": [
        "from sklearn.linear_model import LogisticRegression\n",
        "\n",
        "param_grid = {'C': [0.001,0.01, 0.1, 1, 10, 100]}\n",
        "clf = LogisticRegression(penalty='l2',solver='lbfgs',random_state = 0, max_iter = 1000)\n",
        "grid_clf = GridSearchCV(clf, param_grid, cv = 5, scoring= 'roc_auc')\n",
        "grid_clf.fit(X_train, y_train)"
      ]
    },
    {
      "cell_type": "code",
      "execution_count": null,
      "metadata": {
        "colab": {
          "base_uri": "https://localhost:8080/"
        },
        "id": "zUQzj6dshqmP",
        "outputId": "d56c8cd6-f96e-48dd-e8d9-c717061d17ea"
      },
      "outputs": [
        {
          "output_type": "execute_result",
          "data": {
            "text/plain": [
              "0.8328046192117216"
            ]
          },
          "metadata": {},
          "execution_count": 92
        }
      ],
      "source": [
        "grid_clf.score(X_test, y_test)"
      ]
    },
    {
      "cell_type": "code",
      "execution_count": null,
      "metadata": {
        "colab": {
          "base_uri": "https://localhost:8080/"
        },
        "id": "57c0mG1lhqmP",
        "outputId": "7e23af5e-e7d2-4211-c81d-b4050632feaa"
      },
      "outputs": [
        {
          "output_type": "stream",
          "name": "stdout",
          "text": [
            "accuracy_score: 0.7839 \n",
            "roc_auc_score: 0.8328\n"
          ]
        }
      ],
      "source": [
        "from sklearn.metrics import accuracy_score, roc_auc_score\n",
        "\n",
        "y_pred = grid_clf.predict(X_test)\n",
        "print('accuracy_score: {:.4f} '.format(accuracy_score(y_test, y_pred)))\n",
        "print('roc_auc_score: {:.4f}'.format(roc_auc_score(y_test, grid_clf.predict_proba(X_test)[:,1])))"
      ]
    },
    {
      "cell_type": "code",
      "execution_count": null,
      "metadata": {
        "colab": {
          "base_uri": "https://localhost:8080/"
        },
        "id": "s5ALqB2_hqmP",
        "outputId": "693560ba-ce3f-48fe-f46c-2da591870643"
      },
      "outputs": [
        {
          "output_type": "execute_result",
          "data": {
            "text/plain": [
              "{'C': 100}"
            ]
          },
          "metadata": {},
          "execution_count": 94
        }
      ],
      "source": [
        "grid_clf.best_params_"
      ]
    },
    {
      "cell_type": "code",
      "execution_count": null,
      "metadata": {
        "colab": {
          "base_uri": "https://localhost:8080/",
          "height": 334
        },
        "id": "iKyLBkiUhqmP",
        "outputId": "f03e2aa2-48ba-4b09-872b-3ccafde918cd"
      },
      "outputs": [
        {
          "output_type": "display_data",
          "data": {
            "text/plain": [
              "<Figure size 1440x360 with 1 Axes>"
            ],
            "image/png": "[encoded data removed]"
          },
          "metadata": {
            "needs_background": "light"
          }
        }
      ],
      "source": [
        "%matplotlib inline \n",
        "\n",
        "clf = LogisticRegression(C = 100, penalty='l2',solver='lbfgs',random_state = 0, max_iter = 1000)\n",
        "clf.fit(X_train, y_train)\n",
        "\n",
        "\n",
        "from sklearn.metrics import roc_curve\n",
        "fpr, tpr, thresholds = roc_curve(y_test, clf.predict_proba(X_test)[:, 1])\n",
        "\n",
        "plt.subplots(figsize = (20,5))\n",
        "plt.plot(fpr, tpr, label=\"ROC Curve for Logistic Regression l2\")\n",
        "plt.xlabel(\"FPR\")\n",
        "plt.ylabel(\"TPR (recall)\")\n",
        "# find threshold closest to zero\n",
        "close_zero = np.argmin(np.abs(thresholds))\n",
        "plt.plot(fpr[close_zero], tpr[close_zero], 'o', markersize=10,\n",
        "         label=\"threshold zero\", fillstyle=\"none\", c='k', mew=2)\n",
        "plt.legend(loc=4)\n",
        "plt.grid()"
      ]
    },
    {
      "cell_type": "code",
      "execution_count": null,
      "metadata": {
        "id": "-0mcJHSxhqmQ"
      },
      "outputs": [],
      "source": [
        "Full_table +=[['Logistic Regression classifier (l2): ', grid_clf.best_params_,roc_auc_score(y_test, grid_clf.predict_proba(X_test)[:,1])]]"
      ]
    },
    {
      "cell_type": "markdown",
      "metadata": {
        "id": "M7w-lNCthqmQ"
      },
      "source": [
        "### 3. Logistic Regression with penalty='l1',solver='liblinear'"
      ]
    },
    {
      "cell_type": "code",
      "execution_count": null,
      "metadata": {
        "colab": {
          "base_uri": "https://localhost:8080/"
        },
        "id": "BuL5cObohqmQ",
        "outputId": "09d9562e-5ced-4088-a6f7-ea0e951f5d2e"
      },
      "outputs": [
        {
          "output_type": "execute_result",
          "data": {
            "text/plain": [
              "GridSearchCV(cv=5,\n",
              "             estimator=LogisticRegression(max_iter=1000, penalty='l1',\n",
              "                                          random_state=0, solver='liblinear'),\n",
              "             param_grid={'C': [0.001, 0.01, 0.1, 1, 10, 100]},\n",
              "             scoring='roc_auc')"
            ]
          },
          "metadata": {},
          "execution_count": 97
        }
      ],
      "source": [
        "from sklearn.linear_model import LogisticRegression\n",
        "\n",
        "param_grid = {'C': [0.001,0.01, 0.1, 1, 10, 100]}\n",
        "clf = LogisticRegression(penalty='l1',solver='liblinear',random_state = 0, max_iter = 1000)\n",
        "grid_clf = GridSearchCV(clf, param_grid, cv = 5, scoring= 'roc_auc')\n",
        "grid_clf.fit(X_train, y_train)"
      ]
    },
    {
      "cell_type": "code",
      "execution_count": null,
      "metadata": {
        "colab": {
          "base_uri": "https://localhost:8080/"
        },
        "id": "He9miX3PhqmQ",
        "outputId": "9d777134-1565-4b5f-e306-337f8b1e1a49"
      },
      "outputs": [
        {
          "output_type": "execute_result",
          "data": {
            "text/plain": [
              "0.832806220769076"
            ]
          },
          "metadata": {},
          "execution_count": 98
        }
      ],
      "source": [
        "grid_clf.score(X_test, y_test)"
      ]
    },
    {
      "cell_type": "code",
      "execution_count": null,
      "metadata": {
        "colab": {
          "base_uri": "https://localhost:8080/"
        },
        "id": "LQmn7nU1hqmQ",
        "outputId": "81cae785-a4cc-4620-f119-4235f3b9f437"
      },
      "outputs": [
        {
          "output_type": "stream",
          "name": "stdout",
          "text": [
            "accuracy_score:0.7839\n",
            "roc_auc_score: 0.8328 \n"
          ]
        }
      ],
      "source": [
        "from sklearn.metrics import accuracy_score, roc_auc_score\n",
        "\n",
        "y_pred = grid_clf.predict(X_test)\n",
        "print('accuracy_score:{:.4f}'.format(accuracy_score(y_test, y_pred)))\n",
        "print('roc_auc_score: {:.4f} '.format(roc_auc_score(y_test, grid_clf.predict_proba(X_test)[:,1])))"
      ]
    },
    {
      "cell_type": "code",
      "execution_count": null,
      "metadata": {
        "colab": {
          "base_uri": "https://localhost:8080/"
        },
        "id": "QaQpCuBAhqmQ",
        "outputId": "b8bf226c-69ee-4890-ee7c-5f8c06e78659"
      },
      "outputs": [
        {
          "output_type": "execute_result",
          "data": {
            "text/plain": [
              "{'C': 10}"
            ]
          },
          "metadata": {},
          "execution_count": 100
        }
      ],
      "source": [
        "grid_clf.best_params_"
      ]
    },
    {
      "cell_type": "code",
      "execution_count": null,
      "metadata": {
        "colab": {
          "base_uri": "https://localhost:8080/",
          "height": 334
        },
        "id": "SaopkLjmhqmR",
        "outputId": "f62eae1b-dc4d-434f-d651-ea9d2fb9645a"
      },
      "outputs": [
        {
          "output_type": "display_data",
          "data": {
            "text/plain": [
              "<Figure size 1440x360 with 1 Axes>"
            ],
            "image/png": "[encoded data removed]"
          },
          "metadata": {
            "needs_background": "light"
          }
        }
      ],
      "source": [
        "%matplotlib inline \n",
        "\n",
        "clf = LogisticRegression(C = 10, penalty='l1',solver='liblinear',random_state = 0, max_iter = 1000)\n",
        "clf.fit(X_train, y_train)\n",
        "\n",
        "\n",
        "from sklearn.metrics import roc_curve\n",
        "fpr, tpr, thresholds = roc_curve(y_test, clf.predict_proba(X_test)[:, 1])\n",
        "\n",
        "plt.subplots(figsize = (20,5))\n",
        "plt.plot(fpr, tpr, label=\"ROC Curve for Logistic Regression l1\")\n",
        "plt.xlabel(\"FPR\")\n",
        "plt.ylabel(\"TPR (recall)\")\n",
        "# find threshold closest to zero\n",
        "close_zero = np.argmin(np.abs(thresholds))\n",
        "plt.plot(fpr[close_zero], tpr[close_zero], 'o', markersize=10,\n",
        "         label=\"threshold zero\", fillstyle=\"none\", c='k', mew=2)\n",
        "plt.legend(loc=4)\n",
        "plt.grid()"
      ]
    },
    {
      "cell_type": "code",
      "execution_count": null,
      "metadata": {
        "id": "qY5A-Q5ChqmR"
      },
      "outputs": [],
      "source": [
        "Full_table +=[['Logistic Regression classifier (l1): ', grid_clf.best_params_,roc_auc_score(y_test, grid_clf.predict_proba(X_test)[:,1])]]"
      ]
    },
    {
      "cell_type": "markdown",
      "metadata": {
        "id": "nSFpXwJDhqmR"
      },
      "source": [
        "In the Logistic Regression, C=100 with penalty='l2',solver='lbfgs' and c=10 with penalty='l1',solver='liblinear' both give same roc_auc accuracy."
      ]
    },
    {
      "cell_type": "markdown",
      "metadata": {
        "id": "-QRlgBmbhqmR"
      },
      "source": [
        "### 4. Linear SVC Classifier"
      ]
    },
    {
      "cell_type": "code",
      "execution_count": null,
      "metadata": {
        "colab": {
          "base_uri": "https://localhost:8080/"
        },
        "id": "eGkBxsf3hqmR",
        "outputId": "59d89127-4a76-4715-a6c3-f855f034401d"
      },
      "outputs": [
        {
          "output_type": "execute_result",
          "data": {
            "text/plain": [
              "GridSearchCV(cv=5, estimator=LinearSVC(dual=False, random_state=0),\n",
              "             param_grid={'C': [0.01, 0.1, 1, 10, 100, 1000]},\n",
              "             scoring='roc_auc')"
            ]
          },
          "metadata": {},
          "execution_count": 103
        }
      ],
      "source": [
        "from sklearn.svm import LinearSVC\n",
        "\n",
        "param_grid = {'C': [0.01,0.1,1, 10, 100,1000]}\n",
        "svc_linear = LinearSVC(random_state = 0, max_iter = 1000, dual=False)\n",
        "grid_svc_linear = GridSearchCV(svc_linear, param_grid, cv = 5, scoring= 'roc_auc')\n",
        "grid_svc_linear.fit(X_train, y_train)"
      ]
    },
    {
      "cell_type": "code",
      "execution_count": null,
      "metadata": {
        "colab": {
          "base_uri": "https://localhost:8080/"
        },
        "id": "Xz_XILqXhqmS",
        "outputId": "3d09e61a-2674-4832-cb40-f1e25866be59"
      },
      "outputs": [
        {
          "output_type": "stream",
          "name": "stdout",
          "text": [
            "accuracy_score:0.7769\n",
            "roc_auc_score: 0.8307 \n"
          ]
        }
      ],
      "source": [
        "from sklearn.metrics import accuracy_score, roc_auc_score\n",
        "\n",
        "y_pred = grid_svc_linear.predict(X_test)\n",
        "print('accuracy_score:{:.4f}'.format(accuracy_score(y_test, y_pred)))\n",
        "print('roc_auc_score: {:.4f} '.format(roc_auc_score(y_test, grid_svc_linear.decision_function(X_test))))"
      ]
    },
    {
      "cell_type": "code",
      "execution_count": null,
      "metadata": {
        "colab": {
          "base_uri": "https://localhost:8080/"
        },
        "id": "BWm2PZnThqmS",
        "outputId": "78ce3698-1f71-47b5-f853-6dd4dfab0378"
      },
      "outputs": [
        {
          "output_type": "execute_result",
          "data": {
            "text/plain": [
              "{'C': 100}"
            ]
          },
          "metadata": {},
          "execution_count": 105
        }
      ],
      "source": [
        "grid_svc_linear.best_params_"
      ]
    },
    {
      "cell_type": "code",
      "execution_count": null,
      "metadata": {
        "colab": {
          "base_uri": "https://localhost:8080/",
          "height": 334
        },
        "id": "6PxTEPTghqmS",
        "outputId": "a8931ccd-5561-4def-e487-0bf02c5b95e0"
      },
      "outputs": [
        {
          "output_type": "display_data",
          "data": {
            "text/plain": [
              "<Figure size 1440x360 with 1 Axes>"
            ],
            "image/png": "[encoded data removed]"
          },
          "metadata": {
            "needs_background": "light"
          }
        }
      ],
      "source": [
        "%matplotlib inline \n",
        "\n",
        "svc_linear = LinearSVC(C = 1000, random_state = 0, max_iter = 1000, dual=False)\n",
        "svc_linear.fit(X_train, y_train)\n",
        "\n",
        "\n",
        "from sklearn.metrics import roc_curve\n",
        "fpr, tpr, thresholds = roc_curve(y_test, svc_linear.decision_function(X_test))\n",
        "\n",
        "plt.subplots(figsize = (20,5))\n",
        "plt.plot(fpr, tpr, label=\"ROC Curve for svc rbf\")\n",
        "plt.xlabel(\"FPR\")\n",
        "plt.ylabel(\"TPR (recall)\")\n",
        "# find threshold closest to zero\n",
        "close_zero = np.argmin(np.abs(thresholds))\n",
        "plt.plot(fpr[close_zero], tpr[close_zero], 'o', markersize=10,\n",
        "         label=\"threshold zero\", fillstyle=\"none\", c='k', mew=2)\n",
        "plt.legend(loc=4)\n",
        "plt.grid()"
      ]
    },
    {
      "cell_type": "code",
      "execution_count": null,
      "metadata": {
        "id": "ao3scs3whqmT"
      },
      "outputs": [],
      "source": [
        "Full_table +=[['Linear SVC classifier: ', grid_svc_linear.best_params_,roc_auc_score(y_test, grid_svc_linear.decision_function(X_test))]]"
      ]
    },
    {
      "cell_type": "markdown",
      "metadata": {
        "id": "4f4LmEBXhqmT"
      },
      "source": [
        "With SVM Linear we get C= 1000 with roc_auc_score: 0.8307."
      ]
    },
    {
      "cell_type": "markdown",
      "metadata": {
        "id": "GXXxaRtnhqmT"
      },
      "source": [
        "### 5. SVC Classifier using kernel=rbf"
      ]
    },
    {
      "cell_type": "code",
      "execution_count": null,
      "metadata": {
        "colab": {
          "base_uri": "https://localhost:8080/"
        },
        "id": "jmy0tFh9hqmT",
        "outputId": "97856e14-a2c9-4515-86f4-71ee72aa536f"
      },
      "outputs": [
        {
          "output_type": "execute_result",
          "data": {
            "text/plain": [
              "GridSearchCV(cv=5, estimator=SVC(random_state=0),\n",
              "             param_grid={'C': [0.001, 0.01, 0.1, 1, 10, 100],\n",
              "                         'gamma': [0.001, 0.01, 0.1, 1, 10, 100]},\n",
              "             scoring='roc_auc')"
            ]
          },
          "metadata": {},
          "execution_count": 108
        }
      ],
      "source": [
        "from sklearn.svm import SVC\n",
        "\n",
        "param_grid = {'C': [0.001, 0.01, 0.1, 1, 10, 100],\n",
        "              'gamma': [0.001, 0.01, 0.1, 1, 10, 100]}\n",
        "\n",
        "svc_rbf = SVC(kernel = 'rbf',random_state = 0)\n",
        "grid_svc_rbf = GridSearchCV(svc_rbf, param_grid, cv = 5, scoring= 'roc_auc')\n",
        "grid_svc_rbf.fit(X_train, y_train)"
      ]
    },
    {
      "cell_type": "code",
      "execution_count": null,
      "metadata": {
        "colab": {
          "base_uri": "https://localhost:8080/"
        },
        "id": "1ZGECIBOhqmU",
        "outputId": "a0e93a0a-a792-4909-b2d8-2624e21f59da"
      },
      "outputs": [
        {
          "output_type": "stream",
          "name": "stdout",
          "text": [
            "accuracy_score:0.8176\n",
            "roc_auc_score: 0.8810 \n"
          ]
        }
      ],
      "source": [
        "from sklearn.metrics import accuracy_score, roc_auc_score\n",
        "\n",
        "y_pred = grid_svc_rbf.predict(X_test)\n",
        "print('accuracy_score:{:.4f}'.format(accuracy_score(y_test, y_pred)))\n",
        "print('roc_auc_score: {:.4f} '.format(roc_auc_score(y_test, grid_svc_rbf.decision_function(X_test))))"
      ]
    },
    {
      "cell_type": "code",
      "execution_count": null,
      "metadata": {
        "colab": {
          "base_uri": "https://localhost:8080/"
        },
        "id": "H4b8Xbw5hqmU",
        "outputId": "00e5c890-fb4d-456b-8ec3-cd4ad47214d0"
      },
      "outputs": [
        {
          "output_type": "execute_result",
          "data": {
            "text/plain": [
              "{'C': 100, 'gamma': 0.1}"
            ]
          },
          "metadata": {},
          "execution_count": 110
        }
      ],
      "source": [
        "grid_svc_rbf.best_params_"
      ]
    },
    {
      "cell_type": "code",
      "execution_count": null,
      "metadata": {
        "colab": {
          "base_uri": "https://localhost:8080/",
          "height": 334
        },
        "id": "TiW2lg-4hqmU",
        "outputId": "13f6cfb5-6693-499d-ec3b-68910d46443c"
      },
      "outputs": [
        {
          "output_type": "display_data",
          "data": {
            "text/plain": [
              "<Figure size 1440x360 with 1 Axes>"
            ],
            "image/png": "[encoded data removed]"
          },
          "metadata": {
            "needs_background": "light"
          }
        }
      ],
      "source": [
        "%matplotlib inline \n",
        "\n",
        "svc_rbf = SVC(kernel = 'rbf',C = 100, gamma = 0.1, random_state = 0)\n",
        "svc_rbf.fit(X_train, y_train)\n",
        "\n",
        "\n",
        "from sklearn.metrics import roc_curve\n",
        "fpr, tpr, thresholds = roc_curve(y_test, svc_rbf.decision_function(X_test))\n",
        "\n",
        "plt.subplots(figsize = (20,5))\n",
        "plt.plot(fpr, tpr, label=\"ROC Curve for svc rbf\")\n",
        "plt.xlabel(\"FPR\")\n",
        "plt.ylabel(\"TPR (recall)\")\n",
        "# find threshold closest to zero\n",
        "close_zero = np.argmin(np.abs(thresholds))\n",
        "plt.plot(fpr[close_zero], tpr[close_zero], 'o', markersize=10,\n",
        "         label=\"threshold zero\", fillstyle=\"none\", c='k', mew=2)\n",
        "plt.legend(loc=4)\n",
        "plt.grid()"
      ]
    },
    {
      "cell_type": "code",
      "execution_count": null,
      "metadata": {
        "id": "ecJ0kuCVhqmV"
      },
      "outputs": [],
      "source": [
        "Full_table +=[['rbf kernel SVC classifier: ', grid_svc_rbf.best_params_,roc_auc_score(y_test, grid_svc_rbf.decision_function(X_test))]]"
      ]
    },
    {
      "cell_type": "markdown",
      "metadata": {
        "id": "b-JWzErvhqmV"
      },
      "source": [
        "### 6. SVC Classifier using kernel=linear"
      ]
    },
    {
      "cell_type": "code",
      "execution_count": null,
      "metadata": {
        "colab": {
          "base_uri": "https://localhost:8080/"
        },
        "id": "5KBEWBonhqmW",
        "outputId": "fe36775c-9d72-478e-9265-d308ca03a361"
      },
      "outputs": [
        {
          "output_type": "execute_result",
          "data": {
            "text/plain": [
              "GridSearchCV(cv=5, estimator=SVC(kernel='linear', random_state=0),\n",
              "             param_grid={'C': [0.001, 0.01, 0.1, 1, 10, 100]},\n",
              "             scoring='roc_auc')"
            ]
          },
          "metadata": {},
          "execution_count": 113
        }
      ],
      "source": [
        "from sklearn.svm import SVC\n",
        "\n",
        "param_grid = {'C': [0.001, 0.01, 0.1, 1, 10, 100]}\n",
        "\n",
        "svc_lin = SVC(kernel = 'linear',random_state = 0)\n",
        "grid_svc_lin = GridSearchCV(svc_lin, param_grid, cv = 5, scoring= 'roc_auc')\n",
        "grid_svc_lin.fit(X_train, y_train)"
      ]
    },
    {
      "cell_type": "code",
      "execution_count": null,
      "metadata": {
        "colab": {
          "base_uri": "https://localhost:8080/"
        },
        "id": "BbDzXr9mhqmW",
        "outputId": "b1eab2a6-080d-4eec-e059-183e8632a61c"
      },
      "outputs": [
        {
          "output_type": "stream",
          "name": "stdout",
          "text": [
            "accuracy_score:0.7945\n",
            "roc_auc_score: 0.8419 \n"
          ]
        }
      ],
      "source": [
        "from sklearn.metrics import accuracy_score, roc_auc_score\n",
        "\n",
        "y_pred = grid_svc_lin.predict(X_test)\n",
        "print('accuracy_score:{:.4f}'.format(accuracy_score(y_test, y_pred)))\n",
        "print('roc_auc_score: {:.4f} '.format(roc_auc_score(y_test, grid_svc_lin.decision_function(X_test))))"
      ]
    },
    {
      "cell_type": "code",
      "execution_count": null,
      "metadata": {
        "colab": {
          "base_uri": "https://localhost:8080/"
        },
        "id": "4pYsRpJyhqmX",
        "outputId": "78e01e41-32d4-48bf-f053-1d74145d4066"
      },
      "outputs": [
        {
          "output_type": "execute_result",
          "data": {
            "text/plain": [
              "{'C': 10}"
            ]
          },
          "metadata": {},
          "execution_count": 115
        }
      ],
      "source": [
        "grid_svc_lin.best_params_"
      ]
    },
    {
      "cell_type": "code",
      "execution_count": null,
      "metadata": {
        "colab": {
          "base_uri": "https://localhost:8080/",
          "height": 334
        },
        "id": "hFXAo18fhqmX",
        "outputId": "ab8055e2-452f-40bd-fc4b-082500c3f75f"
      },
      "outputs": [
        {
          "output_type": "display_data",
          "data": {
            "text/plain": [
              "<Figure size 1440x360 with 1 Axes>"
            ],
            "image/png": "[encoded data removed]"
          },
          "metadata": {
            "needs_background": "light"
          }
        }
      ],
      "source": [
        "%matplotlib inline \n",
        "\n",
        "svc_lin = SVC(kernel = 'linear',C = 10, random_state = 0)\n",
        "svc_lin.fit(X_train, y_train)\n",
        "\n",
        "\n",
        "from sklearn.metrics import roc_curve\n",
        "fpr, tpr, thresholds = roc_curve(y_test, svc_lin.decision_function(X_test))\n",
        "\n",
        "plt.subplots(figsize = (20,5))\n",
        "plt.plot(fpr, tpr, label=\"ROC Curve for svc linear\")\n",
        "plt.xlabel(\"FPR\")\n",
        "plt.ylabel(\"TPR (recall)\")\n",
        "# find threshold closest to zero\n",
        "close_zero = np.argmin(np.abs(thresholds))\n",
        "plt.plot(fpr[close_zero], tpr[close_zero], 'o', markersize=10,\n",
        "         label=\"threshold zero\", fillstyle=\"none\", c='k', mew=2)\n",
        "plt.legend(loc=4)\n",
        "plt.grid()"
      ]
    },
    {
      "cell_type": "code",
      "execution_count": null,
      "metadata": {
        "id": "EHGwE2XGhqmX"
      },
      "outputs": [],
      "source": [
        "Full_table +=[['linear kernel SVC classifier: ', grid_svc_lin.best_params_,roc_auc_score(y_test, grid_svc_lin.decision_function(X_test))]]"
      ]
    },
    {
      "cell_type": "markdown",
      "metadata": {
        "id": "xg_IhhqMhqmX"
      },
      "source": [
        "### 7. SVC Classifier using kernel=poly"
      ]
    },
    {
      "cell_type": "code",
      "execution_count": null,
      "metadata": {
        "colab": {
          "base_uri": "https://localhost:8080/"
        },
        "id": "rmWn9w63hqmY",
        "outputId": "8cd7ab6e-3cfb-4687-a387-2cceaa412eb5"
      },
      "outputs": [
        {
          "output_type": "execute_result",
          "data": {
            "text/plain": [
              "GridSearchCV(cv=5, estimator=SVC(kernel='poly', random_state=0),\n",
              "             param_grid={'C': [0.01, 0.1, 1, 10, 100]}, scoring='roc_auc')"
            ]
          },
          "metadata": {},
          "execution_count": 118
        }
      ],
      "source": [
        "from sklearn.svm import SVC\n",
        "\n",
        "param_grid = {'C': [0.01, 0.1, 1, 10, 100]}\n",
        "\n",
        "svc_poly = SVC(kernel = 'poly',degree=3, random_state = 0)\n",
        "grid_svc_poly = GridSearchCV(svc_poly, param_grid, cv = 5, scoring= 'roc_auc')\n",
        "grid_svc_poly.fit(X_train, y_train)"
      ]
    },
    {
      "cell_type": "code",
      "execution_count": null,
      "metadata": {
        "colab": {
          "base_uri": "https://localhost:8080/"
        },
        "id": "sqCGPQpahqmY",
        "outputId": "6e48e04f-961b-4284-9a09-0975dde9342e"
      },
      "outputs": [
        {
          "output_type": "stream",
          "name": "stdout",
          "text": [
            "accuracy_score:0.8164\n",
            "roc_auc_score: 0.8779 \n"
          ]
        }
      ],
      "source": [
        "from sklearn.metrics import accuracy_score, roc_auc_score\n",
        "\n",
        "y_pred = grid_svc_poly.predict(X_test)\n",
        "print('accuracy_score:{:.4f}'.format(accuracy_score(y_test, y_pred)))\n",
        "print('roc_auc_score: {:.4f} '.format(roc_auc_score(y_test, grid_svc_poly.decision_function(X_test))))"
      ]
    },
    {
      "cell_type": "code",
      "execution_count": null,
      "metadata": {
        "colab": {
          "base_uri": "https://localhost:8080/"
        },
        "id": "F2m5wrfrhqmY",
        "outputId": "a6c89ecf-4c49-4caa-ead2-f2c96991cd33"
      },
      "outputs": [
        {
          "output_type": "execute_result",
          "data": {
            "text/plain": [
              "{'C': 10}"
            ]
          },
          "metadata": {},
          "execution_count": 120
        }
      ],
      "source": [
        "grid_svc_poly.best_params_"
      ]
    },
    {
      "cell_type": "code",
      "execution_count": null,
      "metadata": {
        "colab": {
          "base_uri": "https://localhost:8080/",
          "height": 334
        },
        "id": "RJMsd1SChqmZ",
        "outputId": "eb13721e-2816-4c65-dab7-3681837a569c"
      },
      "outputs": [
        {
          "output_type": "display_data",
          "data": {
            "text/plain": [
              "<Figure size 1440x360 with 1 Axes>"
            ],
            "image/png": "[encoded data removed]"
          },
          "metadata": {
            "needs_background": "light"
          }
        }
      ],
      "source": [
        "%matplotlib inline \n",
        "\n",
        "svc_poly = SVC(kernel = 'poly',C = 10,degree=3, random_state = 0)\n",
        "svc_poly.fit(X_train, y_train)\n",
        "\n",
        "\n",
        "from sklearn.metrics import roc_curve\n",
        "fpr, tpr, thresholds = roc_curve(y_test, svc_poly.decision_function(X_test))\n",
        "\n",
        "plt.subplots(figsize = (20,5))\n",
        "plt.plot(fpr, tpr, label=\"ROC Curve for SVC poly\")\n",
        "plt.xlabel(\"FPR\")\n",
        "plt.ylabel(\"TPR (recall)\")\n",
        "# find threshold closest to zero\n",
        "close_zero = np.argmin(np.abs(thresholds))\n",
        "plt.plot(fpr[close_zero], tpr[close_zero], 'o', markersize=10,\n",
        "         label=\"threshold zero\", fillstyle=\"none\", c='k', mew=2)\n",
        "plt.legend(loc=4)\n",
        "plt.grid()"
      ]
    },
    {
      "cell_type": "code",
      "execution_count": null,
      "metadata": {
        "id": "ovCFxAE_hqmZ"
      },
      "outputs": [],
      "source": [
        "Full_table +=[['Poly kernel SVC classifier: ', grid_svc_poly.best_params_,roc_auc_score(y_test, grid_svc_poly.decision_function(X_test))]]"
      ]
    },
    {
      "cell_type": "markdown",
      "metadata": {
        "id": "ZCy06ZJkhqmZ"
      },
      "source": [
        "### 8. DecisionTree Classifier "
      ]
    },
    {
      "cell_type": "code",
      "execution_count": null,
      "metadata": {
        "colab": {
          "base_uri": "https://localhost:8080/"
        },
        "id": "vvvjKl-uhqmZ",
        "outputId": "7536e5aa-3e94-4865-8369-00a2861bc1cb"
      },
      "outputs": [
        {
          "output_type": "execute_result",
          "data": {
            "text/plain": [
              "GridSearchCV(cv=5, estimator=DecisionTreeClassifier(random_state=0),\n",
              "             param_grid={'max_depth': [1, 2, 3, 4, 5],\n",
              "                         'min_samples_leaf': [50, 60, 70, 80, 90, 100],\n",
              "                         'min_samples_split': [100, 150, 200, 250, 300]},\n",
              "             scoring='roc_auc')"
            ]
          },
          "metadata": {},
          "execution_count": 123
        }
      ],
      "source": [
        "from sklearn.tree import DecisionTreeClassifier\n",
        "\n",
        "param_grid = {'max_depth': [1,2,3,4,5],'min_samples_leaf': [50,60,70,80,90,100],\n",
        "             'min_samples_split': [100,150,200,250,300]}\n",
        "\n",
        "tree = DecisionTreeClassifier(random_state = 0)\n",
        "grid_tree = GridSearchCV(tree, param_grid, cv = 5, scoring= 'roc_auc')\n",
        "grid_tree.fit(X_train, y_train)"
      ]
    },
    {
      "cell_type": "code",
      "execution_count": null,
      "metadata": {
        "colab": {
          "base_uri": "https://localhost:8080/"
        },
        "id": "7Qe_AWm9hqma",
        "outputId": "ded6e1d4-793d-4bea-a119-f7ad131901c2"
      },
      "outputs": [
        {
          "output_type": "stream",
          "name": "stdout",
          "text": [
            "accuracy_score:0.9225\n",
            "roc_auc_score: 0.9694 \n"
          ]
        }
      ],
      "source": [
        "from sklearn.metrics import accuracy_score, roc_auc_score\n",
        "\n",
        "y_pred = grid_tree.predict(X_test)\n",
        "print('accuracy_score:{:.4f}'.format(accuracy_score(y_test, y_pred)))\n",
        "print('roc_auc_score: {:.4f} '.format(roc_auc_score(y_test, grid_tree.predict_proba(X_test)[:,1])))"
      ]
    },
    {
      "cell_type": "code",
      "execution_count": null,
      "metadata": {
        "colab": {
          "base_uri": "https://localhost:8080/"
        },
        "id": "l9wqTaa3hqma",
        "outputId": "cd59d41c-3b02-4cbe-9d0e-a265c031082a"
      },
      "outputs": [
        {
          "output_type": "execute_result",
          "data": {
            "text/plain": [
              "{'max_depth': 5, 'min_samples_leaf': 90, 'min_samples_split': 250}"
            ]
          },
          "metadata": {},
          "execution_count": 125
        }
      ],
      "source": [
        "grid_tree.best_params_"
      ]
    },
    {
      "cell_type": "code",
      "execution_count": null,
      "metadata": {
        "colab": {
          "base_uri": "https://localhost:8080/",
          "height": 334
        },
        "id": "UBlL8374hqma",
        "outputId": "148d1a9a-2d6c-46da-c0de-5f7ed6ae1d78"
      },
      "outputs": [
        {
          "output_type": "display_data",
          "data": {
            "text/plain": [
              "<Figure size 1440x360 with 1 Axes>"
            ],
            "image/png": "[encoded data removed]"
          },
          "metadata": {
            "needs_background": "light"
          }
        }
      ],
      "source": [
        "%matplotlib inline \n",
        "\n",
        "tree = DecisionTreeClassifier(max_depth= 5, min_samples_leaf= 90, min_samples_split=250, random_state = 0)\n",
        "tree.fit(X_train, y_train)\n",
        "\n",
        "\n",
        "from sklearn.metrics import roc_curve\n",
        "fpr, tpr, thresholds = roc_curve(y_test, tree.predict_proba(X_test)[:,1])\n",
        "\n",
        "plt.subplots(figsize = (20,5))\n",
        "plt.plot(fpr, tpr, label=\"ROC Curve for Decision Tree Classifier\")\n",
        "plt.xlabel(\"FPR\")\n",
        "plt.ylabel(\"TPR (recall)\")\n",
        "# find threshold closest to zero\n",
        "close_zero = np.argmin(np.abs(thresholds))\n",
        "plt.plot(fpr[close_zero], tpr[close_zero], 'o', markersize=10,\n",
        "         label=\"threshold zero\", fillstyle=\"none\", c='k', mew=2)\n",
        "plt.legend(loc=4)\n",
        "plt.grid()"
      ]
    },
    {
      "cell_type": "code",
      "execution_count": null,
      "metadata": {
        "colab": {
          "base_uri": "https://localhost:8080/"
        },
        "id": "pyl2p8UNhqma",
        "outputId": "1272c2ca-24dd-4c03-e950-3716fae56416"
      },
      "outputs": [
        {
          "output_type": "stream",
          "name": "stdout",
          "text": [
            "Accuracy on training set: 0.9235\n",
            "Accuracy on test set: 0.9184\n"
          ]
        }
      ],
      "source": [
        "dtree = DecisionTreeClassifier(max_depth=2, random_state=0)\n",
        "model = dtree.fit(X_train, y_train)\n",
        "\n",
        "print(\"Accuracy on training set: {:.4f}\".format(dtree.score(X_train, y_train)))\n",
        "print(\"Accuracy on test set: {:.4f}\".format(dtree.score(X_test, y_test)))"
      ]
    },
    {
      "cell_type": "code",
      "execution_count": null,
      "metadata": {
        "id": "vDfJYgG4hqmb"
      },
      "outputs": [],
      "source": [
        "Full_table +=[['Decision Tree classifier: ', grid_tree.best_params_,roc_auc_score(y_test, grid_tree.predict_proba(X_test)[:,1])]]"
      ]
    },
    {
      "cell_type": "markdown",
      "metadata": {
        "id": "TzSaxZ5bhqmb"
      },
      "source": [
        "### 9. Random Forest Classifier "
      ]
    },
    {
      "cell_type": "code",
      "execution_count": null,
      "metadata": {
        "colab": {
          "base_uri": "https://localhost:8080/"
        },
        "id": "JA0Y7XS7hqmb",
        "outputId": "702cd47f-1b9b-4415-f764-fc67152b4e40"
      },
      "outputs": [
        {
          "output_type": "execute_result",
          "data": {
            "text/plain": [
              "GridSearchCV(cv=5,\n",
              "             estimator=RandomForestClassifier(max_features=2, random_state=0),\n",
              "             param_grid={'max_depth': [1, 2, 3, 4, 5],\n",
              "                         'min_samples_leaf': [50, 60, 70, 80, 90, 100],\n",
              "                         'min_samples_split': [100, 150, 200, 250, 300]},\n",
              "             scoring='roc_auc')"
            ]
          },
          "metadata": {},
          "execution_count": 129
        }
      ],
      "source": [
        "from sklearn.ensemble import RandomForestClassifier\n",
        "\n",
        "param_grid = {'max_depth': [1,2,3,4,5],'min_samples_leaf': [50,60,70,80,90,100],\n",
        "             'min_samples_split': [100,150,200,250,300]}\n",
        "\n",
        "rf = RandomForestClassifier(n_estimators=100, random_state=0, max_features=2)\n",
        "grid_rf = GridSearchCV(rf, param_grid, cv = 5, scoring= 'roc_auc')\n",
        "grid_rf.fit(X_train, y_train)"
      ]
    },
    {
      "cell_type": "code",
      "execution_count": null,
      "metadata": {
        "colab": {
          "base_uri": "https://localhost:8080/"
        },
        "id": "JVzZIM9xhqmb",
        "outputId": "80129ca5-32c2-4bd9-d3d4-a9b95ee23945"
      },
      "outputs": [
        {
          "output_type": "stream",
          "name": "stdout",
          "text": [
            "accuracy_score:0.8628\n",
            "roc_auc_score: 0.9544 \n"
          ]
        }
      ],
      "source": [
        "# from sklearn.metrics import accuracy_score, roc_auc_score\n",
        "\n",
        "y_pred = grid_rf.predict(X_test)\n",
        "print('accuracy_score:{:.4f}'.format(accuracy_score(y_test, y_pred)))\n",
        "print('roc_auc_score: {:.4f} '.format(roc_auc_score(y_test, grid_rf.predict_proba(X_test)[:,1])))"
      ]
    },
    {
      "cell_type": "code",
      "execution_count": null,
      "metadata": {
        "colab": {
          "base_uri": "https://localhost:8080/"
        },
        "id": "ETKC2T3Ghqmb",
        "outputId": "2d59bed3-eea1-4076-f4e8-343f9631eda4"
      },
      "outputs": [
        {
          "output_type": "execute_result",
          "data": {
            "text/plain": [
              "{'max_depth': 5, 'min_samples_leaf': 90, 'min_samples_split': 200}"
            ]
          },
          "metadata": {},
          "execution_count": 131
        }
      ],
      "source": [
        "grid_rf.best_params_"
      ]
    },
    {
      "cell_type": "code",
      "execution_count": null,
      "metadata": {
        "colab": {
          "base_uri": "https://localhost:8080/",
          "height": 334
        },
        "id": "IktXZSeMhqmb",
        "outputId": "b0d808bb-ba97-4544-fa9c-66afd7b26229"
      },
      "outputs": [
        {
          "output_type": "display_data",
          "data": {
            "text/plain": [
              "<Figure size 1440x360 with 1 Axes>"
            ],
            "image/png": "[encoded data removed]"
          },
          "metadata": {
            "needs_background": "light"
          }
        }
      ],
      "source": [
        "%matplotlib inline \n",
        "\n",
        "rf = RandomForestClassifier(max_depth= 5, min_samples_leaf= 90, min_samples_split= 200, random_state = 0)\n",
        "rf.fit(X_train, y_train)\n",
        "\n",
        "\n",
        "from sklearn.metrics import roc_curve\n",
        "fpr, tpr, thresholds = roc_curve(y_test, rf.predict_proba(X_test)[:,1])\n",
        "\n",
        "plt.subplots(figsize = (20,5))\n",
        "plt.plot(fpr, tpr, label=\"ROC Curve for Random Forest\")\n",
        "plt.xlabel(\"FPR\")\n",
        "plt.ylabel(\"TPR (recall)\")\n",
        "# find threshold closest to zero\n",
        "close_zero = np.argmin(np.abs(thresholds))\n",
        "plt.plot(fpr[close_zero], tpr[close_zero], 'o', markersize=10,\n",
        "         label=\"threshold zero\", fillstyle=\"none\", c='k', mew=2)\n",
        "plt.legend(loc=4)\n",
        "plt.grid()"
      ]
    },
    {
      "cell_type": "markdown",
      "metadata": {
        "id": "Ve-KRb8bhqmc"
      },
      "source": [
        "### Summary of Models:"
      ]
    },
    {
      "cell_type": "code",
      "execution_count": null,
      "metadata": {
        "id": "TXtJNmLGhqmc"
      },
      "outputs": [],
      "source": [
        "Full_table +=[['Random Forest classifier: ', grid_rf.best_params_,roc_auc_score(y_test, grid_rf.predict_proba(X_test)[:,1])]]"
      ]
    },
    {
      "cell_type": "code",
      "execution_count": null,
      "metadata": {
        "colab": {
          "base_uri": "https://localhost:8080/",
          "height": 332
        },
        "id": "-m9rOor7hqmc",
        "outputId": "d8012826-abb1-40b9-db7b-1414af6a8147"
      },
      "outputs": [
        {
          "output_type": "execute_result",
          "data": {
            "text/plain": [
              "                                   Model  \\\n",
              "0                       knn classifier:    \n",
              "1  Logistic Regression classifier (l2):    \n",
              "2  Logistic Regression classifier (l1):    \n",
              "3                Linear SVC classifier:    \n",
              "4            rbf kernel SVC classifier:    \n",
              "5         linear kernel SVC classifier:    \n",
              "6           Poly kernel SVC classifier:    \n",
              "7             Decision Tree classifier:    \n",
              "8             Random Forest classifier:    \n",
              "\n",
              "                                Best Hyperparameters  roc_auc score  \n",
              "0                                {'n_neighbors': 21}       0.853017  \n",
              "1                                         {'C': 100}       0.832805  \n",
              "2                                          {'C': 10}       0.832806  \n",
              "3                                         {'C': 100}       0.830672  \n",
              "4                           {'C': 100, 'gamma': 0.1}       0.881050  \n",
              "5                                          {'C': 10}       0.841946  \n",
              "6                                          {'C': 10}       0.877926  \n",
              "7  {'max_depth': 5, 'min_samples_leaf': 90, 'min_...       0.969383  \n",
              "8  {'max_depth': 5, 'min_samples_leaf': 90, 'min_...       0.954406  "
            ],
            "text/html": [
              "\n",
              "  <div id=\"df-f6a088ea-18d2-486e-9763-2ba479913c33\">\n",
              "    <div class=\"colab-df-container\">\n",
              "      <div>\n",
              "<style scoped>\n",
              "    .dataframe tbody tr th:only-of-type {\n",
              "        vertical-align: middle;\n",
              "    }\n",
              "\n",
              "    .dataframe tbody tr th {\n",
              "        vertical-align: top;\n",
              "    }\n",
              "\n",
              "    .dataframe thead th {\n",
              "        text-align: right;\n",
              "    }\n",
              "</style>\n",
              "<table border=\"1\" class=\"dataframe\">\n",
              "  <thead>\n",
              "    <tr style=\"text-align: right;\">\n",
              "      <th></th>\n",
              "      <th>Model</th>\n",
              "      <th>Best Hyperparameters</th>\n",
              "      <th>roc_auc score</th>\n",
              "    </tr>\n",
              "  </thead>\n",
              "  <tbody>\n",
              "    <tr>\n",
              "      <th>0</th>\n",
              "      <td>knn classifier:</td>\n",
              "      <td>{'n_neighbors': 21}</td>\n",
              "      <td>0.853017</td>\n",
              "    </tr>\n",
              "    <tr>\n",
              "      <th>1</th>\n",
              "      <td>Logistic Regression classifier (l2):</td>\n",
              "      <td>{'C': 100}</td>\n",
              "      <td>0.832805</td>\n",
              "    </tr>\n",
              "    <tr>\n",
              "      <th>2</th>\n",
              "      <td>Logistic Regression classifier (l1):</td>\n",
              "      <td>{'C': 10}</td>\n",
              "      <td>0.832806</td>\n",
              "    </tr>\n",
              "    <tr>\n",
              "      <th>3</th>\n",
              "      <td>Linear SVC classifier:</td>\n",
              "      <td>{'C': 100}</td>\n",
              "      <td>0.830672</td>\n",
              "    </tr>\n",
              "    <tr>\n",
              "      <th>4</th>\n",
              "      <td>rbf kernel SVC classifier:</td>\n",
              "      <td>{'C': 100, 'gamma': 0.1}</td>\n",
              "      <td>0.881050</td>\n",
              "    </tr>\n",
              "    <tr>\n",
              "      <th>5</th>\n",
              "      <td>linear kernel SVC classifier:</td>\n",
              "      <td>{'C': 10}</td>\n",
              "      <td>0.841946</td>\n",
              "    </tr>\n",
              "    <tr>\n",
              "      <th>6</th>\n",
              "      <td>Poly kernel SVC classifier:</td>\n",
              "      <td>{'C': 10}</td>\n",
              "      <td>0.877926</td>\n",
              "    </tr>\n",
              "    <tr>\n",
              "      <th>7</th>\n",
              "      <td>Decision Tree classifier:</td>\n",
              "      <td>{'max_depth': 5, 'min_samples_leaf': 90, 'min_...</td>\n",
              "      <td>0.969383</td>\n",
              "    </tr>\n",
              "    <tr>\n",
              "      <th>8</th>\n",
              "      <td>Random Forest classifier:</td>\n",
              "      <td>{'max_depth': 5, 'min_samples_leaf': 90, 'min_...</td>\n",
              "      <td>0.954406</td>\n",
              "    </tr>\n",
              "  </tbody>\n",
              "</table>\n",
              "</div>\n",
              "      <button class=\"colab-df-convert\" onclick=\"convertToInteractive('df-f6a088ea-18d2-486e-9763-2ba479913c33')\"\n",
              "              title=\"Convert this dataframe to an interactive table.\"\n",
              "              style=\"display:none;\">\n",
              "        \n",
              "  <svg xmlns=\"http://www.w3.org/2000/svg\" height=\"24px\"viewBox=\"0 0 24 24\"\n",
              "       width=\"24px\">\n",
              "    <path d=\"M0 0h24v24H0V0z\" fill=\"none\"/>\n",
              "    <path d=\"M18.56 5.44l.94 2.06.94-2.06 2.06-.94-2.06-.94-.94-2.06-.94 2.06-2.06.94zm-11 1L8.5 8.5l.94-2.06 2.06-.94-2.06-.94L8.5 2.5l-.94 2.06-2.06.94zm10 10l.94 2.06.94-2.06 2.06-.94-2.06-.94-.94-2.06-.94 2.06-2.06.94z\"/><path d=\"M17.41 7.96l-1.37-1.37c-.4-.4-.92-.59-1.43-.59-.52 0-1.04.2-1.43.59L10.3 9.45l-7.72 7.72c-.78.78-.78 2.05 0 2.83L4 21.41c.39.39.9.59 1.41.59.51 0 1.02-.2 1.41-.59l7.78-7.78 2.81-2.81c.8-.78.8-2.07 0-2.86zM5.41 20L4 18.59l7.72-7.72 1.47 1.35L5.41 20z\"/>\n",
              "  </svg>\n",
              "      </button>\n",
              "      \n",
              "  <style>\n",
              "    .colab-df-container {\n",
              "      display:flex;\n",
              "      flex-wrap:wrap;\n",
              "      gap: 12px;\n",
              "    }\n",
              "\n",
              "    .colab-df-convert {\n",
              "      background-color: #E8F0FE;\n",
              "      border: none;\n",
              "      border-radius: 50%;\n",
              "      cursor: pointer;\n",
              "      display: none;\n",
              "      fill: #1967D2;\n",
              "      height: 32px;\n",
              "      padding: 0 0 0 0;\n",
              "      width: 32px;\n",
              "    }\n",
              "\n",
              "    .colab-df-convert:hover {\n",
              "      background-color: #E2EBFA;\n",
              "      box-shadow: 0px 1px 2px rgba(60, 64, 67, 0.3), 0px 1px 3px 1px rgba(60, 64, 67, 0.15);\n",
              "      fill: #174EA6;\n",
              "    }\n",
              "\n",
              "    [theme=dark] .colab-df-convert {\n",
              "      background-color: #3B4455;\n",
              "      fill: #D2E3FC;\n",
              "    }\n",
              "\n",
              "    [theme=dark] .colab-df-convert:hover {\n",
              "      background-color: #434B5C;\n",
              "      box-shadow: 0px 1px 3px 1px rgba(0, 0, 0, 0.15);\n",
              "      filter: drop-shadow(0px 1px 2px rgba(0, 0, 0, 0.3));\n",
              "      fill: #FFFFFF;\n",
              "    }\n",
              "  </style>\n",
              "\n",
              "      <script>\n",
              "        const buttonEl =\n",
              "          document.querySelector('#df-f6a088ea-18d2-486e-9763-2ba479913c33 button.colab-df-convert');\n",
              "        buttonEl.style.display =\n",
              "          google.colab.kernel.accessAllowed ? 'block' : 'none';\n",
              "\n",
              "        async function convertToInteractive(key) {\n",
              "          const element = document.querySelector('#df-f6a088ea-18d2-486e-9763-2ba479913c33');\n",
              "          const dataTable =\n",
              "            await google.colab.kernel.invokeFunction('convertToInteractive',\n",
              "                                                     [key], {});\n",
              "          if (!dataTable) return;\n",
              "\n",
              "          const docLinkHtml = 'Like what you see? Visit the ' +\n",
              "            '<a target=\"_blank\" href=https://colab.research.google.com/notebooks/data_table.ipynb>data table notebook</a>'\n",
              "            + ' to learn more about interactive tables.';\n",
              "          element.innerHTML = '';\n",
              "          dataTable['output_type'] = 'display_data';\n",
              "          await google.colab.output.renderOutput(dataTable, element);\n",
              "          const docLink = document.createElement('div');\n",
              "          docLink.innerHTML = docLinkHtml;\n",
              "          element.appendChild(docLink);\n",
              "        }\n",
              "      </script>\n",
              "    </div>\n",
              "  </div>\n",
              "  "
            ]
          },
          "metadata": {},
          "execution_count": 134
        }
      ],
      "source": [
        "Full_table1 = pd.DataFrame(Full_table, columns=['Model','Best Hyperparameters','roc_auc score'])\n",
        "Full_table1.round(4)\n",
        "Full_table1"
      ]
    },
    {
      "cell_type": "markdown",
      "metadata": {
        "id": "l-UO-JFkhqmc"
      },
      "source": [
        "We get maximun roc_auc_score: 0.9694 by using DecisionTree Classifier with 'max_depth': 5, 'min_samples_leaf': 90, 'min_samples_split': 250. Also from Auc_roc curves we observe that the decision tree curve is close to top left as comparared to other models. This also proves that area under the curve, AUC is higher for the Decision Tree Classifier. Hence this is the best model."
      ]
    },
    {
      "cell_type": "markdown",
      "metadata": {
        "id": "B4ZP05IJhqmc"
      },
      "source": [
        "## Applying the best model on the dataset:"
      ]
    },
    {
      "cell_type": "code",
      "execution_count": null,
      "metadata": {
        "colab": {
          "base_uri": "https://localhost:8080/"
        },
        "id": "n6yhFR7hhqmc",
        "outputId": "2e7c8466-4925-45cb-cd5d-cea47aac8484"
      },
      "outputs": [
        {
          "output_type": "execute_result",
          "data": {
            "text/plain": [
              "DecisionTreeClassifier(max_depth=5, min_samples_leaf=90, min_samples_split=200,\n",
              "                       random_state=0)"
            ]
          },
          "metadata": {},
          "execution_count": 135
        }
      ],
      "source": [
        "from sklearn.tree import DecisionTreeClassifier\n",
        "\n",
        "X = df.drop('FRAUD_NONFRAUD', axis = 1)\n",
        "y = df['FRAUD_NONFRAUD']\n",
        "\n",
        "scaler = MinMaxScaler()\n",
        "X_fit = scaler.fit_transform(X)\n",
        "y_fit = df['FRAUD_NONFRAUD']\n",
        "\n",
        "tree_final = DecisionTreeClassifier(max_depth=5, min_samples_leaf= 90,min_samples_split= 200, random_state = 0)\n",
        "\n",
        "tree_final.fit(X_fit, y_fit)"
      ]
    },
    {
      "cell_type": "code",
      "execution_count": null,
      "metadata": {
        "colab": {
          "base_uri": "https://localhost:8080/"
        },
        "id": "lQlyoOXGhqmc",
        "outputId": "9ffdb152-4da0-43e6-d25b-1a04574c5261"
      },
      "outputs": [
        {
          "output_type": "stream",
          "name": "stdout",
          "text": [
            "Cross-validation scores: [0.92543228 0.92327089 0.92291066 0.9268732  0.92936937]\n",
            "Average cross-validation score: 0.93\n"
          ]
        }
      ],
      "source": [
        "from sklearn.model_selection import cross_val_score\n",
        "\n",
        "scores = cross_val_score(tree_final, X, y, cv=5)\n",
        "print(\"Cross-validation scores: {}\".format(scores))\n",
        "print(\"Average cross-validation score: {:.2f}\".format(scores.mean()))"
      ]
    },
    {
      "cell_type": "code",
      "execution_count": null,
      "metadata": {
        "colab": {
          "base_uri": "https://localhost:8080/"
        },
        "id": "N9y3T5Phhqmd",
        "outputId": "8818c852-0a48-4108-e5b2-eecd57ccf243"
      },
      "outputs": [
        {
          "output_type": "stream",
          "name": "stdout",
          "text": [
            "Looking in indexes: https://pypi.org/simple, https://us-python.pkg.dev/colab-wheels/public/simple/\n",
            "Requirement already satisfied: mlxtend in /usr/local/lib/python3.7/dist-packages (0.14.0)\n",
            "Collecting mlxtend\n",
            "  Downloading mlxtend-0.21.0-py2.py3-none-any.whl (1.3 MB)\n",
            "\u001b[K     |████████████████████████████████| 1.3 MB 5.1 MB/s \n",
            "\u001b[?25hRequirement already satisfied: scipy>=1.2.1 in /usr/local/lib/python3.7/dist-packages (from mlxtend) (1.7.3)\n",
            "Requirement already satisfied: setuptools in /usr/local/lib/python3.7/dist-packages (from mlxtend) (57.4.0)\n",
            "Requirement already satisfied: scikit-learn>=1.0.2 in /usr/local/lib/python3.7/dist-packages (from mlxtend) (1.0.2)\n",
            "Requirement already satisfied: joblib>=0.13.2 in /usr/local/lib/python3.7/dist-packages (from mlxtend) (1.2.0)\n",
            "Requirement already satisfied: matplotlib>=3.0.0 in /usr/local/lib/python3.7/dist-packages (from mlxtend) (3.2.2)\n",
            "Requirement already satisfied: numpy>=1.16.2 in /usr/local/lib/python3.7/dist-packages (from mlxtend) (1.21.6)\n",
            "Requirement already satisfied: pandas>=0.24.2 in /usr/local/lib/python3.7/dist-packages (from mlxtend) (1.3.5)\n",
            "Requirement already satisfied: kiwisolver>=1.0.1 in /usr/local/lib/python3.7/dist-packages (from matplotlib>=3.0.0->mlxtend) (1.4.4)\n",
            "Requirement already satisfied: pyparsing!=2.0.4,!=2.1.2,!=2.1.6,>=2.0.1 in /usr/local/lib/python3.7/dist-packages (from matplotlib>=3.0.0->mlxtend) (3.0.9)\n",
            "Requirement already satisfied: cycler>=0.10 in /usr/local/lib/python3.7/dist-packages (from matplotlib>=3.0.0->mlxtend) (0.11.0)\n",
            "Requirement already satisfied: python-dateutil>=2.1 in /usr/local/lib/python3.7/dist-packages (from matplotlib>=3.0.0->mlxtend) (2.8.2)\n",
            "Requirement already satisfied: typing-extensions in /usr/local/lib/python3.7/dist-packages (from kiwisolver>=1.0.1->matplotlib>=3.0.0->mlxtend) (4.1.1)\n",
            "Requirement already satisfied: pytz>=2017.3 in /usr/local/lib/python3.7/dist-packages (from pandas>=0.24.2->mlxtend) (2022.5)\n",
            "Requirement already satisfied: six>=1.5 in /usr/local/lib/python3.7/dist-packages (from python-dateutil>=2.1->matplotlib>=3.0.0->mlxtend) (1.15.0)\n",
            "Requirement already satisfied: threadpoolctl>=2.0.0 in /usr/local/lib/python3.7/dist-packages (from scikit-learn>=1.0.2->mlxtend) (3.1.0)\n",
            "Installing collected packages: mlxtend\n",
            "  Attempting uninstall: mlxtend\n",
            "    Found existing installation: mlxtend 0.14.0\n",
            "    Uninstalling mlxtend-0.14.0:\n",
            "      Successfully uninstalled mlxtend-0.14.0\n",
            "Successfully installed mlxtend-0.21.0\n"
          ]
        }
      ],
      "source": [
        "pip install --upgrade mlxtend"
      ]
    },
    {
      "cell_type": "code",
      "execution_count": null,
      "metadata": {
        "colab": {
          "base_uri": "https://localhost:8080/",
          "height": 816
        },
        "id": "W38pKdg0hqmd",
        "outputId": "cec8768c-646b-43b3-d63d-f536bd9001c7"
      },
      "outputs": [
        {
          "output_type": "execute_result",
          "data": {
            "text/plain": [
              "<graphviz.files.Source at 0x7efea6b5c110>"
            ],
            "image/svg+xml": "<?xml version=\"1.0\" encoding=\"UTF-8\" standalone=\"no\"?>\n<!DOCTYPE svg PUBLIC \"-//W3C//DTD SVG 1.1//EN\"\n \"http://www.w3.org/Graphics/SVG/1.1/DTD/svg11.dtd\">\n<!-- Generated by graphviz version 2.40.1 (20161225.0304)\n -->\n<!-- Title: Tree Pages: 1 -->\n<svg width=\"2861pt\" height=\"581pt\"\n viewBox=\"0.00 0.00 2861.00 581.00\" xmlns=\"http://www.w3.org/2000/svg\" xmlns:xlink=\"http://www.w3.org/1999/xlink\">\n<g id=\"graph0\" class=\"graph\" transform=\"scale(1 1) rotate(0) translate(4 577)\">\n<title>Tree</title>\n<polygon fill=\"#ffffff\" stroke=\"transparent\" points=\"-4,4 -4,-577 2857,-577 2857,4 -4,4\"/>\n<!-- 0 -->\n<g id=\"node1\" class=\"node\">\n<title>0</title>\n<path fill=\"#8cc6f0\" stroke=\"#000000\" d=\"M1718,-573C1718,-573 1586,-573 1586,-573 1580,-573 1574,-567 1574,-561 1574,-561 1574,-517 1574,-517 1574,-511 1580,-505 1586,-505 1586,-505 1718,-505 1718,-505 1724,-505 1730,-511 1730,-517 1730,-517 1730,-561 1730,-561 1730,-567 1724,-573 1718,-573\"/>\n<text text-anchor=\"middle\" x=\"1652\" y=\"-557.8\" font-family=\"Helvetica,sans-Serif\" font-size=\"14.00\" fill=\"#000000\">TRAN_AMT &lt;= 0.203</text>\n<text text-anchor=\"middle\" x=\"1652\" y=\"-542.8\" font-family=\"Helvetica,sans-Serif\" font-size=\"14.00\" fill=\"#000000\">gini = 0.417</text>\n<text text-anchor=\"middle\" x=\"1652\" y=\"-527.8\" font-family=\"Helvetica,sans-Serif\" font-size=\"14.00\" fill=\"#000000\">samples = 13879</text>\n<text text-anchor=\"middle\" x=\"1652\" y=\"-512.8\" font-family=\"Helvetica,sans-Serif\" font-size=\"14.00\" fill=\"#000000\">value = [4108, 9771]</text>\n</g>\n<!-- 1 -->\n<g id=\"node2\" class=\"node\">\n<title>1</title>\n<path fill=\"#49a5e7\" stroke=\"#000000\" d=\"M1517.5,-469C1517.5,-469 1254.5,-469 1254.5,-469 1248.5,-469 1242.5,-463 1242.5,-457 1242.5,-457 1242.5,-413 1242.5,-413 1242.5,-407 1248.5,-401 1254.5,-401 1254.5,-401 1517.5,-401 1517.5,-401 1523.5,-401 1529.5,-407 1529.5,-413 1529.5,-413 1529.5,-457 1529.5,-457 1529.5,-463 1523.5,-469 1517.5,-469\"/>\n<text text-anchor=\"middle\" x=\"1386\" y=\"-453.8\" font-family=\"Helvetica,sans-Serif\" font-size=\"14.00\" fill=\"#000000\">ACCT_PRE_TRAN_AVAIL_BAL &lt;= 0.004</text>\n<text text-anchor=\"middle\" x=\"1386\" y=\"-438.8\" font-family=\"Helvetica,sans-Serif\" font-size=\"14.00\" fill=\"#000000\">gini = 0.136</text>\n<text text-anchor=\"middle\" x=\"1386\" y=\"-423.8\" font-family=\"Helvetica,sans-Serif\" font-size=\"14.00\" fill=\"#000000\">samples = 9448</text>\n<text text-anchor=\"middle\" x=\"1386\" y=\"-408.8\" font-family=\"Helvetica,sans-Serif\" font-size=\"14.00\" fill=\"#000000\">value = [691, 8757]</text>\n</g>\n<!-- 0&#45;&gt;1 -->\n<g id=\"edge1\" class=\"edge\">\n<title>0&#45;&gt;1</title>\n<path fill=\"none\" stroke=\"#000000\" d=\"M1573.9885,-508.4993C1545.4929,-497.3581 1512.9099,-484.6189 1482.9633,-472.9105\"/>\n<polygon fill=\"#000000\" stroke=\"#000000\" points=\"1483.9295,-469.5303 1473.3415,-469.1486 1481.3805,-476.0497 1483.9295,-469.5303\"/>\n<text text-anchor=\"middle\" x=\"1483.3685\" y=\"-488.3497\" font-family=\"Helvetica,sans-Serif\" font-size=\"14.00\" fill=\"#000000\">True</text>\n</g>\n<!-- 30 -->\n<g id=\"node31\" class=\"node\">\n<title>30</title>\n<path fill=\"#eda674\" stroke=\"#000000\" d=\"M1969.5,-469C1969.5,-469 1844.5,-469 1844.5,-469 1838.5,-469 1832.5,-463 1832.5,-457 1832.5,-457 1832.5,-413 1832.5,-413 1832.5,-407 1838.5,-401 1844.5,-401 1844.5,-401 1969.5,-401 1969.5,-401 1975.5,-401 1981.5,-407 1981.5,-413 1981.5,-413 1981.5,-457 1981.5,-457 1981.5,-463 1975.5,-469 1969.5,-469\"/>\n<text text-anchor=\"middle\" x=\"1907\" y=\"-453.8\" font-family=\"Helvetica,sans-Serif\" font-size=\"14.00\" fill=\"#000000\">TRAN_AMT &lt;= 0.21</text>\n<text text-anchor=\"middle\" x=\"1907\" y=\"-438.8\" font-family=\"Helvetica,sans-Serif\" font-size=\"14.00\" fill=\"#000000\">gini = 0.353</text>\n<text text-anchor=\"middle\" x=\"1907\" y=\"-423.8\" font-family=\"Helvetica,sans-Serif\" font-size=\"14.00\" fill=\"#000000\">samples = 4431</text>\n<text text-anchor=\"middle\" x=\"1907\" y=\"-408.8\" font-family=\"Helvetica,sans-Serif\" font-size=\"14.00\" fill=\"#000000\">value = [3417, 1014]</text>\n</g>\n<!-- 0&#45;&gt;30 -->\n<g id=\"edge30\" class=\"edge\">\n<title>0&#45;&gt;30</title>\n<path fill=\"none\" stroke=\"#000000\" d=\"M1730.2414,-507.0898C1759.5689,-495.1288 1793.0053,-481.492 1822.846,-469.3216\"/>\n<polygon fill=\"#000000\" stroke=\"#000000\" points=\"1824.4606,-472.4431 1832.3984,-465.4258 1821.8171,-465.9614 1824.4606,-472.4431\"/>\n<text text-anchor=\"middle\" x=\"1822.7056\" y=\"-484.7703\" font-family=\"Helvetica,sans-Serif\" font-size=\"14.00\" fill=\"#000000\">False</text>\n</g>\n<!-- 2 -->\n<g id=\"node3\" class=\"node\">\n<title>2</title>\n<path fill=\"#3a9de5\" stroke=\"#000000\" d=\"M888.5,-365C888.5,-365 625.5,-365 625.5,-365 619.5,-365 613.5,-359 613.5,-353 613.5,-353 613.5,-309 613.5,-309 613.5,-303 619.5,-297 625.5,-297 625.5,-297 888.5,-297 888.5,-297 894.5,-297 900.5,-303 900.5,-309 900.5,-309 900.5,-353 900.5,-353 900.5,-359 894.5,-365 888.5,-365\"/>\n<text text-anchor=\"middle\" x=\"757\" y=\"-349.8\" font-family=\"Helvetica,sans-Serif\" font-size=\"14.00\" fill=\"#000000\">ACCT_PRE_TRAN_AVAIL_BAL &lt;= 0.002</text>\n<text text-anchor=\"middle\" x=\"757\" y=\"-334.8\" font-family=\"Helvetica,sans-Serif\" font-size=\"14.00\" fill=\"#000000\">gini = 0.009</text>\n<text text-anchor=\"middle\" x=\"757\" y=\"-319.8\" font-family=\"Helvetica,sans-Serif\" font-size=\"14.00\" fill=\"#000000\">samples = 5090</text>\n<text text-anchor=\"middle\" x=\"757\" y=\"-304.8\" font-family=\"Helvetica,sans-Serif\" font-size=\"14.00\" fill=\"#000000\">value = [24, 5066]</text>\n</g>\n<!-- 1&#45;&gt;2 -->\n<g id=\"edge2\" class=\"edge\">\n<title>1&#45;&gt;2</title>\n<path fill=\"none\" stroke=\"#000000\" d=\"M1242.4831,-411.2707C1143.4418,-394.895 1011.897,-373.1451 910.7199,-356.4163\"/>\n<polygon fill=\"#000000\" stroke=\"#000000\" points=\"911.1528,-352.9405 900.7158,-354.7622 910.0109,-359.8467 911.1528,-352.9405\"/>\n</g>\n<!-- 15 -->\n<g id=\"node16\" class=\"node\">\n<title>15</title>\n<path fill=\"#5dafea\" stroke=\"#000000\" d=\"M1517.5,-365C1517.5,-365 1254.5,-365 1254.5,-365 1248.5,-365 1242.5,-359 1242.5,-353 1242.5,-353 1242.5,-309 1242.5,-309 1242.5,-303 1248.5,-297 1254.5,-297 1254.5,-297 1517.5,-297 1517.5,-297 1523.5,-297 1529.5,-303 1529.5,-309 1529.5,-309 1529.5,-353 1529.5,-353 1529.5,-359 1523.5,-365 1517.5,-365\"/>\n<text text-anchor=\"middle\" x=\"1386\" y=\"-349.8\" font-family=\"Helvetica,sans-Serif\" font-size=\"14.00\" fill=\"#000000\">ACCT_PRE_TRAN_AVAIL_BAL &lt;= 0.011</text>\n<text text-anchor=\"middle\" x=\"1386\" y=\"-334.8\" font-family=\"Helvetica,sans-Serif\" font-size=\"14.00\" fill=\"#000000\">gini = 0.259</text>\n<text text-anchor=\"middle\" x=\"1386\" y=\"-319.8\" font-family=\"Helvetica,sans-Serif\" font-size=\"14.00\" fill=\"#000000\">samples = 4358</text>\n<text text-anchor=\"middle\" x=\"1386\" y=\"-304.8\" font-family=\"Helvetica,sans-Serif\" font-size=\"14.00\" fill=\"#000000\">value = [667, 3691]</text>\n</g>\n<!-- 1&#45;&gt;15 -->\n<g id=\"edge15\" class=\"edge\">\n<title>1&#45;&gt;15</title>\n<path fill=\"none\" stroke=\"#000000\" d=\"M1386,-400.9465C1386,-392.776 1386,-383.9318 1386,-375.3697\"/>\n<polygon fill=\"#000000\" stroke=\"#000000\" points=\"1389.5001,-375.13 1386,-365.13 1382.5001,-375.13 1389.5001,-375.13\"/>\n</g>\n<!-- 3 -->\n<g id=\"node4\" class=\"node\">\n<title>3</title>\n<path fill=\"#399de5\" stroke=\"#000000\" d=\"M569.5,-261C569.5,-261 306.5,-261 306.5,-261 300.5,-261 294.5,-255 294.5,-249 294.5,-249 294.5,-205 294.5,-205 294.5,-199 300.5,-193 306.5,-193 306.5,-193 569.5,-193 569.5,-193 575.5,-193 581.5,-199 581.5,-205 581.5,-205 581.5,-249 581.5,-249 581.5,-255 575.5,-261 569.5,-261\"/>\n<text text-anchor=\"middle\" x=\"438\" y=\"-245.8\" font-family=\"Helvetica,sans-Serif\" font-size=\"14.00\" fill=\"#000000\">ACCT_PRE_TRAN_AVAIL_BAL &lt;= 0.002</text>\n<text text-anchor=\"middle\" x=\"438\" y=\"-230.8\" font-family=\"Helvetica,sans-Serif\" font-size=\"14.00\" fill=\"#000000\">gini = 0.002</text>\n<text text-anchor=\"middle\" x=\"438\" y=\"-215.8\" font-family=\"Helvetica,sans-Serif\" font-size=\"14.00\" fill=\"#000000\">samples = 4726</text>\n<text text-anchor=\"middle\" x=\"438\" y=\"-200.8\" font-family=\"Helvetica,sans-Serif\" font-size=\"14.00\" fill=\"#000000\">value = [4, 4722]</text>\n</g>\n<!-- 2&#45;&gt;3 -->\n<g id=\"edge3\" class=\"edge\">\n<title>2&#45;&gt;3</title>\n<path fill=\"none\" stroke=\"#000000\" d=\"M652.5475,-296.9465C620.3808,-286.4596 584.8094,-274.8626 552.0332,-264.177\"/>\n<polygon fill=\"#000000\" stroke=\"#000000\" points=\"553.007,-260.8132 542.4146,-261.0411 550.8372,-267.4684 553.007,-260.8132\"/>\n</g>\n<!-- 10 -->\n<g id=\"node11\" class=\"node\">\n<title>10</title>\n<path fill=\"#45a3e7\" stroke=\"#000000\" d=\"M819,-261C819,-261 695,-261 695,-261 689,-261 683,-255 683,-249 683,-249 683,-205 683,-205 683,-199 689,-193 695,-193 695,-193 819,-193 819,-193 825,-193 831,-199 831,-205 831,-205 831,-249 831,-249 831,-255 825,-261 819,-261\"/>\n<text text-anchor=\"middle\" x=\"757\" y=\"-245.8\" font-family=\"Helvetica,sans-Serif\" font-size=\"14.00\" fill=\"#000000\">TRAN_AMT &lt;= 0.04</text>\n<text text-anchor=\"middle\" x=\"757\" y=\"-230.8\" font-family=\"Helvetica,sans-Serif\" font-size=\"14.00\" fill=\"#000000\">gini = 0.104</text>\n<text text-anchor=\"middle\" x=\"757\" y=\"-215.8\" font-family=\"Helvetica,sans-Serif\" font-size=\"14.00\" fill=\"#000000\">samples = 364</text>\n<text text-anchor=\"middle\" x=\"757\" y=\"-200.8\" font-family=\"Helvetica,sans-Serif\" font-size=\"14.00\" fill=\"#000000\">value = [20, 344]</text>\n</g>\n<!-- 2&#45;&gt;10 -->\n<g id=\"edge10\" class=\"edge\">\n<title>2&#45;&gt;10</title>\n<path fill=\"none\" stroke=\"#000000\" d=\"M757,-296.9465C757,-288.776 757,-279.9318 757,-271.3697\"/>\n<polygon fill=\"#000000\" stroke=\"#000000\" points=\"760.5001,-271.13 757,-261.13 753.5001,-271.13 760.5001,-271.13\"/>\n</g>\n<!-- 4 -->\n<g id=\"node5\" class=\"node\">\n<title>4</title>\n<path fill=\"#399de5\" stroke=\"#000000\" d=\"M264,-157C264,-157 94,-157 94,-157 88,-157 82,-151 82,-145 82,-145 82,-101 82,-101 82,-95 88,-89 94,-89 94,-89 264,-89 264,-89 270,-89 276,-95 276,-101 276,-101 276,-145 276,-145 276,-151 270,-157 264,-157\"/>\n<text text-anchor=\"middle\" x=\"179\" y=\"-141.8\" font-family=\"Helvetica,sans-Serif\" font-size=\"14.00\" fill=\"#000000\">OPEN_ACCT_CT &lt;= 0.011</text>\n<text text-anchor=\"middle\" x=\"179\" y=\"-126.8\" font-family=\"Helvetica,sans-Serif\" font-size=\"14.00\" fill=\"#000000\">gini = 0.0</text>\n<text text-anchor=\"middle\" x=\"179\" y=\"-111.8\" font-family=\"Helvetica,sans-Serif\" font-size=\"14.00\" fill=\"#000000\">samples = 4507</text>\n<text text-anchor=\"middle\" x=\"179\" y=\"-96.8\" font-family=\"Helvetica,sans-Serif\" font-size=\"14.00\" fill=\"#000000\">value = [1, 4506]</text>\n</g>\n<!-- 3&#45;&gt;4 -->\n<g id=\"edge4\" class=\"edge\">\n<title>3&#45;&gt;4</title>\n<path fill=\"none\" stroke=\"#000000\" d=\"M353.1937,-192.9465C327.7033,-182.711 299.5796,-171.4181 273.5028,-160.9471\"/>\n<polygon fill=\"#000000\" stroke=\"#000000\" points=\"274.5809,-157.6084 263.9968,-157.13 271.9724,-164.1043 274.5809,-157.6084\"/>\n</g>\n<!-- 7 -->\n<g id=\"node8\" class=\"node\">\n<title>7</title>\n<path fill=\"#3c9ee5\" stroke=\"#000000\" d=\"M569.5,-157C569.5,-157 306.5,-157 306.5,-157 300.5,-157 294.5,-151 294.5,-145 294.5,-145 294.5,-101 294.5,-101 294.5,-95 300.5,-89 306.5,-89 306.5,-89 569.5,-89 569.5,-89 575.5,-89 581.5,-95 581.5,-101 581.5,-101 581.5,-145 581.5,-145 581.5,-151 575.5,-157 569.5,-157\"/>\n<text text-anchor=\"middle\" x=\"438\" y=\"-141.8\" font-family=\"Helvetica,sans-Serif\" font-size=\"14.00\" fill=\"#000000\">ACCT_PRE_TRAN_AVAIL_BAL &lt;= 0.002</text>\n<text text-anchor=\"middle\" x=\"438\" y=\"-126.8\" font-family=\"Helvetica,sans-Serif\" font-size=\"14.00\" fill=\"#000000\">gini = 0.027</text>\n<text text-anchor=\"middle\" x=\"438\" y=\"-111.8\" font-family=\"Helvetica,sans-Serif\" font-size=\"14.00\" fill=\"#000000\">samples = 219</text>\n<text text-anchor=\"middle\" x=\"438\" y=\"-96.8\" font-family=\"Helvetica,sans-Serif\" font-size=\"14.00\" fill=\"#000000\">value = [3, 216]</text>\n</g>\n<!-- 3&#45;&gt;7 -->\n<g id=\"edge7\" class=\"edge\">\n<title>3&#45;&gt;7</title>\n<path fill=\"none\" stroke=\"#000000\" d=\"M438,-192.9465C438,-184.776 438,-175.9318 438,-167.3697\"/>\n<polygon fill=\"#000000\" stroke=\"#000000\" points=\"441.5001,-167.13 438,-157.13 434.5001,-167.13 441.5001,-167.13\"/>\n</g>\n<!-- 5 -->\n<g id=\"node6\" class=\"node\">\n<title>5</title>\n<path fill=\"#399de5\" stroke=\"#000000\" d=\"M104,-53C104,-53 12,-53 12,-53 6,-53 0,-47 0,-41 0,-41 0,-12 0,-12 0,-6 6,0 12,0 12,0 104,0 104,0 110,0 116,-6 116,-12 116,-12 116,-41 116,-41 116,-47 110,-53 104,-53\"/>\n<text text-anchor=\"middle\" x=\"58\" y=\"-37.8\" font-family=\"Helvetica,sans-Serif\" font-size=\"14.00\" fill=\"#000000\">gini = 0.005</text>\n<text text-anchor=\"middle\" x=\"58\" y=\"-22.8\" font-family=\"Helvetica,sans-Serif\" font-size=\"14.00\" fill=\"#000000\">samples = 403</text>\n<text text-anchor=\"middle\" x=\"58\" y=\"-7.8\" font-family=\"Helvetica,sans-Serif\" font-size=\"14.00\" fill=\"#000000\">value = [1, 402]</text>\n</g>\n<!-- 4&#45;&gt;5 -->\n<g id=\"edge5\" class=\"edge\">\n<title>4&#45;&gt;5</title>\n<path fill=\"none\" stroke=\"#000000\" d=\"M136.3399,-88.9777C124.3989,-79.4545 111.4395,-69.1191 99.563,-59.6473\"/>\n<polygon fill=\"#000000\" stroke=\"#000000\" points=\"101.54,-56.7473 91.5395,-53.2485 97.1754,-62.22 101.54,-56.7473\"/>\n</g>\n<!-- 6 -->\n<g id=\"node7\" class=\"node\">\n<title>6</title>\n<path fill=\"#399de5\" stroke=\"#000000\" d=\"M246,-53C246,-53 146,-53 146,-53 140,-53 134,-47 134,-41 134,-41 134,-12 134,-12 134,-6 140,0 146,0 146,0 246,0 246,0 252,0 258,-6 258,-12 258,-12 258,-41 258,-41 258,-47 252,-53 246,-53\"/>\n<text text-anchor=\"middle\" x=\"196\" y=\"-37.8\" font-family=\"Helvetica,sans-Serif\" font-size=\"14.00\" fill=\"#000000\">gini = 0.0</text>\n<text text-anchor=\"middle\" x=\"196\" y=\"-22.8\" font-family=\"Helvetica,sans-Serif\" font-size=\"14.00\" fill=\"#000000\">samples = 4104</text>\n<text text-anchor=\"middle\" x=\"196\" y=\"-7.8\" font-family=\"Helvetica,sans-Serif\" font-size=\"14.00\" fill=\"#000000\">value = [0, 4104]</text>\n</g>\n<!-- 4&#45;&gt;6 -->\n<g id=\"edge6\" class=\"edge\">\n<title>4&#45;&gt;6</title>\n<path fill=\"none\" stroke=\"#000000\" d=\"M184.9936,-88.9777C186.4615,-80.6449 188.039,-71.6903 189.5283,-63.2364\"/>\n<polygon fill=\"#000000\" stroke=\"#000000\" points=\"192.9997,-63.7041 191.2878,-53.2485 186.1059,-62.4896 192.9997,-63.7041\"/>\n</g>\n<!-- 8 -->\n<g id=\"node9\" class=\"node\">\n<title>8</title>\n<path fill=\"#3e9fe6\" stroke=\"#000000\" d=\"M383,-53C383,-53 291,-53 291,-53 285,-53 279,-47 279,-41 279,-41 279,-12 279,-12 279,-6 285,0 291,0 291,0 383,0 383,0 389,0 395,-6 395,-12 395,-12 395,-41 395,-41 395,-47 389,-53 383,-53\"/>\n<text text-anchor=\"middle\" x=\"337\" y=\"-37.8\" font-family=\"Helvetica,sans-Serif\" font-size=\"14.00\" fill=\"#000000\">gini = 0.046</text>\n<text text-anchor=\"middle\" x=\"337\" y=\"-22.8\" font-family=\"Helvetica,sans-Serif\" font-size=\"14.00\" fill=\"#000000\">samples = 128</text>\n<text text-anchor=\"middle\" x=\"337\" y=\"-7.8\" font-family=\"Helvetica,sans-Serif\" font-size=\"14.00\" fill=\"#000000\">value = [3, 125]</text>\n</g>\n<!-- 7&#45;&gt;8 -->\n<g id=\"edge8\" class=\"edge\">\n<title>7&#45;&gt;8</title>\n<path fill=\"none\" stroke=\"#000000\" d=\"M402.3912,-88.9777C392.6155,-79.6376 382.0223,-69.5163 372.266,-60.1947\"/>\n<polygon fill=\"#000000\" stroke=\"#000000\" points=\"374.644,-57.6261 364.9958,-53.2485 369.8083,-62.6873 374.644,-57.6261\"/>\n</g>\n<!-- 9 -->\n<g id=\"node10\" class=\"node\">\n<title>9</title>\n<path fill=\"#399de5\" stroke=\"#000000\" d=\"M508.5,-53C508.5,-53 425.5,-53 425.5,-53 419.5,-53 413.5,-47 413.5,-41 413.5,-41 413.5,-12 413.5,-12 413.5,-6 419.5,0 425.5,0 425.5,0 508.5,0 508.5,0 514.5,0 520.5,-6 520.5,-12 520.5,-12 520.5,-41 520.5,-41 520.5,-47 514.5,-53 508.5,-53\"/>\n<text text-anchor=\"middle\" x=\"467\" y=\"-37.8\" font-family=\"Helvetica,sans-Serif\" font-size=\"14.00\" fill=\"#000000\">gini = 0.0</text>\n<text text-anchor=\"middle\" x=\"467\" y=\"-22.8\" font-family=\"Helvetica,sans-Serif\" font-size=\"14.00\" fill=\"#000000\">samples = 91</text>\n<text text-anchor=\"middle\" x=\"467\" y=\"-7.8\" font-family=\"Helvetica,sans-Serif\" font-size=\"14.00\" fill=\"#000000\">value = [0, 91]</text>\n</g>\n<!-- 7&#45;&gt;9 -->\n<g id=\"edge9\" class=\"edge\">\n<title>7&#45;&gt;9</title>\n<path fill=\"none\" stroke=\"#000000\" d=\"M448.2243,-88.9777C450.756,-80.5533 453.4787,-71.4934 456.0437,-62.9579\"/>\n<polygon fill=\"#000000\" stroke=\"#000000\" points=\"459.4354,-63.8327 458.9616,-53.2485 452.7316,-61.818 459.4354,-63.8327\"/>\n</g>\n<!-- 11 -->\n<g id=\"node12\" class=\"node\">\n<title>11</title>\n<path fill=\"#3ea0e6\" stroke=\"#000000\" d=\"M744,-157C744,-157 612,-157 612,-157 606,-157 600,-151 600,-145 600,-145 600,-101 600,-101 600,-95 606,-89 612,-89 612,-89 744,-89 744,-89 750,-89 756,-95 756,-101 756,-101 756,-145 756,-145 756,-151 750,-157 744,-157\"/>\n<text text-anchor=\"middle\" x=\"678\" y=\"-141.8\" font-family=\"Helvetica,sans-Serif\" font-size=\"14.00\" fill=\"#000000\">CUST_AGE &lt;= 0.477</text>\n<text text-anchor=\"middle\" x=\"678\" y=\"-126.8\" font-family=\"Helvetica,sans-Serif\" font-size=\"14.00\" fill=\"#000000\">gini = 0.051</text>\n<text text-anchor=\"middle\" x=\"678\" y=\"-111.8\" font-family=\"Helvetica,sans-Serif\" font-size=\"14.00\" fill=\"#000000\">samples = 227</text>\n<text text-anchor=\"middle\" x=\"678\" y=\"-96.8\" font-family=\"Helvetica,sans-Serif\" font-size=\"14.00\" fill=\"#000000\">value = [6, 221]</text>\n</g>\n<!-- 10&#45;&gt;11 -->\n<g id=\"edge11\" class=\"edge\">\n<title>10&#45;&gt;11</title>\n<path fill=\"none\" stroke=\"#000000\" d=\"M731.1324,-192.9465C724.3804,-184.0578 717.0226,-174.3716 709.9941,-165.1188\"/>\n<polygon fill=\"#000000\" stroke=\"#000000\" points=\"712.7617,-162.976 703.9257,-157.13 707.1875,-167.2102 712.7617,-162.976\"/>\n</g>\n<!-- 14 -->\n<g id=\"node15\" class=\"node\">\n<title>14</title>\n<path fill=\"#50a8e8\" stroke=\"#000000\" d=\"M886,-149.5C886,-149.5 786,-149.5 786,-149.5 780,-149.5 774,-143.5 774,-137.5 774,-137.5 774,-108.5 774,-108.5 774,-102.5 780,-96.5 786,-96.5 786,-96.5 886,-96.5 886,-96.5 892,-96.5 898,-102.5 898,-108.5 898,-108.5 898,-137.5 898,-137.5 898,-143.5 892,-149.5 886,-149.5\"/>\n<text text-anchor=\"middle\" x=\"836\" y=\"-134.3\" font-family=\"Helvetica,sans-Serif\" font-size=\"14.00\" fill=\"#000000\">gini = 0.183</text>\n<text text-anchor=\"middle\" x=\"836\" y=\"-119.3\" font-family=\"Helvetica,sans-Serif\" font-size=\"14.00\" fill=\"#000000\">samples = 137</text>\n<text text-anchor=\"middle\" x=\"836\" y=\"-104.3\" font-family=\"Helvetica,sans-Serif\" font-size=\"14.00\" fill=\"#000000\">value = [14, 123]</text>\n</g>\n<!-- 10&#45;&gt;14 -->\n<g id=\"edge14\" class=\"edge\">\n<title>10&#45;&gt;14</title>\n<path fill=\"none\" stroke=\"#000000\" d=\"M782.8676,-192.9465C791.4857,-181.6012 801.0906,-168.9567 809.7383,-157.5724\"/>\n<polygon fill=\"#000000\" stroke=\"#000000\" points=\"812.5763,-159.6224 815.8382,-149.5422 807.0021,-155.3882 812.5763,-159.6224\"/>\n</g>\n<!-- 12 -->\n<g id=\"node13\" class=\"node\">\n<title>12</title>\n<path fill=\"#43a2e6\" stroke=\"#000000\" d=\"M645,-53C645,-53 553,-53 553,-53 547,-53 541,-47 541,-41 541,-41 541,-12 541,-12 541,-6 547,0 553,0 553,0 645,0 645,0 651,0 657,-6 657,-12 657,-12 657,-41 657,-41 657,-47 651,-53 645,-53\"/>\n<text text-anchor=\"middle\" x=\"599\" y=\"-37.8\" font-family=\"Helvetica,sans-Serif\" font-size=\"14.00\" fill=\"#000000\">gini = 0.088</text>\n<text text-anchor=\"middle\" x=\"599\" y=\"-22.8\" font-family=\"Helvetica,sans-Serif\" font-size=\"14.00\" fill=\"#000000\">samples = 109</text>\n<text text-anchor=\"middle\" x=\"599\" y=\"-7.8\" font-family=\"Helvetica,sans-Serif\" font-size=\"14.00\" fill=\"#000000\">value = [5, 104]</text>\n</g>\n<!-- 11&#45;&gt;12 -->\n<g id=\"edge12\" class=\"edge\">\n<title>11&#45;&gt;12</title>\n<path fill=\"none\" stroke=\"#000000\" d=\"M650.1476,-88.9777C642.7261,-79.9123 634.7023,-70.111 627.2593,-61.0192\"/>\n<polygon fill=\"#000000\" stroke=\"#000000\" points=\"629.9405,-58.7692 620.8977,-53.2485 624.5241,-63.2034 629.9405,-58.7692\"/>\n</g>\n<!-- 13 -->\n<g id=\"node14\" class=\"node\">\n<title>13</title>\n<path fill=\"#3b9ee5\" stroke=\"#000000\" d=\"M779,-53C779,-53 687,-53 687,-53 681,-53 675,-47 675,-41 675,-41 675,-12 675,-12 675,-6 681,0 687,0 687,0 779,0 779,0 785,0 791,-6 791,-12 791,-12 791,-41 791,-41 791,-47 785,-53 779,-53\"/>\n<text text-anchor=\"middle\" x=\"733\" y=\"-37.8\" font-family=\"Helvetica,sans-Serif\" font-size=\"14.00\" fill=\"#000000\">gini = 0.017</text>\n<text text-anchor=\"middle\" x=\"733\" y=\"-22.8\" font-family=\"Helvetica,sans-Serif\" font-size=\"14.00\" fill=\"#000000\">samples = 118</text>\n<text text-anchor=\"middle\" x=\"733\" y=\"-7.8\" font-family=\"Helvetica,sans-Serif\" font-size=\"14.00\" fill=\"#000000\">value = [1, 117]</text>\n</g>\n<!-- 11&#45;&gt;13 -->\n<g id=\"edge13\" class=\"edge\">\n<title>11&#45;&gt;13</title>\n<path fill=\"none\" stroke=\"#000000\" d=\"M697.3909,-88.9777C702.349,-80.2786 707.6933,-70.9018 712.6958,-62.1247\"/>\n<polygon fill=\"#000000\" stroke=\"#000000\" points=\"715.8438,-63.6696 717.7548,-53.2485 709.7622,-60.2033 715.8438,-63.6696\"/>\n</g>\n<!-- 16 -->\n<g id=\"node17\" class=\"node\">\n<title>16</title>\n<path fill=\"#7cbeee\" stroke=\"#000000\" d=\"M1335,-261C1335,-261 1211,-261 1211,-261 1205,-261 1199,-255 1199,-249 1199,-249 1199,-205 1199,-205 1199,-199 1205,-193 1211,-193 1211,-193 1335,-193 1335,-193 1341,-193 1347,-199 1347,-205 1347,-205 1347,-249 1347,-249 1347,-255 1341,-261 1335,-261\"/>\n<text text-anchor=\"middle\" x=\"1273\" y=\"-245.8\" font-family=\"Helvetica,sans-Serif\" font-size=\"14.00\" fill=\"#000000\">TRAN_AMT &lt;= 0.03</text>\n<text text-anchor=\"middle\" x=\"1273\" y=\"-230.8\" font-family=\"Helvetica,sans-Serif\" font-size=\"14.00\" fill=\"#000000\">gini = 0.378</text>\n<text text-anchor=\"middle\" x=\"1273\" y=\"-215.8\" font-family=\"Helvetica,sans-Serif\" font-size=\"14.00\" fill=\"#000000\">samples = 1894</text>\n<text text-anchor=\"middle\" x=\"1273\" y=\"-200.8\" font-family=\"Helvetica,sans-Serif\" font-size=\"14.00\" fill=\"#000000\">value = [479, 1415]</text>\n</g>\n<!-- 15&#45;&gt;16 -->\n<g id=\"edge16\" class=\"edge\">\n<title>15&#45;&gt;16</title>\n<path fill=\"none\" stroke=\"#000000\" d=\"M1348.9996,-296.9465C1338.9514,-287.6986 1327.9653,-277.5876 1317.5474,-267.9994\"/>\n<polygon fill=\"#000000\" stroke=\"#000000\" points=\"1319.8118,-265.3267 1310.0836,-261.13 1315.0714,-270.4773 1319.8118,-265.3267\"/>\n</g>\n<!-- 23 -->\n<g id=\"node24\" class=\"node\">\n<title>23</title>\n<path fill=\"#49a5e7\" stroke=\"#000000\" d=\"M1566,-261C1566,-261 1434,-261 1434,-261 1428,-261 1422,-255 1422,-249 1422,-249 1422,-205 1422,-205 1422,-199 1428,-193 1434,-193 1434,-193 1566,-193 1566,-193 1572,-193 1578,-199 1578,-205 1578,-205 1578,-249 1578,-249 1578,-255 1572,-261 1566,-261\"/>\n<text text-anchor=\"middle\" x=\"1500\" y=\"-245.8\" font-family=\"Helvetica,sans-Serif\" font-size=\"14.00\" fill=\"#000000\">TRAN_AMT &lt;= 0.042</text>\n<text text-anchor=\"middle\" x=\"1500\" y=\"-230.8\" font-family=\"Helvetica,sans-Serif\" font-size=\"14.00\" fill=\"#000000\">gini = 0.141</text>\n<text text-anchor=\"middle\" x=\"1500\" y=\"-215.8\" font-family=\"Helvetica,sans-Serif\" font-size=\"14.00\" fill=\"#000000\">samples = 2464</text>\n<text text-anchor=\"middle\" x=\"1500\" y=\"-200.8\" font-family=\"Helvetica,sans-Serif\" font-size=\"14.00\" fill=\"#000000\">value = [188, 2276]</text>\n</g>\n<!-- 15&#45;&gt;23 -->\n<g id=\"edge23\" class=\"edge\">\n<title>15&#45;&gt;23</title>\n<path fill=\"none\" stroke=\"#000000\" d=\"M1423.3279,-296.9465C1433.465,-287.6986 1444.5483,-277.5876 1455.0583,-267.9994\"/>\n<polygon fill=\"#000000\" stroke=\"#000000\" points=\"1457.5595,-270.4553 1462.5883,-261.13 1452.8417,-265.284 1457.5595,-270.4553\"/>\n</g>\n<!-- 17 -->\n<g id=\"node18\" class=\"node\">\n<title>17</title>\n<path fill=\"#60b0ea\" stroke=\"#000000\" d=\"M1141.5,-157C1141.5,-157 928.5,-157 928.5,-157 922.5,-157 916.5,-151 916.5,-145 916.5,-145 916.5,-101 916.5,-101 916.5,-95 922.5,-89 928.5,-89 928.5,-89 1141.5,-89 1141.5,-89 1147.5,-89 1153.5,-95 1153.5,-101 1153.5,-101 1153.5,-145 1153.5,-145 1153.5,-151 1147.5,-157 1141.5,-157\"/>\n<text text-anchor=\"middle\" x=\"1035\" y=\"-141.8\" font-family=\"Helvetica,sans-Serif\" font-size=\"14.00\" fill=\"#000000\">DVC_TYPE_TXT_MOBILE &lt;= 0.5</text>\n<text text-anchor=\"middle\" x=\"1035\" y=\"-126.8\" font-family=\"Helvetica,sans-Serif\" font-size=\"14.00\" fill=\"#000000\">gini = 0.276</text>\n<text text-anchor=\"middle\" x=\"1035\" y=\"-111.8\" font-family=\"Helvetica,sans-Serif\" font-size=\"14.00\" fill=\"#000000\">samples = 1084</text>\n<text text-anchor=\"middle\" x=\"1035\" y=\"-96.8\" font-family=\"Helvetica,sans-Serif\" font-size=\"14.00\" fill=\"#000000\">value = [179, 905]</text>\n</g>\n<!-- 16&#45;&gt;17 -->\n<g id=\"edge17\" class=\"edge\">\n<title>16&#45;&gt;17</title>\n<path fill=\"none\" stroke=\"#000000\" d=\"M1198.9999,-194.6638C1174.6937,-184.0426 1147.4501,-172.1379 1122.2548,-161.1282\"/>\n<polygon fill=\"#000000\" stroke=\"#000000\" points=\"1123.6391,-157.9135 1113.0743,-157.1165 1120.8362,-164.3279 1123.6391,-157.9135\"/>\n</g>\n<!-- 20 -->\n<g id=\"node21\" class=\"node\">\n<title>20</title>\n<path fill=\"#add7f4\" stroke=\"#000000\" d=\"M1339,-157C1339,-157 1207,-157 1207,-157 1201,-157 1195,-151 1195,-145 1195,-145 1195,-101 1195,-101 1195,-95 1201,-89 1207,-89 1207,-89 1339,-89 1339,-89 1345,-89 1351,-95 1351,-101 1351,-101 1351,-145 1351,-145 1351,-151 1345,-157 1339,-157\"/>\n<text text-anchor=\"middle\" x=\"1273\" y=\"-141.8\" font-family=\"Helvetica,sans-Serif\" font-size=\"14.00\" fill=\"#000000\">TRAN_AMT &lt;= 0.173</text>\n<text text-anchor=\"middle\" x=\"1273\" y=\"-126.8\" font-family=\"Helvetica,sans-Serif\" font-size=\"14.00\" fill=\"#000000\">gini = 0.466</text>\n<text text-anchor=\"middle\" x=\"1273\" y=\"-111.8\" font-family=\"Helvetica,sans-Serif\" font-size=\"14.00\" fill=\"#000000\">samples = 810</text>\n<text text-anchor=\"middle\" x=\"1273\" y=\"-96.8\" font-family=\"Helvetica,sans-Serif\" font-size=\"14.00\" fill=\"#000000\">value = [300, 510]</text>\n</g>\n<!-- 16&#45;&gt;20 -->\n<g id=\"edge20\" class=\"edge\">\n<title>16&#45;&gt;20</title>\n<path fill=\"none\" stroke=\"#000000\" d=\"M1273,-192.9465C1273,-184.776 1273,-175.9318 1273,-167.3697\"/>\n<polygon fill=\"#000000\" stroke=\"#000000\" points=\"1276.5001,-167.13 1273,-157.13 1269.5001,-167.13 1276.5001,-167.13\"/>\n</g>\n<!-- 18 -->\n<g id=\"node19\" class=\"node\">\n<title>18</title>\n<path fill=\"#92c9f1\" stroke=\"#000000\" d=\"M922,-53C922,-53 822,-53 822,-53 816,-53 810,-47 810,-41 810,-41 810,-12 810,-12 810,-6 816,0 822,0 822,0 922,0 922,0 928,0 934,-6 934,-12 934,-12 934,-41 934,-41 934,-47 928,-53 922,-53\"/>\n<text text-anchor=\"middle\" x=\"872\" y=\"-37.8\" font-family=\"Helvetica,sans-Serif\" font-size=\"14.00\" fill=\"#000000\">gini = 0.428</text>\n<text text-anchor=\"middle\" x=\"872\" y=\"-22.8\" font-family=\"Helvetica,sans-Serif\" font-size=\"14.00\" fill=\"#000000\">samples = 245</text>\n<text text-anchor=\"middle\" x=\"872\" y=\"-7.8\" font-family=\"Helvetica,sans-Serif\" font-size=\"14.00\" fill=\"#000000\">value = [76, 169]</text>\n</g>\n<!-- 17&#45;&gt;18 -->\n<g id=\"edge18\" class=\"edge\">\n<title>17&#45;&gt;18</title>\n<path fill=\"none\" stroke=\"#000000\" d=\"M977.5323,-88.9777C960.7504,-79.0424 942.4754,-68.2232 925.9214,-58.4228\"/>\n<polygon fill=\"#000000\" stroke=\"#000000\" points=\"927.3103,-55.1777 916.9222,-53.095 923.7442,-61.2013 927.3103,-55.1777\"/>\n</g>\n<!-- 19 -->\n<g id=\"node20\" class=\"node\">\n<title>19</title>\n<path fill=\"#55abe9\" stroke=\"#000000\" d=\"M1072,-53C1072,-53 964,-53 964,-53 958,-53 952,-47 952,-41 952,-41 952,-12 952,-12 952,-6 958,0 964,0 964,0 1072,0 1072,0 1078,0 1084,-6 1084,-12 1084,-12 1084,-41 1084,-41 1084,-47 1078,-53 1072,-53\"/>\n<text text-anchor=\"middle\" x=\"1018\" y=\"-37.8\" font-family=\"Helvetica,sans-Serif\" font-size=\"14.00\" fill=\"#000000\">gini = 0.215</text>\n<text text-anchor=\"middle\" x=\"1018\" y=\"-22.8\" font-family=\"Helvetica,sans-Serif\" font-size=\"14.00\" fill=\"#000000\">samples = 839</text>\n<text text-anchor=\"middle\" x=\"1018\" y=\"-7.8\" font-family=\"Helvetica,sans-Serif\" font-size=\"14.00\" fill=\"#000000\">value = [103, 736]</text>\n</g>\n<!-- 17&#45;&gt;19 -->\n<g id=\"edge19\" class=\"edge\">\n<title>17&#45;&gt;19</title>\n<path fill=\"none\" stroke=\"#000000\" d=\"M1029.0064,-88.9777C1027.5385,-80.6449 1025.961,-71.6903 1024.4717,-63.2364\"/>\n<polygon fill=\"#000000\" stroke=\"#000000\" points=\"1027.8941,-62.4896 1022.7122,-53.2485 1021.0003,-63.7041 1027.8941,-62.4896\"/>\n</g>\n<!-- 21 -->\n<g id=\"node22\" class=\"node\">\n<title>21</title>\n<path fill=\"#fefaf7\" stroke=\"#000000\" d=\"M1222,-53C1222,-53 1114,-53 1114,-53 1108,-53 1102,-47 1102,-41 1102,-41 1102,-12 1102,-12 1102,-6 1108,0 1114,0 1114,0 1222,0 1222,0 1228,0 1234,-6 1234,-12 1234,-12 1234,-41 1234,-41 1234,-47 1228,-53 1222,-53\"/>\n<text text-anchor=\"middle\" x=\"1168\" y=\"-37.8\" font-family=\"Helvetica,sans-Serif\" font-size=\"14.00\" fill=\"#000000\">gini = 0.5</text>\n<text text-anchor=\"middle\" x=\"1168\" y=\"-22.8\" font-family=\"Helvetica,sans-Serif\" font-size=\"14.00\" fill=\"#000000\">samples = 566</text>\n<text text-anchor=\"middle\" x=\"1168\" y=\"-7.8\" font-family=\"Helvetica,sans-Serif\" font-size=\"14.00\" fill=\"#000000\">value = [289, 277]</text>\n</g>\n<!-- 20&#45;&gt;21 -->\n<g id=\"edge21\" class=\"edge\">\n<title>20&#45;&gt;21</title>\n<path fill=\"none\" stroke=\"#000000\" d=\"M1235.9809,-88.9777C1225.8181,-79.6376 1214.8053,-69.5163 1204.6626,-60.1947\"/>\n<polygon fill=\"#000000\" stroke=\"#000000\" points=\"1206.8358,-57.4383 1197.1046,-53.2485 1202.099,-62.5923 1206.8358,-57.4383\"/>\n</g>\n<!-- 22 -->\n<g id=\"node23\" class=\"node\">\n<title>22</title>\n<path fill=\"#42a2e6\" stroke=\"#000000\" d=\"M1364,-53C1364,-53 1264,-53 1264,-53 1258,-53 1252,-47 1252,-41 1252,-41 1252,-12 1252,-12 1252,-6 1258,0 1264,0 1264,0 1364,0 1364,0 1370,0 1376,-6 1376,-12 1376,-12 1376,-41 1376,-41 1376,-47 1370,-53 1364,-53\"/>\n<text text-anchor=\"middle\" x=\"1314\" y=\"-37.8\" font-family=\"Helvetica,sans-Serif\" font-size=\"14.00\" fill=\"#000000\">gini = 0.086</text>\n<text text-anchor=\"middle\" x=\"1314\" y=\"-22.8\" font-family=\"Helvetica,sans-Serif\" font-size=\"14.00\" fill=\"#000000\">samples = 244</text>\n<text text-anchor=\"middle\" x=\"1314\" y=\"-7.8\" font-family=\"Helvetica,sans-Serif\" font-size=\"14.00\" fill=\"#000000\">value = [11, 233]</text>\n</g>\n<!-- 20&#45;&gt;22 -->\n<g id=\"edge22\" class=\"edge\">\n<title>20&#45;&gt;22</title>\n<path fill=\"none\" stroke=\"#000000\" d=\"M1287.4551,-88.9777C1291.0733,-80.4617 1294.9674,-71.2963 1298.6283,-62.6798\"/>\n<polygon fill=\"#000000\" stroke=\"#000000\" points=\"1301.9462,-63.8209 1302.6354,-53.2485 1295.5036,-61.0836 1301.9462,-63.8209\"/>\n</g>\n<!-- 24 -->\n<g id=\"node25\" class=\"node\">\n<title>24</title>\n<path fill=\"#42a2e6\" stroke=\"#000000\" d=\"M1581.5,-157C1581.5,-157 1418.5,-157 1418.5,-157 1412.5,-157 1406.5,-151 1406.5,-145 1406.5,-145 1406.5,-101 1406.5,-101 1406.5,-95 1412.5,-89 1418.5,-89 1418.5,-89 1581.5,-89 1581.5,-89 1587.5,-89 1593.5,-95 1593.5,-101 1593.5,-101 1593.5,-145 1593.5,-145 1593.5,-151 1587.5,-157 1581.5,-157\"/>\n<text text-anchor=\"middle\" x=\"1500\" y=\"-141.8\" font-family=\"Helvetica,sans-Serif\" font-size=\"14.00\" fill=\"#000000\">ALERT_TRGR_CD &lt;= 0.5</text>\n<text text-anchor=\"middle\" x=\"1500\" y=\"-126.8\" font-family=\"Helvetica,sans-Serif\" font-size=\"14.00\" fill=\"#000000\">gini = 0.087</text>\n<text text-anchor=\"middle\" x=\"1500\" y=\"-111.8\" font-family=\"Helvetica,sans-Serif\" font-size=\"14.00\" fill=\"#000000\">samples = 1542</text>\n<text text-anchor=\"middle\" x=\"1500\" y=\"-96.8\" font-family=\"Helvetica,sans-Serif\" font-size=\"14.00\" fill=\"#000000\">value = [70, 1472]</text>\n</g>\n<!-- 23&#45;&gt;24 -->\n<g id=\"edge24\" class=\"edge\">\n<title>23&#45;&gt;24</title>\n<path fill=\"none\" stroke=\"#000000\" d=\"M1500,-192.9465C1500,-184.776 1500,-175.9318 1500,-167.3697\"/>\n<polygon fill=\"#000000\" stroke=\"#000000\" points=\"1503.5001,-167.13 1500,-157.13 1496.5001,-167.13 1503.5001,-167.13\"/>\n</g>\n<!-- 27 -->\n<g id=\"node28\" class=\"node\">\n<title>27</title>\n<path fill=\"#56abe9\" stroke=\"#000000\" d=\"M1810,-157C1810,-157 1678,-157 1678,-157 1672,-157 1666,-151 1666,-145 1666,-145 1666,-101 1666,-101 1666,-95 1672,-89 1678,-89 1678,-89 1810,-89 1810,-89 1816,-89 1822,-95 1822,-101 1822,-101 1822,-145 1822,-145 1822,-151 1816,-157 1810,-157\"/>\n<text text-anchor=\"middle\" x=\"1744\" y=\"-141.8\" font-family=\"Helvetica,sans-Serif\" font-size=\"14.00\" fill=\"#000000\">TRAN_AMT &lt;= 0.167</text>\n<text text-anchor=\"middle\" x=\"1744\" y=\"-126.8\" font-family=\"Helvetica,sans-Serif\" font-size=\"14.00\" fill=\"#000000\">gini = 0.223</text>\n<text text-anchor=\"middle\" x=\"1744\" y=\"-111.8\" font-family=\"Helvetica,sans-Serif\" font-size=\"14.00\" fill=\"#000000\">samples = 922</text>\n<text text-anchor=\"middle\" x=\"1744\" y=\"-96.8\" font-family=\"Helvetica,sans-Serif\" font-size=\"14.00\" fill=\"#000000\">value = [118, 804]</text>\n</g>\n<!-- 23&#45;&gt;27 -->\n<g id=\"edge27\" class=\"edge\">\n<title>23&#45;&gt;27</title>\n<path fill=\"none\" stroke=\"#000000\" d=\"M1578.2099,-193.6646C1603.1634,-183.0287 1630.9349,-171.1917 1656.5034,-160.2936\"/>\n<polygon fill=\"#000000\" stroke=\"#000000\" points=\"1657.9875,-163.4658 1665.8144,-156.325 1655.2428,-157.0263 1657.9875,-163.4658\"/>\n</g>\n<!-- 25 -->\n<g id=\"node26\" class=\"node\">\n<title>25</title>\n<path fill=\"#49a5e7\" stroke=\"#000000\" d=\"M1506,-53C1506,-53 1406,-53 1406,-53 1400,-53 1394,-47 1394,-41 1394,-41 1394,-12 1394,-12 1394,-6 1400,0 1406,0 1406,0 1506,0 1506,0 1512,0 1518,-6 1518,-12 1518,-12 1518,-41 1518,-41 1518,-47 1512,-53 1506,-53\"/>\n<text text-anchor=\"middle\" x=\"1456\" y=\"-37.8\" font-family=\"Helvetica,sans-Serif\" font-size=\"14.00\" fill=\"#000000\">gini = 0.137</text>\n<text text-anchor=\"middle\" x=\"1456\" y=\"-22.8\" font-family=\"Helvetica,sans-Serif\" font-size=\"14.00\" fill=\"#000000\">samples = 719</text>\n<text text-anchor=\"middle\" x=\"1456\" y=\"-7.8\" font-family=\"Helvetica,sans-Serif\" font-size=\"14.00\" fill=\"#000000\">value = [53, 666]</text>\n</g>\n<!-- 24&#45;&gt;25 -->\n<g id=\"edge25\" class=\"edge\">\n<title>24&#45;&gt;25</title>\n<path fill=\"none\" stroke=\"#000000\" d=\"M1484.4872,-88.9777C1480.5626,-80.3702 1476.3354,-71.0992 1472.3698,-62.402\"/>\n<polygon fill=\"#000000\" stroke=\"#000000\" points=\"1475.5295,-60.8952 1468.1962,-53.2485 1469.1603,-63.7994 1475.5295,-60.8952\"/>\n</g>\n<!-- 26 -->\n<g id=\"node27\" class=\"node\">\n<title>26</title>\n<path fill=\"#3d9fe6\" stroke=\"#000000\" d=\"M1648,-53C1648,-53 1548,-53 1548,-53 1542,-53 1536,-47 1536,-41 1536,-41 1536,-12 1536,-12 1536,-6 1542,0 1548,0 1548,0 1648,0 1648,0 1654,0 1660,-6 1660,-12 1660,-12 1660,-41 1660,-41 1660,-47 1654,-53 1648,-53\"/>\n<text text-anchor=\"middle\" x=\"1598\" y=\"-37.8\" font-family=\"Helvetica,sans-Serif\" font-size=\"14.00\" fill=\"#000000\">gini = 0.04</text>\n<text text-anchor=\"middle\" x=\"1598\" y=\"-22.8\" font-family=\"Helvetica,sans-Serif\" font-size=\"14.00\" fill=\"#000000\">samples = 823</text>\n<text text-anchor=\"middle\" x=\"1598\" y=\"-7.8\" font-family=\"Helvetica,sans-Serif\" font-size=\"14.00\" fill=\"#000000\">value = [17, 806]</text>\n</g>\n<!-- 24&#45;&gt;26 -->\n<g id=\"edge26\" class=\"edge\">\n<title>24&#45;&gt;26</title>\n<path fill=\"none\" stroke=\"#000000\" d=\"M1534.5511,-88.9777C1543.9434,-79.7292 1554.1136,-69.7147 1563.5029,-60.4691\"/>\n<polygon fill=\"#000000\" stroke=\"#000000\" points=\"1566.1661,-62.7587 1570.8357,-53.2485 1561.2546,-57.7709 1566.1661,-62.7587\"/>\n</g>\n<!-- 28 -->\n<g id=\"node29\" class=\"node\">\n<title>28</title>\n<path fill=\"#70b8ec\" stroke=\"#000000\" d=\"M1798,-53C1798,-53 1690,-53 1690,-53 1684,-53 1678,-47 1678,-41 1678,-41 1678,-12 1678,-12 1678,-6 1684,0 1690,0 1690,0 1798,0 1798,0 1804,0 1810,-6 1810,-12 1810,-12 1810,-41 1810,-41 1810,-47 1804,-53 1798,-53\"/>\n<text text-anchor=\"middle\" x=\"1744\" y=\"-37.8\" font-family=\"Helvetica,sans-Serif\" font-size=\"14.00\" fill=\"#000000\">gini = 0.342</text>\n<text text-anchor=\"middle\" x=\"1744\" y=\"-22.8\" font-family=\"Helvetica,sans-Serif\" font-size=\"14.00\" fill=\"#000000\">samples = 503</text>\n<text text-anchor=\"middle\" x=\"1744\" y=\"-7.8\" font-family=\"Helvetica,sans-Serif\" font-size=\"14.00\" fill=\"#000000\">value = [110, 393]</text>\n</g>\n<!-- 27&#45;&gt;28 -->\n<g id=\"edge28\" class=\"edge\">\n<title>27&#45;&gt;28</title>\n<path fill=\"none\" stroke=\"#000000\" d=\"M1744,-88.9777C1744,-80.7364 1744,-71.887 1744,-63.5153\"/>\n<polygon fill=\"#000000\" stroke=\"#000000\" points=\"1747.5001,-63.2484 1744,-53.2485 1740.5001,-63.2485 1747.5001,-63.2484\"/>\n</g>\n<!-- 29 -->\n<g id=\"node30\" class=\"node\">\n<title>29</title>\n<path fill=\"#3d9fe6\" stroke=\"#000000\" d=\"M1932,-53C1932,-53 1840,-53 1840,-53 1834,-53 1828,-47 1828,-41 1828,-41 1828,-12 1828,-12 1828,-6 1834,0 1840,0 1840,0 1932,0 1932,0 1938,0 1944,-6 1944,-12 1944,-12 1944,-41 1944,-41 1944,-47 1938,-53 1932,-53\"/>\n<text text-anchor=\"middle\" x=\"1886\" y=\"-37.8\" font-family=\"Helvetica,sans-Serif\" font-size=\"14.00\" fill=\"#000000\">gini = 0.037</text>\n<text text-anchor=\"middle\" x=\"1886\" y=\"-22.8\" font-family=\"Helvetica,sans-Serif\" font-size=\"14.00\" fill=\"#000000\">samples = 419</text>\n<text text-anchor=\"middle\" x=\"1886\" y=\"-7.8\" font-family=\"Helvetica,sans-Serif\" font-size=\"14.00\" fill=\"#000000\">value = [8, 411]</text>\n</g>\n<!-- 27&#45;&gt;29 -->\n<g id=\"edge29\" class=\"edge\">\n<title>27&#45;&gt;29</title>\n<path fill=\"none\" stroke=\"#000000\" d=\"M1794.0639,-88.9777C1808.3469,-79.2713 1823.8713,-68.7213 1838.0263,-59.1018\"/>\n<polygon fill=\"#000000\" stroke=\"#000000\" points=\"1840.3359,-61.764 1846.6395,-53.2485 1836.4014,-55.9744 1840.3359,-61.764\"/>\n</g>\n<!-- 31 -->\n<g id=\"node32\" class=\"node\">\n<title>31</title>\n<path fill=\"#e88e4e\" stroke=\"#000000\" d=\"M2038.5,-365C2038.5,-365 1775.5,-365 1775.5,-365 1769.5,-365 1763.5,-359 1763.5,-353 1763.5,-353 1763.5,-309 1763.5,-309 1763.5,-303 1769.5,-297 1775.5,-297 1775.5,-297 2038.5,-297 2038.5,-297 2044.5,-297 2050.5,-303 2050.5,-309 2050.5,-309 2050.5,-353 2050.5,-353 2050.5,-359 2044.5,-365 2038.5,-365\"/>\n<text text-anchor=\"middle\" x=\"1907\" y=\"-349.8\" font-family=\"Helvetica,sans-Serif\" font-size=\"14.00\" fill=\"#000000\">ACCT_PRE_TRAN_AVAIL_BAL &lt;= 0.002</text>\n<text text-anchor=\"middle\" x=\"1907\" y=\"-334.8\" font-family=\"Helvetica,sans-Serif\" font-size=\"14.00\" fill=\"#000000\">gini = 0.172</text>\n<text text-anchor=\"middle\" x=\"1907\" y=\"-319.8\" font-family=\"Helvetica,sans-Serif\" font-size=\"14.00\" fill=\"#000000\">samples = 3733</text>\n<text text-anchor=\"middle\" x=\"1907\" y=\"-304.8\" font-family=\"Helvetica,sans-Serif\" font-size=\"14.00\" fill=\"#000000\">value = [3378, 355]</text>\n</g>\n<!-- 30&#45;&gt;31 -->\n<g id=\"edge31\" class=\"edge\">\n<title>30&#45;&gt;31</title>\n<path fill=\"none\" stroke=\"#000000\" d=\"M1907,-400.9465C1907,-392.776 1907,-383.9318 1907,-375.3697\"/>\n<polygon fill=\"#000000\" stroke=\"#000000\" points=\"1910.5001,-375.13 1907,-365.13 1903.5001,-375.13 1910.5001,-375.13\"/>\n</g>\n<!-- 40 -->\n<g id=\"node41\" class=\"node\">\n<title>40</title>\n<path fill=\"#45a3e7\" stroke=\"#000000\" d=\"M2411.5,-365C2411.5,-365 2148.5,-365 2148.5,-365 2142.5,-365 2136.5,-359 2136.5,-353 2136.5,-353 2136.5,-309 2136.5,-309 2136.5,-303 2142.5,-297 2148.5,-297 2148.5,-297 2411.5,-297 2411.5,-297 2417.5,-297 2423.5,-303 2423.5,-309 2423.5,-309 2423.5,-353 2423.5,-353 2423.5,-359 2417.5,-365 2411.5,-365\"/>\n<text text-anchor=\"middle\" x=\"2280\" y=\"-349.8\" font-family=\"Helvetica,sans-Serif\" font-size=\"14.00\" fill=\"#000000\">ACCT_PRE_TRAN_AVAIL_BAL &lt;= 0.004</text>\n<text text-anchor=\"middle\" x=\"2280\" y=\"-334.8\" font-family=\"Helvetica,sans-Serif\" font-size=\"14.00\" fill=\"#000000\">gini = 0.106</text>\n<text text-anchor=\"middle\" x=\"2280\" y=\"-319.8\" font-family=\"Helvetica,sans-Serif\" font-size=\"14.00\" fill=\"#000000\">samples = 698</text>\n<text text-anchor=\"middle\" x=\"2280\" y=\"-304.8\" font-family=\"Helvetica,sans-Serif\" font-size=\"14.00\" fill=\"#000000\">value = [39, 659]</text>\n</g>\n<!-- 30&#45;&gt;40 -->\n<g id=\"edge40\" class=\"edge\">\n<title>30&#45;&gt;40</title>\n<path fill=\"none\" stroke=\"#000000\" d=\"M1981.5856,-414.204C2029.1178,-400.9511 2092.0404,-383.407 2147.8488,-367.8464\"/>\n<polygon fill=\"#000000\" stroke=\"#000000\" points=\"2149.1269,-371.1237 2157.8195,-365.0664 2147.2468,-364.3809 2149.1269,-371.1237\"/>\n</g>\n<!-- 32 -->\n<g id=\"node33\" class=\"node\">\n<title>32</title>\n<path fill=\"#67b4eb\" stroke=\"#000000\" d=\"M1886,-253.5C1886,-253.5 1794,-253.5 1794,-253.5 1788,-253.5 1782,-247.5 1782,-241.5 1782,-241.5 1782,-212.5 1782,-212.5 1782,-206.5 1788,-200.5 1794,-200.5 1794,-200.5 1886,-200.5 1886,-200.5 1892,-200.5 1898,-206.5 1898,-212.5 1898,-212.5 1898,-241.5 1898,-241.5 1898,-247.5 1892,-253.5 1886,-253.5\"/>\n<text text-anchor=\"middle\" x=\"1840\" y=\"-238.3\" font-family=\"Helvetica,sans-Serif\" font-size=\"14.00\" fill=\"#000000\">gini = 0.307</text>\n<text text-anchor=\"middle\" x=\"1840\" y=\"-223.3\" font-family=\"Helvetica,sans-Serif\" font-size=\"14.00\" fill=\"#000000\">samples = 111</text>\n<text text-anchor=\"middle\" x=\"1840\" y=\"-208.3\" font-family=\"Helvetica,sans-Serif\" font-size=\"14.00\" fill=\"#000000\">value = [21, 90]</text>\n</g>\n<!-- 31&#45;&gt;32 -->\n<g id=\"edge32\" class=\"edge\">\n<title>31&#45;&gt;32</title>\n<path fill=\"none\" stroke=\"#000000\" d=\"M1885.0617,-296.9465C1877.8946,-285.8215 1869.9227,-273.4473 1862.7007,-262.237\"/>\n<polygon fill=\"#000000\" stroke=\"#000000\" points=\"1865.4574,-260.0532 1857.0993,-253.5422 1859.5728,-263.8442 1865.4574,-260.0532\"/>\n</g>\n<!-- 33 -->\n<g id=\"node34\" class=\"node\">\n<title>33</title>\n<path fill=\"#e78b49\" stroke=\"#000000\" d=\"M2191.5,-261C2191.5,-261 1928.5,-261 1928.5,-261 1922.5,-261 1916.5,-255 1916.5,-249 1916.5,-249 1916.5,-205 1916.5,-205 1916.5,-199 1922.5,-193 1928.5,-193 1928.5,-193 2191.5,-193 2191.5,-193 2197.5,-193 2203.5,-199 2203.5,-205 2203.5,-205 2203.5,-249 2203.5,-249 2203.5,-255 2197.5,-261 2191.5,-261\"/>\n<text text-anchor=\"middle\" x=\"2060\" y=\"-245.8\" font-family=\"Helvetica,sans-Serif\" font-size=\"14.00\" fill=\"#000000\">ACCT_PRE_TRAN_AVAIL_BAL &lt;= 0.014</text>\n<text text-anchor=\"middle\" x=\"2060\" y=\"-230.8\" font-family=\"Helvetica,sans-Serif\" font-size=\"14.00\" fill=\"#000000\">gini = 0.136</text>\n<text text-anchor=\"middle\" x=\"2060\" y=\"-215.8\" font-family=\"Helvetica,sans-Serif\" font-size=\"14.00\" fill=\"#000000\">samples = 3622</text>\n<text text-anchor=\"middle\" x=\"2060\" y=\"-200.8\" font-family=\"Helvetica,sans-Serif\" font-size=\"14.00\" fill=\"#000000\">value = [3357, 265]</text>\n</g>\n<!-- 31&#45;&gt;33 -->\n<g id=\"edge33\" class=\"edge\">\n<title>31&#45;&gt;33</title>\n<path fill=\"none\" stroke=\"#000000\" d=\"M1957.0979,-296.9465C1971.2313,-287.3395 1986.7352,-276.8009 2001.3233,-266.8848\"/>\n<polygon fill=\"#000000\" stroke=\"#000000\" points=\"2003.4868,-269.6463 2009.7895,-261.13 1999.5517,-263.8571 2003.4868,-269.6463\"/>\n</g>\n<!-- 34 -->\n<g id=\"node35\" class=\"node\">\n<title>34</title>\n<path fill=\"#e68540\" stroke=\"#000000\" d=\"M2191.5,-157C2191.5,-157 1928.5,-157 1928.5,-157 1922.5,-157 1916.5,-151 1916.5,-145 1916.5,-145 1916.5,-101 1916.5,-101 1916.5,-95 1922.5,-89 1928.5,-89 1928.5,-89 2191.5,-89 2191.5,-89 2197.5,-89 2203.5,-95 2203.5,-101 2203.5,-101 2203.5,-145 2203.5,-145 2203.5,-151 2197.5,-157 2191.5,-157\"/>\n<text text-anchor=\"middle\" x=\"2060\" y=\"-141.8\" font-family=\"Helvetica,sans-Serif\" font-size=\"14.00\" fill=\"#000000\">ACCT_PRE_TRAN_AVAIL_BAL &lt;= 0.004</text>\n<text text-anchor=\"middle\" x=\"2060\" y=\"-126.8\" font-family=\"Helvetica,sans-Serif\" font-size=\"14.00\" fill=\"#000000\">gini = 0.065</text>\n<text text-anchor=\"middle\" x=\"2060\" y=\"-111.8\" font-family=\"Helvetica,sans-Serif\" font-size=\"14.00\" fill=\"#000000\">samples = 2755</text>\n<text text-anchor=\"middle\" x=\"2060\" y=\"-96.8\" font-family=\"Helvetica,sans-Serif\" font-size=\"14.00\" fill=\"#000000\">value = [2663, 92]</text>\n</g>\n<!-- 33&#45;&gt;34 -->\n<g id=\"edge34\" class=\"edge\">\n<title>33&#45;&gt;34</title>\n<path fill=\"none\" stroke=\"#000000\" d=\"M2060,-192.9465C2060,-184.776 2060,-175.9318 2060,-167.3697\"/>\n<polygon fill=\"#000000\" stroke=\"#000000\" points=\"2063.5001,-167.13 2060,-157.13 2056.5001,-167.13 2063.5001,-167.13\"/>\n</g>\n<!-- 37 -->\n<g id=\"node38\" class=\"node\">\n<title>37</title>\n<path fill=\"#eba06a\" stroke=\"#000000\" d=\"M2378,-157C2378,-157 2246,-157 2246,-157 2240,-157 2234,-151 2234,-145 2234,-145 2234,-101 2234,-101 2234,-95 2240,-89 2246,-89 2246,-89 2378,-89 2378,-89 2384,-89 2390,-95 2390,-101 2390,-101 2390,-145 2390,-145 2390,-151 2384,-157 2378,-157\"/>\n<text text-anchor=\"middle\" x=\"2312\" y=\"-141.8\" font-family=\"Helvetica,sans-Serif\" font-size=\"14.00\" fill=\"#000000\">TRAN_AMT &lt;= 0.205</text>\n<text text-anchor=\"middle\" x=\"2312\" y=\"-126.8\" font-family=\"Helvetica,sans-Serif\" font-size=\"14.00\" fill=\"#000000\">gini = 0.319</text>\n<text text-anchor=\"middle\" x=\"2312\" y=\"-111.8\" font-family=\"Helvetica,sans-Serif\" font-size=\"14.00\" fill=\"#000000\">samples = 867</text>\n<text text-anchor=\"middle\" x=\"2312\" y=\"-96.8\" font-family=\"Helvetica,sans-Serif\" font-size=\"14.00\" fill=\"#000000\">value = [694, 173]</text>\n</g>\n<!-- 33&#45;&gt;37 -->\n<g id=\"edge37\" class=\"edge\">\n<title>33&#45;&gt;37</title>\n<path fill=\"none\" stroke=\"#000000\" d=\"M2142.5142,-192.9465C2168.7085,-182.1362 2197.7608,-170.1463 2224.3063,-159.1911\"/>\n<polygon fill=\"#000000\" stroke=\"#000000\" points=\"2225.6738,-162.4131 2233.5824,-155.3628 2223.0034,-155.9425 2225.6738,-162.4131\"/>\n</g>\n<!-- 35 -->\n<g id=\"node36\" class=\"node\">\n<title>35</title>\n<path fill=\"#ea9b62\" stroke=\"#000000\" d=\"M2074,-53C2074,-53 1974,-53 1974,-53 1968,-53 1962,-47 1962,-41 1962,-41 1962,-12 1962,-12 1962,-6 1968,0 1974,0 1974,0 2074,0 2074,0 2080,0 2086,-6 2086,-12 2086,-12 2086,-41 2086,-41 2086,-47 2080,-53 2074,-53\"/>\n<text text-anchor=\"middle\" x=\"2024\" y=\"-37.8\" font-family=\"Helvetica,sans-Serif\" font-size=\"14.00\" fill=\"#000000\">gini = 0.286</text>\n<text text-anchor=\"middle\" x=\"2024\" y=\"-22.8\" font-family=\"Helvetica,sans-Serif\" font-size=\"14.00\" fill=\"#000000\">samples = 162</text>\n<text text-anchor=\"middle\" x=\"2024\" y=\"-7.8\" font-family=\"Helvetica,sans-Serif\" font-size=\"14.00\" fill=\"#000000\">value = [134, 28]</text>\n</g>\n<!-- 34&#45;&gt;35 -->\n<g id=\"edge35\" class=\"edge\">\n<title>34&#45;&gt;35</title>\n<path fill=\"none\" stroke=\"#000000\" d=\"M2047.3077,-88.9777C2044.1308,-80.4617 2040.7116,-71.2963 2037.4971,-62.6798\"/>\n<polygon fill=\"#000000\" stroke=\"#000000\" points=\"2040.7533,-61.3944 2033.9787,-53.2485 2034.1948,-63.8411 2040.7533,-61.3944\"/>\n</g>\n<!-- 36 -->\n<g id=\"node37\" class=\"node\">\n<title>36</title>\n<path fill=\"#e6843e\" stroke=\"#000000\" d=\"M2224,-53C2224,-53 2116,-53 2116,-53 2110,-53 2104,-47 2104,-41 2104,-41 2104,-12 2104,-12 2104,-6 2110,0 2116,0 2116,0 2224,0 2224,0 2230,0 2236,-6 2236,-12 2236,-12 2236,-41 2236,-41 2236,-47 2230,-53 2224,-53\"/>\n<text text-anchor=\"middle\" x=\"2170\" y=\"-37.8\" font-family=\"Helvetica,sans-Serif\" font-size=\"14.00\" fill=\"#000000\">gini = 0.048</text>\n<text text-anchor=\"middle\" x=\"2170\" y=\"-22.8\" font-family=\"Helvetica,sans-Serif\" font-size=\"14.00\" fill=\"#000000\">samples = 2593</text>\n<text text-anchor=\"middle\" x=\"2170\" y=\"-7.8\" font-family=\"Helvetica,sans-Serif\" font-size=\"14.00\" fill=\"#000000\">value = [2529, 64]</text>\n</g>\n<!-- 34&#45;&gt;36 -->\n<g id=\"edge36\" class=\"edge\">\n<title>34&#45;&gt;36</title>\n<path fill=\"none\" stroke=\"#000000\" d=\"M2098.7819,-88.9777C2109.533,-79.546 2121.1922,-69.3178 2131.9038,-59.9208\"/>\n<polygon fill=\"#000000\" stroke=\"#000000\" points=\"2134.3004,-62.4743 2139.5095,-53.2485 2129.684,-57.2122 2134.3004,-62.4743\"/>\n</g>\n<!-- 38 -->\n<g id=\"node39\" class=\"node\">\n<title>38</title>\n<path fill=\"#eef6fd\" stroke=\"#000000\" d=\"M2358,-53C2358,-53 2266,-53 2266,-53 2260,-53 2254,-47 2254,-41 2254,-41 2254,-12 2254,-12 2254,-6 2260,0 2266,0 2266,0 2358,0 2358,0 2364,0 2370,-6 2370,-12 2370,-12 2370,-41 2370,-41 2370,-47 2364,-53 2358,-53\"/>\n<text text-anchor=\"middle\" x=\"2312\" y=\"-37.8\" font-family=\"Helvetica,sans-Serif\" font-size=\"14.00\" fill=\"#000000\">gini = 0.499</text>\n<text text-anchor=\"middle\" x=\"2312\" y=\"-22.8\" font-family=\"Helvetica,sans-Serif\" font-size=\"14.00\" fill=\"#000000\">samples = 109</text>\n<text text-anchor=\"middle\" x=\"2312\" y=\"-7.8\" font-family=\"Helvetica,sans-Serif\" font-size=\"14.00\" fill=\"#000000\">value = [52, 57]</text>\n</g>\n<!-- 37&#45;&gt;38 -->\n<g id=\"edge38\" class=\"edge\">\n<title>37&#45;&gt;38</title>\n<path fill=\"none\" stroke=\"#000000\" d=\"M2312,-88.9777C2312,-80.7364 2312,-71.887 2312,-63.5153\"/>\n<polygon fill=\"#000000\" stroke=\"#000000\" points=\"2315.5001,-63.2484 2312,-53.2485 2308.5001,-63.2485 2315.5001,-63.2484\"/>\n</g>\n<!-- 39 -->\n<g id=\"node40\" class=\"node\">\n<title>39</title>\n<path fill=\"#ea985d\" stroke=\"#000000\" d=\"M2508,-53C2508,-53 2400,-53 2400,-53 2394,-53 2388,-47 2388,-41 2388,-41 2388,-12 2388,-12 2388,-6 2394,0 2400,0 2400,0 2508,0 2508,0 2514,0 2520,-6 2520,-12 2520,-12 2520,-41 2520,-41 2520,-47 2514,-53 2508,-53\"/>\n<text text-anchor=\"middle\" x=\"2454\" y=\"-37.8\" font-family=\"Helvetica,sans-Serif\" font-size=\"14.00\" fill=\"#000000\">gini = 0.259</text>\n<text text-anchor=\"middle\" x=\"2454\" y=\"-22.8\" font-family=\"Helvetica,sans-Serif\" font-size=\"14.00\" fill=\"#000000\">samples = 758</text>\n<text text-anchor=\"middle\" x=\"2454\" y=\"-7.8\" font-family=\"Helvetica,sans-Serif\" font-size=\"14.00\" fill=\"#000000\">value = [642, 116]</text>\n</g>\n<!-- 37&#45;&gt;39 -->\n<g id=\"edge39\" class=\"edge\">\n<title>37&#45;&gt;39</title>\n<path fill=\"none\" stroke=\"#000000\" d=\"M2362.0639,-88.9777C2376.3469,-79.2713 2391.8713,-68.7213 2406.0263,-59.1018\"/>\n<polygon fill=\"#000000\" stroke=\"#000000\" points=\"2408.3359,-61.764 2414.6395,-53.2485 2404.4014,-55.9744 2408.3359,-61.764\"/>\n</g>\n<!-- 41 -->\n<g id=\"node42\" class=\"node\">\n<title>41</title>\n<path fill=\"#399de5\" stroke=\"#000000\" d=\"M2326,-253.5C2326,-253.5 2234,-253.5 2234,-253.5 2228,-253.5 2222,-247.5 2222,-241.5 2222,-241.5 2222,-212.5 2222,-212.5 2222,-206.5 2228,-200.5 2234,-200.5 2234,-200.5 2326,-200.5 2326,-200.5 2332,-200.5 2338,-206.5 2338,-212.5 2338,-212.5 2338,-241.5 2338,-241.5 2338,-247.5 2332,-253.5 2326,-253.5\"/>\n<text text-anchor=\"middle\" x=\"2280\" y=\"-238.3\" font-family=\"Helvetica,sans-Serif\" font-size=\"14.00\" fill=\"#000000\">gini = 0.0</text>\n<text text-anchor=\"middle\" x=\"2280\" y=\"-223.3\" font-family=\"Helvetica,sans-Serif\" font-size=\"14.00\" fill=\"#000000\">samples = 224</text>\n<text text-anchor=\"middle\" x=\"2280\" y=\"-208.3\" font-family=\"Helvetica,sans-Serif\" font-size=\"14.00\" fill=\"#000000\">value = [0, 224]</text>\n</g>\n<!-- 40&#45;&gt;41 -->\n<g id=\"edge41\" class=\"edge\">\n<title>40&#45;&gt;41</title>\n<path fill=\"none\" stroke=\"#000000\" d=\"M2280,-296.9465C2280,-286.2621 2280,-274.4254 2280,-263.5742\"/>\n<polygon fill=\"#000000\" stroke=\"#000000\" points=\"2283.5001,-263.5421 2280,-253.5422 2276.5001,-263.5422 2283.5001,-263.5421\"/>\n</g>\n<!-- 42 -->\n<g id=\"node43\" class=\"node\">\n<title>42</title>\n<path fill=\"#4ba6e7\" stroke=\"#000000\" d=\"M2631.5,-261C2631.5,-261 2368.5,-261 2368.5,-261 2362.5,-261 2356.5,-255 2356.5,-249 2356.5,-249 2356.5,-205 2356.5,-205 2356.5,-199 2362.5,-193 2368.5,-193 2368.5,-193 2631.5,-193 2631.5,-193 2637.5,-193 2643.5,-199 2643.5,-205 2643.5,-205 2643.5,-249 2643.5,-249 2643.5,-255 2637.5,-261 2631.5,-261\"/>\n<text text-anchor=\"middle\" x=\"2500\" y=\"-245.8\" font-family=\"Helvetica,sans-Serif\" font-size=\"14.00\" fill=\"#000000\">ACCT_PRE_TRAN_AVAIL_BAL &lt;= 0.011</text>\n<text text-anchor=\"middle\" x=\"2500\" y=\"-230.8\" font-family=\"Helvetica,sans-Serif\" font-size=\"14.00\" fill=\"#000000\">gini = 0.151</text>\n<text text-anchor=\"middle\" x=\"2500\" y=\"-215.8\" font-family=\"Helvetica,sans-Serif\" font-size=\"14.00\" fill=\"#000000\">samples = 474</text>\n<text text-anchor=\"middle\" x=\"2500\" y=\"-200.8\" font-family=\"Helvetica,sans-Serif\" font-size=\"14.00\" fill=\"#000000\">value = [39, 435]</text>\n</g>\n<!-- 40&#45;&gt;42 -->\n<g id=\"edge42\" class=\"edge\">\n<title>40&#45;&gt;42</title>\n<path fill=\"none\" stroke=\"#000000\" d=\"M2352.0362,-296.9465C2373.3084,-286.8906 2396.7396,-275.814 2418.56,-265.4989\"/>\n<polygon fill=\"#000000\" stroke=\"#000000\" points=\"2420.257,-268.5681 2427.8019,-261.13 2417.2654,-262.2396 2420.257,-268.5681\"/>\n</g>\n<!-- 43 -->\n<g id=\"node44\" class=\"node\">\n<title>43</title>\n<path fill=\"#6ab5eb\" stroke=\"#000000\" d=\"M2535,-149.5C2535,-149.5 2443,-149.5 2443,-149.5 2437,-149.5 2431,-143.5 2431,-137.5 2431,-137.5 2431,-108.5 2431,-108.5 2431,-102.5 2437,-96.5 2443,-96.5 2443,-96.5 2535,-96.5 2535,-96.5 2541,-96.5 2547,-102.5 2547,-108.5 2547,-108.5 2547,-137.5 2547,-137.5 2547,-143.5 2541,-149.5 2535,-149.5\"/>\n<text text-anchor=\"middle\" x=\"2489\" y=\"-134.3\" font-family=\"Helvetica,sans-Serif\" font-size=\"14.00\" fill=\"#000000\">gini = 0.318</text>\n<text text-anchor=\"middle\" x=\"2489\" y=\"-119.3\" font-family=\"Helvetica,sans-Serif\" font-size=\"14.00\" fill=\"#000000\">samples = 116</text>\n<text text-anchor=\"middle\" x=\"2489\" y=\"-104.3\" font-family=\"Helvetica,sans-Serif\" font-size=\"14.00\" fill=\"#000000\">value = [23, 93]</text>\n</g>\n<!-- 42&#45;&gt;43 -->\n<g id=\"edge43\" class=\"edge\">\n<title>42&#45;&gt;43</title>\n<path fill=\"none\" stroke=\"#000000\" d=\"M2496.3982,-192.9465C2495.2681,-182.2621 2494.0162,-170.4254 2492.8684,-159.5742\"/>\n<polygon fill=\"#000000\" stroke=\"#000000\" points=\"2496.3398,-159.1185 2491.8073,-149.5422 2489.3787,-159.8549 2496.3398,-159.1185\"/>\n</g>\n<!-- 44 -->\n<g id=\"node45\" class=\"node\">\n<title>44</title>\n<path fill=\"#42a2e6\" stroke=\"#000000\" d=\"M2840.5,-157C2840.5,-157 2577.5,-157 2577.5,-157 2571.5,-157 2565.5,-151 2565.5,-145 2565.5,-145 2565.5,-101 2565.5,-101 2565.5,-95 2571.5,-89 2577.5,-89 2577.5,-89 2840.5,-89 2840.5,-89 2846.5,-89 2852.5,-95 2852.5,-101 2852.5,-101 2852.5,-145 2852.5,-145 2852.5,-151 2846.5,-157 2840.5,-157\"/>\n<text text-anchor=\"middle\" x=\"2709\" y=\"-141.8\" font-family=\"Helvetica,sans-Serif\" font-size=\"14.00\" fill=\"#000000\">ACCT_PRE_TRAN_AVAIL_BAL &lt;= 0.022</text>\n<text text-anchor=\"middle\" x=\"2709\" y=\"-126.8\" font-family=\"Helvetica,sans-Serif\" font-size=\"14.00\" fill=\"#000000\">gini = 0.085</text>\n<text text-anchor=\"middle\" x=\"2709\" y=\"-111.8\" font-family=\"Helvetica,sans-Serif\" font-size=\"14.00\" fill=\"#000000\">samples = 358</text>\n<text text-anchor=\"middle\" x=\"2709\" y=\"-96.8\" font-family=\"Helvetica,sans-Serif\" font-size=\"14.00\" fill=\"#000000\">value = [16, 342]</text>\n</g>\n<!-- 42&#45;&gt;44 -->\n<g id=\"edge44\" class=\"edge\">\n<title>42&#45;&gt;44</title>\n<path fill=\"none\" stroke=\"#000000\" d=\"M2568.4344,-192.9465C2588.5528,-182.9354 2610.704,-171.9129 2631.3543,-161.6371\"/>\n<polygon fill=\"#000000\" stroke=\"#000000\" points=\"2633.0183,-164.7185 2640.4118,-157.13 2629.8997,-158.4516 2633.0183,-164.7185\"/>\n</g>\n<!-- 45 -->\n<g id=\"node46\" class=\"node\">\n<title>45</title>\n<path fill=\"#399de5\" stroke=\"#000000\" d=\"M2699,-53C2699,-53 2607,-53 2607,-53 2601,-53 2595,-47 2595,-41 2595,-41 2595,-12 2595,-12 2595,-6 2601,0 2607,0 2607,0 2699,0 2699,0 2705,0 2711,-6 2711,-12 2711,-12 2711,-41 2711,-41 2711,-47 2705,-53 2699,-53\"/>\n<text text-anchor=\"middle\" x=\"2653\" y=\"-37.8\" font-family=\"Helvetica,sans-Serif\" font-size=\"14.00\" fill=\"#000000\">gini = 0.0</text>\n<text text-anchor=\"middle\" x=\"2653\" y=\"-22.8\" font-family=\"Helvetica,sans-Serif\" font-size=\"14.00\" fill=\"#000000\">samples = 111</text>\n<text text-anchor=\"middle\" x=\"2653\" y=\"-7.8\" font-family=\"Helvetica,sans-Serif\" font-size=\"14.00\" fill=\"#000000\">value = [0, 111]</text>\n</g>\n<!-- 44&#45;&gt;45 -->\n<g id=\"edge45\" class=\"edge\">\n<title>44&#45;&gt;45</title>\n<path fill=\"none\" stroke=\"#000000\" d=\"M2689.2565,-88.9777C2684.2083,-80.2786 2678.7669,-70.9018 2673.6734,-62.1247\"/>\n<polygon fill=\"#000000\" stroke=\"#000000\" points=\"2676.5689,-60.1409 2668.5224,-53.2485 2670.5145,-63.6544 2676.5689,-60.1409\"/>\n</g>\n<!-- 46 -->\n<g id=\"node47\" class=\"node\">\n<title>46</title>\n<path fill=\"#47a4e7\" stroke=\"#000000\" d=\"M2841,-53C2841,-53 2741,-53 2741,-53 2735,-53 2729,-47 2729,-41 2729,-41 2729,-12 2729,-12 2729,-6 2735,0 2741,0 2741,0 2841,0 2841,0 2847,0 2853,-6 2853,-12 2853,-12 2853,-41 2853,-41 2853,-47 2847,-53 2841,-53\"/>\n<text text-anchor=\"middle\" x=\"2791\" y=\"-37.8\" font-family=\"Helvetica,sans-Serif\" font-size=\"14.00\" fill=\"#000000\">gini = 0.121</text>\n<text text-anchor=\"middle\" x=\"2791\" y=\"-22.8\" font-family=\"Helvetica,sans-Serif\" font-size=\"14.00\" fill=\"#000000\">samples = 247</text>\n<text text-anchor=\"middle\" x=\"2791\" y=\"-7.8\" font-family=\"Helvetica,sans-Serif\" font-size=\"14.00\" fill=\"#000000\">value = [16, 231]</text>\n</g>\n<!-- 44&#45;&gt;46 -->\n<g id=\"edge46\" class=\"edge\">\n<title>44&#45;&gt;46</title>\n<path fill=\"none\" stroke=\"#000000\" d=\"M2737.9101,-88.9777C2745.6134,-79.9123 2753.9419,-70.111 2761.6676,-61.0192\"/>\n<polygon fill=\"#000000\" stroke=\"#000000\" points=\"2764.4625,-63.1352 2768.2707,-53.2485 2759.1282,-58.6025 2764.4625,-63.1352\"/>\n</g>\n</g>\n</svg>\n"
          },
          "metadata": {},
          "execution_count": 138
        }
      ],
      "source": [
        "import os \n",
        "import graphviz\n",
        "\n",
        "os.environ[\"PATH\"] += os.pathsep + 'C:\\Program Files\\Graphviz'\n",
        "\n",
        "# Create DOT data\n",
        "from sklearn.tree import export_graphviz\n",
        "\n",
        "dot_data = export_graphviz(tree_final, out_file=None, filled=True, rounded=True, feature_names=X.columns) \n",
        "\n",
        "# Draw graph\n",
        "graph = graphviz.Source(dot_data) \n",
        "\n",
        "# Show graph\n",
        "graph "
      ]
    },
    {
      "cell_type": "code",
      "execution_count": null,
      "metadata": {
        "id": "YxomV7GQhqmd"
      },
      "outputs": [],
      "source": [
        "# predict the target values for the test_set\n",
        "\n",
        "yhat = tree_final.predict(X_test)"
      ]
    },
    {
      "cell_type": "code",
      "execution_count": null,
      "metadata": {
        "colab": {
          "base_uri": "https://localhost:8080/"
        },
        "id": "XCLV635whqmd",
        "outputId": "fe42496d-341a-4f99-db59-4ef1a46dd743"
      },
      "outputs": [
        {
          "output_type": "execute_result",
          "data": {
            "text/plain": [
              "array([0, 0, 0, ..., 1, 1, 0])"
            ]
          },
          "metadata": {},
          "execution_count": 140
        }
      ],
      "source": [
        "yhat"
      ]
    },
    {
      "cell_type": "code",
      "execution_count": null,
      "metadata": {
        "id": "ufcQHkwBhqme"
      },
      "outputs": [],
      "source": []
    },
    {
      "cell_type": "code",
      "execution_count": null,
      "metadata": {
        "id": "60vhWYIhhqme"
      },
      "outputs": [],
      "source": []
    }
  ],
  "metadata": {
    "kernelspec": {
      "display_name": "Python 3",
      "language": "python",
      "name": "python3"
    },
    "language_info": {
      "codemirror_mode": {
        "name": "ipython",
        "version": 3
      },
      "file_extension": ".py",
      "mimetype": "text/x-python",
      "name": "python",
      "nbconvert_exporter": "python",
      "pygments_lexer": "ipython3",
      "version": "3.8.10"
    },
    "colab": {
      "provenance": [],
      "collapsed_sections": [
        "i9fpCuBGhql3",
        "KiutqxPuhql4"
      ],
      "toc_visible": true
    }
  },
  "nbformat": 4,
  "nbformat_minor": 0
}